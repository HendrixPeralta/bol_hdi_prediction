{
 "cells": [
  {
   "cell_type": "code",
   "execution_count": 1,
   "id": "cc267601-e20c-4b53-aa2b-33fe62de7aa9",
   "metadata": {},
   "outputs": [],
   "source": [
    "import numpy as np\n",
    "import pandas as pd\n",
    "import sklearn as ktl\n",
    "import pickle\n",
    "import matplotlib.pylab as plt\n",
    "import seaborn\n",
    "\n",
    "from sklearn.model_selection import train_test_split\n",
    "from sklearn.metrics import mean_squared_error, r2_score, mean_absolute_error\n",
    "from sklearn.metrics import classification_report, confusion_matrix, accuracy_score\n",
    "\n",
    "from sklearn.model_selection import cross_val_score\n",
    "\n",
    "from sklearn.linear_model import LinearRegression\n",
    "from sklearn import linear_model\n",
    "from sklearn.ensemble import RandomForestRegressor\n",
    "\n",
    "from sklearn.model_selection import RandomizedSearchCV"
   ]
  },
  {
   "cell_type": "code",
   "execution_count": 2,
   "id": "fad5a380-cd79-4fb1-bdb5-dffd2c6622d3",
   "metadata": {},
   "outputs": [],
   "source": [
    "sdg_indexes = pd.read_csv(\"data/sdg_prediction/sdg_indexes.csv\")\n",
    "sat_mod = pd.read_csv(\"data/sdg_prediction/sat_mod.csv\")"
   ]
  },
  {
   "cell_type": "markdown",
   "id": "b8199777-0316-43c3-b3b8-2dce11d51d7a",
   "metadata": {},
   "source": [
    "## Setting up model "
   ]
  },
  {
   "cell_type": "code",
   "execution_count": 3,
   "id": "b3781b72-a433-44d8-9efd-c78f6be9b71e",
   "metadata": {},
   "outputs": [
    {
     "data": {
      "text/plain": [
       "Index(['Unnamed: 0', 'id', 'lnEGDPpc2012', 'lnagr_land2012', 'lnurb_land2012',\n",
       "       'ln_perUrb_land2012', 'ln_tr400_pop2012', 'ln_pm25_2012',\n",
       "       'ln_land_temp2012', 'ln_t400NTLpc2012', 'ln_dist_road2017',\n",
       "       'ln_ghsl2015', 'dist_diamond2015', 'ln_mal_inci_rt_mean',\n",
       "       'ln_dist_water2017mean'],\n",
       "      dtype='object')"
      ]
     },
     "execution_count": 3,
     "metadata": {},
     "output_type": "execute_result"
    }
   ],
   "source": [
    "sat_mod.columns"
   ]
  },
  {
   "cell_type": "code",
   "execution_count": 4,
   "id": "f32c2d4f-9f1e-4569-ad4d-bb11ab55a9d8",
   "metadata": {},
   "outputs": [],
   "source": [
    "X = sat_mod[['lnagr_land2012', 'lnurb_land2012','ln_land_temp2012','ln_tr400_pop2012','ln_dist_road2017','ln_ghsl2015', \"ln_dist_water2017mean\"]]\n",
    "  #'dist_diamond2015',    \n",
    "y = sdg_indexes[\"imds\"]\n",
    "\n",
    "np.random.seed(42)\n",
    "X_train, X_test, y_train, y_test = train_test_split(X, y, test_size=0.2)"
   ]
  },
  {
   "cell_type": "code",
   "execution_count": 5,
   "id": "f496aca4-f4d4-4cbe-a697-95c47e8d4a37",
   "metadata": {},
   "outputs": [
    {
     "data": {
      "text/plain": [
       "0.6621317860955964"
      ]
     },
     "execution_count": 5,
     "metadata": {},
     "output_type": "execute_result"
    }
   ],
   "source": [
    "model = linear_model.Ridge()\n",
    "model.fit(X_train, y_train);\n",
    "\n",
    "model.score(X_test, y_test)"
   ]
  },
  {
   "cell_type": "code",
   "execution_count": 6,
   "id": "9aa0d606-7e34-4f9b-8931-66d8ea8ab75a",
   "metadata": {},
   "outputs": [
    {
     "data": {
      "text/plain": [
       "array(['lnagr_land2012', 'lnurb_land2012', 'ln_ghsl2015'], dtype=object)"
      ]
     },
     "execution_count": 6,
     "metadata": {},
     "output_type": "execute_result"
    }
   ],
   "source": [
    "coeff = model.coef_\n",
    "np.array(X.columns)[coeff>1]"
   ]
  },
  {
   "cell_type": "code",
   "execution_count": 7,
   "id": "be47e2b5-60eb-4e70-b81b-fdcdf3751947",
   "metadata": {},
   "outputs": [
    {
     "data": {
      "text/plain": [
       "array([ 2.37627384,  4.7986221 , -2.85307702, -4.55202696, -1.32842488,\n",
       "        4.93831152,  0.33699257])"
      ]
     },
     "execution_count": 7,
     "metadata": {},
     "output_type": "execute_result"
    }
   ],
   "source": [
    "model.coef_"
   ]
  },
  {
   "cell_type": "markdown",
   "id": "5ac58d59-48e8-4c2c-a43a-7cc30c06096e",
   "metadata": {},
   "source": [
    " "
   ]
  },
  {
   "cell_type": "markdown",
   "id": "a4f96a8a-e29a-4c93-a3bc-86359e7b4cfb",
   "metadata": {},
   "source": [
    "## Test for all labels "
   ]
  },
  {
   "cell_type": "code",
   "execution_count": 8,
   "id": "fa7453bc-0c89-4fe5-8ad3-51bec8955c29",
   "metadata": {},
   "outputs": [],
   "source": [
    "ridge_results = pd.DataFrame(columns=[\"Feature\", \"r2\", \"MAE\"])\n",
    "ri_predict = pd.DataFrame()"
   ]
  },
  {
   "cell_type": "code",
   "execution_count": 9,
   "id": "b8a2fcf5-c7f1-4723-8193-d87f7e08d280",
   "metadata": {},
   "outputs": [],
   "source": [
    "y_variables = sdg_indexes[['index_sdg1', 'index_sdg2', 'index_sdg3', 'index_sdg4',\n",
    "       'index_sdg5', 'index_sdg6', 'index_sdg7', 'index_sdg8', 'index_sdg9',\n",
    "       'index_sdg10', 'index_sdg11', 'index_sdg13', 'index_sdg15',\n",
    "       'index_sdg16', 'index_sdg17', 'imds']]"
   ]
  },
  {
   "cell_type": "code",
   "execution_count": 10,
   "id": "3b27a8ad-b885-460a-a5d5-51f26dc85267",
   "metadata": {},
   "outputs": [],
   "source": [
    "#x = sat_mod[[ \"ln_t400NTLpc2012\", \"ln_tr400_pop2012\", 'lnEGDPpc2012', 'ln_perUrb_land2012',  \"ln_pm25_2012\", \"ln_land_temp2012\",'ln_dist_road2017','ln_ghsl2015']]\n",
    "# This ones make some sdg more relevant \n",
    "\n",
    "x = X\n",
    "\n",
    "for y_variable in y_variables:\n",
    "    \n",
    "    y = y_variables[y_variable]\n",
    "\n",
    "    np.random.seed(42)\n",
    "    x_train, x_test, y_train, y_test = train_test_split(x,y, test_size=0.2) \n",
    "\n",
    "    ridge_model = linear_model.Ridge()\n",
    "\n",
    "    r2 = np.mean(cross_val_score(ridge_model, x, y, scoring=\"r2\"))\n",
    "    mae = np.mean(cross_val_score(ridge_model, x, y, scoring=\"neg_mean_absolute_error\"))\n",
    "    \n",
    "    ridge_results.loc[len(ridge_results.index)] = [y_variable, r2, mae]\n",
    "\n",
    "    # Prediction df \n",
    "    ridge_model.fit(x_train,y_train)\n",
    "    y_pred = ridge_model.predict(x_test)\n",
    "\n",
    "    col0 = y_variable + \"_true\"\n",
    "    col1 = y_variable + \"_pred\"\n",
    "    temp_predict = pd.DataFrame({col0: y_test, col1: y_pred}, index=y_test.index)\n",
    "    temp_predict.index.name = \"id\"\n",
    "    \n",
    "    if ri_predict.empty:\n",
    "        ri_predict = temp_predict\n",
    "    else:\n",
    "        ri_predict = ri_predict.merge(temp_predict, on=\"id\", how=\"outer\")"
   ]
  },
  {
   "cell_type": "code",
   "execution_count": 11,
   "id": "5a0bb289-f280-4229-a34c-ca858e7ee284",
   "metadata": {},
   "outputs": [
    {
     "data": {
      "text/html": [
       "<div>\n",
       "<style scoped>\n",
       "    .dataframe tbody tr th:only-of-type {\n",
       "        vertical-align: middle;\n",
       "    }\n",
       "\n",
       "    .dataframe tbody tr th {\n",
       "        vertical-align: top;\n",
       "    }\n",
       "\n",
       "    .dataframe thead th {\n",
       "        text-align: right;\n",
       "    }\n",
       "</style>\n",
       "<table border=\"1\" class=\"dataframe\">\n",
       "  <thead>\n",
       "    <tr style=\"text-align: right;\">\n",
       "      <th></th>\n",
       "      <th>Feature</th>\n",
       "      <th>r2</th>\n",
       "      <th>MAE</th>\n",
       "    </tr>\n",
       "  </thead>\n",
       "  <tbody>\n",
       "  </tbody>\n",
       "</table>\n",
       "</div>"
      ],
      "text/plain": [
       "Empty DataFrame\n",
       "Columns: [Feature, r2, MAE]\n",
       "Index: []"
      ]
     },
     "execution_count": 11,
     "metadata": {},
     "output_type": "execute_result"
    }
   ],
   "source": [
    "ridge_results[ridge_results[\"r2\"]>0.9].round(2)"
   ]
  },
  {
   "cell_type": "code",
   "execution_count": 12,
   "id": "5a2248fd-c1f3-4171-822f-a9b2c7640ec5",
   "metadata": {},
   "outputs": [
    {
     "data": {
      "text/html": [
       "<div>\n",
       "<style scoped>\n",
       "    .dataframe tbody tr th:only-of-type {\n",
       "        vertical-align: middle;\n",
       "    }\n",
       "\n",
       "    .dataframe tbody tr th {\n",
       "        vertical-align: top;\n",
       "    }\n",
       "\n",
       "    .dataframe thead th {\n",
       "        text-align: right;\n",
       "    }\n",
       "</style>\n",
       "<table border=\"1\" class=\"dataframe\">\n",
       "  <thead>\n",
       "    <tr style=\"text-align: right;\">\n",
       "      <th></th>\n",
       "      <th>Feature</th>\n",
       "      <th>r2</th>\n",
       "      <th>MAE</th>\n",
       "    </tr>\n",
       "  </thead>\n",
       "  <tbody>\n",
       "  </tbody>\n",
       "</table>\n",
       "</div>"
      ],
      "text/plain": [
       "Empty DataFrame\n",
       "Columns: [Feature, r2, MAE]\n",
       "Index: []"
      ]
     },
     "execution_count": 12,
     "metadata": {},
     "output_type": "execute_result"
    }
   ],
   "source": [
    "ridge_results[ridge_results[\"r2\"]>0.8].round(2)"
   ]
  },
  {
   "cell_type": "code",
   "execution_count": 13,
   "id": "7d64bc5a-8090-47cb-94cb-000ba286ded6",
   "metadata": {},
   "outputs": [
    {
     "data": {
      "text/html": [
       "<div>\n",
       "<style scoped>\n",
       "    .dataframe tbody tr th:only-of-type {\n",
       "        vertical-align: middle;\n",
       "    }\n",
       "\n",
       "    .dataframe tbody tr th {\n",
       "        vertical-align: top;\n",
       "    }\n",
       "\n",
       "    .dataframe thead th {\n",
       "        text-align: right;\n",
       "    }\n",
       "</style>\n",
       "<table border=\"1\" class=\"dataframe\">\n",
       "  <thead>\n",
       "    <tr style=\"text-align: right;\">\n",
       "      <th></th>\n",
       "      <th>Feature</th>\n",
       "      <th>r2</th>\n",
       "      <th>MAE</th>\n",
       "    </tr>\n",
       "  </thead>\n",
       "  <tbody>\n",
       "  </tbody>\n",
       "</table>\n",
       "</div>"
      ],
      "text/plain": [
       "Empty DataFrame\n",
       "Columns: [Feature, r2, MAE]\n",
       "Index: []"
      ]
     },
     "execution_count": 13,
     "metadata": {},
     "output_type": "execute_result"
    }
   ],
   "source": [
    "ridge_results[(ridge_results[\"r2\"]>=0.7) & (ridge_results[\"r2\"]<0.8)].round(4)"
   ]
  },
  {
   "cell_type": "code",
   "execution_count": 14,
   "id": "a11ac195-c3d2-4cbe-8cc9-3e1bcab7c9bd",
   "metadata": {},
   "outputs": [
    {
     "data": {
      "text/html": [
       "<div>\n",
       "<style scoped>\n",
       "    .dataframe tbody tr th:only-of-type {\n",
       "        vertical-align: middle;\n",
       "    }\n",
       "\n",
       "    .dataframe tbody tr th {\n",
       "        vertical-align: top;\n",
       "    }\n",
       "\n",
       "    .dataframe thead th {\n",
       "        text-align: right;\n",
       "    }\n",
       "</style>\n",
       "<table border=\"1\" class=\"dataframe\">\n",
       "  <thead>\n",
       "    <tr style=\"text-align: right;\">\n",
       "      <th></th>\n",
       "      <th>Feature</th>\n",
       "      <th>r2</th>\n",
       "      <th>MAE</th>\n",
       "    </tr>\n",
       "  </thead>\n",
       "  <tbody>\n",
       "    <tr>\n",
       "      <th>0</th>\n",
       "      <td>index_sdg1</td>\n",
       "      <td>0.5201</td>\n",
       "      <td>-11.3261</td>\n",
       "    </tr>\n",
       "    <tr>\n",
       "      <th>10</th>\n",
       "      <td>index_sdg11</td>\n",
       "      <td>0.5134</td>\n",
       "      <td>-6.3852</td>\n",
       "    </tr>\n",
       "    <tr>\n",
       "      <th>15</th>\n",
       "      <td>imds</td>\n",
       "      <td>0.5096</td>\n",
       "      <td>-3.7070</td>\n",
       "    </tr>\n",
       "  </tbody>\n",
       "</table>\n",
       "</div>"
      ],
      "text/plain": [
       "        Feature      r2      MAE\n",
       "0    index_sdg1  0.5201 -11.3261\n",
       "10  index_sdg11  0.5134  -6.3852\n",
       "15         imds  0.5096  -3.7070"
      ]
     },
     "execution_count": 14,
     "metadata": {},
     "output_type": "execute_result"
    }
   ],
   "source": [
    "ridge_results[(ridge_results[\"r2\"]>=0.5) & (ridge_results[\"r2\"]<0.7)].round(4)"
   ]
  },
  {
   "cell_type": "code",
   "execution_count": 15,
   "id": "430fdb43-6dc6-4592-ab43-be595d0a154d",
   "metadata": {},
   "outputs": [
    {
     "data": {
      "text/html": [
       "<div>\n",
       "<style scoped>\n",
       "    .dataframe tbody tr th:only-of-type {\n",
       "        vertical-align: middle;\n",
       "    }\n",
       "\n",
       "    .dataframe tbody tr th {\n",
       "        vertical-align: top;\n",
       "    }\n",
       "\n",
       "    .dataframe thead th {\n",
       "        text-align: right;\n",
       "    }\n",
       "</style>\n",
       "<table border=\"1\" class=\"dataframe\">\n",
       "  <thead>\n",
       "    <tr style=\"text-align: right;\">\n",
       "      <th></th>\n",
       "      <th>Feature</th>\n",
       "      <th>r2</th>\n",
       "      <th>MAE</th>\n",
       "    </tr>\n",
       "  </thead>\n",
       "  <tbody>\n",
       "    <tr>\n",
       "      <th>0</th>\n",
       "      <td>index_sdg1</td>\n",
       "      <td>0.5201</td>\n",
       "      <td>-11.3261</td>\n",
       "    </tr>\n",
       "    <tr>\n",
       "      <th>1</th>\n",
       "      <td>index_sdg2</td>\n",
       "      <td>0.0877</td>\n",
       "      <td>-8.1349</td>\n",
       "    </tr>\n",
       "    <tr>\n",
       "      <th>2</th>\n",
       "      <td>index_sdg3</td>\n",
       "      <td>0.0630</td>\n",
       "      <td>-5.6693</td>\n",
       "    </tr>\n",
       "    <tr>\n",
       "      <th>3</th>\n",
       "      <td>index_sdg4</td>\n",
       "      <td>0.0690</td>\n",
       "      <td>-9.0030</td>\n",
       "    </tr>\n",
       "    <tr>\n",
       "      <th>4</th>\n",
       "      <td>index_sdg5</td>\n",
       "      <td>0.0793</td>\n",
       "      <td>-7.0186</td>\n",
       "    </tr>\n",
       "    <tr>\n",
       "      <th>5</th>\n",
       "      <td>index_sdg6</td>\n",
       "      <td>0.2561</td>\n",
       "      <td>-10.6672</td>\n",
       "    </tr>\n",
       "    <tr>\n",
       "      <th>6</th>\n",
       "      <td>index_sdg7</td>\n",
       "      <td>0.4809</td>\n",
       "      <td>-8.5103</td>\n",
       "    </tr>\n",
       "    <tr>\n",
       "      <th>7</th>\n",
       "      <td>index_sdg8</td>\n",
       "      <td>0.2212</td>\n",
       "      <td>-7.1916</td>\n",
       "    </tr>\n",
       "    <tr>\n",
       "      <th>8</th>\n",
       "      <td>index_sdg9</td>\n",
       "      <td>0.4638</td>\n",
       "      <td>-9.0455</td>\n",
       "    </tr>\n",
       "    <tr>\n",
       "      <th>9</th>\n",
       "      <td>index_sdg10</td>\n",
       "      <td>0.1466</td>\n",
       "      <td>-10.2705</td>\n",
       "    </tr>\n",
       "    <tr>\n",
       "      <th>10</th>\n",
       "      <td>index_sdg11</td>\n",
       "      <td>0.5134</td>\n",
       "      <td>-6.3852</td>\n",
       "    </tr>\n",
       "    <tr>\n",
       "      <th>11</th>\n",
       "      <td>index_sdg13</td>\n",
       "      <td>0.0044</td>\n",
       "      <td>-10.7858</td>\n",
       "    </tr>\n",
       "    <tr>\n",
       "      <th>14</th>\n",
       "      <td>index_sdg17</td>\n",
       "      <td>0.1785</td>\n",
       "      <td>-7.3173</td>\n",
       "    </tr>\n",
       "    <tr>\n",
       "      <th>15</th>\n",
       "      <td>imds</td>\n",
       "      <td>0.5096</td>\n",
       "      <td>-3.7070</td>\n",
       "    </tr>\n",
       "  </tbody>\n",
       "</table>\n",
       "</div>"
      ],
      "text/plain": [
       "        Feature      r2      MAE\n",
       "0    index_sdg1  0.5201 -11.3261\n",
       "1    index_sdg2  0.0877  -8.1349\n",
       "2    index_sdg3  0.0630  -5.6693\n",
       "3    index_sdg4  0.0690  -9.0030\n",
       "4    index_sdg5  0.0793  -7.0186\n",
       "5    index_sdg6  0.2561 -10.6672\n",
       "6    index_sdg7  0.4809  -8.5103\n",
       "7    index_sdg8  0.2212  -7.1916\n",
       "8    index_sdg9  0.4638  -9.0455\n",
       "9   index_sdg10  0.1466 -10.2705\n",
       "10  index_sdg11  0.5134  -6.3852\n",
       "11  index_sdg13  0.0044 -10.7858\n",
       "14  index_sdg17  0.1785  -7.3173\n",
       "15         imds  0.5096  -3.7070"
      ]
     },
     "execution_count": 15,
     "metadata": {},
     "output_type": "execute_result"
    }
   ],
   "source": [
    "ridge_results[ridge_results[\"r2\"]>0 ].round(4)"
   ]
  },
  {
   "cell_type": "code",
   "execution_count": 16,
   "id": "3453267b-c535-422a-b312-1e34524df517",
   "metadata": {},
   "outputs": [
    {
     "data": {
      "text/html": [
       "<div>\n",
       "<style scoped>\n",
       "    .dataframe tbody tr th:only-of-type {\n",
       "        vertical-align: middle;\n",
       "    }\n",
       "\n",
       "    .dataframe tbody tr th {\n",
       "        vertical-align: top;\n",
       "    }\n",
       "\n",
       "    .dataframe thead th {\n",
       "        text-align: right;\n",
       "    }\n",
       "</style>\n",
       "<table border=\"1\" class=\"dataframe\">\n",
       "  <thead>\n",
       "    <tr style=\"text-align: right;\">\n",
       "      <th></th>\n",
       "      <th>Feature</th>\n",
       "      <th>r2</th>\n",
       "      <th>MAE</th>\n",
       "    </tr>\n",
       "  </thead>\n",
       "  <tbody>\n",
       "    <tr>\n",
       "      <th>12</th>\n",
       "      <td>index_sdg15</td>\n",
       "      <td>-0.0812</td>\n",
       "      <td>-12.7461</td>\n",
       "    </tr>\n",
       "    <tr>\n",
       "      <th>13</th>\n",
       "      <td>index_sdg16</td>\n",
       "      <td>-0.0234</td>\n",
       "      <td>-7.3269</td>\n",
       "    </tr>\n",
       "  </tbody>\n",
       "</table>\n",
       "</div>"
      ],
      "text/plain": [
       "        Feature      r2      MAE\n",
       "12  index_sdg15 -0.0812 -12.7461\n",
       "13  index_sdg16 -0.0234  -7.3269"
      ]
     },
     "execution_count": 16,
     "metadata": {},
     "output_type": "execute_result"
    }
   ],
   "source": [
    "ridge_results[ridge_results[\"r2\"]<0].round(4)"
   ]
  },
  {
   "cell_type": "code",
   "execution_count": 17,
   "id": "cbd09c6e-35b4-4281-bf2a-2ae9e3e54666",
   "metadata": {},
   "outputs": [
    {
     "data": {
      "text/plain": [
       "[<matplotlib.lines.Line2D at 0x145bf2210>]"
      ]
     },
     "execution_count": 17,
     "metadata": {},
     "output_type": "execute_result"
    },
    {
     "data": {
      "image/png": "[encoded data removed]",
      "text/plain": [
       "<Figure size 2000x700 with 4 Axes>"
      ]
     },
     "metadata": {},
     "output_type": "display_data"
    }
   ],
   "source": [
    "fig, ((ax0, ax1, ax2, ax3)) = plt.subplots(nrows=1, \n",
    "                                         ncols=4, \n",
    "                                         figsize=(20, 7))\n",
    "\n",
    "# Graph 1 \n",
    "g_x = ri_predict[\"index_sdg1_true\"]\n",
    "g_y = ri_predict[\"index_sdg1_pred\"]\n",
    "\n",
    "ax0.scatter(x = g_x, y = g_y)\n",
    "ax0.set(xlabel=\"sdg1_1_pubn_abs_true\", ylabel=\"sdg1_1_pubn_abs_pred\", title=\"SDG1\")\n",
    "\n",
    "# add trendline\n",
    "z = np.polyfit(g_x, g_y, 1)\n",
    "p = np.poly1d(z)\n",
    "ax0.plot(g_x,p(g_x),\"r-\")\n",
    "\n",
    "\n",
    "# Graph 1 \n",
    "g_x = ri_predict[\"index_sdg7_true\"]\n",
    "g_y = ri_predict[\"index_sdg7_pred\"]\n",
    "\n",
    "ax1.scatter(x = g_x, y = g_y)\n",
    "ax1.set(xlabel=\"sdg9_c_hf_abs_true\", ylabel=\"sdg9_c_hf_abs_pred\", title=\"index_sdg7\")\n",
    "\n",
    "# add trendline\n",
    "z = np.polyfit(g_x, g_y, 1)\n",
    "p = np.poly1d(z)\n",
    "ax1.plot(g_x,p(g_x),\"r-\")\n",
    "\n",
    "\n",
    "# Graph 1 \n",
    "g_x = ri_predict[\"index_sdg11_true\"]\n",
    "g_y = ri_predict[\"index_sdg11_pred\"]\n",
    "\n",
    "ax2.scatter(x = g_x, y = g_y)\n",
    "ax2.set(xlabel=\"sdg1_1_dtl_abs_true\", ylabel=\"sdg1_1_dtl_abs_pred\", title=\"index_sdg11\")\n",
    "\n",
    "# add trendline\n",
    "z = np.polyfit(g_x, g_y, 1)\n",
    "p = np.poly1d(z)\n",
    "ax2.plot(g_x,p(g_x),\"r-\")\n",
    "\n",
    "\n",
    "# Graph 1 \n",
    "g_x = ri_predict[\"index_sdg9_true\"]\n",
    "g_y = ri_predict[\"index_sdg9_pred\"]\n",
    "\n",
    "ax3.scatter(x = g_x, y = g_y)\n",
    "ax3.set(xlabel=\"sdg3_2_fb_abs_true\", ylabel=\"sdg3_2_fb_abs_pred\", title=\"index_sdg9\")\n",
    "\n",
    "# add trendline\n",
    "z = np.polyfit(g_x, g_y, 1)\n",
    "p = np.poly1d(z)\n",
    "ax3.plot(g_x,p(g_x),\"r-\")"
   ]
  },
  {
   "cell_type": "code",
   "execution_count": null,
   "id": "e269dde4-b45a-4b7f-8725-951e8195f9ea",
   "metadata": {},
   "outputs": [],
   "source": []
  },
  {
   "cell_type": "markdown",
   "id": "7dc6b14b-b46e-4457-9396-90ecf53f9267",
   "metadata": {},
   "source": [
    "# Adjust Hyperparameters"
   ]
  },
  {
   "cell_type": "code",
   "execution_count": 18,
   "id": "a21c805a-174c-4fa6-bfee-8cc810495e6d",
   "metadata": {
    "scrolled": true
   },
   "outputs": [
    {
     "data": {
      "text/plain": [
       "{'alpha': 1.0,\n",
       " 'copy_X': True,\n",
       " 'fit_intercept': True,\n",
       " 'max_iter': None,\n",
       " 'positive': False,\n",
       " 'random_state': None,\n",
       " 'solver': 'auto',\n",
       " 'tol': 0.0001}"
      ]
     },
     "execution_count": 18,
     "metadata": {},
     "output_type": "execute_result"
    }
   ],
   "source": [
    "model.get_params()"
   ]
  },
  {
   "cell_type": "code",
   "execution_count": 19,
   "id": "a19a9c6e-595e-449c-823b-47d82d6e3527",
   "metadata": {},
   "outputs": [
    {
     "data": {
      "text/plain": [
       "0.6621317860955964"
      ]
     },
     "execution_count": 19,
     "metadata": {},
     "output_type": "execute_result"
    }
   ],
   "source": [
    "model_tuned = linear_model.Ridge(alpha=3, max_iter=1000)\n",
    "model_tuned.fit(X_train, y_train);\n",
    "model.score(X_test, y_test)\n"
   ]
  },
  {
   "cell_type": "code",
   "execution_count": 20,
   "id": "43f2cc3d-8e81-4ed1-a93d-9e06f814f59a",
   "metadata": {},
   "outputs": [],
   "source": [
    "def evaluate_preds(model, y_true, y_preds):\n",
    "    \"\"\"\n",
    "    Performs evaluation comparison on y_true labels vs. y_pred labels\n",
    "    on a classification.\n",
    "    \"\"\"\n",
    "    r2 = np.mean(cross_val_score(model, X, y, scoring=\"r2\"))\n",
    "    mae = np.mean(cross_val_score(model, X, y, scoring=\"neg_mean_absolute_error\"))\n",
    "    metric_dict = {\"R2\": round(r2, 2),\n",
    "                   \"MAE\": round(mae, 2)}\n",
    "    print(f\"R2: {r2 * 100:.2f}%\")\n",
    "    print(f\"MAE: {mae:.2f}\")\n",
    "    \n",
    "    return metric_dict"
   ]
  },
  {
   "cell_type": "code",
   "execution_count": 21,
   "id": "ab1e071d-4d3b-4f13-b8d7-d5fb1347fa69",
   "metadata": {},
   "outputs": [],
   "source": [
    "alpha= range(1,1000,20)\n",
    "grid = {\"alpha\": alpha,\n",
    "        \"copy_X\": [True, False],\n",
    "        \"max_iter\": [None, 10, 100, 200, 500, 1000, 10000], \n",
    "        \"solver\": [\"auto\", \"svd\", \"cholesky\", \"lsqr\", \"sparse_cg\"]}\n",
    "\n",
    "np.random.seed(42)\n",
    "\n",
    "rs_rid_model= RandomizedSearchCV(estimator = model,\n",
    "                                 param_distributions=grid,\n",
    "                                 n_iter=100,\n",
    "                                 cv=5,\n",
    "                                 verbose=0)\n",
    "\n",
    "rs_rid_model.fit(X_train, y_train);"
   ]
  },
  {
   "cell_type": "code",
   "execution_count": 22,
   "id": "d3996636-5518-467f-8026-88d41c8c23f1",
   "metadata": {},
   "outputs": [
    {
     "data": {
      "text/plain": [
       "{'solver': 'cholesky', 'max_iter': 10000, 'copy_X': True, 'alpha': 1}"
      ]
     },
     "execution_count": 22,
     "metadata": {},
     "output_type": "execute_result"
    }
   ],
   "source": [
    "rs_rid_model.best_params_"
   ]
  },
  {
   "cell_type": "code",
   "execution_count": 23,
   "id": "41e34e9d-616e-48dc-8f3b-74c3640b0062",
   "metadata": {},
   "outputs": [
    {
     "name": "stdout",
     "output_type": "stream",
     "text": [
      "R2: 50.96%\n",
      "MAE: -3.71\n"
     ]
    }
   ],
   "source": [
    "# Uses the best model for the prediction\n",
    "rs_y_preds = rs_rid_model.predict(X_test)\n",
    "\n",
    "rs_metrics = evaluate_preds(rs_rid_model, X, y)"
   ]
  },
  {
   "cell_type": "code",
   "execution_count": null,
   "id": "304f6380-ab88-4620-870a-f30f94b2fdec",
   "metadata": {},
   "outputs": [],
   "source": []
  },
  {
   "cell_type": "code",
   "execution_count": null,
   "id": "831815ff-4402-468e-8ca2-dca9af6f02d5",
   "metadata": {},
   "outputs": [],
   "source": []
  }
 ],
 "metadata": {
  "kernelspec": {
   "display_name": "Python 3 (ipykernel)",
   "language": "python",
   "name": "python3"
  },
  "language_info": {
   "codemirror_mode": {
    "name": "ipython",
    "version": 3
   },
   "file_extension": ".py",
   "mimetype": "text/x-python",
   "name": "python",
   "nbconvert_exporter": "python",
   "pygments_lexer": "ipython3",
   "version": "3.12.0"
  }
 },
 "nbformat": 4,
 "nbformat_minor": 5
}
