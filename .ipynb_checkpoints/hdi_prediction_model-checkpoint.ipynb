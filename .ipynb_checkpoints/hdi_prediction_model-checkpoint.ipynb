{
 "cells": [
  {
   "cell_type": "code",
   "execution_count": 32,
   "id": "6082aa4f-d18f-42f3-bfb1-92b8c01fce18",
   "metadata": {},
   "outputs": [],
   "source": [
    "import numpy as np\n",
    "import pandas as pd\n",
    "import sklearn as ktl\n",
    "import pickle\n",
    "from sklearn.metrics import classification_report, confusion_matrix, accuracy_score"
   ]
  },
  {
   "cell_type": "code",
   "execution_count": 2,
   "id": "70cae1f1-dd27-4fa5-8fbd-3457c078f5ed",
   "metadata": {},
   "outputs": [],
   "source": [
    "bol = pd.read_csv(\"/Users/hendrixperalta/Desktop/bolivia/data/GeoDS4Bolivia.csv\")\n",
    "bol = bol.rename(columns={\"asdf_id\":\"id\"})\n",
    "\n",
    "#list(bol.columns)\n",
    "sat = pd.read_csv(\"data/egdp/satelite_data.csv\")\n",
    "df = pd.merge(bol, sat, on=\"id\", how=\"outer\")\n",
    "\n",
    "df[\"total_land2012\"] = df[\"agr_land2012\"] + df[\"urb_land2012\"]\n",
    "df[\"perUrb_land\"] = df[\"urb_land2012\"] / df[\"total_land2012\"]"
   ]
  },
  {
   "cell_type": "code",
   "execution_count": 3,
   "id": "1745afe3-69ff-4d8f-881a-cd4d53b7b517",
   "metadata": {},
   "outputs": [],
   "source": [
    "x = df[[\"ln_t400NTLpc2012\", \"pop2012\", 'egdp2012', 'perUrb_land']].fillna(0)\n",
    "y = df['imds']"
   ]
  },
  {
   "cell_type": "code",
   "execution_count": 4,
   "id": "68572ced-cd60-46e3-9b44-465206e245be",
   "metadata": {},
   "outputs": [
    {
     "name": "stdout",
     "output_type": "stream",
     "text": [
      "Mean Squared Error: 31.501944144931485\n",
      "R^2 Score: 0.23074984778316943\n"
     ]
    }
   ],
   "source": [
    "from sklearn.model_selection import train_test_split\n",
    "from sklearn.linear_model import LinearRegression\n",
    "from sklearn.metrics import mean_squared_error, r2_score\n",
    "\n",
    "x_train, x_test, y_train, y_test = train_test_split(x,y, test_size=0.3) \n",
    "\n",
    "model = LinearRegression()\n",
    "model.fit(x_train,y_train)\n",
    "\n",
    "y_pred = model.predict(x_test)\n",
    "mse = mean_squared_error(y_test, y_pred)\n",
    "r2 = r2_score(y_test, y_pred)\n",
    "\n",
    "print(\"Mean Squared Error:\", mse)\n",
    "print(\"R^2 Score:\", r2)"
   ]
  },
  {
   "cell_type": "code",
   "execution_count": null,
   "id": "d97401ac-5d10-493f-986a-bcc27a81e4b2",
   "metadata": {},
   "outputs": [],
   "source": []
  },
  {
   "cell_type": "markdown",
   "id": "1b2b931c-f8e0-4d95-b3e0-06291a5608b6",
   "metadata": {},
   "source": [
    "**categorical analysis**"
   ]
  },
  {
   "cell_type": "code",
   "execution_count": 5,
   "id": "509c1179-2a66-4365-9c78-f0de48739158",
   "metadata": {},
   "outputs": [],
   "source": [
    "quantile_labels = [\"low\", 'medium-low', 'medium-high', 'high']\n",
    "df[\"imds_quantile\"] = pd.qcut(df[\"imds\"], q=4, labels=quantile_labels)"
   ]
  },
  {
   "cell_type": "code",
   "execution_count": 6,
   "id": "47071b9e-bfa1-4202-9733-916886a2838b",
   "metadata": {},
   "outputs": [
    {
     "data": {
      "text/plain": [
       "0      medium-high\n",
       "1       medium-low\n",
       "2       medium-low\n",
       "3             high\n",
       "4              low\n",
       "          ...     \n",
       "334           high\n",
       "335     medium-low\n",
       "336    medium-high\n",
       "337           high\n",
       "338           high\n",
       "Name: imds_quantile, Length: 339, dtype: category\n",
       "Categories (4, object): ['low' < 'medium-low' < 'medium-high' < 'high']"
      ]
     },
     "execution_count": 6,
     "metadata": {},
     "output_type": "execute_result"
    }
   ],
   "source": [
    "df[\"imds_quantile\"]"
   ]
  },
  {
   "cell_type": "code",
   "execution_count": 13,
   "id": "346066bb-89d2-479d-b71b-ede7712bf759",
   "metadata": {},
   "outputs": [],
   "source": [
    "from sklearn.ensemble import RandomForestClassifier\n",
    "clf = RandomForestClassifier()\n",
    "\n",
    "x = df[[\"ln_t400NTLpc2012\", \"pop2012\", 'egdp2012', 'perUrb_land']].fillna(0)\n",
    "y = df['imds_quantile']\n",
    "\n",
    "x_train, x_test, y_train, y_test = train_test_split(x,y, test_size=0.3) \n",
    "\n",
    "#clf.get_params()\n",
    "clf.fit(x_train,y_train);\n",
    "\n",
    "y_preds = clf.predict(x_test)"
   ]
  },
  {
   "cell_type": "code",
   "execution_count": 23,
   "id": "4e7de85e-3bd1-4df4-8d40-6d7826651660",
   "metadata": {},
   "outputs": [
    {
     "data": {
      "text/plain": [
       "{'bootstrap': True,\n",
       " 'ccp_alpha': 0.0,\n",
       " 'class_weight': None,\n",
       " 'criterion': 'gini',\n",
       " 'max_depth': None,\n",
       " 'max_features': 'sqrt',\n",
       " 'max_leaf_nodes': None,\n",
       " 'max_samples': None,\n",
       " 'min_impurity_decrease': 0.0,\n",
       " 'min_samples_leaf': 1,\n",
       " 'min_samples_split': 2,\n",
       " 'min_weight_fraction_leaf': 0.0,\n",
       " 'monotonic_cst': None,\n",
       " 'n_estimators': 100,\n",
       " 'n_jobs': None,\n",
       " 'oob_score': False,\n",
       " 'random_state': None,\n",
       " 'verbose': 0,\n",
       " 'warm_start': False}"
      ]
     },
     "execution_count": 23,
     "metadata": {},
     "output_type": "execute_result"
    }
   ],
   "source": [
    "clf.get_params()"
   ]
  },
  {
   "cell_type": "code",
   "execution_count": 31,
   "id": "a4b8f36e-3bf3-4a1f-b411-34e0811447b9",
   "metadata": {},
   "outputs": [
    {
     "name": "stdout",
     "output_type": "stream",
     "text": [
      " Train data score: 100.00%\n",
      " Test data score: 48.04%\n"
     ]
    }
   ],
   "source": [
    "#evaluate the model\n",
    "print(f\" Train data score: {clf.score(x_train, y_train)*100:.2f}%\")\n",
    "print(f\" Test data score: {clf.score(x_test, y_test)*100:.2f}%\")"
   ]
  },
  {
   "cell_type": "code",
   "execution_count": 17,
   "id": "2959a016-9dd2-4c45-8508-22ed263c05eb",
   "metadata": {},
   "outputs": [
    {
     "name": "stdout",
     "output_type": "stream",
     "text": [
      "              precision    recall  f1-score   support\n",
      "\n",
      "        high       0.70      0.66      0.68        29\n",
      "         low       0.40      0.36      0.38        28\n",
      " medium-high       0.42      0.46      0.44        24\n",
      "  medium-low       0.29      0.33      0.31        21\n",
      "\n",
      "    accuracy                           0.46       102\n",
      "   macro avg       0.45      0.45      0.45       102\n",
      "weighted avg       0.47      0.46      0.46       102\n",
      "\n"
     ]
    }
   ],
   "source": [
    "print(classification_report(y_test, y_preds))"
   ]
  },
  {
   "cell_type": "code",
   "execution_count": 33,
   "id": "7bdc0b77-dcd1-4b5e-927a-c0c3609e6ad6",
   "metadata": {},
   "outputs": [
    {
     "name": "stdout",
     "output_type": "stream",
     "text": [
      "[[19  1  6  3]\n",
      " [ 2 10  5 11]\n",
      " [ 4  6 11  3]\n",
      " [ 2  8  4  7]]\n"
     ]
    }
   ],
   "source": [
    "print(confusion_matrix(y_test, y_preds))"
   ]
  },
  {
   "cell_type": "code",
   "execution_count": 34,
   "id": "c102af1a-9bb6-4400-8830-f9de77a8b780",
   "metadata": {},
   "outputs": [
    {
     "data": {
      "text/plain": [
       "0.46078431372549017"
      ]
     },
     "execution_count": 34,
     "metadata": {},
     "output_type": "execute_result"
    }
   ],
   "source": [
    "accuracy_score(y_test, y_preds)"
   ]
  },
  {
   "cell_type": "code",
   "execution_count": 24,
   "id": "498c11cd-a162-4fd7-95fe-8e666d5c03ec",
   "metadata": {},
   "outputs": [
    {
     "name": "stdout",
     "output_type": "stream",
     "text": [
      "Trying model with 10 stimators\n",
      "Model acurracy is 47.06%\n",
      "Trying model with 20 stimators\n",
      "Model acurracy is 45.10%\n",
      "Trying model with 30 stimators\n",
      "Model acurracy is 48.04%\n",
      "Trying model with 40 stimators\n",
      "Model acurracy is 49.02%\n",
      "Trying model with 50 stimators\n",
      "Model acurracy is 49.02%\n",
      "Trying model with 60 stimators\n",
      "Model acurracy is 47.06%\n",
      "Trying model with 70 stimators\n",
      "Model acurracy is 48.04%\n",
      "Trying model with 80 stimators\n",
      "Model acurracy is 47.06%\n",
      "Trying model with 90 stimators\n",
      "Model acurracy is 48.04%\n"
     ]
    }
   ],
   "source": [
    "# improve model\n",
    "\n",
    "np.random.seed(33)\n",
    "for i in range(10, 100, 10):\n",
    "    print(f\"Trying model with {i} stimators\")\n",
    "    clf = RandomForestClassifier(n_estimators=i).fit(x_train, y_train)\n",
    "    print(f\"Model acurracy is {clf.score(x_test, y_test)*100:.2f}%\")"
   ]
  },
  {
   "cell_type": "code",
   "execution_count": 29,
   "id": "55905710-f624-4697-ba03-529073042932",
   "metadata": {},
   "outputs": [
    {
     "data": {
      "text/plain": [
       "0.4803921568627451"
      ]
     },
     "execution_count": 29,
     "metadata": {},
     "output_type": "execute_result"
    }
   ],
   "source": [
    "pickle.dump(clf, open(\"random_forest_model.pkl\", \"wb\"))\n",
    "\n",
    "load_model = pickle.load(open(\"random_forest_model.pkl\", \"rb\"))\n",
    "load_model.score(x_test, y_test)"
   ]
  }
 ],
 "metadata": {
  "kernelspec": {
   "display_name": "Python 3 (ipykernel)",
   "language": "python",
   "name": "python3"
  },
  "language_info": {
   "codemirror_mode": {
    "name": "ipython",
    "version": 3
   },
   "file_extension": ".py",
   "mimetype": "text/x-python",
   "name": "python",
   "nbconvert_exporter": "python",
   "pygments_lexer": "ipython3",
   "version": "3.12.0"
  }
 },
 "nbformat": 4,
 "nbformat_minor": 5
}
