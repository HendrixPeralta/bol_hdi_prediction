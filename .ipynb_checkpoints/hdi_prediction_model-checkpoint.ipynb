{
 "cells": [
  {
   "cell_type": "code",
   "execution_count": 1,
   "id": "6082aa4f-d18f-42f3-bfb1-92b8c01fce18",
   "metadata": {},
   "outputs": [],
   "source": [
    "import numpy as np\n",
    "import pandas as pd\n",
    "import sklearn as ktl\n",
    "import pickle\n",
    "from sklearn.metrics import classification_report, confusion_matrix, accuracy_score\n",
    "import matplotlib.pylab as plt"
   ]
  },
  {
   "cell_type": "code",
   "execution_count": 2,
   "id": "70cae1f1-dd27-4fa5-8fbd-3457c078f5ed",
   "metadata": {},
   "outputs": [],
   "source": [
    "bol = pd.read_csv(\"/Users/hendrixperalta/Desktop/bolivia/data/GeoDS4Bolivia.csv\")\n",
    "bol = bol.rename(columns={\"asdf_id\":\"id\"})\n",
    "\n",
    "#list(bol.columns)\n",
    "sat = pd.read_csv(\"data/egdp/satelite_data.csv\")\n",
    "df = pd.merge(bol, sat, on=\"id\", how=\"outer\")\n",
    "\n",
    "df[\"total_land2012\"] = df[\"agr_land2012\"] + df[\"urb_land2012\"]\n",
    "df[\"perUrb_land\"] = df[\"urb_land2012\"] / df[\"total_land2012\"]"
   ]
  },
  {
   "cell_type": "code",
   "execution_count": 3,
   "id": "1745afe3-69ff-4d8f-881a-cd4d53b7b517",
   "metadata": {},
   "outputs": [],
   "source": [
    "x = df[[\"ln_t400NTLpc2012\", \"pop2012\", 'egdp2012', 'perUrb_land']].fillna(0)\n",
    "y = df['imds']"
   ]
  },
  {
   "cell_type": "code",
   "execution_count": 4,
   "id": "68572ced-cd60-46e3-9b44-465206e245be",
   "metadata": {},
   "outputs": [
    {
     "name": "stdout",
     "output_type": "stream",
     "text": [
      "Mean Squared Error: 27.805959177247253\n",
      "R^2 Score: 0.4576267210326871\n"
     ]
    }
   ],
   "source": [
    "from sklearn.model_selection import train_test_split\n",
    "from sklearn.linear_model import LinearRegression\n",
    "from sklearn.metrics import mean_squared_error, r2_score\n",
    "\n",
    "x_train, x_test, y_train, y_test = train_test_split(x,y, test_size=0.3) \n",
    "\n",
    "model = LinearRegression()\n",
    "model.fit(x_train,y_train)\n",
    "\n",
    "y_pred = model.predict(x_test)\n",
    "mse = mean_squared_error(y_test, y_pred)\n",
    "r2 = r2_score(y_test, y_pred)\n",
    "\n",
    "print(\"Mean Squared Error:\", mse)\n",
    "print(\"R^2 Score:\", r2)"
   ]
  },
  {
   "cell_type": "markdown",
   "id": "479ed4bf-c971-4749-b1f2-fa310dcceddb",
   "metadata": {},
   "source": [
    "## Iterate regression models"
   ]
  },
  {
   "cell_type": "code",
   "execution_count": 5,
   "id": "5405dca4-b786-4ec4-9929-5a25919c30bf",
   "metadata": {},
   "outputs": [],
   "source": [
    "y_variables = list(df.columns)\n",
    "del y_variables[195:418]\n",
    "del y_variables[10:13]\n",
    "del y_variables[0:8]\n",
    "\n"
   ]
  },
  {
   "cell_type": "code",
   "execution_count": 20,
   "id": "a5156c63-d3e8-4618-b8b0-a0c2f72befd3",
   "metadata": {},
   "outputs": [],
   "source": [
    "#y_variables"
   ]
  },
  {
   "cell_type": "code",
   "execution_count": 7,
   "id": "9d45635a-f303-4ad2-b692-af5ef435701a",
   "metadata": {},
   "outputs": [],
   "source": [
    "model_results = {}\n",
    "    \n",
    "\n",
    "x = df[[\"ln_t400NTLpc2012\", \"tr400_pop2012\", 'egdp2012', 'perUrb_land']].fillna(0)\n",
    "\n",
    "for y_variable in y_variables:\n",
    "    y = df[y_variable].fillna(0)\n",
    "    x_train, x_test, y_train, y_test = train_test_split(x,y, test_size=0.3) \n",
    "\n",
    "    model = LinearRegression()\n",
    "    model.fit(x_train,y_train)\n",
    "\n",
    "    y_pred = model.predict(x_test)\n",
    "    mse = mean_squared_error(y_test, y_pred)\n",
    "    r2 = r2_score(y_test, y_pred)\n",
    "    model_results[y_variable] = r2\n",
    "\n",
    "res_90 = {key: value for key, value in model_results.items() if value > 0.9}\n",
    "res\n",
    "#    print(f\"For the variable {y_variable} Mean Squared Error:\", mse)\n",
    "#    print(\"R^2 Score:\", r2)"
   ]
  },
  {
   "cell_type": "code",
   "execution_count": 8,
   "id": "b50ef00c-73bc-4465-8495-6ba2d1768e60",
   "metadata": {},
   "outputs": [
    {
     "data": {
      "text/plain": [
       "{'sdg1_1_dtl_abs': 0.951865228762999,\n",
       " 'sdg2_2_wow_abs': 0.9398237052059338,\n",
       " 'sdg3_1_udhf_ab': 0.9294290277330215,\n",
       " 'sdg4_1_mhs_abs': 0.9928815108531338,\n",
       " 'sdg4_4_heu_abs': 0.9624975551024469,\n",
       " 'sdg8_5_ompr_abs': 0.9801671883481403,\n",
       " 'sdg8_5_ofpr_abs': 0.9966704122883959,\n",
       " 'sdg8_6_mlm_abs': 0.9772321302304099,\n",
       " 'sdg8_6_wlm_abs': 0.9853541371092804,\n",
       " 'sdg8_10_dbb_abs': 0.923882000060269,\n",
       " 'sdg11_1_ho_abs': 0.9375358194655883,\n",
       " 'sdg16_6_aob_abs': 0.9537581464230923,\n",
       " 'sdg17_5_tpi_abs': 0.9604753066648657}"
      ]
     },
     "execution_count": 8,
     "metadata": {},
     "output_type": "execute_result"
    }
   ],
   "source": [
    "res_90\n"
   ]
  },
  {
   "cell_type": "code",
   "execution_count": 9,
   "id": "f1d30bd3-9334-467d-9484-734742d6e2ee",
   "metadata": {},
   "outputs": [],
   "source": [
    "#y_variables.index('perUrb_land')"
   ]
  },
  {
   "cell_type": "code",
   "execution_count": null,
   "id": "ebfb323a-b290-4761-98cb-4f51dd995e71",
   "metadata": {},
   "outputs": [],
   "source": []
  },
  {
   "cell_type": "markdown",
   "id": "1b2b931c-f8e0-4d95-b3e0-06291a5608b6",
   "metadata": {},
   "source": [
    "# **Categorical analysis**"
   ]
  },
  {
   "cell_type": "code",
   "execution_count": 10,
   "id": "509c1179-2a66-4365-9c78-f0de48739158",
   "metadata": {},
   "outputs": [],
   "source": [
    "quantile_labels = [\"low\", 'medium-low', 'medium-high', 'high']\n",
    "df[\"imds_quantile\"] = pd.qcut(df[\"imds\"], q=4, labels=quantile_labels)"
   ]
  },
  {
   "cell_type": "code",
   "execution_count": 11,
   "id": "47071b9e-bfa1-4202-9733-916886a2838b",
   "metadata": {},
   "outputs": [
    {
     "data": {
      "text/plain": [
       "0      medium-high\n",
       "1       medium-low\n",
       "2       medium-low\n",
       "3             high\n",
       "4              low\n",
       "          ...     \n",
       "334           high\n",
       "335     medium-low\n",
       "336    medium-high\n",
       "337           high\n",
       "338           high\n",
       "Name: imds_quantile, Length: 339, dtype: category\n",
       "Categories (4, object): ['low' < 'medium-low' < 'medium-high' < 'high']"
      ]
     },
     "execution_count": 11,
     "metadata": {},
     "output_type": "execute_result"
    }
   ],
   "source": [
    "df[\"imds_quantile\"]"
   ]
  },
  {
   "cell_type": "code",
   "execution_count": 12,
   "id": "346066bb-89d2-479d-b71b-ede7712bf759",
   "metadata": {},
   "outputs": [],
   "source": [
    "from sklearn.ensemble import RandomForestClassifier\n",
    "clf = RandomForestClassifier()\n",
    "\n",
    "x = df[[\"ln_t400NTLpc2012\", \"pop2012\", 'egdp2012', 'perUrb_land']].fillna(0)\n",
    "y = df['imds_quantile']\n",
    "\n",
    "x_train, x_test, y_train, y_test = train_test_split(x,y, test_size=0.3) \n",
    "\n",
    "#clf.get_params()\n",
    "clf.fit(x_train,y_train);\n",
    "\n",
    "y_preds = clf.predict(x_test)"
   ]
  },
  {
   "cell_type": "code",
   "execution_count": 13,
   "id": "4e7de85e-3bd1-4df4-8d40-6d7826651660",
   "metadata": {},
   "outputs": [
    {
     "data": {
      "text/plain": [
       "{'bootstrap': True,\n",
       " 'ccp_alpha': 0.0,\n",
       " 'class_weight': None,\n",
       " 'criterion': 'gini',\n",
       " 'max_depth': None,\n",
       " 'max_features': 'sqrt',\n",
       " 'max_leaf_nodes': None,\n",
       " 'max_samples': None,\n",
       " 'min_impurity_decrease': 0.0,\n",
       " 'min_samples_leaf': 1,\n",
       " 'min_samples_split': 2,\n",
       " 'min_weight_fraction_leaf': 0.0,\n",
       " 'monotonic_cst': None,\n",
       " 'n_estimators': 100,\n",
       " 'n_jobs': None,\n",
       " 'oob_score': False,\n",
       " 'random_state': None,\n",
       " 'verbose': 0,\n",
       " 'warm_start': False}"
      ]
     },
     "execution_count": 13,
     "metadata": {},
     "output_type": "execute_result"
    }
   ],
   "source": [
    "clf.get_params()"
   ]
  },
  {
   "cell_type": "code",
   "execution_count": 14,
   "id": "a4b8f36e-3bf3-4a1f-b411-34e0811447b9",
   "metadata": {},
   "outputs": [
    {
     "name": "stdout",
     "output_type": "stream",
     "text": [
      " Train data score: 100.00%\n",
      " Test data score: 38.24%\n"
     ]
    }
   ],
   "source": [
    "#evaluate the model\n",
    "print(f\" Train data score: {clf.score(x_train, y_train)*100:.2f}%\")\n",
    "print(f\" Test data score: {clf.score(x_test, y_test)*100:.2f}%\")"
   ]
  },
  {
   "cell_type": "code",
   "execution_count": 15,
   "id": "2959a016-9dd2-4c45-8508-22ed263c05eb",
   "metadata": {},
   "outputs": [
    {
     "name": "stdout",
     "output_type": "stream",
     "text": [
      "              precision    recall  f1-score   support\n",
      "\n",
      "        high       0.52      0.52      0.52        23\n",
      "         low       0.42      0.65      0.52        26\n",
      " medium-high       0.32      0.27      0.29        26\n",
      "  medium-low       0.18      0.11      0.14        27\n",
      "\n",
      "    accuracy                           0.38       102\n",
      "   macro avg       0.36      0.39      0.37       102\n",
      "weighted avg       0.35      0.38      0.36       102\n",
      "\n"
     ]
    }
   ],
   "source": [
    "print(classification_report(y_test, y_preds))"
   ]
  },
  {
   "cell_type": "code",
   "execution_count": 16,
   "id": "7bdc0b77-dcd1-4b5e-927a-c0c3609e6ad6",
   "metadata": {},
   "outputs": [
    {
     "name": "stdout",
     "output_type": "stream",
     "text": [
      "[[12  3  6  2]\n",
      " [ 2 17  1  6]\n",
      " [ 6  7  7  6]\n",
      " [ 3 13  8  3]]\n"
     ]
    }
   ],
   "source": [
    "print(confusion_matrix(y_test, y_preds))"
   ]
  },
  {
   "cell_type": "code",
   "execution_count": 17,
   "id": "c102af1a-9bb6-4400-8830-f9de77a8b780",
   "metadata": {},
   "outputs": [
    {
     "data": {
      "text/plain": [
       "0.38235294117647056"
      ]
     },
     "execution_count": 17,
     "metadata": {},
     "output_type": "execute_result"
    }
   ],
   "source": [
    "accuracy_score(y_test, y_preds)"
   ]
  },
  {
   "cell_type": "code",
   "execution_count": 18,
   "id": "498c11cd-a162-4fd7-95fe-8e666d5c03ec",
   "metadata": {},
   "outputs": [
    {
     "name": "stdout",
     "output_type": "stream",
     "text": [
      "Trying model with 10 stimators\n",
      "Model acurracy is 40.20%\n",
      "Trying model with 20 stimators\n",
      "Model acurracy is 40.20%\n",
      "Trying model with 30 stimators\n",
      "Model acurracy is 33.33%\n",
      "Trying model with 40 stimators\n",
      "Model acurracy is 41.18%\n",
      "Trying model with 50 stimators\n",
      "Model acurracy is 34.31%\n",
      "Trying model with 60 stimators\n",
      "Model acurracy is 35.29%\n",
      "Trying model with 70 stimators\n",
      "Model acurracy is 36.27%\n",
      "Trying model with 80 stimators\n",
      "Model acurracy is 36.27%\n",
      "Trying model with 90 stimators\n",
      "Model acurracy is 40.20%\n"
     ]
    }
   ],
   "source": [
    "# improve model\n",
    "\n",
    "np.random.seed(33)\n",
    "for i in range(10, 100, 10):\n",
    "    print(f\"Trying model with {i} stimators\")\n",
    "    clf = RandomForestClassifier(n_estimators=i).fit(x_train, y_train)\n",
    "    print(f\"Model acurracy is {clf.score(x_test, y_test)*100:.2f}%\")"
   ]
  },
  {
   "cell_type": "code",
   "execution_count": 19,
   "id": "55905710-f624-4697-ba03-529073042932",
   "metadata": {},
   "outputs": [
    {
     "data": {
      "text/plain": [
       "0.7843137254901961"
      ]
     },
     "execution_count": 19,
     "metadata": {},
     "output_type": "execute_result"
    }
   ],
   "source": [
    "#pickle.dump(clf, open(\"random_forest_model.pkl\", \"wb\"))\n",
    "\n",
    "load_model = pickle.load(open(\"random_forest_model.pkl\", \"rb\"))\n",
    "load_model.score(x_test, y_test)"
   ]
  },
  {
   "cell_type": "markdown",
   "id": "38efcb6f-485d-4d7d-91e4-f467c36221f4",
   "metadata": {},
   "source": [
    "## Getting data ready\n",
    "\n",
    "2. handling missing values\n",
    "3. converting non-num in to num variables (encoding)"
   ]
  },
  {
   "cell_type": "code",
   "execution_count": null,
   "id": "f49d7d00-f887-4c4a-a5b9-eb0f52da9dd0",
   "metadata": {},
   "outputs": [],
   "source": []
  }
 ],
 "metadata": {
  "kernelspec": {
   "display_name": "Python 3 (ipykernel)",
   "language": "python",
   "name": "python3"
  },
  "language_info": {
   "codemirror_mode": {
    "name": "ipython",
    "version": 3
   },
   "file_extension": ".py",
   "mimetype": "text/x-python",
   "name": "python",
   "nbconvert_exporter": "python",
   "pygments_lexer": "ipython3",
   "version": "3.12.0"
  }
 },
 "nbformat": 4,
 "nbformat_minor": 5
}
