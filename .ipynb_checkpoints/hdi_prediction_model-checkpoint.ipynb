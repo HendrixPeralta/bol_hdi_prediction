{
 "cells": [
  {
   "cell_type": "code",
   "execution_count": 1,
   "id": "6082aa4f-d18f-42f3-bfb1-92b8c01fce18",
   "metadata": {},
   "outputs": [],
   "source": [
    "import numpy as np\n",
    "import pandas as pd\n",
    "import sklearn as ktl\n",
    "import pickle\n",
    "import matplotlib.pylab as plt\n",
    "import seaborn\n",
    "\n",
    "from sklearn.preprocessing import normalize\n",
    "from sklearn.preprocessing import StandardScaler\n",
    "\n",
    "from sklearn.model_selection import train_test_split\n",
    "from sklearn.metrics import mean_squared_error, r2_score, mean_absolute_error\n",
    "from sklearn.metrics import classification_report, confusion_matrix, accuracy_score\n",
    "\n",
    "from sklearn.model_selection import cross_val_score\n",
    "\n",
    "from sklearn.linear_model import LinearRegression\n",
    "from sklearn import linear_model\n",
    "from sklearn.ensemble import RandomForestRegressor\n",
    "\n",
    "from sklearn.ensemble import RandomForestClassifier\n",
    "from sklearn import svm\n",
    "from sklearn.naive_bayes import GaussianNB\n",
    "\n",
    "from sklearn.model_selection import RandomizedSearchCV\n",
    "\n",
    "import statsmodels.formula.api as smf\n",
    "\n",
    "from linearmodels.panel import PanelOLS\n"
   ]
  },
  {
   "cell_type": "markdown",
   "id": "24e2321a-8071-4c67-9560-98eff54e4770",
   "metadata": {},
   "source": [
    "# Data Manipulation "
   ]
  },
  {
   "cell_type": "code",
   "execution_count": 2,
   "id": "a1354cc2-220d-43ef-8b3d-a3187a39fb9d",
   "metadata": {},
   "outputs": [],
   "source": [
    "# Sustainable development atlas of Bolivia \n",
    "\n",
    "bol = pd.read_csv(\"/Users/hendrixperalta/Desktop/bolivia/data/sdg_atlas_bolivia/GeoDS4Bolivia.csv\")\n",
    "bol = bol.rename(columns={\"asdf_id\":\"id\"})\n",
    "#list(bol.columns)\n",
    "\n",
    "# Remote sensing data \n",
    "\n",
    "sat = pd.read_csv(\"data/satellite/satelite_data.csv\")\n",
    "#list(sat.columns)"
   ]
  },
  {
   "cell_type": "code",
   "execution_count": 3,
   "id": "b33163c5-7ad5-47bd-ae85-029bac666489",
   "metadata": {},
   "outputs": [],
   "source": [
    "# creating a dataframe with only the composite sdg indexes\n",
    "\n",
    "sdg_indexes = bol[[\"id\", 'mun_id' , 'index_sdg1','index_sdg2','index_sdg3','index_sdg4','index_sdg5','index_sdg6','index_sdg7', 'index_sdg8','index_sdg9','index_sdg10',\n",
    "               'index_sdg11','index_sdg13','index_sdg15','index_sdg16','index_sdg17', \"imds\",]]\n",
    "\n",
    "                  \n",
    "#sdg_indexes.isna().sum()\n",
    "\n",
    "# Export the index variables \n",
    "#sdg_indexes.to_csv(\"data/sdg_prediction/sdg_indexes.csv\")"
   ]
  },
  {
   "cell_type": "code",
   "execution_count": 4,
   "id": "14209dc3-6ab2-4db9-a031-53323d45dd66",
   "metadata": {},
   "outputs": [],
   "source": [
    "# Create a dataframe with only satellite data\n",
    "\n",
    "# Satellite data from the Bolivia dataset \n",
    "\n",
    "satellite_full = bol[[\"id\", 'mun_id' ,\n",
    "                'tr400_pop2012','tr400_pop2013','tr400_pop2014','tr400_pop2015','tr400_pop2016','tr400_pop2017','tr400_pop2018','tr400_pop2019','tr400_pop2020',\n",
    "                \n",
    "                \"ln_t400NTLpc2012\",'ln_t400NTLpc2013','ln_t400NTLpc2014','ln_t400NTLpc2015','ln_t400NTLpc2016','ln_t400NTLpc2017','ln_t400NTLpc2018','ln_t400NTLpc2019',\n",
    "                'ln_t400NTLpc2020',]]\n",
    "\n",
    "# Other satellite data\n",
    "sat_filtered = sat[[\"id\", \n",
    "                    'egdp2012','egdp2013','egdp2014','egdp2015','egdp2016','egdp2017','egdp2018','egdp2019',\n",
    "                   \n",
    "                    'agr_land2012','agr_land2013','agr_land2014','agr_land2015','agr_land2016','agr_land2017','agr_land2018','agr_land2019','agr_land2020',\n",
    "                   \n",
    "                    'urb_land2012','urb_land2013','urb_land2014','urb_land2015','urb_land2016','urb_land2017','urb_land2018','urb_land2019',\n",
    "                   \n",
    "                    'pm25_2012',\n",
    "                    \n",
    "                    'land_temp2012',]]\n",
    "\n",
    "# Merging the satellite dataframes \n",
    "satellite_full = satellite_full.merge(sat_filtered, on=\"id\", how=\"outer\")\n",
    "\n",
    "# Export satellite data\n",
    "#satellite_full.to_csv(\"data/sdg_prediction/satellite_full.csv\")\n",
    "\n",
    "#list(satellite_full.columns)"
   ]
  },
  {
   "cell_type": "code",
   "execution_count": 15,
   "id": "70cae1f1-dd27-4fa5-8fbd-3457c078f5ed",
   "metadata": {},
   "outputs": [],
   "source": [
    "# Creation of the satellite dataframe\n",
    "offset = 1000  \n",
    "\n",
    "sat_mod = pd.DataFrame()\n",
    "# ID \n",
    "sat_mod[\"id\"] = satellite_full[\"id\"]\n",
    "\n",
    "# Log EGDP per capita - sum EGDP\n",
    "satellite_full[\"EGDPpc2012\"] = (satellite_full[\"egdp2012\"]*1000000/ bol[\"tr400_pop2012\"])\n",
    "sat_mod[\"lnEGDPpc2012\"] = np.log(satellite_full[\"EGDPpc2012\"])\n",
    "\n",
    "# Land cover agriculture/urban\n",
    "sat_mod[\"lnagr_land2012\"] = np.log(satellite_full[\"agr_land2012\"] + offset)\n",
    "sat_mod[\"lnurb_land2012\"] = np.log(satellite_full[\"urb_land2012\"] + offset)\n",
    "\n",
    "# Urban landcover percentage\n",
    "satellite_full[\"total_land2012\"] = satellite_full[\"agr_land2012\"] + satellite_full[\"urb_land2012\"]\n",
    "satellite_full[\"perUrb_land2012\"] = satellite_full[\"urb_land2012\"] / satellite_full[\"total_land2012\"]\n",
    "sat_mod[\"ln_perUrb_land2012\"] = np.log(satellite_full[\"perUrb_land2012\"].fillna(0) + offset)\n",
    "\n",
    "# Population\n",
    "sat_mod[\"ln_tr400_pop2012\"] = np.log(satellite_full[\"tr400_pop2012\"])\n",
    "\n",
    "# PM2.5\n",
    "sat_mod[\"ln_pm25_2012\"] = np.log(satellite_full[\"pm25_2012\"])\n",
    "\n",
    "# Surface temperature\n",
    "sat_mod[\"ln_land_temp2012\"] = np.log(satellite_full[\"land_temp2012\"])\n",
    "\n",
    "# NTL\n",
    "\n",
    "sat_mod[\"ln_t400NTLpc2012\"] = satellite_full[[\"ln_t400NTLpc2012\"]]\n",
    "\n",
    "#sat_mod.to_csv(\"data/sdg_prediction/sat_mod.csv\")"
   ]
  },
  {
   "cell_type": "code",
   "execution_count": 16,
   "id": "4ab66013-a146-42bc-a39c-492da62418ac",
   "metadata": {},
   "outputs": [],
   "source": [
    "#Standarizing the labels\n",
    "\n",
    "sta_indicators = bol[['sdg1_4_abs', 'sdg1_1_dtl_abs', 'sdg1_1_pubn_abs', 'sdg1_2_dd_abs',\n",
    "               'sdg1_4_ebs_abs', 'sdg2_2_cm_abs', 'sdg2_2_wow_abs', 'sdg2_4_apu_abs',\n",
    "               'sdg2_4_tm_abs', 'sdg3_2_fb_abs', 'sdg3_2_ffb_abs', 'sdg3_3_cd_abs',\n",
    "               'sdg3_3_pd_abs', 'sdg3_3_mc_abs', 'sdg3_3_tc_abs', 'sdg3_3_vih_abs',\n",
    "               'sdg3_7_bpw_abs', 'sdg4_1_mhs_abs', 'sdg4_1_fhs_abs', 'sdg4_4_heu_abs',\n",
    "               'sdg4_6_pnl_abs', 'sdg4_c_uti_abs', 'sdg4_c_uts_abs', 'sdg6_1_wdc_abs',\n",
    "               'sdg6_2_bsc_abs', 'sdg7_1_wec_abs', 'sdg7_1_rec_abs', 'sdg7_1_cec_abs',\n",
    "               'sdg7_3_tee_abs', 'sdg8_4_rem_abs', 'sdg8_5_ompr_abs',\n",
    "               'sdg8_5_ofpr_abs', 'sdg8_6_mlm_abs', 'sdg8_6_wlm_abs',\n",
    "               'sdg8_10_dbb_abs', 'sdg9_1_rmun_abs', 'sdg9_5_kcd_abs',\n",
    "               'sdg9_5_eutf_abs', 'sdg9_c_hf_abs', 'sdg9_c_tr_abs', 'sdg10_2_dss_abs',\n",
    "               'sdg11_1_ho_abs', 'sdg11_1_wos_abs', 'sdg11_2_mtv_abs',\n",
    "               'sdg13_2_tco2_abs', 'sdg13_2_ad_abs', 'sdg15_1_pa_abs',\n",
    "               'sdg15_5_rl_abs', 'sdg16_1_rh_abs', 'sdg16_6_aob_abs',\n",
    "               'sdg16_9_ncr_abs', 'sdg17_5_tpi_abs', 'sdg1_4_abs_norm',\n",
    "               'index_sdg1','index_sdg2','index_sdg3','index_sdg4','index_sdg5','index_sdg6','index_sdg7',\n",
    "               'index_sdg8','index_sdg9','index_sdg10','index_sdg11','index_sdg13','index_sdg15',\n",
    "               'index_sdg16','index_sdg17']]\n",
    "\n",
    "# Standarizing the labels \n",
    "\n",
    "sta_indicators = (sta_indicators - sta_indicators.mean())/sta_indicators.std()\n",
    "#norm_df = (norm_df - norm_df.min()) / (norm_df.max()-norm_df.min())\n",
    "sta_indicators = sta_indicators.reset_index()\n",
    "sta_indicators = sta_indicators.rename(columns = {\"index\":\"id\"})\n",
    "\n",
    "# Export the standarized sdg indicators \n",
    "#sta_indicators.to_csv(\"data/sdg_prediction/sta_indicators.csv\")"
   ]
  },
  {
   "cell_type": "markdown",
   "id": "c38e72b6-61e6-42e5-bd7d-32220a569e1e",
   "metadata": {},
   "source": [
    "## Descriptive statistics"
   ]
  },
  {
   "cell_type": "code",
   "execution_count": 17,
   "id": "0cee0973-6fb7-4e50-a6f4-c3ca30054f0e",
   "metadata": {},
   "outputs": [
    {
     "data": {
      "text/html": [
       "<div>\n",
       "<style scoped>\n",
       "    .dataframe tbody tr th:only-of-type {\n",
       "        vertical-align: middle;\n",
       "    }\n",
       "\n",
       "    .dataframe tbody tr th {\n",
       "        vertical-align: top;\n",
       "    }\n",
       "\n",
       "    .dataframe thead th {\n",
       "        text-align: right;\n",
       "    }\n",
       "</style>\n",
       "<table border=\"1\" class=\"dataframe\">\n",
       "  <thead>\n",
       "    <tr style=\"text-align: right;\">\n",
       "      <th></th>\n",
       "      <th>count</th>\n",
       "      <th>mean</th>\n",
       "      <th>std</th>\n",
       "      <th>min</th>\n",
       "      <th>25%</th>\n",
       "      <th>50%</th>\n",
       "      <th>75%</th>\n",
       "      <th>max</th>\n",
       "    </tr>\n",
       "  </thead>\n",
       "  <tbody>\n",
       "    <tr>\n",
       "      <th>lnEGDPpc2012</th>\n",
       "      <td>339.0</td>\n",
       "      <td>8.40</td>\n",
       "      <td>1.24</td>\n",
       "      <td>4.71</td>\n",
       "      <td>7.53</td>\n",
       "      <td>8.24</td>\n",
       "      <td>9.16</td>\n",
       "      <td>11.69</td>\n",
       "    </tr>\n",
       "    <tr>\n",
       "      <th>lnagr_land2012</th>\n",
       "      <td>339.0</td>\n",
       "      <td>6.97</td>\n",
       "      <td>0.18</td>\n",
       "      <td>6.91</td>\n",
       "      <td>6.91</td>\n",
       "      <td>6.91</td>\n",
       "      <td>6.94</td>\n",
       "      <td>8.37</td>\n",
       "    </tr>\n",
       "    <tr>\n",
       "      <th>lnurb_land2012</th>\n",
       "      <td>339.0</td>\n",
       "      <td>7.00</td>\n",
       "      <td>0.39</td>\n",
       "      <td>6.91</td>\n",
       "      <td>6.91</td>\n",
       "      <td>6.91</td>\n",
       "      <td>6.93</td>\n",
       "      <td>10.27</td>\n",
       "    </tr>\n",
       "    <tr>\n",
       "      <th>ln_perUrb_land2012</th>\n",
       "      <td>339.0</td>\n",
       "      <td>6.91</td>\n",
       "      <td>0.00</td>\n",
       "      <td>6.91</td>\n",
       "      <td>6.91</td>\n",
       "      <td>6.91</td>\n",
       "      <td>6.91</td>\n",
       "      <td>6.91</td>\n",
       "    </tr>\n",
       "    <tr>\n",
       "      <th>ln_tr400_pop2012</th>\n",
       "      <td>339.0</td>\n",
       "      <td>9.34</td>\n",
       "      <td>1.15</td>\n",
       "      <td>6.25</td>\n",
       "      <td>8.69</td>\n",
       "      <td>9.29</td>\n",
       "      <td>9.90</td>\n",
       "      <td>14.17</td>\n",
       "    </tr>\n",
       "    <tr>\n",
       "      <th>...</th>\n",
       "      <td>...</td>\n",
       "      <td>...</td>\n",
       "      <td>...</td>\n",
       "      <td>...</td>\n",
       "      <td>...</td>\n",
       "      <td>...</td>\n",
       "      <td>...</td>\n",
       "      <td>...</td>\n",
       "    </tr>\n",
       "    <tr>\n",
       "      <th>index_sdg11</th>\n",
       "      <td>339.0</td>\n",
       "      <td>-0.00</td>\n",
       "      <td>1.00</td>\n",
       "      <td>-2.75</td>\n",
       "      <td>-0.62</td>\n",
       "      <td>-0.07</td>\n",
       "      <td>0.47</td>\n",
       "      <td>4.57</td>\n",
       "    </tr>\n",
       "    <tr>\n",
       "      <th>index_sdg13</th>\n",
       "      <td>339.0</td>\n",
       "      <td>0.00</td>\n",
       "      <td>1.00</td>\n",
       "      <td>-3.89</td>\n",
       "      <td>-0.47</td>\n",
       "      <td>0.34</td>\n",
       "      <td>0.63</td>\n",
       "      <td>1.78</td>\n",
       "    </tr>\n",
       "    <tr>\n",
       "      <th>index_sdg15</th>\n",
       "      <td>339.0</td>\n",
       "      <td>0.00</td>\n",
       "      <td>1.00</td>\n",
       "      <td>-2.86</td>\n",
       "      <td>-0.22</td>\n",
       "      <td>-0.21</td>\n",
       "      <td>-0.02</td>\n",
       "      <td>2.45</td>\n",
       "    </tr>\n",
       "    <tr>\n",
       "      <th>index_sdg16</th>\n",
       "      <td>339.0</td>\n",
       "      <td>0.00</td>\n",
       "      <td>1.00</td>\n",
       "      <td>-4.25</td>\n",
       "      <td>-0.49</td>\n",
       "      <td>0.19</td>\n",
       "      <td>0.68</td>\n",
       "      <td>2.05</td>\n",
       "    </tr>\n",
       "    <tr>\n",
       "      <th>index_sdg17</th>\n",
       "      <td>339.0</td>\n",
       "      <td>-0.00</td>\n",
       "      <td>1.00</td>\n",
       "      <td>-1.21</td>\n",
       "      <td>-0.72</td>\n",
       "      <td>-0.27</td>\n",
       "      <td>0.37</td>\n",
       "      <td>4.41</td>\n",
       "    </tr>\n",
       "  </tbody>\n",
       "</table>\n",
       "<p>76 rows × 8 columns</p>\n",
       "</div>"
      ],
      "text/plain": [
       "                    count  mean   std   min   25%   50%   75%    max\n",
       "lnEGDPpc2012        339.0  8.40  1.24  4.71  7.53  8.24  9.16  11.69\n",
       "lnagr_land2012      339.0  6.97  0.18  6.91  6.91  6.91  6.94   8.37\n",
       "lnurb_land2012      339.0  7.00  0.39  6.91  6.91  6.91  6.93  10.27\n",
       "ln_perUrb_land2012  339.0  6.91  0.00  6.91  6.91  6.91  6.91   6.91\n",
       "ln_tr400_pop2012    339.0  9.34  1.15  6.25  8.69  9.29  9.90  14.17\n",
       "...                   ...   ...   ...   ...   ...   ...   ...    ...\n",
       "index_sdg11         339.0 -0.00  1.00 -2.75 -0.62 -0.07  0.47   4.57\n",
       "index_sdg13         339.0  0.00  1.00 -3.89 -0.47  0.34  0.63   1.78\n",
       "index_sdg15         339.0  0.00  1.00 -2.86 -0.22 -0.21 -0.02   2.45\n",
       "index_sdg16         339.0  0.00  1.00 -4.25 -0.49  0.19  0.68   2.05\n",
       "index_sdg17         339.0 -0.00  1.00 -1.21 -0.72 -0.27  0.37   4.41\n",
       "\n",
       "[76 rows x 8 columns]"
      ]
     },
     "execution_count": 17,
     "metadata": {},
     "output_type": "execute_result"
    }
   ],
   "source": [
    "# Merging the labels and features datasets \n",
    "\n",
    "desc_df = sat_mod.merge(sta_indicators, on=\"id\", how=\"outer\")\n",
    "desc_df = desc_df = desc_df.drop(\"id\", axis=1)\n",
    "desc_table = desc_df.describe().round(2)\n",
    "desc_table = desc_table.transpose()\n",
    "desc_table\n",
    "#desc_table.to_csv(\"description_statistics.csv\")"
   ]
  },
  {
   "cell_type": "markdown",
   "id": "fcc12955-1001-41b3-ab95-72cbe46cc29b",
   "metadata": {},
   "source": [
    "# **Data exploration**"
   ]
  },
  {
   "cell_type": "code",
   "execution_count": 18,
   "id": "7ce64087-6126-4d5a-aa1e-fd5cda05150b",
   "metadata": {},
   "outputs": [
    {
     "data": {
      "text/html": [
       "<div>\n",
       "<style scoped>\n",
       "    .dataframe tbody tr th:only-of-type {\n",
       "        vertical-align: middle;\n",
       "    }\n",
       "\n",
       "    .dataframe tbody tr th {\n",
       "        vertical-align: top;\n",
       "    }\n",
       "\n",
       "    .dataframe thead th {\n",
       "        text-align: right;\n",
       "    }\n",
       "</style>\n",
       "<table border=\"1\" class=\"dataframe\">\n",
       "  <thead>\n",
       "    <tr style=\"text-align: right;\">\n",
       "      <th></th>\n",
       "      <th>id</th>\n",
       "      <th>lnEGDPpc2012</th>\n",
       "      <th>lnagr_land2012</th>\n",
       "      <th>lnurb_land2012</th>\n",
       "      <th>ln_perUrb_land2012</th>\n",
       "      <th>ln_tr400_pop2012</th>\n",
       "      <th>ln_pm25_2012</th>\n",
       "      <th>ln_land_temp2012</th>\n",
       "      <th>ln_t400NTLpc2012</th>\n",
       "    </tr>\n",
       "  </thead>\n",
       "  <tbody>\n",
       "    <tr>\n",
       "      <th>count</th>\n",
       "      <td>339.00</td>\n",
       "      <td>339.00</td>\n",
       "      <td>339.00</td>\n",
       "      <td>339.00</td>\n",
       "      <td>339.00</td>\n",
       "      <td>339.00</td>\n",
       "      <td>339.00</td>\n",
       "      <td>339.00</td>\n",
       "      <td>339.00</td>\n",
       "    </tr>\n",
       "    <tr>\n",
       "      <th>mean</th>\n",
       "      <td>169.00</td>\n",
       "      <td>8.40</td>\n",
       "      <td>6.97</td>\n",
       "      <td>7.00</td>\n",
       "      <td>6.91</td>\n",
       "      <td>9.34</td>\n",
       "      <td>3.12</td>\n",
       "      <td>5.70</td>\n",
       "      <td>13.03</td>\n",
       "    </tr>\n",
       "    <tr>\n",
       "      <th>std</th>\n",
       "      <td>98.01</td>\n",
       "      <td>1.24</td>\n",
       "      <td>0.18</td>\n",
       "      <td>0.39</td>\n",
       "      <td>0.00</td>\n",
       "      <td>1.15</td>\n",
       "      <td>0.29</td>\n",
       "      <td>0.01</td>\n",
       "      <td>1.67</td>\n",
       "    </tr>\n",
       "    <tr>\n",
       "      <th>min</th>\n",
       "      <td>0.00</td>\n",
       "      <td>4.71</td>\n",
       "      <td>6.91</td>\n",
       "      <td>6.91</td>\n",
       "      <td>6.91</td>\n",
       "      <td>6.25</td>\n",
       "      <td>2.11</td>\n",
       "      <td>5.66</td>\n",
       "      <td>0.86</td>\n",
       "    </tr>\n",
       "    <tr>\n",
       "      <th>25%</th>\n",
       "      <td>84.50</td>\n",
       "      <td>7.53</td>\n",
       "      <td>6.91</td>\n",
       "      <td>6.91</td>\n",
       "      <td>6.91</td>\n",
       "      <td>8.69</td>\n",
       "      <td>2.89</td>\n",
       "      <td>5.69</td>\n",
       "      <td>12.05</td>\n",
       "    </tr>\n",
       "    <tr>\n",
       "      <th>50%</th>\n",
       "      <td>169.00</td>\n",
       "      <td>8.24</td>\n",
       "      <td>6.91</td>\n",
       "      <td>6.91</td>\n",
       "      <td>6.91</td>\n",
       "      <td>9.29</td>\n",
       "      <td>3.09</td>\n",
       "      <td>5.70</td>\n",
       "      <td>13.12</td>\n",
       "    </tr>\n",
       "    <tr>\n",
       "      <th>75%</th>\n",
       "      <td>253.50</td>\n",
       "      <td>9.16</td>\n",
       "      <td>6.94</td>\n",
       "      <td>6.93</td>\n",
       "      <td>6.91</td>\n",
       "      <td>9.90</td>\n",
       "      <td>3.36</td>\n",
       "      <td>5.71</td>\n",
       "      <td>14.27</td>\n",
       "    </tr>\n",
       "    <tr>\n",
       "      <th>max</th>\n",
       "      <td>338.00</td>\n",
       "      <td>11.69</td>\n",
       "      <td>8.37</td>\n",
       "      <td>10.27</td>\n",
       "      <td>6.91</td>\n",
       "      <td>14.17</td>\n",
       "      <td>3.65</td>\n",
       "      <td>5.72</td>\n",
       "      <td>17.07</td>\n",
       "    </tr>\n",
       "  </tbody>\n",
       "</table>\n",
       "</div>"
      ],
      "text/plain": [
       "           id  lnEGDPpc2012  lnagr_land2012  lnurb_land2012  \\\n",
       "count  339.00        339.00          339.00          339.00   \n",
       "mean   169.00          8.40            6.97            7.00   \n",
       "std     98.01          1.24            0.18            0.39   \n",
       "min      0.00          4.71            6.91            6.91   \n",
       "25%     84.50          7.53            6.91            6.91   \n",
       "50%    169.00          8.24            6.91            6.91   \n",
       "75%    253.50          9.16            6.94            6.93   \n",
       "max    338.00         11.69            8.37           10.27   \n",
       "\n",
       "       ln_perUrb_land2012  ln_tr400_pop2012  ln_pm25_2012  ln_land_temp2012  \\\n",
       "count              339.00            339.00        339.00            339.00   \n",
       "mean                 6.91              9.34          3.12              5.70   \n",
       "std                  0.00              1.15          0.29              0.01   \n",
       "min                  6.91              6.25          2.11              5.66   \n",
       "25%                  6.91              8.69          2.89              5.69   \n",
       "50%                  6.91              9.29          3.09              5.70   \n",
       "75%                  6.91              9.90          3.36              5.71   \n",
       "max                  6.91             14.17          3.65              5.72   \n",
       "\n",
       "       ln_t400NTLpc2012  \n",
       "count            339.00  \n",
       "mean              13.03  \n",
       "std                1.67  \n",
       "min                0.86  \n",
       "25%               12.05  \n",
       "50%               13.12  \n",
       "75%               14.27  \n",
       "max               17.07  "
      ]
     },
     "execution_count": 18,
     "metadata": {},
     "output_type": "execute_result"
    }
   ],
   "source": [
    "sat_mod.describe().round(2)"
   ]
  },
  {
   "cell_type": "code",
   "execution_count": 19,
   "id": "dda26273-249e-4a16-aa45-b496a49ab5c8",
   "metadata": {},
   "outputs": [
    {
     "data": {
      "text/html": [
       "<div>\n",
       "<style scoped>\n",
       "    .dataframe tbody tr th:only-of-type {\n",
       "        vertical-align: middle;\n",
       "    }\n",
       "\n",
       "    .dataframe tbody tr th {\n",
       "        vertical-align: top;\n",
       "    }\n",
       "\n",
       "    .dataframe thead th {\n",
       "        text-align: right;\n",
       "    }\n",
       "</style>\n",
       "<table border=\"1\" class=\"dataframe\">\n",
       "  <thead>\n",
       "    <tr style=\"text-align: right;\">\n",
       "      <th></th>\n",
       "      <th>id</th>\n",
       "      <th>lnEGDPpc2012</th>\n",
       "      <th>lnagr_land2012</th>\n",
       "      <th>lnurb_land2012</th>\n",
       "      <th>ln_perUrb_land2012</th>\n",
       "      <th>ln_tr400_pop2012</th>\n",
       "      <th>ln_pm25_2012</th>\n",
       "      <th>ln_land_temp2012</th>\n",
       "      <th>ln_t400NTLpc2012</th>\n",
       "    </tr>\n",
       "  </thead>\n",
       "  <tbody>\n",
       "    <tr>\n",
       "      <th>0</th>\n",
       "      <td>0</td>\n",
       "      <td>8.778138</td>\n",
       "      <td>6.907755</td>\n",
       "      <td>6.907755</td>\n",
       "      <td>6.907755</td>\n",
       "      <td>7.844864</td>\n",
       "      <td>2.638050</td>\n",
       "      <td>5.708126</td>\n",
       "      <td>11.414175</td>\n",
       "    </tr>\n",
       "    <tr>\n",
       "      <th>1</th>\n",
       "      <td>1</td>\n",
       "      <td>8.785445</td>\n",
       "      <td>6.907755</td>\n",
       "      <td>6.907755</td>\n",
       "      <td>6.907755</td>\n",
       "      <td>8.317810</td>\n",
       "      <td>2.862391</td>\n",
       "      <td>5.699496</td>\n",
       "      <td>12.862933</td>\n",
       "    </tr>\n",
       "    <tr>\n",
       "      <th>2</th>\n",
       "      <td>2</td>\n",
       "      <td>9.205926</td>\n",
       "      <td>6.907755</td>\n",
       "      <td>6.907755</td>\n",
       "      <td>6.907755</td>\n",
       "      <td>7.985663</td>\n",
       "      <td>2.725861</td>\n",
       "      <td>5.703597</td>\n",
       "      <td>12.547255</td>\n",
       "    </tr>\n",
       "    <tr>\n",
       "      <th>3</th>\n",
       "      <td>3</td>\n",
       "      <td>7.469730</td>\n",
       "      <td>6.956808</td>\n",
       "      <td>7.086000</td>\n",
       "      <td>6.908550</td>\n",
       "      <td>10.633700</td>\n",
       "      <td>3.088530</td>\n",
       "      <td>5.695546</td>\n",
       "      <td>14.310976</td>\n",
       "    </tr>\n",
       "    <tr>\n",
       "      <th>4</th>\n",
       "      <td>4</td>\n",
       "      <td>7.399987</td>\n",
       "      <td>6.907755</td>\n",
       "      <td>6.907755</td>\n",
       "      <td>6.907755</td>\n",
       "      <td>9.122021</td>\n",
       "      <td>3.113783</td>\n",
       "      <td>5.691382</td>\n",
       "      <td>11.612880</td>\n",
       "    </tr>\n",
       "    <tr>\n",
       "      <th>...</th>\n",
       "      <td>...</td>\n",
       "      <td>...</td>\n",
       "      <td>...</td>\n",
       "      <td>...</td>\n",
       "      <td>...</td>\n",
       "      <td>...</td>\n",
       "      <td>...</td>\n",
       "      <td>...</td>\n",
       "      <td>...</td>\n",
       "    </tr>\n",
       "    <tr>\n",
       "      <th>334</th>\n",
       "      <td>334</td>\n",
       "      <td>9.215343</td>\n",
       "      <td>6.907755</td>\n",
       "      <td>6.909009</td>\n",
       "      <td>6.908755</td>\n",
       "      <td>8.825623</td>\n",
       "      <td>2.955532</td>\n",
       "      <td>5.706426</td>\n",
       "      <td>11.950671</td>\n",
       "    </tr>\n",
       "    <tr>\n",
       "      <th>335</th>\n",
       "      <td>335</td>\n",
       "      <td>8.702200</td>\n",
       "      <td>6.915808</td>\n",
       "      <td>6.907755</td>\n",
       "      <td>6.907755</td>\n",
       "      <td>10.339062</td>\n",
       "      <td>2.713497</td>\n",
       "      <td>5.700500</td>\n",
       "      <td>12.346036</td>\n",
       "    </tr>\n",
       "    <tr>\n",
       "      <th>336</th>\n",
       "      <td>336</td>\n",
       "      <td>8.251013</td>\n",
       "      <td>6.936421</td>\n",
       "      <td>6.907755</td>\n",
       "      <td>6.907755</td>\n",
       "      <td>9.698804</td>\n",
       "      <td>2.773218</td>\n",
       "      <td>5.698469</td>\n",
       "      <td>13.437716</td>\n",
       "    </tr>\n",
       "    <tr>\n",
       "      <th>337</th>\n",
       "      <td>337</td>\n",
       "      <td>8.128326</td>\n",
       "      <td>6.907755</td>\n",
       "      <td>7.185977</td>\n",
       "      <td>6.908755</td>\n",
       "      <td>10.743873</td>\n",
       "      <td>2.763397</td>\n",
       "      <td>5.702828</td>\n",
       "      <td>13.671997</td>\n",
       "    </tr>\n",
       "    <tr>\n",
       "      <th>338</th>\n",
       "      <td>338</td>\n",
       "      <td>8.865897</td>\n",
       "      <td>6.953706</td>\n",
       "      <td>6.923631</td>\n",
       "      <td>6.908009</td>\n",
       "      <td>9.843799</td>\n",
       "      <td>2.879966</td>\n",
       "      <td>5.690117</td>\n",
       "      <td>14.111750</td>\n",
       "    </tr>\n",
       "  </tbody>\n",
       "</table>\n",
       "<p>339 rows × 9 columns</p>\n",
       "</div>"
      ],
      "text/plain": [
       "      id  lnEGDPpc2012  lnagr_land2012  lnurb_land2012  ln_perUrb_land2012  \\\n",
       "0      0      8.778138        6.907755        6.907755            6.907755   \n",
       "1      1      8.785445        6.907755        6.907755            6.907755   \n",
       "2      2      9.205926        6.907755        6.907755            6.907755   \n",
       "3      3      7.469730        6.956808        7.086000            6.908550   \n",
       "4      4      7.399987        6.907755        6.907755            6.907755   \n",
       "..   ...           ...             ...             ...                 ...   \n",
       "334  334      9.215343        6.907755        6.909009            6.908755   \n",
       "335  335      8.702200        6.915808        6.907755            6.907755   \n",
       "336  336      8.251013        6.936421        6.907755            6.907755   \n",
       "337  337      8.128326        6.907755        7.185977            6.908755   \n",
       "338  338      8.865897        6.953706        6.923631            6.908009   \n",
       "\n",
       "     ln_tr400_pop2012  ln_pm25_2012  ln_land_temp2012  ln_t400NTLpc2012  \n",
       "0            7.844864      2.638050          5.708126         11.414175  \n",
       "1            8.317810      2.862391          5.699496         12.862933  \n",
       "2            7.985663      2.725861          5.703597         12.547255  \n",
       "3           10.633700      3.088530          5.695546         14.310976  \n",
       "4            9.122021      3.113783          5.691382         11.612880  \n",
       "..                ...           ...               ...               ...  \n",
       "334          8.825623      2.955532          5.706426         11.950671  \n",
       "335         10.339062      2.713497          5.700500         12.346036  \n",
       "336          9.698804      2.773218          5.698469         13.437716  \n",
       "337         10.743873      2.763397          5.702828         13.671997  \n",
       "338          9.843799      2.879966          5.690117         14.111750  \n",
       "\n",
       "[339 rows x 9 columns]"
      ]
     },
     "execution_count": 19,
     "metadata": {},
     "output_type": "execute_result"
    }
   ],
   "source": [
    "sat_mod"
   ]
  },
  {
   "cell_type": "code",
   "execution_count": 20,
   "id": "82ab9296-864f-4783-b560-821caa030c1d",
   "metadata": {},
   "outputs": [
    {
     "name": "stdout",
     "output_type": "stream",
     "text": [
      "                            OLS Regression Results                            \n",
      "==============================================================================\n",
      "Dep. Variable:                   imds   R-squared:                       0.388\n",
      "Model:                            OLS   Adj. R-squared:                  0.381\n",
      "Method:                 Least Squares   F-statistic:                     52.92\n",
      "Date:                Wed, 26 Jun 2024   Prob (F-statistic):           1.65e-34\n",
      "Time:                        00:22:40   Log-Likelihood:                -1045.7\n",
      "No. Observations:                 339   AIC:                             2101.\n",
      "Df Residuals:                     334   BIC:                             2121.\n",
      "Df Model:                           4                                         \n",
      "Covariance Type:            nonrobust                                         \n",
      "====================================================================================\n",
      "                       coef    std err          t      P>|t|      [0.025      0.975]\n",
      "------------------------------------------------------------------------------------\n",
      "Intercept           11.8725      4.370      2.717      0.007       3.276      20.469\n",
      "ln_t400NTLpc2012     1.8487      0.185     10.008      0.000       1.485       2.212\n",
      "ln_tr400_pop2012     1.7580      0.292      6.016      0.000       1.183       2.333\n",
      "lnEGDPpc2012        -0.0978      0.243     -0.403      0.687      -0.576       0.380\n",
      "ln_pm25_2012        -0.1627      1.074     -0.151      0.880      -2.275       1.950\n",
      "==============================================================================\n",
      "Omnibus:                        0.483   Durbin-Watson:                   1.649\n",
      "Prob(Omnibus):                  0.786   Jarque-Bera (JB):                0.343\n",
      "Skew:                           0.071   Prob(JB):                        0.843\n",
      "Kurtosis:                       3.065   Cond. No.                         281.\n",
      "==============================================================================\n",
      "\n",
      "Notes:\n",
      "[1] Standard Errors assume that the covariance matrix of the errors is correctly specified.\n"
     ]
    }
   ],
   "source": [
    "reg_data = sat_mod.merge(sdg_indexes[[\"id\",\"imds\"]], on=\"id\", how=\"outer\")\n",
    "\n",
    "mod = smf.ols(\"imds ~  ln_t400NTLpc2012 + ln_tr400_pop2012 + lnEGDPpc2012 + ln_pm25_2012 \", \n",
    "              data=reg_data)\n",
    "res = mod.fit()\n",
    "print(res.summary())"
   ]
  },
  {
   "cell_type": "code",
   "execution_count": 21,
   "id": "01b4bb9e-3bc3-496b-95cc-33e12c59d123",
   "metadata": {},
   "outputs": [
    {
     "data": {
      "text/plain": [
       "Index([], dtype='object')"
      ]
     },
     "execution_count": 21,
     "metadata": {},
     "output_type": "execute_result"
    }
   ],
   "source": [
    "missing_labels = sdg_indexes.columns[sdg_indexes.isna().any()]\n",
    "missing_labels"
   ]
  },
  {
   "cell_type": "code",
   "execution_count": null,
   "id": "c8b18222-4afc-4ac4-b10c-a9184b8faac4",
   "metadata": {},
   "outputs": [],
   "source": [
    "#plt.style.available"
   ]
  },
  {
   "cell_type": "code",
   "execution_count": 23,
   "id": "96f7af06-9023-49ec-a31d-48975457411e",
   "metadata": {},
   "outputs": [
    {
     "data": {
      "text/plain": [
       "[Text(0.5, 1.0, 'PM25')]"
      ]
     },
     "execution_count": 23,
     "metadata": {},
     "output_type": "execute_result"
    },
    {
     "data": {
      "image/png": "[encoded data removed]",
      "text/plain": [
       "<Figure size 1500x600 with 6 Axes>"
      ]
     },
     "metadata": {},
     "output_type": "display_data"
    }
   ],
   "source": [
    "plt.style.use(\"tableau-colorblind10\")\n",
    "\n",
    "fig, ((ax0, ax1, ax2),(ax3, ax4, ax5)) = plt.subplots(nrows=2,\n",
    "                                                     ncols=3,\n",
    "                                                     figsize=(15,6)\n",
    "                                                     )\n",
    "#ax0.hist(df[\"perUrb_land\"])\n",
    "#ax0.set(title=\"Percentage of Urban Land\")\n",
    "\n",
    "ax1.hist(reg_data[\"lnEGDPpc2012\"])\n",
    "ax1.set(title=\"ln EGDPpc\")\n",
    "\n",
    "ax2.hist(reg_data[\"ln_t400NTLpc2012\"])\n",
    "ax2.set(title=\"ln NTL\")\n",
    "\n",
    "ax3.hist(reg_data[\"ln_tr400_pop2012\"])\n",
    "ax3.set(title= \"Population\")\n",
    "\n",
    "ax4.hist(reg_data[\"ln_pm25_2012\"])\n",
    "ax4.set(title= \"PM25\")\n",
    "\n",
    "#ax5.hist(df[\"land_temp2012\"])\n",
    "#ax5.set(title= \"Land Surface Temperature\");\n"
   ]
  },
  {
   "cell_type": "code",
   "execution_count": 26,
   "id": "524827e1-6a9b-4577-97f7-f4d3f005a364",
   "metadata": {},
   "outputs": [
    {
     "data": {
      "image/png": "[encoded data removed]",
      "text/plain": [
       "<Figure size 1500x600 with 4 Axes>"
      ]
     },
     "metadata": {},
     "output_type": "display_data"
    }
   ],
   "source": [
    "plt.style.use(\"tableau-colorblind10\")\n",
    "\n",
    "fig, (ax0, ax1, ax2, ax4) = plt.subplots(nrows=1,\n",
    "                                 ncols=4,\n",
    "                                 figsize=(15,6)\n",
    "                                 )\n",
    "ax0.hist(sat[\"egdp2012\"])\n",
    "ax0.set(title=\"egdp\")\n",
    "\n",
    "ax1.hist(satellite_full[\"EGDPpc2012\"])\n",
    "ax1.set(title= \"egdppc\")\n",
    "\n",
    "ax2.hist(sat_mod[\"lnEGDPpc2012\"])\n",
    "ax2.set(title=\"ln EGDPpc\")\n",
    "\n",
    "ax4.boxplot(sat_mod[\"lnEGDPpc2012\"]);\n"
   ]
  },
  {
   "cell_type": "code",
   "execution_count": null,
   "id": "2fa0bb68-6f5c-41b1-b45c-4131abf09ae8",
   "metadata": {},
   "outputs": [],
   "source": [
    "plt.style.available"
   ]
  },
  {
   "cell_type": "code",
   "execution_count": null,
   "id": "ce2fd351-3de1-41a4-89d2-7f9339b00229",
   "metadata": {},
   "outputs": [],
   "source": [
    "plt.style.use(\"seaborn-v0_8\")\n",
    "\n",
    "fig, (ax0, ax1, ax2) = plt.subplots(nrows=1,\n",
    "                                    ncols=3,\n",
    "                                    figsize=(15,7))\n",
    "#----- ax0\n",
    "ax0.scatter(x=short_df['lnEGDPpc2012'], y=short_df[\"ln_t400NTLpc2012\"])\n",
    "ax0.set(xlabel=\"lnEGDPpc2012\", ylabel=\"ln_t400NTLpc2012\")\n",
    "\n",
    "# add trendline\n",
    "z = np.polyfit(short_df[\"lnEGDPpc2012\"], short_df['ln_t400NTLpc2012'], 1)\n",
    "p = np.poly1d(z)\n",
    "ax0.plot(short_df[\"lnEGDPpc2012\"],p(short_df[\"lnEGDPpc2012\"]),\"r-\")\n",
    "\n",
    "#----- ax1\n",
    "ax1.scatter(x=short_df[\"lnEGDPpc2012\"], y=short_df['ln_tr400_pop2012'])\n",
    "ax1.set(xlabel=\"lnEGDPpc2012\", ylabel=\"ln_tr400_pop2012\")\n",
    "\n",
    "# add trendline\n",
    "z = np.polyfit(short_df[\"lnEGDPpc2012\"], short_df['ln_tr400_pop2012'], 1)\n",
    "p = np.poly1d(z)\n",
    "ax1.plot(short_df[\"lnEGDPpc2012\"],p(short_df[\"lnEGDPpc2012\"]),\"r-\")\n",
    "\n",
    "#----- ax2\n",
    "ax2.scatter(x=short_df[\"lnEGDPpc2012\"], y=short_df['ln_perUrb_land'])\n",
    "ax2.set(xlabel=\"lnEGDPpc2012\", ylabel=\"ln_perUrb_land\")\n",
    "\n",
    "# add trendline\n",
    "z = np.polyfit(short_df[\"lnEGDPpc2012\"], short_df['ln_perUrb_land'], 1)\n",
    "p = np.poly1d(z)\n",
    "ax2.plot(short_df[\"lnEGDPpc2012\"],p(short_df[\"lnEGDPpc2012\"]),\"r-\")\n",
    "\n"
   ]
  },
  {
   "cell_type": "code",
   "execution_count": null,
   "id": "8dc6711f-c797-421c-98d1-d63b59943baf",
   "metadata": {},
   "outputs": [],
   "source": [
    "egdp_ntl = short_df[\"lnEGDPpc2012\"].corr(short_df['ln_t400NTLpc2012'])\n",
    "egdp_pop = short_df[\"lnEGDPpc2012\"].corr(short_df['ln_tr400_pop2012'])\n",
    "egdp_urb = short_df[\"lnEGDPpc2012\"].corr(short_df['ln_perUrb_land'])\n",
    "\n",
    "print(f\"Correlation of egdp and ntl: {egdp_ntl}\")\n",
    "print(f\"Correlation of egdp and pop: {egdp_pop}\")\n",
    "print(f\"Correlation of egdp and Urban land %: {egdp_urb}\")"
   ]
  },
  {
   "cell_type": "code",
   "execution_count": null,
   "id": "9d383825-9c82-40b4-87b7-95eb7e2d9ef6",
   "metadata": {},
   "outputs": [],
   "source": [
    "\n",
    "fig, (ax1, ax2) = plt.subplots(nrows=1,\n",
    "                                    ncols=2,\n",
    "                                    figsize=(15,7))\n",
    "\n",
    "#----- ax1\n",
    "ax1.scatter(x=short_df[\"ln_t400NTLpc2012\"], y=short_df['imds'])\n",
    "ax1.set(xlabel=\"ln_t400NTLpc2012\", ylabel=\"imds\")\n",
    "\n",
    "# add trendline\n",
    "z = np.polyfit(short_df[\"ln_t400NTLpc2012\"], short_df['imds'], 1)\n",
    "p = np.poly1d(z)\n",
    "ax1.plot(short_df[\"ln_t400NTLpc2012\"],p(short_df[\"ln_t400NTLpc2012\"]), \"r-\")\n",
    "\n",
    "#----- ax2\n",
    "ax2.scatter(x=short_df[\"lnEGDPpc2012\"], y=short_df['imds'])\n",
    "ax2.set(xlabel=\"lnEGDPpc2012\", ylabel=\"imds\");\n",
    "\n",
    "# add trendline\n",
    "z = np.polyfit(short_df[\"lnEGDPpc2012\"], short_df['imds'], 1)\n",
    "p = np.poly1d(z)\n",
    "ax2.plot(short_df[\"lnEGDPpc2012\"], p(short_df[\"lnEGDPpc2012\"]), \"r-\")"
   ]
  },
  {
   "cell_type": "code",
   "execution_count": null,
   "id": "fc9651c2-edfa-4f8c-a6dd-298b4757511c",
   "metadata": {},
   "outputs": [],
   "source": [
    "ntl_imds = short_df[\"ln_t400NTLpc2012\"].corr(short_df['imds'])\n",
    "egdp_imds = short_df[\"lnEGDPpc2012\"].corr(short_df['imds'])\n",
    "\n",
    "print(f\"Correlation of ntl and imds: {ntl_imds}\")\n",
    "print(f\"Correlation of egdp and imds: {egdp_imds}\")"
   ]
  },
  {
   "cell_type": "code",
   "execution_count": null,
   "id": "05d76fdb-b724-4d5a-8239-651785917945",
   "metadata": {},
   "outputs": [],
   "source": [
    "plt.style.use(\"seaborn-v0_8\")\n",
    "\n",
    "fig, (ax0, ax1, ax2) = plt.subplots(nrows=1,\n",
    "                                    ncols=3,\n",
    "                                    figsize=(15,7))\n",
    "#----- ax0\n",
    "ax0.scatter(x=short_df['lnEGDPpc2012'], y=short_df[\"ln_t400NTLpc2012\"])\n",
    "ax0.set(xlabel=\"lnEGDPpc2012\", ylabel=\"ln_t400NTLpc2012\")\n",
    "\n",
    "# add trendline\n",
    "z = np.polyfit(short_df[\"lnEGDPpc2012\"], short_df['ln_t400NTLpc2012'], 1)\n",
    "p = np.poly1d(z)\n",
    "ax0.plot(short_df[\"lnEGDPpc2012\"],p(short_df[\"lnEGDPpc2012\"]),\"r-\")\n",
    "\n",
    "#----- ax1\n",
    "ax1.scatter(x=short_df[\"ln_t400NTLpc2012\"], y=short_df['ln_tr400_pop2012'])\n",
    "ax1.set(xlabel=\"ln_t400NTLpc2012\", ylabel=\"ln_tr400_pop2012\")\n",
    "\n",
    "# add trendline\n",
    "z = np.polyfit(short_df[\"ln_t400NTLpc2012\"], short_df['ln_tr400_pop2012'], 1)\n",
    "p = np.poly1d(z)\n",
    "ax1.plot(short_df[\"ln_t400NTLpc2012\"],p(short_df[\"ln_t400NTLpc2012\"]),\"r-\")\n",
    "\n",
    "#----- ax2\n",
    "ax2.scatter(x=short_df[\"ln_t400NTLpc2012\"], y=short_df['ln_perUrb_land'])\n",
    "ax2.set(xlabel=\"ln_t400NTLpc2012\", ylabel=\"ln_perUrb_land\")\n",
    "\n",
    "# add trendline\n",
    "z = np.polyfit(short_df[\"ln_t400NTLpc2012\"], short_df['ln_perUrb_land'], 1)\n",
    "p = np.poly1d(z)\n",
    "ax2.plot(short_df[\"ln_t400NTLpc2012\"],p(short_df[\"ln_t400NTLpc2012\"]),\"r-\");\n",
    "\n"
   ]
  },
  {
   "cell_type": "code",
   "execution_count": null,
   "id": "1349a828-9e78-4211-a3ca-25ea75c355bf",
   "metadata": {},
   "outputs": [],
   "source": [
    "egdp_ntl = short_df[\"lnEGDPpc2012\"].corr(short_df['ln_t400NTLpc2012'])\n",
    "egdp_pop = short_df[\"ln_t400NTLpc2012\"].corr(short_df['ln_tr400_pop2012'])\n",
    "egdp_urb = short_df[\"ln_t400NTLpc2012\"].corr(short_df['ln_perUrb_land'])\n",
    "\n",
    "print(f\"Correlation of egdp and ntl: {egdp_ntl}\")\n",
    "print(f\"Correlation of egdp and pop: {egdp_pop}\")\n",
    "print(f\"Correlation of egdp and Urban land %: {egdp_urb}\")"
   ]
  },
  {
   "cell_type": "markdown",
   "id": "982bcb43-3b78-4f37-926d-6caa7557e17e",
   "metadata": {},
   "source": [
    "# **Regression models**"
   ]
  },
  {
   "cell_type": "markdown",
   "id": "6ae5d559-bee7-4873-9e94-7ca5c6868e5c",
   "metadata": {},
   "source": [
    "### Linear model"
   ]
  },
  {
   "cell_type": "code",
   "execution_count": null,
   "id": "68572ced-cd60-46e3-9b44-465206e245be",
   "metadata": {},
   "outputs": [],
   "source": [
    "x = df[[ \"ln_t400NTLpc2012\", \"ln_tr400_pop2012\", 'lnEGDPpc2012', 'ln_perUrb_land',  \"ln_pm25_2012\", \"ln_land_temp2012\"]].fillna(0)\n",
    "y = df['imds']\n",
    "\n",
    "np.random.seed(42)\n",
    "x_train, x_test, y_train, y_test = train_test_split(x,y, test_size=0.2) \n",
    "\n",
    "model = LinearRegression()\n",
    "\n",
    "\n",
    "# r2 \n",
    "#lr = model.score(x_test, y_test)\n",
    "lr = np.mean(cross_val_score(model, x, y))\n",
    "\n",
    "# MAE\n",
    "lr_mae = np.mean(cross_val_score(model, x, y, scoring=\"neg_mean_absolute_error\"))\n",
    "\n",
    "model.fit(x_train,y_train)\n",
    "lr_y_pred = model.predict(x_test)\n"
   ]
  },
  {
   "cell_type": "markdown",
   "id": "bf0cc5e4-59e9-49a2-9408-3d70ff9e1b59",
   "metadata": {},
   "source": [
    "### Ridge  model"
   ]
  },
  {
   "cell_type": "code",
   "execution_count": null,
   "id": "37c2cf36-6db8-4cb1-bdb9-0edc66d94533",
   "metadata": {},
   "outputs": [],
   "source": [
    "\n",
    "np.random.seed(42)\n",
    "x_train, x_test, y_train, y_test = train_test_split(x, y, test_size=0.2)\n",
    "\n",
    "rid_model = linear_model.Ridge()\n",
    "\n",
    "# r2\n",
    "ri = np.mean(cross_val_score(rid_model, x, y))\n",
    "\n",
    "# MAE\n",
    "ri_mae = np.mean(cross_val_score(rid_model, x, y, scoring=\"neg_mean_absolute_error\"))\n",
    "\n",
    "rid_model.fit(x_train, y_train)\n",
    "ri_y_pred = rid_model.predict(x_test)"
   ]
  },
  {
   "cell_type": "markdown",
   "id": "4ab835e0-d655-41db-af22-8140e3644d2e",
   "metadata": {},
   "source": [
    "### Random Forest Regressor model"
   ]
  },
  {
   "cell_type": "code",
   "execution_count": null,
   "id": "fd0d271b-d3d2-429e-8495-b6a198486e97",
   "metadata": {},
   "outputs": [],
   "source": [
    "\n",
    "np.random.seed(42)\n",
    "x_train, x_test, y_train, y_test = train_test_split(x, y, test_size=0.2)\n",
    "\n",
    "rf_model = RandomForestRegressor()\n",
    "\n",
    "# r2\n",
    "rf = np.mean(cross_val_score(rf_model, x, y))\n",
    "\n",
    "# MAE\n",
    "rf_mae = np.mean(cross_val_score(rf_model, x, y, scoring=\"neg_mean_absolute_error\"))\n",
    "\n",
    "rf_model.fit(x_train, y_train)\n",
    "rf_y_pred = rf_model.predict(x_test)"
   ]
  },
  {
   "cell_type": "markdown",
   "id": "1685a355-f2b7-4d83-8bad-d2db5048a70f",
   "metadata": {},
   "source": [
    "### Results "
   ]
  },
  {
   "cell_type": "code",
   "execution_count": null,
   "id": "3ee1d97d-f659-494b-9dbb-3488c318d84a",
   "metadata": {},
   "outputs": [],
   "source": [
    "print(\"R2 for the regressor models\")\n",
    "print(f\" Linear model  cv ->   R2: {lr*100:.2f}%,  MAE: {lr_mae:.2f}\")\n",
    "print(f\" Ridger model  cv ->   R2: {ri*100:.2f}%,  MAE: {ri_mae:.2f}\")\n",
    "print(f\" RF model      cv ->   R2: {rf*100:.2f}%,  MAE: {rf_mae:.2f} \")"
   ]
  },
  {
   "cell_type": "markdown",
   "id": "eb831d7d-1415-459e-b454-e548240486ba",
   "metadata": {},
   "source": [
    "### Correlation between prediction and truth data"
   ]
  },
  {
   "cell_type": "code",
   "execution_count": null,
   "id": "7fac4f46-df8c-400a-8e1e-1e9451cf1d45",
   "metadata": {},
   "outputs": [],
   "source": [
    "fig, (ax0, ax1, ax2) = plt.subplots(nrows=1,\n",
    "                                    ncols=3,\n",
    "                                    figsize = (15, 6))\n",
    "\n",
    "ax0.scatter(x = y_test, y = lr_y_pred)\n",
    "ax0.set(xlabel=\"SDI\", ylabel=\"SDI Prediction\", title=\"Linear Regression\")\n",
    "\n",
    "# add trendline\n",
    "z = np.polyfit(y_test, lr_y_pred, 1)\n",
    "p = np.poly1d(z)\n",
    "ax0.plot(y_test,p(y_test),\"r-\")\n",
    "\n",
    "\n",
    "ax1.scatter(x=y_test, y = ri_y_pred)\n",
    "ax1.set(xlabel=\"SDI\", ylabel=\"SDI Prediction\", title=\"Ridge\")\n",
    "\n",
    "# add trendline\n",
    "z = np.polyfit(y_test, ri_y_pred, 1)\n",
    "p = np.poly1d(z)\n",
    "ax1.plot(y_test,p(y_test),\"r-\")\n",
    "\n",
    "\n",
    "ax2.scatter(x=y_test, y=rf_y_pred)\n",
    "ax2.set(xlabel=\"SDI\", ylabel=\"SDI Prediction\", title=\"Random Forest\")\n",
    "\n",
    "\n",
    "# add trendline\n",
    "z = np.polyfit(y_test, rf_y_pred, 1)\n",
    "p = np.poly1d(z)\n",
    "ax2.plot(y_test,p(y_test),\"r-\")\n"
   ]
  },
  {
   "cell_type": "markdown",
   "id": "1b2b931c-f8e0-4d95-b3e0-06291a5608b6",
   "metadata": {},
   "source": [
    "# **Categorical analysis**"
   ]
  },
  {
   "cell_type": "code",
   "execution_count": null,
   "id": "509c1179-2a66-4365-9c78-f0de48739158",
   "metadata": {},
   "outputs": [],
   "source": [
    "quantile_labels = [\"low\", 'medium-low', 'medium-high', 'high']\n",
    "df[\"imds_quantile\"] = pd.qcut(df[\"imds\"], q=4, labels=quantile_labels)\n",
    "#df[\"imds_quantile\"]"
   ]
  },
  {
   "cell_type": "code",
   "execution_count": null,
   "id": "346066bb-89d2-479d-b71b-ede7712bf759",
   "metadata": {},
   "outputs": [],
   "source": [
    "x = df[[\"ln_t400NTLpc2012\", \"ln_tr400_pop2012\", 'lnEGDPpc2012', 'ln_pm25_2012', 'ln_land_temp2012', 'lnagr_land2012', 'lnurb_land2012']].fillna(0)\n",
    "y = df['imds_quantile']\n",
    "\n",
    "np.random.seed(42)\n",
    "x_train, x_test, y_train, y_test = train_test_split(x,y, test_size=0.2) \n",
    "\n",
    "clf = RandomForestClassifier()\n",
    "#clf.get_params()\n",
    "clf.fit(x_train,y_train);\n",
    "\n",
    "y_preds = clf.predict(x_test)\n",
    "\n",
    "#evaluate the model\n",
    "#print(f\" Train data score: {clf.score(x_train, y_train)*100:.2f}%\")\n",
    "print(f\" Test data score: {clf.score(x_test, y_test)*100:.2f}%\")\n",
    "rf_cl = clf.score(x_test, y_test)"
   ]
  },
  {
   "cell_type": "code",
   "execution_count": null,
   "id": "2959a016-9dd2-4c45-8508-22ed263c05eb",
   "metadata": {},
   "outputs": [],
   "source": [
    "#print(classification_report(y_test, y_preds))"
   ]
  },
  {
   "cell_type": "code",
   "execution_count": null,
   "id": "7bdc0b77-dcd1-4b5e-927a-c0c3609e6ad6",
   "metadata": {},
   "outputs": [],
   "source": [
    "#print(confusion_matrix(y_test, y_preds))"
   ]
  },
  {
   "cell_type": "code",
   "execution_count": null,
   "id": "c102af1a-9bb6-4400-8830-f9de77a8b780",
   "metadata": {},
   "outputs": [],
   "source": [
    "#accuracy_score(y_test, y_preds)"
   ]
  },
  {
   "cell_type": "code",
   "execution_count": null,
   "id": "498c11cd-a162-4fd7-95fe-8e666d5c03ec",
   "metadata": {},
   "outputs": [],
   "source": [
    "# improve model\n",
    "\n",
    "np.random.seed(42)\n",
    "for i in range(10, 100, 10):\n",
    "    print(f\"Trying model with {i} stimators\")\n",
    "    clf = RandomForestClassifier(n_estimators=i).fit(x_train, y_train)\n",
    "    #print(f\"Model acurracy is {clf.score(x_test, y_test)*100:.2f}%\")"
   ]
  },
  {
   "cell_type": "code",
   "execution_count": null,
   "id": "55905710-f624-4697-ba03-529073042932",
   "metadata": {},
   "outputs": [],
   "source": [
    "#pickle.dump(clf, open(\"random_forest_model.pkl\", \"wb\"))\n",
    "\n",
    "#load_model = pickle.load(open(\"random_forest_model.pkl\", \"rb\"))\n",
    "#load_model.score(x_test, y_test)"
   ]
  },
  {
   "cell_type": "markdown",
   "id": "c42d986c-f09b-412a-ae9e-56e92af8e277",
   "metadata": {},
   "source": [
    "### Linear SVC Classifier"
   ]
  },
  {
   "cell_type": "code",
   "execution_count": null,
   "id": "a468fce6-d583-43e8-b91b-5e199a021779",
   "metadata": {},
   "outputs": [],
   "source": [
    "np.random.seed(42)\n",
    "x_train, x_test, y_train, y_test = train_test_split(x,y, test_size=0.2) \n",
    "\n",
    "sgd_cla = svm.LinearSVC(dual=\"auto\", max_iter=10000)\n",
    "sgd_cla.fit(x_train, y_train)\n",
    "sgd_cl = sgd_cla.score(x_test, y_test)"
   ]
  },
  {
   "cell_type": "markdown",
   "id": "18fee104-b78b-4e80-97ec-aa1f9ec1b8ba",
   "metadata": {},
   "source": [
    "### Naive Bayes Classifier"
   ]
  },
  {
   "cell_type": "code",
   "execution_count": null,
   "id": "69df174f-0aad-4c4b-ab8c-0aaceca42441",
   "metadata": {},
   "outputs": [],
   "source": [
    "np.random.seed(42)\n",
    "x_train, x_test, y_train, y_test = train_test_split(x,y, test_size=0.2) \n",
    "\n",
    "naive_cla = GaussianNB()\n",
    "naive_cla.fit(x_train, y_train)\n",
    "naive_cl = naive_cla.score(x_test, y_test)"
   ]
  },
  {
   "cell_type": "markdown",
   "id": "7b5b2d68-ca9f-4e20-b5ac-fe1b1f565c57",
   "metadata": {},
   "source": [
    "### Results "
   ]
  },
  {
   "cell_type": "code",
   "execution_count": null,
   "id": "7a62fc52-8b79-49c9-bdc9-9d734ad64c55",
   "metadata": {},
   "outputs": [],
   "source": [
    "print(\"R2 for the classifier models\")\n",
    "print(f\" Random Forest model: {rf_cl*100:.2f}%\")\n",
    "print(f\" Linear SVC model: {sgd_cl*100:.2f}%\")\n",
    "print(f\" Naive Bayes model: {naive_cl*100:.2f}%\")"
   ]
  },
  {
   "cell_type": "markdown",
   "id": "479ed4bf-c971-4749-b1f2-fa310dcceddb",
   "metadata": {},
   "source": [
    "## Iterate regression models"
   ]
  },
  {
   "cell_type": "code",
   "execution_count": null,
   "id": "938754ae-a443-4c73-8837-6811f8d925b0",
   "metadata": {},
   "outputs": [],
   "source": [
    "absolute_variables = bol[bol.columns[bol.columns.str.contains(\"abs\")]]\n",
    "y_variables = absolute_variables.columns\n",
    "#y_variables"
   ]
  },
  {
   "cell_type": "code",
   "execution_count": null,
   "id": "5405dca4-b786-4ec4-9929-5a25919c30bf",
   "metadata": {},
   "outputs": [],
   "source": [
    "#y_variables_all = list(bol.columns)\n",
    "#del y_variables[195:420]\n",
    "#del y_variables[10:13]\n",
    "#del y_variables[0:8]"
   ]
  },
  {
   "cell_type": "code",
   "execution_count": null,
   "id": "cfa6c034-3d9c-4e42-914a-ce1b2d9f1801",
   "metadata": {},
   "outputs": [],
   "source": [
    "#y_variables"
   ]
  },
  {
   "cell_type": "markdown",
   "id": "e1c0e20b-29be-40e3-9d47-119b01fcc4fd",
   "metadata": {},
   "source": [
    "### Linear Regression"
   ]
  },
  {
   "cell_type": "code",
   "execution_count": null,
   "id": "9d45635a-f303-4ad2-b692-af5ef435701a",
   "metadata": {},
   "outputs": [],
   "source": [
    "model_results = pd.DataFrame(columns=[\"Feature\", \"r2\", \"MAE\"])\n",
    "\n",
    "for y_variable in y_variables:\n",
    "    filtered_df = df.dropna()\n",
    "\n",
    "    x = filtered_df[[ \"ln_t400NTLpc2012\", \"ln_tr400_pop2012\", 'lnEGDPpc2012', 'ln_pm25_2012', 'ln_land_temp2012']]\n",
    "    y = filtered_df[y_variable]\n",
    "\n",
    "    np.random.seed(42)\n",
    "    x_train, x_test, y_train, y_test = train_test_split(x,y, test_size=0.2) \n",
    "\n",
    "    model = LinearRegression()\n",
    "\n",
    "    #mse = mean_squared_error(y_test, y_pred)\n",
    "    r2 = np.mean(cross_val_score(model, x, y, scoring=\"r2\"))\n",
    "    mae = np.mean(cross_val_score(model, x, y, scoring=\"neg_mean_absolute_error\"))\n",
    "    model_results.loc[len(model_results.index)] = [y_variable, r2, mae]\n",
    "\n",
    "    model.fit(x_train,y_train)\n",
    "    y_pred = model.predict(x_test)"
   ]
  },
  {
   "cell_type": "code",
   "execution_count": null,
   "id": "35256634-7c5f-407d-bac7-0ddbd288a9d0",
   "metadata": {},
   "outputs": [],
   "source": [
    "model_results[model_results[\"r2\"]>0.9]"
   ]
  },
  {
   "cell_type": "code",
   "execution_count": null,
   "id": "8e9ebcf3-2f2e-49d6-bd3d-ab44398d72a0",
   "metadata": {},
   "outputs": [],
   "source": [
    "model_results[model_results[\"r2\"]>0.8]"
   ]
  },
  {
   "cell_type": "code",
   "execution_count": null,
   "id": "931a9a8f-5115-4408-8e54-4d6bbeaa65e1",
   "metadata": {},
   "outputs": [],
   "source": [
    "model_results[model_results[\"r2\"]>0.7]"
   ]
  },
  {
   "cell_type": "code",
   "execution_count": null,
   "id": "684fbc20-acfb-4773-9619-74fe3568ae30",
   "metadata": {},
   "outputs": [],
   "source": [
    "model_results[model_results[\"r2\"]>0.6]"
   ]
  },
  {
   "cell_type": "code",
   "execution_count": null,
   "id": "c9705d0d-2983-4bc4-a439-fc2e5ca67214",
   "metadata": {},
   "outputs": [],
   "source": [
    "#model_results[model_results[\"r2\"]<0]"
   ]
  },
  {
   "cell_type": "code",
   "execution_count": null,
   "id": "9a97bcb4-fcee-447d-9ae8-8c2a5686163b",
   "metadata": {},
   "outputs": [],
   "source": []
  },
  {
   "cell_type": "markdown",
   "id": "47418f52-7838-44de-925e-aad20f3e7922",
   "metadata": {},
   "source": [
    "### Random Forest Regressor"
   ]
  },
  {
   "cell_type": "code",
   "execution_count": null,
   "id": "942c4966-3699-4ef9-883d-d21bde41b620",
   "metadata": {},
   "outputs": [],
   "source": [
    "model_results = pd.DataFrame(columns=[\"Feature\", \"r2\", \"MAE\"])\n",
    "predict_df = pd.DataFrame()"
   ]
  },
  {
   "cell_type": "code",
   "execution_count": null,
   "id": "19361e93-4ffb-4554-87b9-eb867d874457",
   "metadata": {},
   "outputs": [],
   "source": [
    "\n",
    "for y_variable in y_variables:\n",
    "    filtered_df = df.dropna()\n",
    "\n",
    "    x = filtered_df[[ \"ln_t400NTLpc2012\", \"ln_tr400_pop2012\", 'lnEGDPpc2012', 'ln_perUrb_land',  \"ln_pm25_2012\", \"ln_land_temp2012\"]].fillna(0)\n",
    "    \n",
    "    #Normalize the y variable \n",
    "    y = (filtered_df[y_variable]-filtered_df[y_variable].mean())/filtered_df[y_variable].std()\n",
    "\n",
    "    #Set up the model\n",
    "    np.random.seed(42)\n",
    "    x_train, x_test, y_train, y_test = train_test_split(x,y, test_size=0.2) \n",
    "    model = RandomForestRegressor()\n",
    "    \n",
    "    #mse = mean_squared_error(y_test, y_pred)\n",
    "    r2 = np.mean(cross_val_score(model, x, y, scoring=\"r2\"))\n",
    "    mae = np.mean(cross_val_score(model, x, y, scoring=\"neg_mean_absolute_error\"))\n",
    "    \n",
    "    # Add to the results df \n",
    "    model_results.loc[len(model_results.index)] = [y_variable, r2, mae]\n",
    "\n",
    "    # Prediction df \n",
    "    model.fit(x_train,y_train)\n",
    "    y_pred = model.predict(x_test)\n",
    "\n",
    "    col0 = y_variable + \"_true\"\n",
    "    col1 = y_variable + \"_pred\"\n",
    "    temp_predict = pd.DataFrame({col0: y_test, col1: y_pred}, index=y_test.index)\n",
    "    temp_predict.index.name = \"id\"\n",
    "    \n",
    "    if predict_df.empty:\n",
    "        predict_df = temp_predict\n",
    "    else:\n",
    "        predict_df = predict_df.merge(temp_predict, on=\"id\", how=\"outer\")\n"
   ]
  },
  {
   "cell_type": "code",
   "execution_count": null,
   "id": "e0600f25-7076-4a2b-8970-43669f0ef8f7",
   "metadata": {},
   "outputs": [],
   "source": [
    "model_results[model_results[\"r2\"]>0.9].round(2)"
   ]
  },
  {
   "cell_type": "code",
   "execution_count": null,
   "id": "2e0b08e5-8863-4978-b79a-b3ad8c0764e7",
   "metadata": {},
   "outputs": [],
   "source": [
    "model_results[model_results[\"r2\"]>0.8].round(2)"
   ]
  },
  {
   "cell_type": "code",
   "execution_count": null,
   "id": "a0357a9f-c982-453c-9089-a0124ef0c4de",
   "metadata": {},
   "outputs": [],
   "source": [
    "model_results[(model_results[\"r2\"]>=0.7) & (model_results[\"r2\"]<0.8)].round(2)"
   ]
  },
  {
   "cell_type": "code",
   "execution_count": null,
   "id": "849be8be-e741-42b4-9114-a5069e1aade4",
   "metadata": {},
   "outputs": [],
   "source": [
    "model_results[(model_results[\"r2\"]>=0.6) & (model_results[\"r2\"]<0.7)].round(2)"
   ]
  },
  {
   "cell_type": "code",
   "execution_count": null,
   "id": "f1d30bd3-9334-467d-9484-734742d6e2ee",
   "metadata": {},
   "outputs": [],
   "source": [
    "model_results[model_results[\"r2\"]<0].round(2)"
   ]
  },
  {
   "cell_type": "code",
   "execution_count": null,
   "id": "ed6ee066-a964-4c3e-a0e6-7a24aab63b52",
   "metadata": {},
   "outputs": [],
   "source": [
    "fig, ((ax0, ax1, ax2, ax3)) = plt.subplots(nrows=1, \n",
    "                                         ncols=4, \n",
    "                                         figsize=(20, 7))\n",
    "\n",
    "# Graph 1 \n",
    "g_x = predict_df[\"sdg1_1_pubn_abs_true\"]\n",
    "g_y = predict_df[\"sdg1_1_pubn_abs_pred\"]\n",
    "\n",
    "ax0.scatter(x = g_x, y = g_y)\n",
    "ax0.set(xlabel=\"sdg1_1_pubn_abs_true\", ylabel=\"sdg1_1_pubn_abs_pred\", title=\"SDG1: Unsatisfied basic needs\")\n",
    "\n",
    "# add trendline\n",
    "z = np.polyfit(g_x, g_y, 1)\n",
    "p = np.poly1d(z)\n",
    "ax0.plot(g_x,p(g_x),\"r-\")\n",
    "\n",
    "\n",
    "# Graph 1 \n",
    "g_x = predict_df[\"sdg8_5_ompr_abs_true\"]\n",
    "g_y = predict_df[\"sdg8_5_ompr_abs_pred\"]\n",
    "\n",
    "ax1.scatter(x = g_x, y = g_y)\n",
    "ax1.set(xlabel=\"sdg8_5_ompr_abs_true\", ylabel=\"sdg8_5_ompr_abs_pred\", title=\"SDG8: Overall Male Participation\")\n",
    "\n",
    "# add trendline\n",
    "z = np.polyfit(g_x, g_y, 1)\n",
    "p = np.poly1d(z)\n",
    "ax1.plot(g_x,p(g_x),\"r-\")\n",
    "\n",
    "\n",
    "# Graph 1 \n",
    "g_x = predict_df[\"sdg8_5_ofpr_abs_true\"]\n",
    "g_y = predict_df[\"sdg8_5_ofpr_abs_pred\"]\n",
    "\n",
    "ax2.scatter(x = g_x, y = g_y)\n",
    "ax2.set(xlabel=\"sdg8_5_ofpr_abs_true\", ylabel=\"sdg8_5_ofpr_abs_pred\", title=\"SDG8: Overall Female Participation\")\n",
    "\n",
    "# add trendline\n",
    "z = np.polyfit(g_x, g_y, 1)\n",
    "p = np.poly1d(z)\n",
    "ax2.plot(g_x,p(g_x),\"r-\")\n",
    "\n",
    "\n",
    "# Graph 1 \n",
    "g_x = predict_df[\"sdg8_6_wlm_abs_true\"]\n",
    "g_y = predict_df[\"sdg8_6_wlm_abs_pred\"]\n",
    "\n",
    "ax3.scatter(x = g_x, y = g_y)\n",
    "ax3.set(xlabel=\"sdg8_6_wlm_abs_true\", ylabel=\"sdg8_6_wlm_abs_pred\", title=\"SDG8: Women Who do not Study or Work\")\n",
    "\n",
    "# add trendline\n",
    "z = np.polyfit(g_x, g_y, 1)\n",
    "p = np.poly1d(z)\n",
    "ax3.plot(g_x,p(g_x),\"r-\")"
   ]
  },
  {
   "cell_type": "markdown",
   "id": "307a511b-3773-44d3-af43-1e67e2a9f0c7",
   "metadata": {},
   "source": [
    "## Ridge model"
   ]
  },
  {
   "cell_type": "code",
   "execution_count": null,
   "id": "b48e712c-f3fa-42e2-bea9-a343a72da259",
   "metadata": {},
   "outputs": [],
   "source": [
    "ridge_results = pd.DataFrame(columns=[\"Feature\", \"r2\", \"MAE\"])\n",
    "ri_predict = []"
   ]
  },
  {
   "cell_type": "code",
   "execution_count": null,
   "id": "4c7b9895-6d88-4c8c-bfa7-b4d4890d73af",
   "metadata": {},
   "outputs": [],
   "source": [
    "for y_variable in y_variables:\n",
    "    filtered_df = df.dropna()\n",
    "\n",
    "    x = filtered_df[[ \"ln_t400NTLpc2012\", \"ln_tr400_pop2012\", 'lnEGDPpc2012', 'ln_perUrb_land',  \"ln_pm25_2012\", \"ln_land_temp2012\"]].fillna(0)\n",
    "    y = (filtered_df[y_variable]-filtered_df[y_variable].mean())/filtered_df[y_variable].std()\n",
    "\n",
    "    np.random.seed(42)\n",
    "    x_train, x_test, y_train, y_test = train_test_split(x,y, test_size=0.2) \n",
    "\n",
    "    ridge_model = linear_model.Ridge()\n",
    "    #model.fit(x_train,y_train)\n",
    "\n",
    "    r2 = np.mean(cross_val_score(ridge_model, x, y, scoring=\"r2\"))\n",
    "    mae = np.mean(cross_val_score(ridge_model, x, y, scoring=\"neg_mean_absolute_error\"))\n",
    "    \n",
    "    ridge_results.loc[len(ridge_results.index)] = [y_variable, r2, mae]\n",
    "\n",
    "    # Prediction df \n",
    "    ridge_model.fit(x_train,y_train)\n",
    "    y_pred = ridge_model.predict(x_test)\n",
    "\n",
    "    col0 = y_variable + \"_true\"\n",
    "    col1 = y_variable + \"_pred\"\n",
    "    temp_predict = pd.DataFrame({col0: y_test, col1: y_pred}, index=y_test.index)\n",
    "    temp_predict.index.name = \"id\"\n",
    "    \n",
    "    if predict_df.empty:\n",
    "        ri_predict = temp_predict\n",
    "    else:\n",
    "        ri_predict = predict_df.merge(temp_predict, on=\"id\", how=\"outer\")"
   ]
  },
  {
   "cell_type": "code",
   "execution_count": null,
   "id": "1fcd714a-2a34-4578-b425-885640da62fa",
   "metadata": {},
   "outputs": [],
   "source": [
    "ridge_results[ridge_results[\"r2\"]>0.9].round(2)"
   ]
  },
  {
   "cell_type": "code",
   "execution_count": null,
   "id": "b26db71b-106e-4d1e-b7f4-a3022f3cb749",
   "metadata": {},
   "outputs": [],
   "source": [
    "ridge_results[ridge_results[\"r2\"]>0.8].round(2)"
   ]
  },
  {
   "cell_type": "code",
   "execution_count": null,
   "id": "d060efec-02ed-4cb7-9151-2ebcc3e7784a",
   "metadata": {},
   "outputs": [],
   "source": [
    "ridge_results[(ridge_results[\"r2\"]>=0.7) & (ridge_results[\"r2\"]<0.8)].round(4)"
   ]
  },
  {
   "cell_type": "code",
   "execution_count": null,
   "id": "fec433b0-0c9e-4713-8cd2-dd039be3080c",
   "metadata": {},
   "outputs": [],
   "source": [
    "ridge_results[(ridge_results[\"r2\"]>=0.5) & (ridge_results[\"r2\"]<0.7)].round(4)"
   ]
  },
  {
   "cell_type": "code",
   "execution_count": null,
   "id": "25566256-85c4-444e-9520-71c7a02411e9",
   "metadata": {},
   "outputs": [],
   "source": [
    "ridge_results[(ridge_results[\"r2\"]>=0.3) & (ridge_results[\"r2\"]<0.5)].round(4)"
   ]
  },
  {
   "cell_type": "code",
   "execution_count": null,
   "id": "0374f477-5db1-473b-b12f-a8a35391a61c",
   "metadata": {},
   "outputs": [],
   "source": [
    "ridge_results[ridge_results[\"r2\"]<0].round(4)"
   ]
  },
  {
   "cell_type": "code",
   "execution_count": null,
   "id": "b1db6975-6502-486b-a0da-944addb8374e",
   "metadata": {},
   "outputs": [],
   "source": [
    "fig, ((ax0, ax1, ax2, ax3)) = plt.subplots(nrows=1, \n",
    "                                         ncols=4, \n",
    "                                         figsize=(20, 7))\n",
    "\n",
    "# Graph 1 \n",
    "g_x = ri_predict[\"sdg1_1_pubn_abs_true\"]\n",
    "g_y = ri_predict[\"sdg1_1_pubn_abs_pred\"]\n",
    "\n",
    "ax0.scatter(x = g_x, y = g_y)\n",
    "ax0.set(xlabel=\"sdg1_1_pubn_abs_true\", ylabel=\"sdg1_1_pubn_abs_pred\", title=\"SDG1: Unsatisfied basic needs\")\n",
    "\n",
    "# add trendline\n",
    "z = np.polyfit(g_x, g_y, 1)\n",
    "p = np.poly1d(z)\n",
    "ax0.plot(g_x,p(g_x),\"r-\")\n",
    "\n",
    "\n",
    "# Graph 1 \n",
    "g_x = predict_df[\"sdg9_c_hf_abs_true\"]\n",
    "g_y = predict_df[\"sdg9_c_hf_abs_pred\"]\n",
    "\n",
    "ax1.scatter(x = g_x, y = g_y)\n",
    "ax1.set(xlabel=\"sdg9_c_hf_abs_true\", ylabel=\"sdg9_c_hf_abs_pred\", title=\"sdg9_c_hf_abs\")\n",
    "\n",
    "# add trendline\n",
    "z = np.polyfit(g_x, g_y, 1)\n",
    "p = np.poly1d(z)\n",
    "ax1.plot(g_x,p(g_x),\"r-\")\n",
    "\n",
    "\n",
    "# Graph 1 \n",
    "g_x = predict_df[\"sdg1_1_dtl_abs_true\"]\n",
    "g_y = predict_df[\"sdg1_1_dtl_abs_pred\"]\n",
    "\n",
    "ax2.scatter(x = g_x, y = g_y)\n",
    "ax2.set(xlabel=\"sdg1_1_dtl_abs_true\", ylabel=\"sdg1_1_dtl_abs_pred\", title=\"sdg1_1_dtl_abs\")\n",
    "\n",
    "# add trendline\n",
    "z = np.polyfit(g_x, g_y, 1)\n",
    "p = np.poly1d(z)\n",
    "ax2.plot(g_x,p(g_x),\"r-\")\n",
    "\n",
    "\n",
    "# Graph 1 \n",
    "g_x = predict_df[\"sdg3_2_fb_abs_true\"]\n",
    "g_y = predict_df[\"sdg3_2_fb_abs_pred\"]\n",
    "\n",
    "ax3.scatter(x = g_x, y = g_y)\n",
    "ax3.set(xlabel=\"sdg3_2_fb_abs_true\", ylabel=\"sdg3_2_fb_abs_pred\", title=\"sdg3_2_fb_abs_pred\")\n",
    "\n",
    "# add trendline\n",
    "z = np.polyfit(g_x, g_y, 1)\n",
    "p = np.poly1d(z)\n",
    "ax3.plot(g_x,p(g_x),\"r-\")"
   ]
  },
  {
   "cell_type": "markdown",
   "id": "d383c2da-82bc-4a1b-adcf-b14047302504",
   "metadata": {},
   "source": [
    "# Predicting 2013 "
   ]
  },
  {
   "cell_type": "code",
   "execution_count": null,
   "id": "d2693304-c83b-4a3e-88f5-7b95e4974132",
   "metadata": {},
   "outputs": [],
   "source": []
  },
  {
   "cell_type": "code",
   "execution_count": null,
   "id": "f27066c7-a32c-4692-8a6a-4e0890a82df5",
   "metadata": {},
   "outputs": [],
   "source": []
  },
  {
   "cell_type": "code",
   "execution_count": null,
   "id": "a5a83e1d-5ad5-4d1e-9f1a-79f9cb2fafae",
   "metadata": {},
   "outputs": [],
   "source": []
  },
  {
   "cell_type": "code",
   "execution_count": null,
   "id": "51cc9f7b-d59d-4d21-aef7-1d96aa82dea9",
   "metadata": {},
   "outputs": [],
   "source": []
  },
  {
   "cell_type": "markdown",
   "id": "4e59f207-499f-4325-a50a-8ee432170d78",
   "metadata": {},
   "source": [
    "# Adjust Hyperparameters"
   ]
  },
  {
   "cell_type": "code",
   "execution_count": null,
   "id": "131b7693-219b-4abc-bb4c-ddc73b289904",
   "metadata": {},
   "outputs": [],
   "source": [
    "ridge_model.get_params()"
   ]
  },
  {
   "cell_type": "code",
   "execution_count": null,
   "id": "a0fab34d-60f8-4b33-b684-59fc92426ab8",
   "metadata": {},
   "outputs": [],
   "source": [
    "def evaluate_preds(model, y_true, y_preds):\n",
    "    \"\"\"\n",
    "    Performs evaluation comparison on y_true labels vs. y_pred labels\n",
    "    on a classification.\n",
    "    \"\"\"\n",
    "    r2 = np.mean(cross_val_score(model, x, y, scoring=\"r2\"))\n",
    "    mae = np.mean(cross_val_score(model, x, y, scoring=\"neg_mean_absolute_error\"))\n",
    "    metric_dict = {\"R2\": round(r2, 2),\n",
    "                   \"MAE\": round(mae, 2)}\n",
    "    print(f\"R2: {r2 * 100:.2f}%\")\n",
    "    print(f\"MAE: {mae:.2f}\")\n",
    "    \n",
    "    return metric_dict"
   ]
  },
  {
   "cell_type": "code",
   "execution_count": null,
   "id": "c0ad8c2b-0ceb-4ed2-b7a9-7649780939fd",
   "metadata": {},
   "outputs": [],
   "source": [
    "alpha= range(35,1000,20)\n",
    "grid = {\"alpha\": alpha,\n",
    "        \"copy_X\": [True, False],\n",
    "        \"max_iter\": [None, 10, 100, 200, 500, 1000, 10000], \n",
    "        \"solver\": [\"auto\", \"svd\", \"cholesky\", \"lsqr\", \"sparse_cg\"]}\n",
    "\n",
    "np.random.seed(42)\n",
    "\n",
    "x = df[[ \"ln_t400NTLpc2012\", \"ln_tr400_pop2012\", 'lnEGDPpc2012', 'ln_perUrb_land',  \"ln_pm25_2012\", \"ln_land_temp2012\"]].fillna(0)\n",
    "y = df['imds']\n",
    "\n",
    "rs_rid_model= RandomizedSearchCV(estimator = rid_model,\n",
    "                       param_distributions=grid,\n",
    "                       n_iter=100,\n",
    "                       cv=5,\n",
    "                       verbose=0)\n",
    "\n",
    "rs_rid_model.fit(x_train, y_train);"
   ]
  },
  {
   "cell_type": "code",
   "execution_count": null,
   "id": "20a14f8e-d8a9-4c3b-b52d-00ae08326df0",
   "metadata": {},
   "outputs": [],
   "source": [
    "rs_rid_model.best_params_"
   ]
  },
  {
   "cell_type": "code",
   "execution_count": null,
   "id": "5bf6d612-1dbc-4d3a-bc9d-6293355948b2",
   "metadata": {},
   "outputs": [],
   "source": [
    "# Uses the best model for the prediction\n",
    "rs_y_preds = rs_rid_model.predict(x_test)\n",
    "\n",
    "rs_metrics = evaluate_preds(rs_rid_model, x, y)"
   ]
  },
  {
   "cell_type": "code",
   "execution_count": null,
   "id": "b4209ace-b704-4c75-9055-53987e9c680c",
   "metadata": {},
   "outputs": [],
   "source": []
  },
  {
   "cell_type": "code",
   "execution_count": null,
   "id": "a3e45025-dd8b-4e6b-8139-9819d24ba4e3",
   "metadata": {},
   "outputs": [],
   "source": []
  }
 ],
 "metadata": {
  "kernelspec": {
   "display_name": "Python 3 (ipykernel)",
   "language": "python",
   "name": "python3"
  },
  "language_info": {
   "codemirror_mode": {
    "name": "ipython",
    "version": 3
   },
   "file_extension": ".py",
   "mimetype": "text/x-python",
   "name": "python",
   "nbconvert_exporter": "python",
   "pygments_lexer": "ipython3",
   "version": "3.12.0"
  }
 },
 "nbformat": 4,
 "nbformat_minor": 5
}
