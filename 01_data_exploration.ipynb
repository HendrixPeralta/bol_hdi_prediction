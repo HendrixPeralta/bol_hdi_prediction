{
 "cells": [
  {
   "cell_type": "code",
   "execution_count": 1,
   "id": "6082aa4f-d18f-42f3-bfb1-92b8c01fce18",
   "metadata": {},
   "outputs": [],
   "source": [
    "import numpy as np\n",
    "import pandas as pd\n",
    "import sklearn as ktl\n",
    "import pickle\n",
    "import matplotlib.pylab as plt\n",
    "import seaborn\n",
    "\n",
    "from sklearn.preprocessing import normalize\n",
    "from sklearn.preprocessing import StandardScaler\n",
    "\n",
    "from sklearn.model_selection import train_test_split\n",
    "from sklearn.metrics import mean_squared_error, r2_score, mean_absolute_error\n",
    "from sklearn.metrics import classification_report, confusion_matrix, accuracy_score\n",
    "\n",
    "from sklearn.model_selection import cross_val_score\n",
    "\n",
    "from sklearn.linear_model import LinearRegression\n",
    "from sklearn import linear_model\n",
    "from sklearn.ensemble import RandomForestRegressor\n",
    "\n",
    "from sklearn.ensemble import RandomForestClassifier\n",
    "from sklearn import svm\n",
    "from sklearn.naive_bayes import GaussianNB\n",
    "\n",
    "from sklearn.model_selection import RandomizedSearchCV\n",
    "\n",
    "import statsmodels.formula.api as smf\n",
    "\n",
    "from linearmodels.panel import PanelOLS\n"
   ]
  },
  {
   "cell_type": "markdown",
   "id": "24e2321a-8071-4c67-9560-98eff54e4770",
   "metadata": {},
   "source": [
    "# Data Manipulation "
   ]
  },
  {
   "cell_type": "markdown",
   "id": "6f691a59-5881-4dc2-9ad4-23ce3d0c20ad",
   "metadata": {
    "jp-MarkdownHeadingCollapsed": true
   },
   "source": [
    "### Importing data "
   ]
  },
  {
   "cell_type": "code",
   "execution_count": 2,
   "id": "a1354cc2-220d-43ef-8b3d-a3187a39fb9d",
   "metadata": {},
   "outputs": [],
   "source": [
    "# Sustainable development atlas of Bolivia \n",
    "\n",
    "bol = pd.read_csv(\"/Users/hendrixperalta/Desktop/bolivia/data/sdg_atlas_bolivia/GeoDS4Bolivia.csv\")\n",
    "bol = bol.rename(columns={\"asdf_id\":\"id\"})\n",
    "#list(bol.columns)\n",
    "\n",
    "# Remote sensing data \n",
    "\n",
    "sat = pd.read_csv(\"data/satellite/satelite_data.csv\")\n",
    "#list(sat.columns)"
   ]
  },
  {
   "cell_type": "markdown",
   "id": "0517218b-4001-481c-94f9-567f4b01e0d2",
   "metadata": {
    "jp-MarkdownHeadingCollapsed": true
   },
   "source": [
    "### SDG Indexes "
   ]
  },
  {
   "cell_type": "code",
   "execution_count": 3,
   "id": "b33163c5-7ad5-47bd-ae85-029bac666489",
   "metadata": {},
   "outputs": [],
   "source": [
    "# creating a dataframe with only the composite sdg indexes\n",
    "\n",
    "sdg_indexes = bol[[\"id\", 'mun_id' , 'index_sdg1','index_sdg2','index_sdg3','index_sdg4','index_sdg5','index_sdg6','index_sdg7', 'index_sdg8','index_sdg9','index_sdg10',\n",
    "               'index_sdg11','index_sdg13','index_sdg15','index_sdg16','index_sdg17', \"imds\",]]\n",
    "\n",
    "                  \n",
    "#sdg_indexes.isna().sum()\n",
    "\n",
    "# Export the index variables \n",
    "#sdg_indexes.to_csv(\"data/sdg_prediction/sdg_indexes.csv\")"
   ]
  },
  {
   "cell_type": "markdown",
   "id": "df457e76-3720-4fb0-b2f5-8266e2184a12",
   "metadata": {
    "jp-MarkdownHeadingCollapsed": true
   },
   "source": [
    "### Air Temperature"
   ]
  },
  {
   "cell_type": "code",
   "execution_count": 4,
   "id": "1c470642-99e9-443f-a630-8c8382405eef",
   "metadata": {},
   "outputs": [
    {
     "name": "stdout",
     "output_type": "stream",
     "text": [
      "if the result its 0 its ok 0.0\n"
     ]
    },
    {
     "name": "stderr",
     "output_type": "stream",
     "text": [
      "/var/folders/rd/btbmvcm97vb2t3wbhxqqm1tw0000gn/T/ipykernel_77974/3797907362.py:15: SettingWithCopyWarning: \n",
      "A value is trying to be set on a copy of a slice from a DataFrame.\n",
      "Try using .loc[row_indexer,col_indexer] = value instead\n",
      "\n",
      "See the caveats in the documentation: https://pandas.pydata.org/pandas-docs/stable/user_guide/indexing.html#returning-a-view-versus-a-copy\n",
      "  air_temp_max['id'] = air_temp['id']\n",
      "/var/folders/rd/btbmvcm97vb2t3wbhxqqm1tw0000gn/T/ipykernel_77974/3797907362.py:19: SettingWithCopyWarning: \n",
      "A value is trying to be set on a copy of a slice from a DataFrame.\n",
      "Try using .loc[row_indexer,col_indexer] = value instead\n",
      "\n",
      "See the caveats in the documentation: https://pandas.pydata.org/pandas-docs/stable/user_guide/indexing.html#returning-a-view-versus-a-copy\n",
      "  air_temp_min['id'] = air_temp['id']\n",
      "/var/folders/rd/btbmvcm97vb2t3wbhxqqm1tw0000gn/T/ipykernel_77974/3797907362.py:23: SettingWithCopyWarning: \n",
      "A value is trying to be set on a copy of a slice from a DataFrame.\n",
      "Try using .loc[row_indexer,col_indexer] = value instead\n",
      "\n",
      "See the caveats in the documentation: https://pandas.pydata.org/pandas-docs/stable/user_guide/indexing.html#returning-a-view-versus-a-copy\n",
      "  air_temp_mean['id'] = air_temp['id']\n"
     ]
    }
   ],
   "source": [
    "# Air temperature\n",
    "\n",
    "air_temp = pd.read_csv(\"data/satellite/air_temperature UDel.csv\")\n",
    "\n",
    "# Filter data columns \n",
    "air_temp_filtered = air_temp.loc[:, air_temp.columns.str.contains(\"20\")].copy();\n",
    "\n",
    "# Changing first part of the name \n",
    "for col in air_temp_filtered:\n",
    "    new_name = \"airTemp\" + col.split(\".\", 1)[1]\n",
    "    air_temp_filtered = air_temp_filtered.rename(columns = {col:new_name});\n",
    "    \n",
    "air_temp_max = air_temp_filtered[air_temp_filtered.columns[air_temp_filtered.columns.str.contains(\"max\")]];\n",
    "air_temp_max.columns = air_temp_max.columns.str.replace(\".max$\", \"\", regex=True)\n",
    "air_temp_max['id'] = air_temp['id']\n",
    "\n",
    "air_temp_min = air_temp_filtered[air_temp_filtered.columns[air_temp_filtered.columns.str.contains(\"min\")]];\n",
    "air_temp_min.columns = air_temp_min.columns.str.replace(\".min$\", \"\", regex=True)\n",
    "air_temp_min['id'] = air_temp['id']\n",
    "\n",
    "air_temp_mean = air_temp_filtered.loc[:, air_temp_filtered.columns.str.contains(\"mean\")];\n",
    "air_temp_mean.columns = air_temp_mean.columns.str.replace(\".mean$\", \"\", regex=True)\n",
    "air_temp_mean['id'] = air_temp['id']\n",
    "\n",
    "# Test if the id are matching\n",
    "test = air_temp_mean[\"airTemp2012\"] - air_temp[\"udel_air_temp_v501_mean.2012.mean\"]\n",
    "print(\"if the result its 0 its ok\", test.sum())\n",
    "\n",
    "#print(air_temp.isna().sum())"
   ]
  },
  {
   "cell_type": "markdown",
   "id": "711d1afa-7ca6-433f-8fd6-83f3b4a51cbe",
   "metadata": {
    "jp-MarkdownHeadingCollapsed": true
   },
   "source": [
    "### Distance to coast"
   ]
  },
  {
   "cell_type": "code",
   "execution_count": 5,
   "id": "2c2609dd-fc00-40fb-b041-fe6bd6535974",
   "metadata": {},
   "outputs": [],
   "source": [
    "coast = pd.read_csv(\"data/satellite/Distance to coast.csv\")\n",
    "coast = coast.drop(columns = {\"asdf_id\",'Level', 'gqid', 'shapeGroup', 'shapeID', 'shapeType', \"shapeName\"})\n",
    "coast_col = coast.loc[:, coast.columns.str.contains(\"236\")] \n",
    "\n",
    "for col in coast_col: \n",
    "    new_name = \"coast\" + col.split(\".\",1)[1]\n",
    "    coast.rename(columns = {col:new_name}, inplace=True)\n",
    "    \n",
    "coast.columns = coast.columns.str.replace(\"none.mean\",\"2017mean\")\n",
    "coast.columns = coast.columns.str.replace(\"none.max\",\"2017max\")\n",
    "coast.columns = coast.columns.str.replace(\"none.min\",\"2017min\")\n",
    "\n",
    "#coast.isna().sum"
   ]
  },
  {
   "cell_type": "markdown",
   "id": "22a6053c-15ad-48a8-b454-3bc41b4c8abc",
   "metadata": {
    "jp-MarkdownHeadingCollapsed": true
   },
   "source": [
    "### Distance to Diamond Deposits"
   ]
  },
  {
   "cell_type": "code",
   "execution_count": 6,
   "id": "9e985f59-b48e-4d52-a8a3-de38612c3439",
   "metadata": {},
   "outputs": [],
   "source": [
    "dia = pd.read_csv(\"data/satellite/Distance to diamond deposits.csv\")\n",
    "dia.drop(columns = {'asdf_id','Level', 'gqid','shapeGroup', 'shapeID','shapeType'}, inplace=True)\n",
    "dia_col = dia.loc[:, dia.columns.str.contains(\"2017\")] \n",
    "\n",
    "for col in dia_col: \n",
    "    new_name = \"diamond2017\" + col.split(\".\",1)[1]\n",
    "    dia.rename(columns = {col:new_name}, inplace=True)\n",
    "    \n",
    "dia.columns = dia.columns.str.replace(\"none.mean\",\"mean\")\n",
    "dia.columns = dia.columns.str.replace(\"none.max\",\"max\")\n",
    "dia.columns = dia.columns.str.replace(\"none.min\",\"min\")\n",
    "\n",
    "#dia.isna().sum()"
   ]
  },
  {
   "cell_type": "markdown",
   "id": "e57015da-6b7b-426b-9ea7-ff1a4cb3bb3f",
   "metadata": {
    "jp-MarkdownHeadingCollapsed": true
   },
   "source": [
    "### Distance to drug cultivation "
   ]
  },
  {
   "cell_type": "code",
   "execution_count": 7,
   "id": "cf21deaf-434e-4021-b8a9-d701dc42ae03",
   "metadata": {},
   "outputs": [],
   "source": [
    "offset = 10 \n",
    "dist_drug = pd.read_csv(\"data/satellite/Distance to drug cultivation.csv\")\n",
    "dist_drug = dist_drug.drop(columns = {'asdf_id','Level', 'gqid','shapeGroup', 'shapeID','shapeType', \"shapeName\"})\n",
    "dist_drug_col = dist_drug.loc[:, dist_drug.columns.str.contains(\"drug\")]\n",
    "\n",
    "for col in dist_drug_col: \n",
    "    new_name = \"dist_drug2017\" + col.split(\".\",2)[2]\n",
    "    dist_drug.rename(columns = {col:new_name}, inplace = True)\n",
    "\n",
    "dist_drug[\"ln_dist_drug2017mean\"] = np.log(dist_drug[\"dist_drug2017mean\"]+offset)\n",
    "#drug_cult.isna().sum()"
   ]
  },
  {
   "cell_type": "markdown",
   "id": "7190f9c3-387c-4086-b75c-b093463615ad",
   "metadata": {
    "jp-MarkdownHeadingCollapsed": true
   },
   "source": [
    "### Distance to road"
   ]
  },
  {
   "cell_type": "code",
   "execution_count": 8,
   "id": "c4fa0750-6dbe-4ed2-b2ed-0bb802639f2b",
   "metadata": {},
   "outputs": [],
   "source": [
    "road = pd.read_csv(\"data/satellite/Distance to road.csv\")\n",
    "road = road.drop(columns = {'asdf_id', 'Level', 'gqid', 'shapeGroup', 'shapeID', 'shapeType', \"shapeName\"})\n",
    "road_col = road.loc[:, road.columns.str.contains(\"road\")]\n",
    "\n",
    "for col in road_col: \n",
    "    new_name = \"distance_road2017\" + col.split(\".\",1)[1]\n",
    "    road.rename(columns = {col:new_name}, inplace = True)\n",
    "\n",
    "road.columns = road.columns.str.replace(\"none.mean\",\"mean\")\n",
    "road.columns = road.columns.str.replace(\"none.max\",\"max\")\n",
    "road.columns = road.columns.str.replace(\"none.min\",\"min\")\n",
    "road[\"ln_distance_road2017mean\"] = np.log(road[\"distance_road2017mean\"])\n",
    "#road.isna().sum()\n"
   ]
  },
  {
   "cell_type": "markdown",
   "id": "5189a953-3347-4663-8457-d9702c42655d",
   "metadata": {
    "jp-MarkdownHeadingCollapsed": true
   },
   "source": [
    "### Distance to water"
   ]
  },
  {
   "cell_type": "code",
   "execution_count": 9,
   "id": "f93289a8-a0df-4b42-9c7a-3c5502dc1886",
   "metadata": {},
   "outputs": [],
   "source": [
    "water = pd.read_csv(\"data/satellite/distance to water.csv\")\n",
    "water = water.drop(columns = {'asdf_id','Level', 'gqid','shapeGroup', 'shapeID', 'shapeType', \"shapeName\"})\n",
    "water_col = water.loc[:, water.columns.str.contains(\"water\")]\n",
    "\n",
    "for col in water_col: \n",
    "    new_name = \"dist_water2017\" + col.split(\".\",1)[1]\n",
    "    water.rename(columns = {col:new_name}, inplace = True)\n",
    "\n",
    "water.columns = water.columns.str.replace(\"none.mean\",\"mean\")\n",
    "water.columns = water.columns.str.replace(\"none.max\",\"max\")\n",
    "water.columns = water.columns.str.replace(\"none.min\",\"min\")\n",
    "water[\"ln_dist_water2017mean\"] = np.log(water[\"dist_water2017mean\"])\n",
    "\n",
    "#water.isna().sum()"
   ]
  },
  {
   "cell_type": "markdown",
   "id": "e5a1cbb7-54f9-425b-8b7c-9fbfbf9456f5",
   "metadata": {
    "jp-MarkdownHeadingCollapsed": true
   },
   "source": [
    "### Drug cultivation"
   ]
  },
  {
   "cell_type": "code",
   "execution_count": 10,
   "id": "7d18256b-395d-4166-b1d3-bcd5e41a97c0",
   "metadata": {},
   "outputs": [],
   "source": [
    "offset = 10 \n",
    "drug_cult = pd.read_csv(\"data/satellite/Drug cultivation site 2017.csv\")\n",
    "drug_cult = drug_cult.drop(columns = {'asdf_id','Level', 'gqid','shapeGroup', 'shapeID','shapeType', \"shapeName\"})\n",
    "drug_cult_col = drug_cult.loc[:, drug_cult.columns.str.contains(\"categorical\")]\n",
    "\n",
    "for col in drug_cult_col: \n",
    "    new_name = \"drug_cult2017\" + col.split(\".categorical_\",1)[1]\n",
    "    drug_cult.rename(columns = {col:new_name}, inplace = True)\n",
    "\n",
    "#drug_cult"
   ]
  },
  {
   "cell_type": "markdown",
   "id": "14430ee3-9142-41ce-8c8f-2fc09b5b88fe",
   "metadata": {
    "jp-MarkdownHeadingCollapsed": true
   },
   "source": [
    "### ESA Landcover"
   ]
  },
  {
   "cell_type": "code",
   "execution_count": 11,
   "id": "e1cd9747-5c41-4687-b95d-f9f1501c51c9",
   "metadata": {},
   "outputs": [],
   "source": [
    "esa_land = pd.read_csv(\"data/satellite/ESA landcover 2012-2016.csv\")\n",
    "esa_land2012 = esa_land.loc[:, esa_land.columns.str.contains(\"2012|id|name\")]\n",
    "esa_land2012 = esa_land2012.drop(columns = {'gqid', \"asdf_id\"})\n",
    "esa_land2012_col = esa_land2012.loc[:, esa_land2012.columns.str.contains(\"categorical\")]\n",
    "\n",
    "for col in esa_land2012_col:\n",
    "    new_name = \"esa_land2012\" + col.split(\"categorical\",1)[1]\n",
    "    esa_land2012.rename(columns = {col:new_name}, inplace=True)"
   ]
  },
  {
   "cell_type": "markdown",
   "id": "25032fb4-2066-4217-b8dd-d5c88d7ea1f6",
   "metadata": {
    "jp-MarkdownHeadingCollapsed": true
   },
   "source": [
    "### GEE modis "
   ]
  },
  {
   "cell_type": "code",
   "execution_count": 12,
   "id": "9a382de9-0008-40a9-a31d-ce8c49bb0592",
   "metadata": {},
   "outputs": [],
   "source": [
    "gee_modis = pd.read_csv(\"data/satellite/GEE modis 2012-2017.csv\")\n",
    "gee_modis2012 = gee_modis[gee_modis[\"year\"] == 2012]\n",
    "gee_modis2012 = gee_modis2012.drop(columns = {'system:index','country','level','system:time_start','.geo',\"year\",\"name\"})\n",
    "gee_modis2012 = gee_modis2012.add_prefix(\"gee_\")\n",
    "gee_modis2012 = gee_modis2012.rename(columns = {\"gee_id\":\"id\"})"
   ]
  },
  {
   "cell_type": "markdown",
   "id": "6ba637cd-948f-48ca-a8ed-052af73ea264",
   "metadata": {
    "jp-MarkdownHeadingCollapsed": true
   },
   "source": [
    "### GISA "
   ]
  },
  {
   "cell_type": "code",
   "execution_count": 13,
   "id": "dc303194-a157-40a1-bd3e-d112d012b20f",
   "metadata": {},
   "outputs": [],
   "source": [
    "gisa = pd.read_csv(\"data/satellite/GISA 2012-2019.csv\")\n",
    "gisa = gisa.drop(columns = {'system:index','country','level','system:time_start','.geo'})\n",
    "gisa2012 = gisa[gisa[\"year\"]==2012]\n",
    "gisa2012 = gisa2012.rename(columns = {\"total_area\":\"gisa2012\"})\n",
    "#gisa2012.isna().sum()"
   ]
  },
  {
   "cell_type": "markdown",
   "id": "1226bf8c-0fc7-46ce-a215-31daa3205353",
   "metadata": {
    "jp-MarkdownHeadingCollapsed": true
   },
   "source": [
    "### GHSL"
   ]
  },
  {
   "cell_type": "code",
   "execution_count": 14,
   "id": "b5a2cb66-72f0-45a7-bd35-23ee39e6ac0e",
   "metadata": {},
   "outputs": [],
   "source": [
    "ghsl = pd.read_csv(\"data/satellite/global_human_settlement_layer.csv\")\n",
    "ghsl = ghsl.drop(columns=['system:index', 'country', 'level', 'system:time_start', '.geo', \"year\", \"name\"])\n",
    "ghsl = ghsl.rename(columns = {\"total_volume\": \"ghsl2015\"})\n",
    "ghsl[\"ln_ghsl2015\"] = np.log(ghsl[\"ghsl2015\"])"
   ]
  },
  {
   "cell_type": "markdown",
   "id": "6970be81-f10a-41b5-9d2d-2fa9d5e4a918",
   "metadata": {
    "jp-MarkdownHeadingCollapsed": true
   },
   "source": [
    "### Gold deposits"
   ]
  },
  {
   "cell_type": "code",
   "execution_count": 15,
   "id": "8bcda3cf-88fe-47db-8502-a8dc9c1df128",
   "metadata": {},
   "outputs": [],
   "source": [
    "#gold =  pd.read_csv(\"data/satellite/Gold deposits.csv\")"
   ]
  },
  {
   "cell_type": "markdown",
   "id": "26747229-d4d1-4145-8e80-8fdb7cd53efd",
   "metadata": {
    "jp-MarkdownHeadingCollapsed": true
   },
   "source": [
    "### Physical elevation "
   ]
  },
  {
   "cell_type": "code",
   "execution_count": 16,
   "id": "e29524ea-783f-4b96-bbbe-9146cc46bf10",
   "metadata": {},
   "outputs": [],
   "source": [
    "elev = pd.read_csv(\"data/satellite/Physical Elevation.csv\")\n",
    "elev = elev.drop(columns = {'asdf_id','Level','gqid','shapeGroup', 'shapeID','shapeType', \"shapeName\"})\n",
    "elev_col = elev.loc[:, elev.columns.str.contains(\"elevation\")]\n",
    "\n",
    "for col in elev_col:\n",
    "    new_name = \"elev2017\" + col.split(\".\",2)[2]\n",
    "    elev = elev.rename(columns = {col:new_name})\n",
    "\n",
    "elev['ln_elev2017mean'] = np.log(elev['elev2017mean']+offset)"
   ]
  },
  {
   "cell_type": "markdown",
   "id": "4eb45729-6fed-4342-a6b0-e3f5f72ef5a1",
   "metadata": {},
   "source": [
    "### Malaria atlas "
   ]
  },
  {
   "cell_type": "code",
   "execution_count": 17,
   "id": "257fe66f-3051-41b9-99f7-9279a587abd5",
   "metadata": {},
   "outputs": [],
   "source": [
    "offset = 1000 \n",
    "\n",
    "mala = pd.read_csv(\"data/satellite/Malaria Atlas.csv\")\n",
    "mala2012 = mala.drop(columns = {'asdf_id','Level', 'gqid','shapeGroup','shapeID','shapeType','map_pf_incidence_rate.2013.mean', 'map_pf_incidence_rate.2013.min',\n",
    "       'map_pf_incidence_rate.2013.max', 'map_pf_incidence_rate.2013.count','map_pf_incidence_rate.2014.mean', 'map_pf_incidence_rate.2014.min',\n",
    "       'map_pf_incidence_rate.2014.max', 'map_pf_incidence_rate.2014.count','map_pf_incidence_rate.2015.mean', 'map_pf_incidence_rate.2015.min',\n",
    "       'map_pf_incidence_rate.2015.max', 'map_pf_incidence_rate.2015.count','map_pf_incidence_rate.2016.mean', 'map_pf_incidence_rate.2016.min',\n",
    "       'map_pf_incidence_rate.2016.max', 'map_pf_incidence_rate.2016.count','map_pf_incidence_rate.2017.mean', 'map_pf_incidence_rate.2017.min',\n",
    "       'map_pf_incidence_rate.2017.max', 'map_pf_incidence_rate.2017.count','map_pf_incidence_rate.2018.mean', 'map_pf_incidence_rate.2018.min',\n",
    "       'map_pf_incidence_rate.2018.max', 'map_pf_incidence_rate.2018.count','map_pf_incidence_rate.2019.mean', 'map_pf_incidence_rate.2019.min',\n",
    "       'map_pf_incidence_rate.2019.max', 'map_pf_incidence_rate.2019.count', \"shapeName\"})\n",
    "\n",
    "#mala2012 = mala.loc[:, mala.columns.str.contains(\"2012|id\", regex=True)]\n",
    "mala2012_col = mala2012.loc[:, mala2012.columns.str.contains(\"rate\")]\n",
    "\n",
    "for col in mala2012_col:\n",
    "    new_name = \"mal_inci_rt_\" + col.split(\".\",2)[2]\n",
    "    mala2012 = mala2012.rename(columns = {col:new_name})\n"
   ]
  },
  {
   "cell_type": "markdown",
   "id": "e36335e3-cb50-40d4-8097-fb844758ff70",
   "metadata": {},
   "source": [
    "## Create a dataframe with only satellite data\n"
   ]
  },
  {
   "cell_type": "markdown",
   "id": "1918ef5d-9918-4954-8392-97c5ec68647a",
   "metadata": {},
   "source": [
    "### Unify all the satellite data"
   ]
  },
  {
   "cell_type": "code",
   "execution_count": 18,
   "id": "14209dc3-6ab2-4db9-a031-53323d45dd66",
   "metadata": {},
   "outputs": [],
   "source": [
    "# Satellite dataframes with the same construction \n",
    "dataframes = [coast,dia,dist_drug,road,water,drug_cult,esa_land2012, gee_modis2012, ghsl, elev, mala2012, gisa2012]\n",
    "\n",
    "# Satellite data from the Bolivia dataset \n",
    "\n",
    "satellite_full = bol[[\"id\", 'mun_id' , 'tr400_pop2012', \"ln_t400NTLpc2012\",'ln_t400NTLpc2020',]]\n",
    "\n",
    "# Other satellite data\n",
    "sat_filtered = sat[[\"id\", 'egdp2012','agr_land2012','urb_land2012','pm25_2012','land_temp2012',]]\n",
    "\n",
    "# Merging the satellite dataframes \n",
    "satellite_full = satellite_full.merge(sat_filtered, on=\"id\", how=\"outer\")\n",
    "satellite_full = satellite_full.merge(air_temp_mean[[\"airTemp2012\",\"id\"]], on=\"id\", how=\"outer\")\n",
    "\n",
    "for df in dataframes: \n",
    "    satellite_full = satellite_full.merge(df, on=\"id\", how=\"outer\")\n",
    "\n",
    "# Export satellite data\n",
    "#satellite_full.to_csv(\"data/sdg_prediction/satellite_full.csv\")\n",
    "\n",
    "#list(satellite_full.columns)\n",
    "\n",
    "#satellite_full"
   ]
  },
  {
   "cell_type": "markdown",
   "id": "ab652d9d-284b-45ea-9c0f-725ea8b1ede0",
   "metadata": {},
   "source": [
    "### Normalize the satellite variables "
   ]
  },
  {
   "cell_type": "code",
   "execution_count": 19,
   "id": "70cae1f1-dd27-4fa5-8fbd-3457c078f5ed",
   "metadata": {},
   "outputs": [],
   "source": [
    "# Creation of the satellite dataframe\n",
    "offset = 1000  \n",
    "\n",
    "sat_mod = pd.DataFrame()\n",
    "\n",
    "# ID \n",
    "sat_mod[\"id\"] = satellite_full[\"id\"]\n",
    "\n",
    "# Log EGDP per capita - sum EGDP\n",
    "satellite_full[\"EGDPpc2012\"] = (satellite_full[\"egdp2012\"]*1000000/ bol[\"tr400_pop2012\"])\n",
    "sat_mod[\"lnEGDPpc2012\"] = np.log(satellite_full[\"EGDPpc2012\"])\n",
    "\n",
    "# Land cover agriculture/urban\n",
    "sat_mod[\"lnagr_land2012\"] = np.log(satellite_full[\"agr_land2012\"] + offset)\n",
    "sat_mod[\"lnurb_land2012\"] = np.log(satellite_full[\"urb_land2012\"] + offset)\n",
    "\n",
    "# Urban landcover percentage\n",
    "satellite_full[\"total_land2012\"] = satellite_full[\"agr_land2012\"] + satellite_full[\"urb_land2012\"]\n",
    "satellite_full[\"perUrb_land2012\"] = satellite_full[\"urb_land2012\"] / satellite_full[\"total_land2012\"]\n",
    "sat_mod[\"ln_perUrb_land2012\"] = np.log(satellite_full[\"perUrb_land2012\"].fillna(0) + offset)\n",
    "\n",
    "# Population\n",
    "sat_mod[\"ln_tr400_pop2012\"] = np.log(satellite_full[\"tr400_pop2012\"])\n",
    "\n",
    "# PM2.5\n",
    "sat_mod[\"ln_pm25_2012\"] = np.log(satellite_full[\"pm25_2012\"])\n",
    "\n",
    "# Surface temperature\n",
    "sat_mod[\"ln_land_temp2012\"] = np.log(satellite_full[\"land_temp2012\"])\n",
    "\n",
    "# NTL\n",
    "sat_mod[\"ln_t400NTLpc2012\"] = satellite_full[\"ln_t400NTLpc2012\"]\n",
    "\n",
    "# Distance to road \n",
    "sat_mod[\"ln_dist_road2017\"] = np.log(satellite_full[\"distance_road2017mean\"]) \n",
    "\n",
    "# GHSL \n",
    "sat_mod[\"ln_ghsl2015\"] = satellite_full[\"ln_ghsl2015\"]\n",
    "\n",
    "# Distance Diamond deposits \n",
    "sat_mod[\"dist_diamond2015\"] = satellite_full[\"diamond2017mean\"]\n",
    "\n",
    "#Malaria Rate\n",
    "sat_mod[\"ln_mal_inci_rt_mean\"] = np.log(mala2012[\"mal_inci_rt_mean\"]+offset)\n",
    "\n",
    "sat_mod.to_csv(\"data/sdg_prediction/sat_mod.csv\")"
   ]
  },
  {
   "cell_type": "code",
   "execution_count": 20,
   "id": "4ab66013-a146-42bc-a39c-492da62418ac",
   "metadata": {},
   "outputs": [],
   "source": [
    "#Standarizing the labels\n",
    "\n",
    "sta_indicators = bol[['sdg1_4_abs', 'sdg1_1_dtl_abs', 'sdg1_1_pubn_abs', 'sdg1_2_dd_abs',\n",
    "               'sdg1_4_ebs_abs', 'sdg2_2_cm_abs', 'sdg2_2_wow_abs', 'sdg2_4_apu_abs',\n",
    "               'sdg2_4_tm_abs', 'sdg3_2_fb_abs', 'sdg3_2_ffb_abs', 'sdg3_3_cd_abs',\n",
    "               'sdg3_3_pd_abs', 'sdg3_3_mc_abs', 'sdg3_3_tc_abs', 'sdg3_3_vih_abs',\n",
    "               'sdg3_7_bpw_abs', 'sdg4_1_mhs_abs', 'sdg4_1_fhs_abs', 'sdg4_4_heu_abs',\n",
    "               'sdg4_6_pnl_abs', 'sdg4_c_uti_abs', 'sdg4_c_uts_abs', 'sdg6_1_wdc_abs',\n",
    "               'sdg6_2_bsc_abs', 'sdg7_1_wec_abs', 'sdg7_1_rec_abs', 'sdg7_1_cec_abs',\n",
    "               'sdg7_3_tee_abs', 'sdg8_4_rem_abs', 'sdg8_5_ompr_abs',\n",
    "               'sdg8_5_ofpr_abs', 'sdg8_6_mlm_abs', 'sdg8_6_wlm_abs',\n",
    "               'sdg8_10_dbb_abs', 'sdg9_1_rmun_abs', 'sdg9_5_kcd_abs',\n",
    "               'sdg9_5_eutf_abs', 'sdg9_c_hf_abs', 'sdg9_c_tr_abs', 'sdg10_2_dss_abs',\n",
    "               'sdg11_1_ho_abs', 'sdg11_1_wos_abs', 'sdg11_2_mtv_abs',\n",
    "               'sdg13_2_tco2_abs', 'sdg13_2_ad_abs', 'sdg15_1_pa_abs',\n",
    "               'sdg15_5_rl_abs', 'sdg16_1_rh_abs', 'sdg16_6_aob_abs',\n",
    "               'sdg16_9_ncr_abs', 'sdg17_5_tpi_abs', 'sdg1_4_abs_norm',\n",
    "               'index_sdg1','index_sdg2','index_sdg3','index_sdg4','index_sdg5','index_sdg6','index_sdg7',\n",
    "               'index_sdg8','index_sdg9','index_sdg10','index_sdg11','index_sdg13','index_sdg15',\n",
    "               'index_sdg16','index_sdg17']]\n",
    "\n",
    "# Standarizing the labels \n",
    "\n",
    "sta_indicators = (sta_indicators - sta_indicators.mean())/sta_indicators.std()\n",
    "#norm_df = (norm_df - norm_df.min()) / (norm_df.max()-norm_df.min())\n",
    "sta_indicators = sta_indicators.reset_index()\n",
    "sta_indicators = sta_indicators.rename(columns = {\"index\":\"id\"})\n",
    "\n",
    "# Export the standarized sdg indicators \n",
    "#sta_indicators.to_csv(\"data/sdg_prediction/sta_indicators.csv\")"
   ]
  },
  {
   "cell_type": "markdown",
   "id": "c38e72b6-61e6-42e5-bd7d-32220a569e1e",
   "metadata": {},
   "source": [
    "## Descriptive statistics"
   ]
  },
  {
   "cell_type": "code",
   "execution_count": 21,
   "id": "0cee0973-6fb7-4e50-a6f4-c3ca30054f0e",
   "metadata": {},
   "outputs": [
    {
     "data": {
      "text/html": [
       "<div>\n",
       "<style scoped>\n",
       "    .dataframe tbody tr th:only-of-type {\n",
       "        vertical-align: middle;\n",
       "    }\n",
       "\n",
       "    .dataframe tbody tr th {\n",
       "        vertical-align: top;\n",
       "    }\n",
       "\n",
       "    .dataframe thead th {\n",
       "        text-align: right;\n",
       "    }\n",
       "</style>\n",
       "<table border=\"1\" class=\"dataframe\">\n",
       "  <thead>\n",
       "    <tr style=\"text-align: right;\">\n",
       "      <th></th>\n",
       "      <th>count</th>\n",
       "      <th>mean</th>\n",
       "      <th>std</th>\n",
       "      <th>min</th>\n",
       "      <th>25%</th>\n",
       "      <th>50%</th>\n",
       "      <th>75%</th>\n",
       "      <th>max</th>\n",
       "    </tr>\n",
       "  </thead>\n",
       "  <tbody>\n",
       "    <tr>\n",
       "      <th>lnEGDPpc2012</th>\n",
       "      <td>339.0</td>\n",
       "      <td>8.40</td>\n",
       "      <td>1.24</td>\n",
       "      <td>4.71</td>\n",
       "      <td>7.53</td>\n",
       "      <td>8.24</td>\n",
       "      <td>9.16</td>\n",
       "      <td>11.69</td>\n",
       "    </tr>\n",
       "    <tr>\n",
       "      <th>lnagr_land2012</th>\n",
       "      <td>339.0</td>\n",
       "      <td>6.97</td>\n",
       "      <td>0.18</td>\n",
       "      <td>6.91</td>\n",
       "      <td>6.91</td>\n",
       "      <td>6.91</td>\n",
       "      <td>6.94</td>\n",
       "      <td>8.37</td>\n",
       "    </tr>\n",
       "    <tr>\n",
       "      <th>lnurb_land2012</th>\n",
       "      <td>339.0</td>\n",
       "      <td>7.00</td>\n",
       "      <td>0.39</td>\n",
       "      <td>6.91</td>\n",
       "      <td>6.91</td>\n",
       "      <td>6.91</td>\n",
       "      <td>6.93</td>\n",
       "      <td>10.27</td>\n",
       "    </tr>\n",
       "    <tr>\n",
       "      <th>ln_perUrb_land2012</th>\n",
       "      <td>339.0</td>\n",
       "      <td>6.91</td>\n",
       "      <td>0.00</td>\n",
       "      <td>6.91</td>\n",
       "      <td>6.91</td>\n",
       "      <td>6.91</td>\n",
       "      <td>6.91</td>\n",
       "      <td>6.91</td>\n",
       "    </tr>\n",
       "    <tr>\n",
       "      <th>ln_tr400_pop2012</th>\n",
       "      <td>339.0</td>\n",
       "      <td>9.34</td>\n",
       "      <td>1.15</td>\n",
       "      <td>6.25</td>\n",
       "      <td>8.69</td>\n",
       "      <td>9.29</td>\n",
       "      <td>9.90</td>\n",
       "      <td>14.17</td>\n",
       "    </tr>\n",
       "    <tr>\n",
       "      <th>...</th>\n",
       "      <td>...</td>\n",
       "      <td>...</td>\n",
       "      <td>...</td>\n",
       "      <td>...</td>\n",
       "      <td>...</td>\n",
       "      <td>...</td>\n",
       "      <td>...</td>\n",
       "      <td>...</td>\n",
       "    </tr>\n",
       "    <tr>\n",
       "      <th>index_sdg11</th>\n",
       "      <td>339.0</td>\n",
       "      <td>-0.00</td>\n",
       "      <td>1.00</td>\n",
       "      <td>-2.75</td>\n",
       "      <td>-0.62</td>\n",
       "      <td>-0.07</td>\n",
       "      <td>0.47</td>\n",
       "      <td>4.57</td>\n",
       "    </tr>\n",
       "    <tr>\n",
       "      <th>index_sdg13</th>\n",
       "      <td>339.0</td>\n",
       "      <td>0.00</td>\n",
       "      <td>1.00</td>\n",
       "      <td>-3.89</td>\n",
       "      <td>-0.47</td>\n",
       "      <td>0.34</td>\n",
       "      <td>0.63</td>\n",
       "      <td>1.78</td>\n",
       "    </tr>\n",
       "    <tr>\n",
       "      <th>index_sdg15</th>\n",
       "      <td>339.0</td>\n",
       "      <td>0.00</td>\n",
       "      <td>1.00</td>\n",
       "      <td>-2.86</td>\n",
       "      <td>-0.22</td>\n",
       "      <td>-0.21</td>\n",
       "      <td>-0.02</td>\n",
       "      <td>2.45</td>\n",
       "    </tr>\n",
       "    <tr>\n",
       "      <th>index_sdg16</th>\n",
       "      <td>339.0</td>\n",
       "      <td>0.00</td>\n",
       "      <td>1.00</td>\n",
       "      <td>-4.25</td>\n",
       "      <td>-0.49</td>\n",
       "      <td>0.19</td>\n",
       "      <td>0.68</td>\n",
       "      <td>2.05</td>\n",
       "    </tr>\n",
       "    <tr>\n",
       "      <th>index_sdg17</th>\n",
       "      <td>339.0</td>\n",
       "      <td>-0.00</td>\n",
       "      <td>1.00</td>\n",
       "      <td>-1.21</td>\n",
       "      <td>-0.72</td>\n",
       "      <td>-0.27</td>\n",
       "      <td>0.37</td>\n",
       "      <td>4.41</td>\n",
       "    </tr>\n",
       "  </tbody>\n",
       "</table>\n",
       "<p>80 rows × 8 columns</p>\n",
       "</div>"
      ],
      "text/plain": [
       "                    count  mean   std   min   25%   50%   75%    max\n",
       "lnEGDPpc2012        339.0  8.40  1.24  4.71  7.53  8.24  9.16  11.69\n",
       "lnagr_land2012      339.0  6.97  0.18  6.91  6.91  6.91  6.94   8.37\n",
       "lnurb_land2012      339.0  7.00  0.39  6.91  6.91  6.91  6.93  10.27\n",
       "ln_perUrb_land2012  339.0  6.91  0.00  6.91  6.91  6.91  6.91   6.91\n",
       "ln_tr400_pop2012    339.0  9.34  1.15  6.25  8.69  9.29  9.90  14.17\n",
       "...                   ...   ...   ...   ...   ...   ...   ...    ...\n",
       "index_sdg11         339.0 -0.00  1.00 -2.75 -0.62 -0.07  0.47   4.57\n",
       "index_sdg13         339.0  0.00  1.00 -3.89 -0.47  0.34  0.63   1.78\n",
       "index_sdg15         339.0  0.00  1.00 -2.86 -0.22 -0.21 -0.02   2.45\n",
       "index_sdg16         339.0  0.00  1.00 -4.25 -0.49  0.19  0.68   2.05\n",
       "index_sdg17         339.0 -0.00  1.00 -1.21 -0.72 -0.27  0.37   4.41\n",
       "\n",
       "[80 rows x 8 columns]"
      ]
     },
     "execution_count": 21,
     "metadata": {},
     "output_type": "execute_result"
    }
   ],
   "source": [
    "# Merging the labels and features datasets \n",
    "\n",
    "desc_df = sat_mod.merge(sta_indicators, on=\"id\", how=\"outer\")\n",
    "desc_df = desc_df = desc_df.drop(\"id\", axis=1)\n",
    "desc_table = desc_df.describe().round(2)\n",
    "desc_table = desc_table.transpose()\n",
    "desc_table\n",
    "#desc_table.to_csv(\"description_statistics.csv\")"
   ]
  },
  {
   "cell_type": "markdown",
   "id": "fcc12955-1001-41b3-ab95-72cbe46cc29b",
   "metadata": {},
   "source": [
    "# **Data exploration**"
   ]
  },
  {
   "cell_type": "code",
   "execution_count": 22,
   "id": "7ce64087-6126-4d5a-aa1e-fd5cda05150b",
   "metadata": {},
   "outputs": [
    {
     "data": {
      "text/html": [
       "<div>\n",
       "<style scoped>\n",
       "    .dataframe tbody tr th:only-of-type {\n",
       "        vertical-align: middle;\n",
       "    }\n",
       "\n",
       "    .dataframe tbody tr th {\n",
       "        vertical-align: top;\n",
       "    }\n",
       "\n",
       "    .dataframe thead th {\n",
       "        text-align: right;\n",
       "    }\n",
       "</style>\n",
       "<table border=\"1\" class=\"dataframe\">\n",
       "  <thead>\n",
       "    <tr style=\"text-align: right;\">\n",
       "      <th></th>\n",
       "      <th>id</th>\n",
       "      <th>lnEGDPpc2012</th>\n",
       "      <th>lnagr_land2012</th>\n",
       "      <th>lnurb_land2012</th>\n",
       "      <th>ln_perUrb_land2012</th>\n",
       "      <th>ln_tr400_pop2012</th>\n",
       "      <th>ln_pm25_2012</th>\n",
       "      <th>ln_land_temp2012</th>\n",
       "      <th>ln_t400NTLpc2012</th>\n",
       "      <th>ln_dist_road2017</th>\n",
       "      <th>ln_ghsl2015</th>\n",
       "      <th>dist_diamond2015</th>\n",
       "      <th>ln_mal_inci_rt_mean</th>\n",
       "    </tr>\n",
       "  </thead>\n",
       "  <tbody>\n",
       "    <tr>\n",
       "      <th>count</th>\n",
       "      <td>339.00</td>\n",
       "      <td>339.00</td>\n",
       "      <td>339.00</td>\n",
       "      <td>339.00</td>\n",
       "      <td>339.00</td>\n",
       "      <td>339.00</td>\n",
       "      <td>339.00</td>\n",
       "      <td>339.00</td>\n",
       "      <td>339.00</td>\n",
       "      <td>339.00</td>\n",
       "      <td>339.00</td>\n",
       "      <td>339.00</td>\n",
       "      <td>339.00</td>\n",
       "    </tr>\n",
       "    <tr>\n",
       "      <th>mean</th>\n",
       "      <td>169.00</td>\n",
       "      <td>8.40</td>\n",
       "      <td>6.97</td>\n",
       "      <td>7.00</td>\n",
       "      <td>6.91</td>\n",
       "      <td>9.34</td>\n",
       "      <td>3.12</td>\n",
       "      <td>5.70</td>\n",
       "      <td>13.03</td>\n",
       "      <td>8.64</td>\n",
       "      <td>14.53</td>\n",
       "      <td>412609.39</td>\n",
       "      <td>6.91</td>\n",
       "    </tr>\n",
       "    <tr>\n",
       "      <th>std</th>\n",
       "      <td>98.01</td>\n",
       "      <td>1.24</td>\n",
       "      <td>0.18</td>\n",
       "      <td>0.39</td>\n",
       "      <td>0.00</td>\n",
       "      <td>1.15</td>\n",
       "      <td>0.29</td>\n",
       "      <td>0.01</td>\n",
       "      <td>1.67</td>\n",
       "      <td>0.65</td>\n",
       "      <td>1.53</td>\n",
       "      <td>178775.04</td>\n",
       "      <td>0.00</td>\n",
       "    </tr>\n",
       "    <tr>\n",
       "      <th>min</th>\n",
       "      <td>0.00</td>\n",
       "      <td>4.71</td>\n",
       "      <td>6.91</td>\n",
       "      <td>6.91</td>\n",
       "      <td>6.91</td>\n",
       "      <td>6.25</td>\n",
       "      <td>2.11</td>\n",
       "      <td>5.66</td>\n",
       "      <td>0.86</td>\n",
       "      <td>6.46</td>\n",
       "      <td>10.81</td>\n",
       "      <td>31272.34</td>\n",
       "      <td>6.91</td>\n",
       "    </tr>\n",
       "    <tr>\n",
       "      <th>25%</th>\n",
       "      <td>84.50</td>\n",
       "      <td>7.53</td>\n",
       "      <td>6.91</td>\n",
       "      <td>6.91</td>\n",
       "      <td>6.91</td>\n",
       "      <td>8.69</td>\n",
       "      <td>2.89</td>\n",
       "      <td>5.69</td>\n",
       "      <td>12.05</td>\n",
       "      <td>8.23</td>\n",
       "      <td>13.61</td>\n",
       "      <td>277055.36</td>\n",
       "      <td>6.91</td>\n",
       "    </tr>\n",
       "    <tr>\n",
       "      <th>50%</th>\n",
       "      <td>169.00</td>\n",
       "      <td>8.24</td>\n",
       "      <td>6.91</td>\n",
       "      <td>6.91</td>\n",
       "      <td>6.91</td>\n",
       "      <td>9.29</td>\n",
       "      <td>3.09</td>\n",
       "      <td>5.70</td>\n",
       "      <td>13.12</td>\n",
       "      <td>8.57</td>\n",
       "      <td>14.42</td>\n",
       "      <td>394239.42</td>\n",
       "      <td>6.91</td>\n",
       "    </tr>\n",
       "    <tr>\n",
       "      <th>75%</th>\n",
       "      <td>253.50</td>\n",
       "      <td>9.16</td>\n",
       "      <td>6.94</td>\n",
       "      <td>6.93</td>\n",
       "      <td>6.91</td>\n",
       "      <td>9.90</td>\n",
       "      <td>3.36</td>\n",
       "      <td>5.71</td>\n",
       "      <td>14.27</td>\n",
       "      <td>9.08</td>\n",
       "      <td>15.35</td>\n",
       "      <td>537968.24</td>\n",
       "      <td>6.91</td>\n",
       "    </tr>\n",
       "    <tr>\n",
       "      <th>max</th>\n",
       "      <td>338.00</td>\n",
       "      <td>11.69</td>\n",
       "      <td>8.37</td>\n",
       "      <td>10.27</td>\n",
       "      <td>6.91</td>\n",
       "      <td>14.17</td>\n",
       "      <td>3.65</td>\n",
       "      <td>5.72</td>\n",
       "      <td>17.07</td>\n",
       "      <td>10.41</td>\n",
       "      <td>20.25</td>\n",
       "      <td>843965.25</td>\n",
       "      <td>6.91</td>\n",
       "    </tr>\n",
       "  </tbody>\n",
       "</table>\n",
       "</div>"
      ],
      "text/plain": [
       "           id  lnEGDPpc2012  lnagr_land2012  lnurb_land2012  \\\n",
       "count  339.00        339.00          339.00          339.00   \n",
       "mean   169.00          8.40            6.97            7.00   \n",
       "std     98.01          1.24            0.18            0.39   \n",
       "min      0.00          4.71            6.91            6.91   \n",
       "25%     84.50          7.53            6.91            6.91   \n",
       "50%    169.00          8.24            6.91            6.91   \n",
       "75%    253.50          9.16            6.94            6.93   \n",
       "max    338.00         11.69            8.37           10.27   \n",
       "\n",
       "       ln_perUrb_land2012  ln_tr400_pop2012  ln_pm25_2012  ln_land_temp2012  \\\n",
       "count              339.00            339.00        339.00            339.00   \n",
       "mean                 6.91              9.34          3.12              5.70   \n",
       "std                  0.00              1.15          0.29              0.01   \n",
       "min                  6.91              6.25          2.11              5.66   \n",
       "25%                  6.91              8.69          2.89              5.69   \n",
       "50%                  6.91              9.29          3.09              5.70   \n",
       "75%                  6.91              9.90          3.36              5.71   \n",
       "max                  6.91             14.17          3.65              5.72   \n",
       "\n",
       "       ln_t400NTLpc2012  ln_dist_road2017  ln_ghsl2015  dist_diamond2015  \\\n",
       "count            339.00            339.00       339.00            339.00   \n",
       "mean              13.03              8.64        14.53         412609.39   \n",
       "std                1.67              0.65         1.53         178775.04   \n",
       "min                0.86              6.46        10.81          31272.34   \n",
       "25%               12.05              8.23        13.61         277055.36   \n",
       "50%               13.12              8.57        14.42         394239.42   \n",
       "75%               14.27              9.08        15.35         537968.24   \n",
       "max               17.07             10.41        20.25         843965.25   \n",
       "\n",
       "       ln_mal_inci_rt_mean  \n",
       "count               339.00  \n",
       "mean                  6.91  \n",
       "std                   0.00  \n",
       "min                   6.91  \n",
       "25%                   6.91  \n",
       "50%                   6.91  \n",
       "75%                   6.91  \n",
       "max                   6.91  "
      ]
     },
     "execution_count": 22,
     "metadata": {},
     "output_type": "execute_result"
    }
   ],
   "source": [
    "sat_mod.describe().round(2)"
   ]
  },
  {
   "cell_type": "code",
   "execution_count": 23,
   "id": "dda26273-249e-4a16-aa45-b496a49ab5c8",
   "metadata": {},
   "outputs": [
    {
     "data": {
      "text/html": [
       "<div>\n",
       "<style scoped>\n",
       "    .dataframe tbody tr th:only-of-type {\n",
       "        vertical-align: middle;\n",
       "    }\n",
       "\n",
       "    .dataframe tbody tr th {\n",
       "        vertical-align: top;\n",
       "    }\n",
       "\n",
       "    .dataframe thead th {\n",
       "        text-align: right;\n",
       "    }\n",
       "</style>\n",
       "<table border=\"1\" class=\"dataframe\">\n",
       "  <thead>\n",
       "    <tr style=\"text-align: right;\">\n",
       "      <th></th>\n",
       "      <th>id</th>\n",
       "      <th>mun_id</th>\n",
       "      <th>index_sdg1</th>\n",
       "      <th>index_sdg2</th>\n",
       "      <th>index_sdg3</th>\n",
       "      <th>index_sdg4</th>\n",
       "      <th>index_sdg5</th>\n",
       "      <th>index_sdg6</th>\n",
       "      <th>index_sdg7</th>\n",
       "      <th>index_sdg8</th>\n",
       "      <th>index_sdg9</th>\n",
       "      <th>index_sdg10</th>\n",
       "      <th>index_sdg11</th>\n",
       "      <th>index_sdg13</th>\n",
       "      <th>index_sdg15</th>\n",
       "      <th>index_sdg16</th>\n",
       "      <th>index_sdg17</th>\n",
       "      <th>imds</th>\n",
       "    </tr>\n",
       "  </thead>\n",
       "  <tbody>\n",
       "    <tr>\n",
       "      <th>count</th>\n",
       "      <td>339.00</td>\n",
       "      <td>339.00</td>\n",
       "      <td>339.00</td>\n",
       "      <td>339.00</td>\n",
       "      <td>339.00</td>\n",
       "      <td>339.00</td>\n",
       "      <td>339.00</td>\n",
       "      <td>339.00</td>\n",
       "      <td>339.00</td>\n",
       "      <td>339.00</td>\n",
       "      <td>339.00</td>\n",
       "      <td>339.00</td>\n",
       "      <td>339.00</td>\n",
       "      <td>339.00</td>\n",
       "      <td>339.00</td>\n",
       "      <td>339.00</td>\n",
       "      <td>339.00</td>\n",
       "      <td>339.00</td>\n",
       "    </tr>\n",
       "    <tr>\n",
       "      <th>mean</th>\n",
       "      <td>169.00</td>\n",
       "      <td>42887.39</td>\n",
       "      <td>37.46</td>\n",
       "      <td>40.68</td>\n",
       "      <td>75.21</td>\n",
       "      <td>53.25</td>\n",
       "      <td>73.06</td>\n",
       "      <td>35.80</td>\n",
       "      <td>52.26</td>\n",
       "      <td>44.98</td>\n",
       "      <td>35.53</td>\n",
       "      <td>66.05</td>\n",
       "      <td>37.54</td>\n",
       "      <td>72.22</td>\n",
       "      <td>53.89</td>\n",
       "      <td>73.84</td>\n",
       "      <td>14.01</td>\n",
       "      <td>51.05</td>\n",
       "    </tr>\n",
       "    <tr>\n",
       "      <th>std</th>\n",
       "      <td>98.01</td>\n",
       "      <td>23669.93</td>\n",
       "      <td>20.95</td>\n",
       "      <td>11.05</td>\n",
       "      <td>7.36</td>\n",
       "      <td>12.11</td>\n",
       "      <td>9.72</td>\n",
       "      <td>16.23</td>\n",
       "      <td>14.93</td>\n",
       "      <td>10.51</td>\n",
       "      <td>15.20</td>\n",
       "      <td>14.22</td>\n",
       "      <td>12.52</td>\n",
       "      <td>15.49</td>\n",
       "      <td>18.82</td>\n",
       "      <td>9.68</td>\n",
       "      <td>11.61</td>\n",
       "      <td>6.77</td>\n",
       "    </tr>\n",
       "    <tr>\n",
       "      <th>min</th>\n",
       "      <td>0.00</td>\n",
       "      <td>10101.00</td>\n",
       "      <td>0.06</td>\n",
       "      <td>21.44</td>\n",
       "      <td>50.23</td>\n",
       "      <td>12.37</td>\n",
       "      <td>37.79</td>\n",
       "      <td>0.00</td>\n",
       "      <td>24.94</td>\n",
       "      <td>14.95</td>\n",
       "      <td>0.62</td>\n",
       "      <td>10.26</td>\n",
       "      <td>3.05</td>\n",
       "      <td>11.90</td>\n",
       "      <td>0.00</td>\n",
       "      <td>32.72</td>\n",
       "      <td>0.00</td>\n",
       "      <td>35.70</td>\n",
       "    </tr>\n",
       "    <tr>\n",
       "      <th>25%</th>\n",
       "      <td>84.50</td>\n",
       "      <td>21101.50</td>\n",
       "      <td>21.64</td>\n",
       "      <td>30.78</td>\n",
       "      <td>70.38</td>\n",
       "      <td>46.61</td>\n",
       "      <td>68.28</td>\n",
       "      <td>25.49</td>\n",
       "      <td>40.94</td>\n",
       "      <td>38.12</td>\n",
       "      <td>24.33</td>\n",
       "      <td>57.95</td>\n",
       "      <td>29.77</td>\n",
       "      <td>64.93</td>\n",
       "      <td>49.79</td>\n",
       "      <td>69.06</td>\n",
       "      <td>5.69</td>\n",
       "      <td>47.00</td>\n",
       "    </tr>\n",
       "    <tr>\n",
       "      <th>50%</th>\n",
       "      <td>169.00</td>\n",
       "      <td>40301.00</td>\n",
       "      <td>34.76</td>\n",
       "      <td>37.98</td>\n",
       "      <td>76.17</td>\n",
       "      <td>54.38</td>\n",
       "      <td>74.24</td>\n",
       "      <td>34.92</td>\n",
       "      <td>50.15</td>\n",
       "      <td>45.20</td>\n",
       "      <td>34.91</td>\n",
       "      <td>68.62</td>\n",
       "      <td>36.71</td>\n",
       "      <td>77.41</td>\n",
       "      <td>50.00</td>\n",
       "      <td>75.63</td>\n",
       "      <td>10.89</td>\n",
       "      <td>50.50</td>\n",
       "    </tr>\n",
       "    <tr>\n",
       "      <th>75%</th>\n",
       "      <td>253.50</td>\n",
       "      <td>70153.00</td>\n",
       "      <td>51.88</td>\n",
       "      <td>49.11</td>\n",
       "      <td>80.75</td>\n",
       "      <td>61.11</td>\n",
       "      <td>79.62</td>\n",
       "      <td>44.70</td>\n",
       "      <td>62.29</td>\n",
       "      <td>51.92</td>\n",
       "      <td>46.04</td>\n",
       "      <td>75.69</td>\n",
       "      <td>43.42</td>\n",
       "      <td>82.00</td>\n",
       "      <td>53.59</td>\n",
       "      <td>80.40</td>\n",
       "      <td>18.31</td>\n",
       "      <td>54.85</td>\n",
       "    </tr>\n",
       "    <tr>\n",
       "      <th>max</th>\n",
       "      <td>338.00</td>\n",
       "      <td>90503.00</td>\n",
       "      <td>90.46</td>\n",
       "      <td>71.37</td>\n",
       "      <td>89.05</td>\n",
       "      <td>85.82</td>\n",
       "      <td>93.54</td>\n",
       "      <td>95.01</td>\n",
       "      <td>96.53</td>\n",
       "      <td>72.51</td>\n",
       "      <td>78.86</td>\n",
       "      <td>95.71</td>\n",
       "      <td>94.81</td>\n",
       "      <td>99.77</td>\n",
       "      <td>100.00</td>\n",
       "      <td>93.66</td>\n",
       "      <td>65.25</td>\n",
       "      <td>80.20</td>\n",
       "    </tr>\n",
       "  </tbody>\n",
       "</table>\n",
       "</div>"
      ],
      "text/plain": [
       "           id    mun_id  index_sdg1  index_sdg2  index_sdg3  index_sdg4  \\\n",
       "count  339.00    339.00      339.00      339.00      339.00      339.00   \n",
       "mean   169.00  42887.39       37.46       40.68       75.21       53.25   \n",
       "std     98.01  23669.93       20.95       11.05        7.36       12.11   \n",
       "min      0.00  10101.00        0.06       21.44       50.23       12.37   \n",
       "25%     84.50  21101.50       21.64       30.78       70.38       46.61   \n",
       "50%    169.00  40301.00       34.76       37.98       76.17       54.38   \n",
       "75%    253.50  70153.00       51.88       49.11       80.75       61.11   \n",
       "max    338.00  90503.00       90.46       71.37       89.05       85.82   \n",
       "\n",
       "       index_sdg5  index_sdg6  index_sdg7  index_sdg8  index_sdg9  \\\n",
       "count      339.00      339.00      339.00      339.00      339.00   \n",
       "mean        73.06       35.80       52.26       44.98       35.53   \n",
       "std          9.72       16.23       14.93       10.51       15.20   \n",
       "min         37.79        0.00       24.94       14.95        0.62   \n",
       "25%         68.28       25.49       40.94       38.12       24.33   \n",
       "50%         74.24       34.92       50.15       45.20       34.91   \n",
       "75%         79.62       44.70       62.29       51.92       46.04   \n",
       "max         93.54       95.01       96.53       72.51       78.86   \n",
       "\n",
       "       index_sdg10  index_sdg11  index_sdg13  index_sdg15  index_sdg16  \\\n",
       "count       339.00       339.00       339.00       339.00       339.00   \n",
       "mean         66.05        37.54        72.22        53.89        73.84   \n",
       "std          14.22        12.52        15.49        18.82         9.68   \n",
       "min          10.26         3.05        11.90         0.00        32.72   \n",
       "25%          57.95        29.77        64.93        49.79        69.06   \n",
       "50%          68.62        36.71        77.41        50.00        75.63   \n",
       "75%          75.69        43.42        82.00        53.59        80.40   \n",
       "max          95.71        94.81        99.77       100.00        93.66   \n",
       "\n",
       "       index_sdg17    imds  \n",
       "count       339.00  339.00  \n",
       "mean         14.01   51.05  \n",
       "std          11.61    6.77  \n",
       "min           0.00   35.70  \n",
       "25%           5.69   47.00  \n",
       "50%          10.89   50.50  \n",
       "75%          18.31   54.85  \n",
       "max          65.25   80.20  "
      ]
     },
     "execution_count": 23,
     "metadata": {},
     "output_type": "execute_result"
    }
   ],
   "source": [
    "sdg_indexes.describe().round(2)"
   ]
  },
  {
   "cell_type": "code",
   "execution_count": 24,
   "id": "82ab9296-864f-4783-b560-821caa030c1d",
   "metadata": {},
   "outputs": [
    {
     "name": "stdout",
     "output_type": "stream",
     "text": [
      "                            OLS Regression Results                            \n",
      "==============================================================================\n",
      "Dep. Variable:                   imds   R-squared:                       0.388\n",
      "Model:                            OLS   Adj. R-squared:                  0.381\n",
      "Method:                 Least Squares   F-statistic:                     52.92\n",
      "Date:                Tue, 02 Jul 2024   Prob (F-statistic):           1.65e-34\n",
      "Time:                        04:14:15   Log-Likelihood:                -1045.7\n",
      "No. Observations:                 339   AIC:                             2101.\n",
      "Df Residuals:                     334   BIC:                             2121.\n",
      "Df Model:                           4                                         \n",
      "Covariance Type:            nonrobust                                         \n",
      "====================================================================================\n",
      "                       coef    std err          t      P>|t|      [0.025      0.975]\n",
      "------------------------------------------------------------------------------------\n",
      "Intercept           11.8725      4.370      2.717      0.007       3.276      20.469\n",
      "ln_t400NTLpc2012     1.8487      0.185     10.008      0.000       1.485       2.212\n",
      "ln_tr400_pop2012     1.7580      0.292      6.016      0.000       1.183       2.333\n",
      "lnEGDPpc2012        -0.0978      0.243     -0.403      0.687      -0.576       0.380\n",
      "ln_pm25_2012        -0.1627      1.074     -0.151      0.880      -2.275       1.950\n",
      "==============================================================================\n",
      "Omnibus:                        0.483   Durbin-Watson:                   1.649\n",
      "Prob(Omnibus):                  0.786   Jarque-Bera (JB):                0.343\n",
      "Skew:                           0.071   Prob(JB):                        0.843\n",
      "Kurtosis:                       3.065   Cond. No.                         281.\n",
      "==============================================================================\n",
      "\n",
      "Notes:\n",
      "[1] Standard Errors assume that the covariance matrix of the errors is correctly specified.\n"
     ]
    }
   ],
   "source": [
    "reg_data = sat_mod.merge(sdg_indexes[[\"id\",\"imds\"]], on=\"id\", how=\"outer\")\n",
    "\n",
    "mod = smf.ols(\"imds ~  ln_t400NTLpc2012 + ln_tr400_pop2012 + lnEGDPpc2012 + ln_pm25_2012 \", \n",
    "              data=reg_data)\n",
    "res = mod.fit()\n",
    "print(res.summary())"
   ]
  },
  {
   "cell_type": "code",
   "execution_count": 25,
   "id": "01b4bb9e-3bc3-496b-95cc-33e12c59d123",
   "metadata": {},
   "outputs": [
    {
     "data": {
      "text/plain": [
       "Index([], dtype='object')"
      ]
     },
     "execution_count": 25,
     "metadata": {},
     "output_type": "execute_result"
    }
   ],
   "source": [
    "missing_labels = sdg_indexes.columns[sdg_indexes.isna().any()]\n",
    "missing_labels"
   ]
  },
  {
   "cell_type": "code",
   "execution_count": 26,
   "id": "c8b18222-4afc-4ac4-b10c-a9184b8faac4",
   "metadata": {},
   "outputs": [],
   "source": [
    "#plt.style.available"
   ]
  },
  {
   "cell_type": "code",
   "execution_count": 27,
   "id": "96f7af06-9023-49ec-a31d-48975457411e",
   "metadata": {},
   "outputs": [
    {
     "ename": "KeyError",
     "evalue": "'ln_dist_water2017mean'",
     "output_type": "error",
     "traceback": [
      "\u001b[0;31m---------------------------------------------------------------------------\u001b[0m",
      "\u001b[0;31mKeyError\u001b[0m                                  Traceback (most recent call last)",
      "File \u001b[0;32m/Library/Frameworks/Python.framework/Versions/3.12/lib/python3.12/site-packages/pandas/core/indexes/base.py:3805\u001b[0m, in \u001b[0;36mIndex.get_loc\u001b[0;34m(self, key)\u001b[0m\n\u001b[1;32m   3804\u001b[0m \u001b[38;5;28;01mtry\u001b[39;00m:\n\u001b[0;32m-> 3805\u001b[0m     \u001b[38;5;28;01mreturn\u001b[39;00m \u001b[38;5;28;43mself\u001b[39;49m\u001b[38;5;241;43m.\u001b[39;49m\u001b[43m_engine\u001b[49m\u001b[38;5;241;43m.\u001b[39;49m\u001b[43mget_loc\u001b[49m\u001b[43m(\u001b[49m\u001b[43mcasted_key\u001b[49m\u001b[43m)\u001b[49m\n\u001b[1;32m   3806\u001b[0m \u001b[38;5;28;01mexcept\u001b[39;00m \u001b[38;5;167;01mKeyError\u001b[39;00m \u001b[38;5;28;01mas\u001b[39;00m err:\n",
      "File \u001b[0;32mindex.pyx:167\u001b[0m, in \u001b[0;36mpandas._libs.index.IndexEngine.get_loc\u001b[0;34m()\u001b[0m\n",
      "File \u001b[0;32mindex.pyx:196\u001b[0m, in \u001b[0;36mpandas._libs.index.IndexEngine.get_loc\u001b[0;34m()\u001b[0m\n",
      "File \u001b[0;32mpandas/_libs/hashtable_class_helper.pxi:7081\u001b[0m, in \u001b[0;36mpandas._libs.hashtable.PyObjectHashTable.get_item\u001b[0;34m()\u001b[0m\n",
      "File \u001b[0;32mpandas/_libs/hashtable_class_helper.pxi:7089\u001b[0m, in \u001b[0;36mpandas._libs.hashtable.PyObjectHashTable.get_item\u001b[0;34m()\u001b[0m\n",
      "\u001b[0;31mKeyError\u001b[0m: 'ln_dist_water2017mean'",
      "\nThe above exception was the direct cause of the following exception:\n",
      "\u001b[0;31mKeyError\u001b[0m                                  Traceback (most recent call last)",
      "Cell \u001b[0;32mIn[27], line 36\u001b[0m\n\u001b[1;32m     33\u001b[0m ax8\u001b[38;5;241m.\u001b[39mhist(np\u001b[38;5;241m.\u001b[39mlog(sat_mod[\u001b[38;5;124m\"\u001b[39m\u001b[38;5;124mln_dist_road2017\u001b[39m\u001b[38;5;124m\"\u001b[39m]))\n\u001b[1;32m     34\u001b[0m ax8\u001b[38;5;241m.\u001b[39mset(title \u001b[38;5;241m=\u001b[39m \u001b[38;5;124m\"\u001b[39m\u001b[38;5;124mln Distance to road\u001b[39m\u001b[38;5;124m\"\u001b[39m)\n\u001b[0;32m---> 36\u001b[0m ax9\u001b[38;5;241m.\u001b[39mhist(\u001b[43msat_mod\u001b[49m\u001b[43m[\u001b[49m\u001b[38;5;124;43m\"\u001b[39;49m\u001b[38;5;124;43mln_dist_water2017mean\u001b[39;49m\u001b[38;5;124;43m\"\u001b[39;49m\u001b[43m]\u001b[49m)\n\u001b[1;32m     37\u001b[0m ax9\u001b[38;5;241m.\u001b[39mset(title \u001b[38;5;241m=\u001b[39m \u001b[38;5;124m\"\u001b[39m\u001b[38;5;124mln Distance to water\u001b[39m\u001b[38;5;124m\"\u001b[39m)\n\u001b[1;32m     39\u001b[0m ax10\u001b[38;5;241m.\u001b[39mhist(satellite_full[\u001b[38;5;124m\"\u001b[39m\u001b[38;5;124mdrug_cult2017coca_bush\u001b[39m\u001b[38;5;124m\"\u001b[39m])\n",
      "File \u001b[0;32m/Library/Frameworks/Python.framework/Versions/3.12/lib/python3.12/site-packages/pandas/core/frame.py:4102\u001b[0m, in \u001b[0;36mDataFrame.__getitem__\u001b[0;34m(self, key)\u001b[0m\n\u001b[1;32m   4100\u001b[0m \u001b[38;5;28;01mif\u001b[39;00m \u001b[38;5;28mself\u001b[39m\u001b[38;5;241m.\u001b[39mcolumns\u001b[38;5;241m.\u001b[39mnlevels \u001b[38;5;241m>\u001b[39m \u001b[38;5;241m1\u001b[39m:\n\u001b[1;32m   4101\u001b[0m     \u001b[38;5;28;01mreturn\u001b[39;00m \u001b[38;5;28mself\u001b[39m\u001b[38;5;241m.\u001b[39m_getitem_multilevel(key)\n\u001b[0;32m-> 4102\u001b[0m indexer \u001b[38;5;241m=\u001b[39m \u001b[38;5;28;43mself\u001b[39;49m\u001b[38;5;241;43m.\u001b[39;49m\u001b[43mcolumns\u001b[49m\u001b[38;5;241;43m.\u001b[39;49m\u001b[43mget_loc\u001b[49m\u001b[43m(\u001b[49m\u001b[43mkey\u001b[49m\u001b[43m)\u001b[49m\n\u001b[1;32m   4103\u001b[0m \u001b[38;5;28;01mif\u001b[39;00m is_integer(indexer):\n\u001b[1;32m   4104\u001b[0m     indexer \u001b[38;5;241m=\u001b[39m [indexer]\n",
      "File \u001b[0;32m/Library/Frameworks/Python.framework/Versions/3.12/lib/python3.12/site-packages/pandas/core/indexes/base.py:3812\u001b[0m, in \u001b[0;36mIndex.get_loc\u001b[0;34m(self, key)\u001b[0m\n\u001b[1;32m   3807\u001b[0m     \u001b[38;5;28;01mif\u001b[39;00m \u001b[38;5;28misinstance\u001b[39m(casted_key, \u001b[38;5;28mslice\u001b[39m) \u001b[38;5;129;01mor\u001b[39;00m (\n\u001b[1;32m   3808\u001b[0m         \u001b[38;5;28misinstance\u001b[39m(casted_key, abc\u001b[38;5;241m.\u001b[39mIterable)\n\u001b[1;32m   3809\u001b[0m         \u001b[38;5;129;01mand\u001b[39;00m \u001b[38;5;28many\u001b[39m(\u001b[38;5;28misinstance\u001b[39m(x, \u001b[38;5;28mslice\u001b[39m) \u001b[38;5;28;01mfor\u001b[39;00m x \u001b[38;5;129;01min\u001b[39;00m casted_key)\n\u001b[1;32m   3810\u001b[0m     ):\n\u001b[1;32m   3811\u001b[0m         \u001b[38;5;28;01mraise\u001b[39;00m InvalidIndexError(key)\n\u001b[0;32m-> 3812\u001b[0m     \u001b[38;5;28;01mraise\u001b[39;00m \u001b[38;5;167;01mKeyError\u001b[39;00m(key) \u001b[38;5;28;01mfrom\u001b[39;00m \u001b[38;5;21;01merr\u001b[39;00m\n\u001b[1;32m   3813\u001b[0m \u001b[38;5;28;01mexcept\u001b[39;00m \u001b[38;5;167;01mTypeError\u001b[39;00m:\n\u001b[1;32m   3814\u001b[0m     \u001b[38;5;66;03m# If we have a listlike key, _check_indexing_error will raise\u001b[39;00m\n\u001b[1;32m   3815\u001b[0m     \u001b[38;5;66;03m#  InvalidIndexError. Otherwise we fall through and re-raise\u001b[39;00m\n\u001b[1;32m   3816\u001b[0m     \u001b[38;5;66;03m#  the TypeError.\u001b[39;00m\n\u001b[1;32m   3817\u001b[0m     \u001b[38;5;28mself\u001b[39m\u001b[38;5;241m.\u001b[39m_check_indexing_error(key)\n",
      "\u001b[0;31mKeyError\u001b[0m: 'ln_dist_water2017mean'"
     ]
    },
    {
     "data": {
      "image/png": "[encoded data removed]",
      "text/plain": [
       "<Figure size 1500x2000 with 18 Axes>"
      ]
     },
     "metadata": {},
     "output_type": "display_data"
    }
   ],
   "source": [
    "plt.style.use(\"tableau-colorblind10\")\n",
    "\n",
    "fig, ((ax0, ax1, ax2),(ax3, ax4, ax5),\n",
    "      (ax6, ax7, ax8),(ax9, ax10, ax11),\n",
    "      (ax12, ax13, ax14),(ax15, ax16, ax17)) = plt.subplots(nrows=6,\n",
    "                                                     ncols=3,\n",
    "                                                     figsize=(15,20)\n",
    "                                                     )\n",
    "ax0.hist(satellite_full[\"airTemp2012\"])\n",
    "ax0.set(title=\"Air temperature\")\n",
    "\n",
    "ax1.hist(sat_mod[\"lnEGDPpc2012\"])\n",
    "ax1.set(title=\"ln EGDPpc\")\n",
    "\n",
    "ax2.hist(sat_mod[\"ln_t400NTLpc2012\"])\n",
    "ax2.set(title=\"ln NTL\")\n",
    "\n",
    "ax3.hist(sat_mod[\"ln_tr400_pop2012\"])\n",
    "ax3.set(title= \"ln Population\")\n",
    "\n",
    "ax4.hist(sat_mod[\"ln_pm25_2012\"])\n",
    "ax4.set(title= \"ln PM25\")\n",
    "\n",
    "ax5.hist(satellite_full[\"coast2017mean\"])\n",
    "ax5.set(title= \"Distance to Coast\")\n",
    "\n",
    "ax6.hist(sat_mod[\"dist_diamond2015\"])\n",
    "ax6.set(title=\"Distance to Diamond Deposits\")\n",
    "\n",
    "ax7.hist(satellite_full[\"ln_dist_drug2017mean\"])\n",
    "ax7.set(title = \"ln Distance to Drug Cultivation\")\n",
    "\n",
    "ax8.hist(np.log(sat_mod[\"ln_dist_road2017\"]))\n",
    "ax8.set(title = \"ln Distance to road\")\n",
    "\n",
    "ax9.hist(sat_mod[\"ln_dist_water2017mean\"])\n",
    "ax9.set(title = \"ln Distance to water\")\n",
    "\n",
    "ax10.hist(satellite_full[\"drug_cult2017coca_bush\"])\n",
    "ax10.set(title = \"Drug Cultivation\")\n",
    "\n",
    "ax11.hist(satellite_full[\"gisa2012\"])\n",
    "ax11.set(title = \"GISA\");\n",
    "\n",
    "ax12.hist(sat_mod[\"ln_ghsl2015\"])\n",
    "ax12.set(title = \"ln GHSL\")\n",
    "\n",
    "ax13.hist(satellite_full[\"elev2017mean\"])\n",
    "ax13.set(title = \"Physical elevation\")\n",
    "\n",
    "ax14.hist(satellite_full[\"ln_mal_inci_rt_mean\"])\n",
    "ax14.set(title = \"Malaria Incidence rate\")"
   ]
  },
  {
   "cell_type": "code",
   "execution_count": null,
   "id": "524827e1-6a9b-4577-97f7-f4d3f005a364",
   "metadata": {},
   "outputs": [],
   "source": [
    "plt.style.use(\"tableau-colorblind10\")\n",
    "\n",
    "fig, (ax0, ax1, ax2, ax4) = plt.subplots(nrows=1,\n",
    "                                 ncols=4,\n",
    "                                 figsize=(15,6)\n",
    "                                 )\n",
    "ax0.hist(sat[\"egdp2012\"])\n",
    "ax0.set(title=\"egdp\")\n",
    "\n",
    "ax1.hist(satellite_full[\"EGDPpc2012\"])\n",
    "ax1.set(title= \"egdppc\")\n",
    "\n",
    "ax2.hist(sat_mod[\"lnEGDPpc2012\"])\n",
    "ax2.set(title=\"ln EGDPpc\")\n",
    "\n",
    "ax4.boxplot(sat_mod[\"lnEGDPpc2012\"]);\n"
   ]
  },
  {
   "cell_type": "code",
   "execution_count": null,
   "id": "2fa0bb68-6f5c-41b1-b45c-4131abf09ae8",
   "metadata": {},
   "outputs": [],
   "source": [
    "#plt.style.available"
   ]
  },
  {
   "cell_type": "code",
   "execution_count": null,
   "id": "ce2fd351-3de1-41a4-89d2-7f9339b00229",
   "metadata": {},
   "outputs": [],
   "source": [
    "plt.style.use(\"seaborn-v0_8\")\n",
    "\n",
    "fig, (ax0, ax1, ax2) = plt.subplots(nrows=1,\n",
    "                                    ncols=3,\n",
    "                                    figsize=(15,7))\n",
    "#----- ax0\n",
    "ax0.scatter(x=sat_mod['lnEGDPpc2012'], y=sat_mod[\"ln_t400NTLpc2012\"])\n",
    "ax0.set(xlabel=\"lnEGDPpc2012\", ylabel=\"ln_t400NTLpc2012\")\n",
    "\n",
    "# add trendline\n",
    "z = np.polyfit(sat_mod[\"lnEGDPpc2012\"], sat_mod['ln_t400NTLpc2012'], 1)\n",
    "p = np.poly1d(z)\n",
    "ax0.plot(sat_mod[\"lnEGDPpc2012\"],p(sat_mod[\"lnEGDPpc2012\"]),\"r-\")\n",
    "\n",
    "#----- ax1\n",
    "ax1.scatter(x=sat_mod[\"lnEGDPpc2012\"], y=sat_mod['ln_tr400_pop2012'])\n",
    "ax1.set(xlabel=\"lnEGDPpc2012\", ylabel=\"ln_tr400_pop2012\")\n",
    "\n",
    "# add trendline\n",
    "z = np.polyfit(sat_mod[\"lnEGDPpc2012\"], sat_mod['ln_tr400_pop2012'], 1)\n",
    "p = np.poly1d(z)\n",
    "ax1.plot(sat_mod[\"lnEGDPpc2012\"],p(sat_mod[\"lnEGDPpc2012\"]),\"r-\")\n",
    "\n",
    "#----- ax2\n",
    "ax2.scatter(x=sat_mod[\"lnEGDPpc2012\"], y=sat_mod['ln_perUrb_land2012'])\n",
    "ax2.set(xlabel=\"lnEGDPpc2012\", ylabel=\"ln_perUrb_land\")\n",
    "\n",
    "# add trendline\n",
    "z = np.polyfit(sat_mod[\"lnEGDPpc2012\"], sat_mod['ln_perUrb_land2012'], 1)\n",
    "p = np.poly1d(z)\n",
    "ax2.plot(sat_mod[\"lnEGDPpc2012\"],p(sat_mod[\"lnEGDPpc2012\"]),\"r-\")\n",
    "\n"
   ]
  },
  {
   "cell_type": "code",
   "execution_count": null,
   "id": "8dc6711f-c797-421c-98d1-d63b59943baf",
   "metadata": {},
   "outputs": [],
   "source": [
    "egdp_ntl = sat_mod[\"lnEGDPpc2012\"].corr(sat_mod['ln_t400NTLpc2012'])\n",
    "egdp_pop = sat_mod[\"lnEGDPpc2012\"].corr(sat_mod['ln_tr400_pop2012'])\n",
    "egdp_urb = sat_mod[\"lnEGDPpc2012\"].corr(sat_mod['ln_perUrb_land2012'])\n",
    "\n",
    "print(f\"Correlation of egdp and ntl: {egdp_ntl}\")\n",
    "print(f\"Correlation of egdp and pop: {egdp_pop}\")\n",
    "print(f\"Correlation of egdp and Urban land %: {egdp_urb}\")"
   ]
  },
  {
   "cell_type": "code",
   "execution_count": null,
   "id": "9d383825-9c82-40b4-87b7-95eb7e2d9ef6",
   "metadata": {},
   "outputs": [],
   "source": [
    "fig, (ax1, ax2) = plt.subplots(nrows=1,\n",
    "                               ncols=2,\n",
    "                               figsize=(15,7))\n",
    "\n",
    "#----- ax1\n",
    "ax1.scatter(x=sat_mod[\"ln_t400NTLpc2012\"], y=sdg_indexes['imds'])\n",
    "ax1.set(xlabel=\"ln_t400NTLpc2012\", ylabel=\"imds\")\n",
    "\n",
    "# add trendline\n",
    "z = np.polyfit(sat_mod[\"ln_t400NTLpc2012\"], sdg_indexes['imds'], 1)\n",
    "p = np.poly1d(z)\n",
    "ax1.plot(sat_mod[\"ln_t400NTLpc2012\"],p(sat_mod[\"ln_t400NTLpc2012\"]), \"r-\")\n",
    "\n",
    "#----- ax2\n",
    "ax2.scatter(x=sat_mod[\"lnEGDPpc2012\"], y=sdg_indexes['imds'])\n",
    "ax2.set(xlabel=\"lnEGDPpc2012\", ylabel=\"imds\");\n",
    "\n",
    "# add trendline\n",
    "z = np.polyfit(sat_mod[\"lnEGDPpc2012\"], sdg_indexes['imds'], 1)\n",
    "p = np.poly1d(z)\n",
    "ax2.plot(sat_mod[\"lnEGDPpc2012\"], p(sat_mod[\"lnEGDPpc2012\"]), \"r-\")"
   ]
  },
  {
   "cell_type": "code",
   "execution_count": null,
   "id": "fc9651c2-edfa-4f8c-a6dd-298b4757511c",
   "metadata": {},
   "outputs": [],
   "source": [
    "ntl_imds = sat_mod[\"ln_t400NTLpc2012\"].corr(sdg_indexes['imds'])\n",
    "egdp_imds = sat_mod[\"lnEGDPpc2012\"].corr(sdg_indexes['imds'])\n",
    "\n",
    "print(f\"Correlation of ntl and imds: {ntl_imds}\")\n",
    "print(f\"Correlation of egdp and imds: {egdp_imds}\")"
   ]
  },
  {
   "cell_type": "code",
   "execution_count": null,
   "id": "05d76fdb-b724-4d5a-8239-651785917945",
   "metadata": {},
   "outputs": [],
   "source": [
    "plt.style.use(\"seaborn-v0_8\")\n",
    "\n",
    "fig, (ax0, ax1, ax2) = plt.subplots(nrows=1,\n",
    "                                    ncols=3,\n",
    "                                    figsize=(15,7))\n",
    "#----- ax0\n",
    "ax0.scatter(x=sat_mod['lnEGDPpc2012'], y=sat_mod[\"ln_t400NTLpc2012\"])\n",
    "ax0.set(xlabel=\"lnEGDPpc2012\", ylabel=\"ln_t400NTLpc2012\")\n",
    "\n",
    "# add trendline\n",
    "z = np.polyfit(sat_mod[\"lnEGDPpc2012\"], sat_mod['ln_t400NTLpc2012'], 1)\n",
    "p = np.poly1d(z)\n",
    "ax0.plot(sat_mod[\"lnEGDPpc2012\"],p(sat_mod[\"lnEGDPpc2012\"]),\"r-\")\n",
    "\n",
    "#----- ax1\n",
    "ax1.scatter(x=sat_mod[\"ln_t400NTLpc2012\"], y=sat_mod['ln_tr400_pop2012'])\n",
    "ax1.set(xlabel=\"ln_t400NTLpc2012\", ylabel=\"ln_tr400_pop2012\")\n",
    "\n",
    "# add trendline\n",
    "z = np.polyfit(sat_mod[\"ln_t400NTLpc2012\"], sat_mod['ln_tr400_pop2012'], 1)\n",
    "p = np.poly1d(z)\n",
    "ax1.plot(sat_mod[\"ln_t400NTLpc2012\"],p(sat_mod[\"ln_t400NTLpc2012\"]),\"r-\")\n",
    "\n",
    "#----- ax2\n",
    "ax2.scatter(x=sat_mod[\"ln_t400NTLpc2012\"], y=sat_mod['ln_perUrb_land2012'])\n",
    "ax2.set(xlabel=\"ln_t400NTLpc2012\", ylabel=\"ln_perUrb_land\")\n",
    "\n",
    "# add trendline\n",
    "z = np.polyfit(sat_mod[\"ln_t400NTLpc2012\"], sat_mod['ln_perUrb_land2012'], 1)\n",
    "p = np.poly1d(z)\n",
    "ax2.plot(sat_mod[\"ln_t400NTLpc2012\"],p(sat_mod[\"ln_t400NTLpc2012\"]),\"r-\");\n",
    "\n"
   ]
  },
  {
   "cell_type": "code",
   "execution_count": null,
   "id": "1349a828-9e78-4211-a3ca-25ea75c355bf",
   "metadata": {},
   "outputs": [],
   "source": [
    "egdp_ntl = sat_mod[\"lnEGDPpc2012\"].corr(sat_mod['ln_t400NTLpc2012'])\n",
    "egdp_pop = sat_mod[\"ln_t400NTLpc2012\"].corr(sat_mod['ln_tr400_pop2012'])\n",
    "egdp_urb = sat_mod[\"ln_t400NTLpc2012\"].corr(sat_mod['ln_perUrb_land2012'])\n",
    "\n",
    "print(f\"Correlation of egdp and ntl: {egdp_ntl}\")\n",
    "print(f\"Correlation of egdp and pop: {egdp_pop}\")\n",
    "print(f\"Correlation of egdp and Urban land %: {egdp_urb}\")"
   ]
  },
  {
   "cell_type": "markdown",
   "id": "982bcb43-3b78-4f37-926d-6caa7557e17e",
   "metadata": {},
   "source": [
    "# **Regression models**"
   ]
  },
  {
   "cell_type": "markdown",
   "id": "6ae5d559-bee7-4873-9e94-7ca5c6868e5c",
   "metadata": {},
   "source": [
    "### Linear model"
   ]
  },
  {
   "cell_type": "code",
   "execution_count": null,
   "id": "68572ced-cd60-46e3-9b44-465206e245be",
   "metadata": {},
   "outputs": [],
   "source": [
    "x = sat_mod[[ \"ln_t400NTLpc2012\", \"ln_tr400_pop2012\", 'lnEGDPpc2012', 'ln_perUrb_land2012',  \"ln_pm25_2012\", \"ln_land_temp2012\", 'ln_dist_road2017','ln_ghsl2015']]\n",
    "y = sdg_indexes['imds']\n",
    "\n",
    "np.random.seed(42)\n",
    "x_train, x_test, y_train, y_test = train_test_split(x,y, test_size=0.2) \n",
    "\n",
    "model = LinearRegression()\n",
    "\n",
    "\n",
    "# r2 \n",
    "#lr = model.score(x_test, y_test)\n",
    "lr = np.mean(cross_val_score(model, x, y))\n",
    "\n",
    "# MAE\n",
    "lr_mae = np.mean(cross_val_score(model, x, y, scoring=\"neg_mean_absolute_error\"))\n",
    "\n",
    "model.fit(x_train,y_train)\n",
    "lr_y_pred = model.predict(x_test)\n"
   ]
  },
  {
   "cell_type": "markdown",
   "id": "bf0cc5e4-59e9-49a2-9408-3d70ff9e1b59",
   "metadata": {},
   "source": [
    "### Ridge  model"
   ]
  },
  {
   "cell_type": "code",
   "execution_count": null,
   "id": "37c2cf36-6db8-4cb1-bdb9-0edc66d94533",
   "metadata": {},
   "outputs": [],
   "source": [
    "\n",
    "np.random.seed(42)\n",
    "x_train, x_test, y_train, y_test = train_test_split(x, y, test_size=0.2)\n",
    "\n",
    "rid_model = linear_model.Ridge()\n",
    "\n",
    "# r2\n",
    "ri = np.mean(cross_val_score(rid_model, x, y))\n",
    "\n",
    "# MAE\n",
    "ri_mae = np.mean(cross_val_score(rid_model, x, y, scoring=\"neg_mean_absolute_error\"))\n",
    "\n",
    "rid_model.fit(x_train, y_train)\n",
    "ri_y_pred = rid_model.predict(x_test)"
   ]
  },
  {
   "cell_type": "markdown",
   "id": "4ab835e0-d655-41db-af22-8140e3644d2e",
   "metadata": {},
   "source": [
    "### Random Forest Regressor model"
   ]
  },
  {
   "cell_type": "code",
   "execution_count": null,
   "id": "fd0d271b-d3d2-429e-8495-b6a198486e97",
   "metadata": {},
   "outputs": [],
   "source": [
    "\n",
    "np.random.seed(42)\n",
    "x_train, x_test, y_train, y_test = train_test_split(x, y, test_size=0.2)\n",
    "\n",
    "rf_model = RandomForestRegressor()\n",
    "\n",
    "# r2\n",
    "rf = np.mean(cross_val_score(rf_model, x, y))\n",
    "\n",
    "# MAE\n",
    "rf_mae = np.mean(cross_val_score(rf_model, x, y, scoring=\"neg_mean_absolute_error\"))\n",
    "\n",
    "rf_model.fit(x_train, y_train)\n",
    "rf_y_pred = rf_model.predict(x_test)"
   ]
  },
  {
   "cell_type": "markdown",
   "id": "1685a355-f2b7-4d83-8bad-d2db5048a70f",
   "metadata": {},
   "source": [
    "### Results "
   ]
  },
  {
   "cell_type": "code",
   "execution_count": null,
   "id": "3ee1d97d-f659-494b-9dbb-3488c318d84a",
   "metadata": {},
   "outputs": [],
   "source": [
    "print(\"R2 for the regressor models\")\n",
    "print(f\" Linear model  cv ->   R2: {lr*100:.2f}%,  MAE: {lr_mae:.2f}\")\n",
    "print(f\" Ridger model  cv ->   R2: {ri*100:.2f}%,  MAE: {ri_mae:.2f}\")\n",
    "print(f\" RF model      cv ->   R2: {rf*100:.2f}%,  MAE: {rf_mae:.2f} \")"
   ]
  },
  {
   "cell_type": "markdown",
   "id": "eb831d7d-1415-459e-b454-e548240486ba",
   "metadata": {},
   "source": [
    "### Correlation between predicted and truth data"
   ]
  },
  {
   "cell_type": "code",
   "execution_count": null,
   "id": "7fac4f46-df8c-400a-8e1e-1e9451cf1d45",
   "metadata": {},
   "outputs": [],
   "source": [
    "fig, (ax0, ax1, ax2) = plt.subplots(nrows=1,\n",
    "                                    ncols=3,\n",
    "                                    figsize = (15, 6))\n",
    "\n",
    "ax0.scatter(x = y_test, y = lr_y_pred)\n",
    "ax0.set(xlabel=\"SDI\", ylabel=\"SDI Prediction\", title=\"Linear Regression\")\n",
    "\n",
    "# add trendline\n",
    "z = np.polyfit(y_test, lr_y_pred, 1)\n",
    "p = np.poly1d(z)\n",
    "ax0.plot(y_test,p(y_test),\"r-\")\n",
    "\n",
    "\n",
    "ax1.scatter(x=y_test, y = ri_y_pred)\n",
    "ax1.set(xlabel=\"SDI\", ylabel=\"SDI Prediction\", title=\"Ridge\")\n",
    "\n",
    "# add trendline\n",
    "z = np.polyfit(y_test, ri_y_pred, 1)\n",
    "p = np.poly1d(z)\n",
    "ax1.plot(y_test,p(y_test),\"r-\")\n",
    "\n",
    "\n",
    "ax2.scatter(x=y_test, y=rf_y_pred)\n",
    "ax2.set(xlabel=\"SDI\", ylabel=\"SDI Prediction\", title=\"Random Forest\")\n",
    "\n",
    "\n",
    "# add trendline\n",
    "z = np.polyfit(y_test, rf_y_pred, 1)\n",
    "p = np.poly1d(z)\n",
    "ax2.plot(y_test,p(y_test),\"r-\")\n"
   ]
  },
  {
   "cell_type": "markdown",
   "id": "1b2b931c-f8e0-4d95-b3e0-06291a5608b6",
   "metadata": {},
   "source": [
    "# **Categorical analysis**"
   ]
  },
  {
   "cell_type": "code",
   "execution_count": null,
   "id": "509c1179-2a66-4365-9c78-f0de48739158",
   "metadata": {},
   "outputs": [],
   "source": [
    "quantile_labels = [\"low\", 'medium-low', 'medium-high', 'high']\n",
    "\n",
    "cat_sat_mod = sat_mod\n",
    "cat_sat_mod[\"imds_quantile\"] = pd.qcut(sdg_indexes[\"imds\"], q=4, labels=quantile_labels)\n",
    "#df[\"imds_quantile\"]"
   ]
  },
  {
   "cell_type": "code",
   "execution_count": null,
   "id": "346066bb-89d2-479d-b71b-ede7712bf759",
   "metadata": {},
   "outputs": [],
   "source": [
    "x = cat_sat_mod[[\"ln_t400NTLpc2012\", \"ln_tr400_pop2012\", 'lnEGDPpc2012', 'ln_pm25_2012', 'ln_land_temp2012', 'lnagr_land2012', 'lnurb_land2012', 'ln_dist_road2017','ln_ghsl2015']].fillna(0)\n",
    "y = cat_sat_mod['imds_quantile']\n",
    "\n",
    "np.random.seed(42)\n",
    "x_train, x_test, y_train, y_test = train_test_split(x,y, test_size=0.2) \n",
    "\n",
    "clf = RandomForestClassifier()\n",
    "#clf.get_params()\n",
    "clf.fit(x_train,y_train);\n",
    "\n",
    "y_preds = clf.predict(x_test)\n",
    "\n",
    "#evaluate the model\n",
    "#print(f\" Train data score: {clf.score(x_train, y_train)*100:.2f}%\")\n",
    "print(f\" Test data score: {clf.score(x_test, y_test)*100:.2f}%\")\n",
    "rf_cl = clf.score(x_test, y_test)"
   ]
  },
  {
   "cell_type": "code",
   "execution_count": null,
   "id": "2959a016-9dd2-4c45-8508-22ed263c05eb",
   "metadata": {},
   "outputs": [],
   "source": [
    "#print(classification_report(y_test, y_preds))"
   ]
  },
  {
   "cell_type": "code",
   "execution_count": null,
   "id": "7bdc0b77-dcd1-4b5e-927a-c0c3609e6ad6",
   "metadata": {},
   "outputs": [],
   "source": [
    "#print(confusion_matrix(y_test, y_preds))"
   ]
  },
  {
   "cell_type": "code",
   "execution_count": null,
   "id": "c102af1a-9bb6-4400-8830-f9de77a8b780",
   "metadata": {},
   "outputs": [],
   "source": [
    "#accuracy_score(y_test, y_preds)"
   ]
  },
  {
   "cell_type": "code",
   "execution_count": null,
   "id": "498c11cd-a162-4fd7-95fe-8e666d5c03ec",
   "metadata": {},
   "outputs": [],
   "source": [
    "# improve model\n",
    "\n",
    "np.random.seed(42)\n",
    "for i in range(10, 100, 10):\n",
    "    print(f\"Trying model with {i} stimators\")\n",
    "    clf = RandomForestClassifier(n_estimators=i).fit(x_train, y_train)\n",
    "    print(f\"Model acurracy is {clf.score(x_test, y_test)*100:.2f}%\")"
   ]
  },
  {
   "cell_type": "code",
   "execution_count": null,
   "id": "55905710-f624-4697-ba03-529073042932",
   "metadata": {},
   "outputs": [],
   "source": [
    "#pickle.dump(clf, open(\"random_forest_model.pkl\", \"wb\"))\n",
    "\n",
    "#load_model = pickle.load(open(\"random_forest_model.pkl\", \"rb\"))\n",
    "#load_model.score(x_test, y_test)"
   ]
  },
  {
   "cell_type": "markdown",
   "id": "c42d986c-f09b-412a-ae9e-56e92af8e277",
   "metadata": {},
   "source": [
    "### Linear SVC Classifier"
   ]
  },
  {
   "cell_type": "code",
   "execution_count": null,
   "id": "a468fce6-d583-43e8-b91b-5e199a021779",
   "metadata": {},
   "outputs": [],
   "source": [
    "np.random.seed(42)\n",
    "x_train, x_test, y_train, y_test = train_test_split(x,y, test_size=0.2) \n",
    "\n",
    "sgd_cla = svm.LinearSVC(dual=\"auto\", max_iter=10000)\n",
    "sgd_cla.fit(x_train, y_train)\n",
    "sgd_cl = sgd_cla.score(x_test, y_test)"
   ]
  },
  {
   "cell_type": "markdown",
   "id": "18fee104-b78b-4e80-97ec-aa1f9ec1b8ba",
   "metadata": {},
   "source": [
    "### Naive Bayes Classifier"
   ]
  },
  {
   "cell_type": "code",
   "execution_count": null,
   "id": "69df174f-0aad-4c4b-ab8c-0aaceca42441",
   "metadata": {},
   "outputs": [],
   "source": [
    "np.random.seed(42)\n",
    "x_train, x_test, y_train, y_test = train_test_split(x,y, test_size=0.2) \n",
    "\n",
    "naive_cla = GaussianNB()\n",
    "naive_cla.fit(x_train, y_train)\n",
    "naive_cl = naive_cla.score(x_test, y_test)"
   ]
  },
  {
   "cell_type": "markdown",
   "id": "7b5b2d68-ca9f-4e20-b5ac-fe1b1f565c57",
   "metadata": {},
   "source": [
    "### Results "
   ]
  },
  {
   "cell_type": "code",
   "execution_count": null,
   "id": "7a62fc52-8b79-49c9-bdc9-9d734ad64c55",
   "metadata": {},
   "outputs": [],
   "source": [
    "print(\"R2 for the classifier models\")\n",
    "print(f\" Random Forest model: {rf_cl*100:.2f}%\")\n",
    "print(f\" Linear SVC model: {sgd_cl*100:.2f}%\")\n",
    "print(f\" Naive Bayes model: {naive_cl*100:.2f}%\")"
   ]
  },
  {
   "cell_type": "markdown",
   "id": "479ed4bf-c971-4749-b1f2-fa310dcceddb",
   "metadata": {},
   "source": [
    "## Iterate regression models"
   ]
  },
  {
   "cell_type": "code",
   "execution_count": null,
   "id": "ccd7acc3-5732-4940-b91b-9de20c3290ec",
   "metadata": {},
   "outputs": [],
   "source": [
    "y_variables = sdg_indexes[['index_sdg1', 'index_sdg2', 'index_sdg3', 'index_sdg4',\n",
    "       'index_sdg5', 'index_sdg6', 'index_sdg7', 'index_sdg8', 'index_sdg9',\n",
    "       'index_sdg10', 'index_sdg11', 'index_sdg13', 'index_sdg15',\n",
    "       'index_sdg16', 'index_sdg17', 'imds']]"
   ]
  },
  {
   "cell_type": "markdown",
   "id": "e1c0e20b-29be-40e3-9d47-119b01fcc4fd",
   "metadata": {},
   "source": [
    "### Linear Regression"
   ]
  },
  {
   "cell_type": "code",
   "execution_count": null,
   "id": "9d45635a-f303-4ad2-b692-af5ef435701a",
   "metadata": {},
   "outputs": [],
   "source": [
    "\n",
    "model_results = pd.DataFrame(columns=[\"Feature\", \"r2\", \"MAE\"])\n",
    "\n",
    "y_variables = sdg_indexes[['index_sdg1', 'index_sdg2', 'index_sdg3', 'index_sdg4',\n",
    "       'index_sdg5', 'index_sdg6', 'index_sdg7', 'index_sdg8', 'index_sdg9',\n",
    "       'index_sdg10', 'index_sdg11', 'index_sdg13', 'index_sdg15',\n",
    "       'index_sdg16', 'index_sdg17', 'imds']]\n",
    "\n",
    "x = sat_mod[[ \"ln_t400NTLpc2012\", \"ln_tr400_pop2012\", 'lnEGDPpc2012', 'ln_pm25_2012', 'ln_land_temp2012', 'ln_dist_road2017','ln_ghsl2015']]\n",
    "\n",
    "for y_variable in y_variables:\n",
    "\n",
    "    y = y_variables[y_variable]\n",
    "\n",
    "    np.random.seed(42)\n",
    "    x_train, x_test, y_train, y_test = train_test_split(x,y, test_size=0.2) \n",
    "\n",
    "    model = LinearRegression()\n",
    "\n",
    "    #mse = mean_squared_error(y_test, y_pred)\n",
    "    r2 = np.mean(cross_val_score(model, x, y, scoring=\"r2\"))\n",
    "    mae = np.mean(cross_val_score(model, x, y, scoring=\"neg_mean_absolute_error\"))\n",
    "    model_results.loc[len(model_results.index)] = [y_variable, r2, mae]\n",
    "\n",
    "    model.fit(x_train,y_train)\n",
    "    y_pred = model.predict(x_test)"
   ]
  },
  {
   "cell_type": "code",
   "execution_count": null,
   "id": "35256634-7c5f-407d-bac7-0ddbd288a9d0",
   "metadata": {},
   "outputs": [],
   "source": [
    "model_results[model_results[\"r2\"]>0.9]"
   ]
  },
  {
   "cell_type": "code",
   "execution_count": null,
   "id": "8e9ebcf3-2f2e-49d6-bd3d-ab44398d72a0",
   "metadata": {},
   "outputs": [],
   "source": [
    "model_results[model_results[\"r2\"]>0.8]"
   ]
  },
  {
   "cell_type": "code",
   "execution_count": null,
   "id": "931a9a8f-5115-4408-8e54-4d6bbeaa65e1",
   "metadata": {},
   "outputs": [],
   "source": [
    "model_results[model_results[\"r2\"]>0.7]"
   ]
  },
  {
   "cell_type": "code",
   "execution_count": null,
   "id": "684fbc20-acfb-4773-9619-74fe3568ae30",
   "metadata": {},
   "outputs": [],
   "source": [
    "model_results[model_results[\"r2\"]>0]"
   ]
  },
  {
   "cell_type": "markdown",
   "id": "47418f52-7838-44de-925e-aad20f3e7922",
   "metadata": {},
   "source": [
    "### Random Forest Regressor"
   ]
  },
  {
   "cell_type": "code",
   "execution_count": null,
   "id": "942c4966-3699-4ef9-883d-d21bde41b620",
   "metadata": {},
   "outputs": [],
   "source": [
    "model_results = pd.DataFrame(columns=[\"Feature\", \"r2\", \"MAE\"])\n",
    "predict_df = pd.DataFrame()"
   ]
  },
  {
   "cell_type": "code",
   "execution_count": null,
   "id": "19361e93-4ffb-4554-87b9-eb867d874457",
   "metadata": {},
   "outputs": [],
   "source": [
    "x = sat_mod[[ \"ln_t400NTLpc2012\", \"ln_tr400_pop2012\", 'lnEGDPpc2012', 'ln_pm25_2012', 'ln_land_temp2012', 'ln_dist_road2017','ln_ghsl2015']]\n",
    "\n",
    "for y_variable in y_variables:\n",
    "\n",
    "    y = y_variables[y_variable]\n",
    "    #Normalize the y variable \n",
    "    #y = (filtered_df[y_variable]-filtered_df[y_variable].mean())/filtered_df[y_variable].std()\n",
    "    \n",
    "    #Set up the model\n",
    "    np.random.seed(42)\n",
    "    x_train, x_test, y_train, y_test = train_test_split(x,y, test_size=0.2) \n",
    "    model = RandomForestRegressor()\n",
    "    \n",
    "    #mse = mean_squared_error(y_test, y_pred)\n",
    "    r2 = np.mean(cross_val_score(model, x, y, scoring=\"r2\"))\n",
    "    mae = np.mean(cross_val_score(model, x, y, scoring=\"neg_mean_absolute_error\"))\n",
    "    \n",
    "    # Add to the results df \n",
    "    model_results.loc[len(model_results.index)] = [y_variable, r2, mae]\n",
    "\n",
    "    # Prediction df \n",
    "    model.fit(x_train,y_train)\n",
    "    y_pred = model.predict(x_test)\n",
    "\n",
    "    col0 = y_variable + \"_true\"\n",
    "    col1 = y_variable + \"_pred\"\n",
    "    temp_predict = pd.DataFrame({col0: y_test, col1: y_pred}, index=y_test.index)\n",
    "    temp_predict.index.name = \"id\"\n",
    "    \n",
    "    if predict_df.empty:\n",
    "        predict_df = temp_predict\n",
    "    else:\n",
    "        predict_df = predict_df.merge(temp_predict, on=\"id\", how=\"outer\")\n"
   ]
  },
  {
   "cell_type": "code",
   "execution_count": null,
   "id": "e0600f25-7076-4a2b-8970-43669f0ef8f7",
   "metadata": {},
   "outputs": [],
   "source": [
    "model_results[model_results[\"r2\"]>0.9].round(2)"
   ]
  },
  {
   "cell_type": "code",
   "execution_count": null,
   "id": "2e0b08e5-8863-4978-b79a-b3ad8c0764e7",
   "metadata": {},
   "outputs": [],
   "source": [
    "model_results[model_results[\"r2\"]>0.8].round(2)"
   ]
  },
  {
   "cell_type": "code",
   "execution_count": null,
   "id": "a0357a9f-c982-453c-9089-a0124ef0c4de",
   "metadata": {},
   "outputs": [],
   "source": [
    "model_results[(model_results[\"r2\"]>=0.7) & (model_results[\"r2\"]<0.8)].round(2)"
   ]
  },
  {
   "cell_type": "code",
   "execution_count": null,
   "id": "849be8be-e741-42b4-9114-a5069e1aade4",
   "metadata": {},
   "outputs": [],
   "source": [
    "model_results[(model_results[\"r2\"]>=0.6) & (model_results[\"r2\"]<0.7)].round(2)"
   ]
  },
  {
   "cell_type": "code",
   "execution_count": null,
   "id": "f1d30bd3-9334-467d-9484-734742d6e2ee",
   "metadata": {},
   "outputs": [],
   "source": [
    "model_results[model_results[\"r2\"]>0].round(2)"
   ]
  },
  {
   "cell_type": "code",
   "execution_count": null,
   "id": "417e550e-033c-4459-b59b-f0a011c48a33",
   "metadata": {},
   "outputs": [],
   "source": [
    "model_results[model_results[\"r2\"]<0].round(2)"
   ]
  },
  {
   "cell_type": "code",
   "execution_count": null,
   "id": "ed6ee066-a964-4c3e-a0e6-7a24aab63b52",
   "metadata": {},
   "outputs": [],
   "source": [
    "fig, ((ax0, ax1, ax2, ax3)) = plt.subplots(nrows=1, \n",
    "                                         ncols=4, \n",
    "                                         figsize=(20, 7))\n",
    "\n",
    "# Graph 1 \n",
    "g_x = predict_df[\"index_sdg1_true\"]\n",
    "g_y = predict_df[\"index_sdg1_pred\"]\n",
    "\n",
    "ax0.scatter(x = g_x, y = g_y)\n",
    "ax0.set(xlabel=\"sdg1_1_pubn_abs_true\", ylabel=\"sdg1_1_pubn_abs_pred\", title=\"index_sdg1\")\n",
    "\n",
    "# add trendline\n",
    "z = np.polyfit(g_x, g_y, 1)\n",
    "p = np.poly1d(z)\n",
    "ax0.plot(g_x,p(g_x),\"r-\")\n",
    "\n",
    "\n",
    "# Graph 1 \n",
    "g_x = predict_df[\"index_sdg7_true\"]\n",
    "g_y = predict_df[\"index_sdg7_pred\"]\n",
    "\n",
    "ax1.scatter(x = g_x, y = g_y)\n",
    "ax1.set(xlabel=\"sdg8_5_ompr_abs_true\", ylabel=\"sdg8_5_ompr_abs_pred\", title=\"index_sdg7\")\n",
    "\n",
    "# add trendline\n",
    "z = np.polyfit(g_x, g_y, 1)\n",
    "p = np.poly1d(z)\n",
    "ax1.plot(g_x,p(g_x),\"r-\")\n",
    "\n",
    "\n",
    "# Graph 1 \n",
    "g_x = predict_df[\"index_sdg11_true\"]\n",
    "g_y = predict_df[\"index_sdg11_pred\"]\n",
    "\n",
    "ax2.scatter(x = g_x, y = g_y)\n",
    "ax2.set(xlabel=\"sdg8_5_ofpr_abs_true\", ylabel=\"sdg8_5_ofpr_abs_pred\", title=\"index_sdg11\")\n",
    "\n",
    "# add trendline\n",
    "z = np.polyfit(g_x, g_y, 1)\n",
    "p = np.poly1d(z)\n",
    "ax2.plot(g_x,p(g_x),\"r-\")\n",
    "\n",
    "\n",
    "# Graph 1 \n",
    "g_x = predict_df[\"imds_true\"]\n",
    "g_y = predict_df[\"imds_pred\"]\n",
    "\n",
    "ax3.scatter(x = g_x, y = g_y)\n",
    "ax3.set(xlabel=\"sdg8_6_wlm_abs_true\", ylabel=\"sdg8_6_wlm_abs_pred\", title=\"imds\")\n",
    "\n",
    "# add trendline\n",
    "z = np.polyfit(g_x, g_y, 1)\n",
    "p = np.poly1d(z)\n",
    "ax3.plot(g_x,p(g_x),\"r-\")"
   ]
  }
 ],
 "metadata": {
  "kernelspec": {
   "display_name": "Python 3 (ipykernel)",
   "language": "python",
   "name": "python3"
  },
  "language_info": {
   "codemirror_mode": {
    "name": "ipython",
    "version": 3
   },
   "file_extension": ".py",
   "mimetype": "text/x-python",
   "name": "python",
   "nbconvert_exporter": "python",
   "pygments_lexer": "ipython3",
   "version": "3.12.0"
  }
 },
 "nbformat": 4,
 "nbformat_minor": 5
}
