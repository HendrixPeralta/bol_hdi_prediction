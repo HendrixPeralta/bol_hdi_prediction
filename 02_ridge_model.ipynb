{
 "cells": [
  {
   "cell_type": "code",
   "execution_count": 1,
   "id": "cc267601-e20c-4b53-aa2b-33fe62de7aa9",
   "metadata": {},
   "outputs": [],
   "source": [
    "import numpy as np\n",
    "import pandas as pd\n",
    "import sklearn as ktl\n",
    "import pickle\n",
    "import matplotlib.pylab as plt\n",
    "import seaborn\n",
    "\n",
    "from sklearn.model_selection import train_test_split\n",
    "from sklearn.metrics import mean_squared_error, r2_score, mean_absolute_error\n",
    "from sklearn.metrics import classification_report, confusion_matrix, accuracy_score\n",
    "\n",
    "from sklearn.model_selection import cross_val_score\n",
    "\n",
    "from sklearn.linear_model import LinearRegression\n",
    "from sklearn import linear_model\n",
    "from sklearn.ensemble import RandomForestRegressor"
   ]
  },
  {
   "cell_type": "code",
   "execution_count": 2,
   "id": "fad5a380-cd79-4fb1-bdb5-dffd2c6622d3",
   "metadata": {},
   "outputs": [],
   "source": [
    "sdg_indexes = pd.read_csv(\"data/sdg_prediction/sdg_indexes.csv\")\n",
    "sat_mod = pd.read_csv(\"data/sdg_prediction/sat_mod.csv\")"
   ]
  },
  {
   "cell_type": "markdown",
   "id": "b8199777-0316-43c3-b3b8-2dce11d51d7a",
   "metadata": {},
   "source": [
    "## Setting up model "
   ]
  },
  {
   "cell_type": "code",
   "execution_count": 19,
   "id": "f32c2d4f-9f1e-4569-ad4d-bb11ab55a9d8",
   "metadata": {},
   "outputs": [],
   "source": [
    "X = sat_mod[['lnagr_land2012', 'lnurb_land2012', 'ln_tr400_pop2012',\n",
    "       'ln_land_temp2012']]\n",
    "       \n",
    "\n",
    "y = sdg_indexes[\"imds\"]\n",
    "\n",
    "np.random.seed(42)\n",
    "X_train, X_test, y_train, y_test = train_test_split(X, y, test_size=0.2)"
   ]
  },
  {
   "cell_type": "code",
   "execution_count": 20,
   "id": "f496aca4-f4d4-4cbe-a697-95c47e8d4a37",
   "metadata": {},
   "outputs": [
    {
     "data": {
      "text/plain": [
       "0.3077152878628724"
      ]
     },
     "execution_count": 20,
     "metadata": {},
     "output_type": "execute_result"
    }
   ],
   "source": [
    "model = linear_model.Ridge()\n",
    "model.fit(X_train, y_train);\n",
    "\n",
    "model.score(X_test, y_test)"
   ]
  },
  {
   "cell_type": "code",
   "execution_count": 21,
   "id": "9aa0d606-7e34-4f9b-8931-66d8ea8ab75a",
   "metadata": {},
   "outputs": [
    {
     "data": {
      "text/plain": [
       "array(['lnagr_land2012', 'lnurb_land2012', 'ln_tr400_pop2012'],\n",
       "      dtype=object)"
      ]
     },
     "execution_count": 21,
     "metadata": {},
     "output_type": "execute_result"
    }
   ],
   "source": [
    "coeff = model.coef_\n",
    "np.array(X.columns)[coeff>1]"
   ]
  },
  {
   "cell_type": "code",
   "execution_count": null,
   "id": "2e89459d-1f2a-4a8d-840a-14065f70d6b2",
   "metadata": {},
   "outputs": [],
   "source": []
  },
  {
   "cell_type": "markdown",
   "id": "7dc6b14b-b46e-4457-9396-90ecf53f9267",
   "metadata": {},
   "source": [
    "# Adjust Hyperparameters"
   ]
  },
  {
   "cell_type": "code",
   "execution_count": 22,
   "id": "a21c805a-174c-4fa6-bfee-8cc810495e6d",
   "metadata": {},
   "outputs": [
    {
     "ename": "NameError",
     "evalue": "name 'ridge_model' is not defined",
     "output_type": "error",
     "traceback": [
      "\u001b[0;31m---------------------------------------------------------------------------\u001b[0m",
      "\u001b[0;31mNameError\u001b[0m                                 Traceback (most recent call last)",
      "Cell \u001b[0;32mIn[22], line 1\u001b[0m\n\u001b[0;32m----> 1\u001b[0m \u001b[43mridge_model\u001b[49m\u001b[38;5;241m.\u001b[39mget_params()\n",
      "\u001b[0;31mNameError\u001b[0m: name 'ridge_model' is not defined"
     ]
    }
   ],
   "source": [
    "ridge_model.get_params()"
   ]
  },
  {
   "cell_type": "code",
   "execution_count": 23,
   "id": "43f2cc3d-8e81-4ed1-a93d-9e06f814f59a",
   "metadata": {},
   "outputs": [],
   "source": [
    "def evaluate_preds(model, y_true, y_preds):\n",
    "    \"\"\"\n",
    "    Performs evaluation comparison on y_true labels vs. y_pred labels\n",
    "    on a classification.\n",
    "    \"\"\"\n",
    "    r2 = np.mean(cross_val_score(model, x, y, scoring=\"r2\"))\n",
    "    mae = np.mean(cross_val_score(model, x, y, scoring=\"neg_mean_absolute_error\"))\n",
    "    metric_dict = {\"R2\": round(r2, 2),\n",
    "                   \"MAE\": round(mae, 2)}\n",
    "    print(f\"R2: {r2 * 100:.2f}%\")\n",
    "    print(f\"MAE: {mae:.2f}\")\n",
    "    \n",
    "    return metric_dict"
   ]
  },
  {
   "cell_type": "code",
   "execution_count": 24,
   "id": "ab1e071d-4d3b-4f13-b8d7-d5fb1347fa69",
   "metadata": {},
   "outputs": [
    {
     "ename": "NameError",
     "evalue": "name 'df' is not defined",
     "output_type": "error",
     "traceback": [
      "\u001b[0;31m---------------------------------------------------------------------------\u001b[0m",
      "\u001b[0;31mNameError\u001b[0m                                 Traceback (most recent call last)",
      "Cell \u001b[0;32mIn[24], line 9\u001b[0m\n\u001b[1;32m      2\u001b[0m grid \u001b[38;5;241m=\u001b[39m {\u001b[38;5;124m\"\u001b[39m\u001b[38;5;124malpha\u001b[39m\u001b[38;5;124m\"\u001b[39m: alpha,\n\u001b[1;32m      3\u001b[0m         \u001b[38;5;124m\"\u001b[39m\u001b[38;5;124mcopy_X\u001b[39m\u001b[38;5;124m\"\u001b[39m: [\u001b[38;5;28;01mTrue\u001b[39;00m, \u001b[38;5;28;01mFalse\u001b[39;00m],\n\u001b[1;32m      4\u001b[0m         \u001b[38;5;124m\"\u001b[39m\u001b[38;5;124mmax_iter\u001b[39m\u001b[38;5;124m\"\u001b[39m: [\u001b[38;5;28;01mNone\u001b[39;00m, \u001b[38;5;241m10\u001b[39m, \u001b[38;5;241m100\u001b[39m, \u001b[38;5;241m200\u001b[39m, \u001b[38;5;241m500\u001b[39m, \u001b[38;5;241m1000\u001b[39m, \u001b[38;5;241m10000\u001b[39m], \n\u001b[1;32m      5\u001b[0m         \u001b[38;5;124m\"\u001b[39m\u001b[38;5;124msolver\u001b[39m\u001b[38;5;124m\"\u001b[39m: [\u001b[38;5;124m\"\u001b[39m\u001b[38;5;124mauto\u001b[39m\u001b[38;5;124m\"\u001b[39m, \u001b[38;5;124m\"\u001b[39m\u001b[38;5;124msvd\u001b[39m\u001b[38;5;124m\"\u001b[39m, \u001b[38;5;124m\"\u001b[39m\u001b[38;5;124mcholesky\u001b[39m\u001b[38;5;124m\"\u001b[39m, \u001b[38;5;124m\"\u001b[39m\u001b[38;5;124mlsqr\u001b[39m\u001b[38;5;124m\"\u001b[39m, \u001b[38;5;124m\"\u001b[39m\u001b[38;5;124msparse_cg\u001b[39m\u001b[38;5;124m\"\u001b[39m]}\n\u001b[1;32m      7\u001b[0m np\u001b[38;5;241m.\u001b[39mrandom\u001b[38;5;241m.\u001b[39mseed(\u001b[38;5;241m42\u001b[39m)\n\u001b[0;32m----> 9\u001b[0m x \u001b[38;5;241m=\u001b[39m \u001b[43mdf\u001b[49m[[ \u001b[38;5;124m\"\u001b[39m\u001b[38;5;124mln_t400NTLpc2012\u001b[39m\u001b[38;5;124m\"\u001b[39m, \u001b[38;5;124m\"\u001b[39m\u001b[38;5;124mln_tr400_pop2012\u001b[39m\u001b[38;5;124m\"\u001b[39m, \u001b[38;5;124m'\u001b[39m\u001b[38;5;124mlnEGDPpc2012\u001b[39m\u001b[38;5;124m'\u001b[39m, \u001b[38;5;124m'\u001b[39m\u001b[38;5;124mln_perUrb_land\u001b[39m\u001b[38;5;124m'\u001b[39m,  \u001b[38;5;124m\"\u001b[39m\u001b[38;5;124mln_pm25_2012\u001b[39m\u001b[38;5;124m\"\u001b[39m, \u001b[38;5;124m\"\u001b[39m\u001b[38;5;124mln_land_temp2012\u001b[39m\u001b[38;5;124m\"\u001b[39m]]\u001b[38;5;241m.\u001b[39mfillna(\u001b[38;5;241m0\u001b[39m)\n\u001b[1;32m     10\u001b[0m y \u001b[38;5;241m=\u001b[39m df[\u001b[38;5;124m'\u001b[39m\u001b[38;5;124mimds\u001b[39m\u001b[38;5;124m'\u001b[39m]\n\u001b[1;32m     12\u001b[0m rs_rid_model\u001b[38;5;241m=\u001b[39m RandomizedSearchCV(estimator \u001b[38;5;241m=\u001b[39m rid_model,\n\u001b[1;32m     13\u001b[0m                        param_distributions\u001b[38;5;241m=\u001b[39mgrid,\n\u001b[1;32m     14\u001b[0m                        n_iter\u001b[38;5;241m=\u001b[39m\u001b[38;5;241m100\u001b[39m,\n\u001b[1;32m     15\u001b[0m                        cv\u001b[38;5;241m=\u001b[39m\u001b[38;5;241m5\u001b[39m,\n\u001b[1;32m     16\u001b[0m                        verbose\u001b[38;5;241m=\u001b[39m\u001b[38;5;241m0\u001b[39m)\n",
      "\u001b[0;31mNameError\u001b[0m: name 'df' is not defined"
     ]
    }
   ],
   "source": [
    "alpha= range(35,1000,20)\n",
    "grid = {\"alpha\": alpha,\n",
    "        \"copy_X\": [True, False],\n",
    "        \"max_iter\": [None, 10, 100, 200, 500, 1000, 10000], \n",
    "        \"solver\": [\"auto\", \"svd\", \"cholesky\", \"lsqr\", \"sparse_cg\"]}\n",
    "\n",
    "np.random.seed(42)\n",
    "\n",
    "x = df[[ \"ln_t400NTLpc2012\", \"ln_tr400_pop2012\", 'lnEGDPpc2012', 'ln_perUrb_land',  \"ln_pm25_2012\", \"ln_land_temp2012\"]].fillna(0)\n",
    "y = df['imds']\n",
    "\n",
    "rs_rid_model= RandomizedSearchCV(estimator = rid_model,\n",
    "                       param_distributions=grid,\n",
    "                       n_iter=100,\n",
    "                       cv=5,\n",
    "                       verbose=0)\n",
    "\n",
    "rs_rid_model.fit(x_train, y_train);"
   ]
  },
  {
   "cell_type": "code",
   "execution_count": 25,
   "id": "d3996636-5518-467f-8026-88d41c8c23f1",
   "metadata": {},
   "outputs": [
    {
     "ename": "NameError",
     "evalue": "name 'rs_rid_model' is not defined",
     "output_type": "error",
     "traceback": [
      "\u001b[0;31m---------------------------------------------------------------------------\u001b[0m",
      "\u001b[0;31mNameError\u001b[0m                                 Traceback (most recent call last)",
      "Cell \u001b[0;32mIn[25], line 1\u001b[0m\n\u001b[0;32m----> 1\u001b[0m \u001b[43mrs_rid_model\u001b[49m\u001b[38;5;241m.\u001b[39mbest_params_\n",
      "\u001b[0;31mNameError\u001b[0m: name 'rs_rid_model' is not defined"
     ]
    }
   ],
   "source": [
    "rs_rid_model.best_params_"
   ]
  },
  {
   "cell_type": "code",
   "execution_count": null,
   "id": "41e34e9d-616e-48dc-8f3b-74c3640b0062",
   "metadata": {},
   "outputs": [],
   "source": [
    "# Uses the best model for the prediction\n",
    "rs_y_preds = rs_rid_model.predict(x_test)\n",
    "\n",
    "rs_metrics = evaluate_preds(rs_rid_model, x, y)"
   ]
  }
 ],
 "metadata": {
  "kernelspec": {
   "display_name": "Python 3 (ipykernel)",
   "language": "python",
   "name": "python3"
  },
  "language_info": {
   "codemirror_mode": {
    "name": "ipython",
    "version": 3
   },
   "file_extension": ".py",
   "mimetype": "text/x-python",
   "name": "python",
   "nbconvert_exporter": "python",
   "pygments_lexer": "ipython3",
   "version": "3.12.0"
  }
 },
 "nbformat": 4,
 "nbformat_minor": 5
}
