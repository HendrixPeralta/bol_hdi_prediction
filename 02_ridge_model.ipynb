{
 "cells": [
  {
   "cell_type": "code",
   "execution_count": 1,
   "id": "cc267601-e20c-4b53-aa2b-33fe62de7aa9",
   "metadata": {},
   "outputs": [],
   "source": [
    "import numpy as np\n",
    "import pandas as pd\n",
    "import sklearn as ktl\n",
    "import pickle\n",
    "import matplotlib.pylab as plt\n",
    "import seaborn\n",
    "\n",
    "from sklearn.model_selection import train_test_split\n",
    "from sklearn.metrics import mean_squared_error, r2_score, mean_absolute_error\n",
    "from sklearn.metrics import classification_report, confusion_matrix, accuracy_score\n",
    "\n",
    "from sklearn.model_selection import cross_val_score\n",
    "\n",
    "from sklearn.linear_model import LinearRegression\n",
    "from sklearn import linear_model\n",
    "from sklearn.ensemble import RandomForestRegressor\n",
    "from sklearn.linear_model import Ridge\n",
    "\n",
    "from sklearn.model_selection import RandomizedSearchCV\n",
    "\n",
    "from sklearn.preprocessing import StandardScaler\n",
    "from sklearn.pipeline import make_pipeline"
   ]
  },
  {
   "cell_type": "code",
   "execution_count": 2,
   "id": "fad5a380-cd79-4fb1-bdb5-dffd2c6622d3",
   "metadata": {},
   "outputs": [],
   "source": [
    "sdg_indexes = pd.read_csv(\"data/sdg_prediction/sdg_indexes.csv\")\n",
    "sat_mod = pd.read_csv(\"data/sdg_prediction/sat_mod.csv\")\n",
    "sdg_indicators = pd.read_csv(\"data/sdg_prediction/sdg_indicators_norm.csv\")"
   ]
  },
  {
   "cell_type": "markdown",
   "id": "b8199777-0316-43c3-b3b8-2dce11d51d7a",
   "metadata": {},
   "source": [
    "## Setting up model "
   ]
  },
  {
   "cell_type": "code",
   "execution_count": 3,
   "id": "b3781b72-a433-44d8-9efd-c78f6be9b71e",
   "metadata": {},
   "outputs": [
    {
     "data": {
      "text/plain": [
       "Index(['Unnamed: 0', 'id', 'lnEGDPpc2012', 'lnagr_land2012', 'lnurb_land2012',\n",
       "       'ln_perUrb_land2012', 'ln_tr400_pop2012', 'ln_pm25_2012',\n",
       "       'ln_land_temp2012', 'ln_t400NTLpc2012', 'ln_dist_road2017',\n",
       "       'ln_ghsl2015', 'dist_diamond2015', 'ln_mal_inci_rt_mean',\n",
       "       'ln_dist_water2017mean', 'ln_elev2017mean', 'ln_dist_drug2017mean',\n",
       "       'photov2019mean', 'access2016mean', 'ln_access2016mean'],\n",
       "      dtype='object')"
      ]
     },
     "execution_count": 3,
     "metadata": {},
     "output_type": "execute_result"
    }
   ],
   "source": [
    "sat_mod.columns"
   ]
  },
  {
   "cell_type": "code",
   "execution_count": 4,
   "id": "f32c2d4f-9f1e-4569-ad4d-bb11ab55a9d8",
   "metadata": {},
   "outputs": [
    {
     "name": "stdout",
     "output_type": "stream",
     "text": [
      "0.6264590508580479\n",
      "positive:\n",
      "['ln_ghsl2015' 'lnagr_land2012' 'lnurb_land2012']\n",
      "negative:\n",
      "['ln_land_temp2012' 'ln_tr400_pop2012' 'ln_dist_road2017'\n",
      " 'ln_dist_drug2017mean' 'ln_pm25_2012' 'photov2019mean']\n",
      "[ 5.35520448  2.88301257  5.36636043 -1.03403762 -5.38574828 -1.42445703\n",
      " -1.13661028 -6.29964962 -1.94103995]\n"
     ]
    }
   ],
   "source": [
    "X = sat_mod[['ln_ghsl2015', 'lnagr_land2012', 'lnurb_land2012','ln_land_temp2012', 'ln_tr400_pop2012', 'ln_dist_road2017',\n",
    "             'ln_dist_drug2017mean', 'ln_pm25_2012', 'photov2019mean']]\n",
    "#X = sat_mod[[ \"ln_t400NTLpc2012\", \"ln_tr400_pop2012\", 'lnEGDPpc2012', 'ln_perUrb_land2012',  \"ln_pm25_2012\", \"ln_land_temp2012\"]]\n",
    "#X = sat_mod[['ln_t400NTLpc2012', \"ln_perUrb_land2012\", 'ln_land_temp2012','ln_tr400_pop2012','ln_dist_road2017','ln_ghsl2015', \n",
    "#             \"ln_dist_water2017mean\",'ln_dist_drug2017mean', 'ln_elev2017mean', 'ln_pm25_2012', 'photov2019mean', 'lnagr_land2012', 'lnurb_land2012','ln_access2016mean']]\n",
    "  #'dist_diamond2015',   'lnagr_land2012', 'lnurb_land2012',\n",
    "    # Elevation has a huge impact on 2 and 13 \n",
    "y = sdg_indexes[\"imds\"]\n",
    "\n",
    "np.random.seed(42)\n",
    "X_train, X_test, y_train, y_test = train_test_split(X, y, test_size=0.2)\n",
    "\n",
    "model = linear_model.Ridge()\n",
    "model.fit(X_train, y_train);\n",
    "\n",
    "print(model.score(X_test, y_test))\n",
    "\n",
    "coeff = model.coef_\n",
    "print(\"positive:\")\n",
    "print(np.array(X.columns)[coeff>1])\n",
    "print(\"negative:\")\n",
    "print(np.array(X.columns)[coeff<-1])\n",
    "print(model.coef_)\n"
   ]
  },
  {
   "cell_type": "markdown",
   "id": "5ac58d59-48e8-4c2c-a43a-7cc30c06096e",
   "metadata": {},
   "source": [
    " "
   ]
  },
  {
   "cell_type": "markdown",
   "id": "a4f96a8a-e29a-4c93-a3bc-86359e7b4cfb",
   "metadata": {},
   "source": [
    "## Test for all labels "
   ]
  },
  {
   "cell_type": "code",
   "execution_count": 5,
   "id": "fa7453bc-0c89-4fe5-8ad3-51bec8955c29",
   "metadata": {},
   "outputs": [],
   "source": [
    "ridge_results = pd.DataFrame(columns=[\"Feature\", \"r2\", \"MAE\"])\n",
    "ri_predict = pd.DataFrame()"
   ]
  },
  {
   "cell_type": "code",
   "execution_count": 6,
   "id": "b8a2fcf5-c7f1-4723-8193-d87f7e08d280",
   "metadata": {},
   "outputs": [],
   "source": [
    "y_variables = sdg_indexes[['index_sdg1', 'index_sdg2', 'index_sdg3', 'index_sdg4',\n",
    "       'index_sdg5', 'index_sdg6', 'index_sdg7', 'index_sdg8', 'index_sdg9',\n",
    "       'index_sdg10', 'index_sdg11', 'index_sdg13', 'index_sdg15',\n",
    "       'index_sdg16', 'index_sdg17', 'imds']]\n",
    "\n",
    "#y_variables = sdg_indicators.drop(columns = {\"id\"})"
   ]
  },
  {
   "cell_type": "code",
   "execution_count": 7,
   "id": "3b27a8ad-b885-460a-a5d5-51f26dc85267",
   "metadata": {},
   "outputs": [],
   "source": [
    "#x = sat_mod[[ \"ln_t400NTLpc2012\", \"ln_tr400_pop2012\", 'lnEGDPpc2012', 'ln_perUrb_land2012',  \"ln_pm25_2012\", \"ln_land_temp2012\",'ln_dist_road2017' ,'ln_ghsl2015']]\n",
    "# This ones make some sdg more relevant \n",
    "#\n",
    "x = X\n",
    "\n",
    "for y_variable in y_variables:\n",
    "    \n",
    "    y = y_variables[y_variable]\n",
    "\n",
    "    np.random.seed(42)\n",
    "    x_train, x_test, y_train, y_test = train_test_split(x,y, test_size=0.2) \n",
    "\n",
    "    ridge_model = linear_model.Ridge()\n",
    "\n",
    "    r2 = np.mean(cross_val_score(ridge_model, x, y, scoring=\"r2\"))\n",
    "    mae = np.mean(cross_val_score(ridge_model, x, y, scoring=\"neg_mean_absolute_error\"))\n",
    "    \n",
    "    ridge_results.loc[len(ridge_results.index)] = [y_variable, r2, mae]\n",
    "\n",
    "    # Prediction df \n",
    "    ridge_model.fit(x_train,y_train)\n",
    "    y_pred = ridge_model.predict(x_test)\n",
    "\n",
    "    col0 = y_variable + \"_true\"\n",
    "    col1 = y_variable + \"_pred\"\n",
    "    temp_predict = pd.DataFrame({col0: y_test, col1: y_pred}, index=y_test.index)\n",
    "    temp_predict.index.name = \"id\"\n",
    "    \n",
    "    if ri_predict.empty:\n",
    "        ri_predict = temp_predict\n",
    "    else:\n",
    "        ri_predict = ri_predict.merge(temp_predict, on=\"id\", how=\"outer\")"
   ]
  },
  {
   "cell_type": "code",
   "execution_count": 8,
   "id": "5a0bb289-f280-4229-a34c-ca858e7ee284",
   "metadata": {},
   "outputs": [
    {
     "data": {
      "text/html": [
       "<div>\n",
       "<style scoped>\n",
       "    .dataframe tbody tr th:only-of-type {\n",
       "        vertical-align: middle;\n",
       "    }\n",
       "\n",
       "    .dataframe tbody tr th {\n",
       "        vertical-align: top;\n",
       "    }\n",
       "\n",
       "    .dataframe thead th {\n",
       "        text-align: right;\n",
       "    }\n",
       "</style>\n",
       "<table border=\"1\" class=\"dataframe\">\n",
       "  <thead>\n",
       "    <tr style=\"text-align: right;\">\n",
       "      <th></th>\n",
       "      <th>Feature</th>\n",
       "      <th>r2</th>\n",
       "      <th>MAE</th>\n",
       "    </tr>\n",
       "  </thead>\n",
       "  <tbody>\n",
       "  </tbody>\n",
       "</table>\n",
       "</div>"
      ],
      "text/plain": [
       "Empty DataFrame\n",
       "Columns: [Feature, r2, MAE]\n",
       "Index: []"
      ]
     },
     "execution_count": 8,
     "metadata": {},
     "output_type": "execute_result"
    }
   ],
   "source": [
    "ridge_results[ridge_results[\"r2\"]>0.9].round(2)"
   ]
  },
  {
   "cell_type": "code",
   "execution_count": 9,
   "id": "5a2248fd-c1f3-4171-822f-a9b2c7640ec5",
   "metadata": {},
   "outputs": [
    {
     "data": {
      "text/html": [
       "<div>\n",
       "<style scoped>\n",
       "    .dataframe tbody tr th:only-of-type {\n",
       "        vertical-align: middle;\n",
       "    }\n",
       "\n",
       "    .dataframe tbody tr th {\n",
       "        vertical-align: top;\n",
       "    }\n",
       "\n",
       "    .dataframe thead th {\n",
       "        text-align: right;\n",
       "    }\n",
       "</style>\n",
       "<table border=\"1\" class=\"dataframe\">\n",
       "  <thead>\n",
       "    <tr style=\"text-align: right;\">\n",
       "      <th></th>\n",
       "      <th>Feature</th>\n",
       "      <th>r2</th>\n",
       "      <th>MAE</th>\n",
       "    </tr>\n",
       "  </thead>\n",
       "  <tbody>\n",
       "  </tbody>\n",
       "</table>\n",
       "</div>"
      ],
      "text/plain": [
       "Empty DataFrame\n",
       "Columns: [Feature, r2, MAE]\n",
       "Index: []"
      ]
     },
     "execution_count": 9,
     "metadata": {},
     "output_type": "execute_result"
    }
   ],
   "source": [
    "ridge_results[ridge_results[\"r2\"]>0.8].round(2)"
   ]
  },
  {
   "cell_type": "code",
   "execution_count": 10,
   "id": "7d64bc5a-8090-47cb-94cb-000ba286ded6",
   "metadata": {},
   "outputs": [
    {
     "data": {
      "text/html": [
       "<div>\n",
       "<style scoped>\n",
       "    .dataframe tbody tr th:only-of-type {\n",
       "        vertical-align: middle;\n",
       "    }\n",
       "\n",
       "    .dataframe tbody tr th {\n",
       "        vertical-align: top;\n",
       "    }\n",
       "\n",
       "    .dataframe thead th {\n",
       "        text-align: right;\n",
       "    }\n",
       "</style>\n",
       "<table border=\"1\" class=\"dataframe\">\n",
       "  <thead>\n",
       "    <tr style=\"text-align: right;\">\n",
       "      <th></th>\n",
       "      <th>Feature</th>\n",
       "      <th>r2</th>\n",
       "      <th>MAE</th>\n",
       "    </tr>\n",
       "  </thead>\n",
       "  <tbody>\n",
       "  </tbody>\n",
       "</table>\n",
       "</div>"
      ],
      "text/plain": [
       "Empty DataFrame\n",
       "Columns: [Feature, r2, MAE]\n",
       "Index: []"
      ]
     },
     "execution_count": 10,
     "metadata": {},
     "output_type": "execute_result"
    }
   ],
   "source": [
    "ridge_results[(ridge_results[\"r2\"]>=0.7) & (ridge_results[\"r2\"]<0.8)].round(4)"
   ]
  },
  {
   "cell_type": "code",
   "execution_count": 11,
   "id": "a11ac195-c3d2-4cbe-8cc9-3e1bcab7c9bd",
   "metadata": {},
   "outputs": [
    {
     "data": {
      "text/html": [
       "<div>\n",
       "<style scoped>\n",
       "    .dataframe tbody tr th:only-of-type {\n",
       "        vertical-align: middle;\n",
       "    }\n",
       "\n",
       "    .dataframe tbody tr th {\n",
       "        vertical-align: top;\n",
       "    }\n",
       "\n",
       "    .dataframe thead th {\n",
       "        text-align: right;\n",
       "    }\n",
       "</style>\n",
       "<table border=\"1\" class=\"dataframe\">\n",
       "  <thead>\n",
       "    <tr style=\"text-align: right;\">\n",
       "      <th></th>\n",
       "      <th>Feature</th>\n",
       "      <th>r2</th>\n",
       "      <th>MAE</th>\n",
       "    </tr>\n",
       "  </thead>\n",
       "  <tbody>\n",
       "  </tbody>\n",
       "</table>\n",
       "</div>"
      ],
      "text/plain": [
       "Empty DataFrame\n",
       "Columns: [Feature, r2, MAE]\n",
       "Index: []"
      ]
     },
     "execution_count": 11,
     "metadata": {},
     "output_type": "execute_result"
    }
   ],
   "source": [
    "ridge_results[(ridge_results[\"r2\"]>=0.6) & (ridge_results[\"r2\"]<0.7)].round(4)"
   ]
  },
  {
   "cell_type": "code",
   "execution_count": 12,
   "id": "969c135f-27fc-4e14-a6c6-219320b854ab",
   "metadata": {},
   "outputs": [
    {
     "data": {
      "text/html": [
       "<div>\n",
       "<style scoped>\n",
       "    .dataframe tbody tr th:only-of-type {\n",
       "        vertical-align: middle;\n",
       "    }\n",
       "\n",
       "    .dataframe tbody tr th {\n",
       "        vertical-align: top;\n",
       "    }\n",
       "\n",
       "    .dataframe thead th {\n",
       "        text-align: right;\n",
       "    }\n",
       "</style>\n",
       "<table border=\"1\" class=\"dataframe\">\n",
       "  <thead>\n",
       "    <tr style=\"text-align: right;\">\n",
       "      <th></th>\n",
       "      <th>Feature</th>\n",
       "      <th>r2</th>\n",
       "      <th>MAE</th>\n",
       "    </tr>\n",
       "  </thead>\n",
       "  <tbody>\n",
       "    <tr>\n",
       "      <th>0</th>\n",
       "      <td>index_sdg1</td>\n",
       "      <td>0.5505</td>\n",
       "      <td>-11.1087</td>\n",
       "    </tr>\n",
       "    <tr>\n",
       "      <th>10</th>\n",
       "      <td>index_sdg11</td>\n",
       "      <td>0.5265</td>\n",
       "      <td>-6.2877</td>\n",
       "    </tr>\n",
       "    <tr>\n",
       "      <th>15</th>\n",
       "      <td>imds</td>\n",
       "      <td>0.5278</td>\n",
       "      <td>-3.6451</td>\n",
       "    </tr>\n",
       "  </tbody>\n",
       "</table>\n",
       "</div>"
      ],
      "text/plain": [
       "        Feature      r2      MAE\n",
       "0    index_sdg1  0.5505 -11.1087\n",
       "10  index_sdg11  0.5265  -6.2877\n",
       "15         imds  0.5278  -3.6451"
      ]
     },
     "execution_count": 12,
     "metadata": {},
     "output_type": "execute_result"
    }
   ],
   "source": [
    "ridge_results[(ridge_results[\"r2\"]>=0.5) & (ridge_results[\"r2\"]<0.6)].round(4)"
   ]
  },
  {
   "cell_type": "code",
   "execution_count": 13,
   "id": "430fdb43-6dc6-4592-ab43-be595d0a154d",
   "metadata": {},
   "outputs": [
    {
     "data": {
      "text/html": [
       "<div>\n",
       "<style scoped>\n",
       "    .dataframe tbody tr th:only-of-type {\n",
       "        vertical-align: middle;\n",
       "    }\n",
       "\n",
       "    .dataframe tbody tr th {\n",
       "        vertical-align: top;\n",
       "    }\n",
       "\n",
       "    .dataframe thead th {\n",
       "        text-align: right;\n",
       "    }\n",
       "</style>\n",
       "<table border=\"1\" class=\"dataframe\">\n",
       "  <thead>\n",
       "    <tr style=\"text-align: right;\">\n",
       "      <th></th>\n",
       "      <th>Feature</th>\n",
       "      <th>r2</th>\n",
       "      <th>MAE</th>\n",
       "    </tr>\n",
       "  </thead>\n",
       "  <tbody>\n",
       "    <tr>\n",
       "      <th>0</th>\n",
       "      <td>index_sdg1</td>\n",
       "      <td>0.5505</td>\n",
       "      <td>-11.1087</td>\n",
       "    </tr>\n",
       "    <tr>\n",
       "      <th>1</th>\n",
       "      <td>index_sdg2</td>\n",
       "      <td>0.2303</td>\n",
       "      <td>-7.5189</td>\n",
       "    </tr>\n",
       "    <tr>\n",
       "      <th>2</th>\n",
       "      <td>index_sdg3</td>\n",
       "      <td>0.0109</td>\n",
       "      <td>-5.8044</td>\n",
       "    </tr>\n",
       "    <tr>\n",
       "      <th>3</th>\n",
       "      <td>index_sdg4</td>\n",
       "      <td>0.2392</td>\n",
       "      <td>-8.0992</td>\n",
       "    </tr>\n",
       "    <tr>\n",
       "      <th>4</th>\n",
       "      <td>index_sdg5</td>\n",
       "      <td>0.1043</td>\n",
       "      <td>-6.8338</td>\n",
       "    </tr>\n",
       "    <tr>\n",
       "      <th>5</th>\n",
       "      <td>index_sdg6</td>\n",
       "      <td>0.3796</td>\n",
       "      <td>-9.8607</td>\n",
       "    </tr>\n",
       "    <tr>\n",
       "      <th>6</th>\n",
       "      <td>index_sdg7</td>\n",
       "      <td>0.4876</td>\n",
       "      <td>-8.4687</td>\n",
       "    </tr>\n",
       "    <tr>\n",
       "      <th>7</th>\n",
       "      <td>index_sdg8</td>\n",
       "      <td>0.3569</td>\n",
       "      <td>-6.5151</td>\n",
       "    </tr>\n",
       "    <tr>\n",
       "      <th>8</th>\n",
       "      <td>index_sdg9</td>\n",
       "      <td>0.4737</td>\n",
       "      <td>-8.8246</td>\n",
       "    </tr>\n",
       "    <tr>\n",
       "      <th>9</th>\n",
       "      <td>index_sdg10</td>\n",
       "      <td>0.0802</td>\n",
       "      <td>-10.7079</td>\n",
       "    </tr>\n",
       "    <tr>\n",
       "      <th>10</th>\n",
       "      <td>index_sdg11</td>\n",
       "      <td>0.5265</td>\n",
       "      <td>-6.2877</td>\n",
       "    </tr>\n",
       "    <tr>\n",
       "      <th>11</th>\n",
       "      <td>index_sdg13</td>\n",
       "      <td>0.3232</td>\n",
       "      <td>-8.6309</td>\n",
       "    </tr>\n",
       "    <tr>\n",
       "      <th>14</th>\n",
       "      <td>index_sdg17</td>\n",
       "      <td>0.1439</td>\n",
       "      <td>-7.4181</td>\n",
       "    </tr>\n",
       "    <tr>\n",
       "      <th>15</th>\n",
       "      <td>imds</td>\n",
       "      <td>0.5278</td>\n",
       "      <td>-3.6451</td>\n",
       "    </tr>\n",
       "  </tbody>\n",
       "</table>\n",
       "</div>"
      ],
      "text/plain": [
       "        Feature      r2      MAE\n",
       "0    index_sdg1  0.5505 -11.1087\n",
       "1    index_sdg2  0.2303  -7.5189\n",
       "2    index_sdg3  0.0109  -5.8044\n",
       "3    index_sdg4  0.2392  -8.0992\n",
       "4    index_sdg5  0.1043  -6.8338\n",
       "5    index_sdg6  0.3796  -9.8607\n",
       "6    index_sdg7  0.4876  -8.4687\n",
       "7    index_sdg8  0.3569  -6.5151\n",
       "8    index_sdg9  0.4737  -8.8246\n",
       "9   index_sdg10  0.0802 -10.7079\n",
       "10  index_sdg11  0.5265  -6.2877\n",
       "11  index_sdg13  0.3232  -8.6309\n",
       "14  index_sdg17  0.1439  -7.4181\n",
       "15         imds  0.5278  -3.6451"
      ]
     },
     "execution_count": 13,
     "metadata": {},
     "output_type": "execute_result"
    }
   ],
   "source": [
    "ridge_results[ridge_results[\"r2\"]>0 ].round(4)"
   ]
  },
  {
   "cell_type": "code",
   "execution_count": 14,
   "id": "3453267b-c535-422a-b312-1e34524df517",
   "metadata": {},
   "outputs": [
    {
     "data": {
      "text/html": [
       "<div>\n",
       "<style scoped>\n",
       "    .dataframe tbody tr th:only-of-type {\n",
       "        vertical-align: middle;\n",
       "    }\n",
       "\n",
       "    .dataframe tbody tr th {\n",
       "        vertical-align: top;\n",
       "    }\n",
       "\n",
       "    .dataframe thead th {\n",
       "        text-align: right;\n",
       "    }\n",
       "</style>\n",
       "<table border=\"1\" class=\"dataframe\">\n",
       "  <thead>\n",
       "    <tr style=\"text-align: right;\">\n",
       "      <th></th>\n",
       "      <th>Feature</th>\n",
       "      <th>r2</th>\n",
       "      <th>MAE</th>\n",
       "    </tr>\n",
       "  </thead>\n",
       "  <tbody>\n",
       "    <tr>\n",
       "      <th>12</th>\n",
       "      <td>index_sdg15</td>\n",
       "      <td>-0.2016</td>\n",
       "      <td>-12.9157</td>\n",
       "    </tr>\n",
       "    <tr>\n",
       "      <th>13</th>\n",
       "      <td>index_sdg16</td>\n",
       "      <td>-0.0352</td>\n",
       "      <td>-7.4085</td>\n",
       "    </tr>\n",
       "  </tbody>\n",
       "</table>\n",
       "</div>"
      ],
      "text/plain": [
       "        Feature      r2      MAE\n",
       "12  index_sdg15 -0.2016 -12.9157\n",
       "13  index_sdg16 -0.0352  -7.4085"
      ]
     },
     "execution_count": 14,
     "metadata": {},
     "output_type": "execute_result"
    }
   ],
   "source": [
    "ridge_results[ridge_results[\"r2\"]<0].round(4)"
   ]
  },
  {
   "cell_type": "code",
   "execution_count": 15,
   "id": "cbd09c6e-35b4-4281-bf2a-2ae9e3e54666",
   "metadata": {},
   "outputs": [
    {
     "data": {
      "text/plain": [
       "[<matplotlib.lines.Line2D at 0x165c4df10>]"
      ]
     },
     "execution_count": 15,
     "metadata": {},
     "output_type": "execute_result"
    },
    {
     "data": {
      "image/png": "[encoded data removed]",
      "text/plain": [
       "<Figure size 2000x700 with 4 Axes>"
      ]
     },
     "metadata": {},
     "output_type": "display_data"
    }
   ],
   "source": [
    "fig, ((ax0, ax1, ax2, ax3)) = plt.subplots(nrows=1, \n",
    "                                         ncols=4, \n",
    "                                         figsize=(20, 7))\n",
    "\n",
    "# Graph 1 \n",
    "g_x = ri_predict[\"index_sdg1_true\"]\n",
    "g_y = ri_predict[\"index_sdg1_pred\"]\n",
    "\n",
    "ax0.scatter(x = g_x, y = g_y)\n",
    "ax0.set(xlabel=\"sdg1_1_pubn_abs_true\", ylabel=\"sdg1_1_pubn_abs_pred\", title=\"SDG1\")\n",
    "\n",
    "# add trendline\n",
    "z = np.polyfit(g_x, g_y, 1)\n",
    "p = np.poly1d(z)\n",
    "ax0.plot(g_x,p(g_x),\"r-\")\n",
    "\n",
    "\n",
    "# Graph 1 \n",
    "g_x = ri_predict[\"index_sdg7_true\"]\n",
    "g_y = ri_predict[\"index_sdg7_pred\"]\n",
    "\n",
    "ax1.scatter(x = g_x, y = g_y)\n",
    "ax1.set(xlabel=\"sdg9_c_hf_abs_true\", ylabel=\"sdg9_c_hf_abs_pred\", title=\"index_sdg7\")\n",
    "\n",
    "# add trendline\n",
    "z = np.polyfit(g_x, g_y, 1)\n",
    "p = np.poly1d(z)\n",
    "ax1.plot(g_x,p(g_x),\"r-\")\n",
    "\n",
    "\n",
    "# Graph 1 \n",
    "g_x = ri_predict[\"index_sdg11_true\"]\n",
    "g_y = ri_predict[\"index_sdg11_pred\"]\n",
    "\n",
    "ax2.scatter(x = g_x, y = g_y)\n",
    "ax2.set(xlabel=\"sdg1_1_dtl_abs_true\", ylabel=\"sdg1_1_dtl_abs_pred\", title=\"index_sdg11\")\n",
    "\n",
    "# add trendline\n",
    "z = np.polyfit(g_x, g_y, 1)\n",
    "p = np.poly1d(z)\n",
    "ax2.plot(g_x,p(g_x),\"r-\")\n",
    "\n",
    "\n",
    "# Graph 1 \n",
    "g_x = ri_predict[\"index_sdg9_true\"]\n",
    "g_y = ri_predict[\"index_sdg9_pred\"]\n",
    "\n",
    "ax3.scatter(x = g_x, y = g_y)\n",
    "ax3.set(xlabel=\"sdg3_2_fb_abs_true\", ylabel=\"sdg3_2_fb_abs_pred\", title=\"index_sdg9\")\n",
    "\n",
    "# add trendline\n",
    "z = np.polyfit(g_x, g_y, 1)\n",
    "p = np.poly1d(z)\n",
    "ax3.plot(g_x,p(g_x),\"r-\")"
   ]
  },
  {
   "cell_type": "code",
   "execution_count": null,
   "id": "e269dde4-b45a-4b7f-8725-951e8195f9ea",
   "metadata": {},
   "outputs": [],
   "source": []
  },
  {
   "cell_type": "markdown",
   "id": "7dc6b14b-b46e-4457-9396-90ecf53f9267",
   "metadata": {},
   "source": [
    "# Adjust Hyperparameters"
   ]
  },
  {
   "cell_type": "code",
   "execution_count": 16,
   "id": "a21c805a-174c-4fa6-bfee-8cc810495e6d",
   "metadata": {
    "scrolled": true
   },
   "outputs": [
    {
     "data": {
      "text/plain": [
       "{'alpha': 1.0,\n",
       " 'copy_X': True,\n",
       " 'fit_intercept': True,\n",
       " 'max_iter': None,\n",
       " 'positive': False,\n",
       " 'random_state': None,\n",
       " 'solver': 'auto',\n",
       " 'tol': 0.0001}"
      ]
     },
     "execution_count": 16,
     "metadata": {},
     "output_type": "execute_result"
    }
   ],
   "source": [
    "model.get_params()"
   ]
  },
  {
   "cell_type": "code",
   "execution_count": 17,
   "id": "a19a9c6e-595e-449c-823b-47d82d6e3527",
   "metadata": {},
   "outputs": [
    {
     "data": {
      "text/plain": [
       "0.6264590508580479"
      ]
     },
     "execution_count": 17,
     "metadata": {},
     "output_type": "execute_result"
    }
   ],
   "source": [
    "model_tuned = linear_model.Ridge(alpha=0.0001, max_iter=1000)\n",
    "model_tuned.fit(X_train, y_train);\n",
    "model.score(X_test, y_test)\n"
   ]
  },
  {
   "cell_type": "code",
   "execution_count": 18,
   "id": "080f96f9-edae-4dfa-bc40-20427b7a6ce8",
   "metadata": {},
   "outputs": [],
   "source": [
    "alpha_space = np.logspace(-4,0,30)\n",
    "alpha_space\n",
    "\n",
    "ridge_scores = []\n",
    "ridge_pipeline = make_pipeline(StandardScaler(), Ridge())\n",
    "\n",
    "for alpha in alpha_space: \n",
    "    ridge_pipeline.alpha = alpha\n",
    "    val = np.mean(cross_val_score(ridge_pipeline, X, y, cv = 10))\n",
    "    ridge_scores.append(val)"
   ]
  },
  {
   "cell_type": "code",
   "execution_count": 19,
   "id": "1103b3f0-cf72-42d9-be0b-a47f3cc56575",
   "metadata": {},
   "outputs": [
    {
     "data": {
      "image/png": "[encoded data removed]",
      "text/plain": [
       "<Figure size 800x800 with 1 Axes>"
      ]
     },
     "metadata": {},
     "output_type": "display_data"
    }
   ],
   "source": [
    "plt.figure(figsize=(8,8))\n",
    "plt.plot(alpha_space, ridge_scores, marker=\"D\", label = \"ridge\")\n",
    "plt.legend()\n",
    "plt.show()"
   ]
  },
  {
   "cell_type": "code",
   "execution_count": 20,
   "id": "43f2cc3d-8e81-4ed1-a93d-9e06f814f59a",
   "metadata": {},
   "outputs": [],
   "source": [
    "def evaluate_preds(model, y_true, y_preds):\n",
    "    \"\"\"\n",
    "    Performs evaluation comparison on y_true labels vs. y_pred labels\n",
    "    on a classification.\n",
    "    \"\"\"\n",
    "    r2 = np.mean(cross_val_score(model, X, y, scoring=\"r2\"))\n",
    "    mae = np.mean(cross_val_score(model, X, y, scoring=\"neg_mean_absolute_error\"))\n",
    "    metric_dict = {\"R2\": round(r2, 2),\n",
    "                   \"MAE\": round(mae, 2)}\n",
    "    print(f\"R2: {r2 * 100:.2f}%\")\n",
    "    print(f\"MAE: {mae:.2f}\")\n",
    "    \n",
    "    return metric_dict"
   ]
  },
  {
   "cell_type": "code",
   "execution_count": 21,
   "id": "ab1e071d-4d3b-4f13-b8d7-d5fb1347fa69",
   "metadata": {},
   "outputs": [],
   "source": [
    "grid = {\"alpha\": alpha_space,\n",
    "        \"copy_X\": [True, False],\n",
    "        \"max_iter\": [None, 10, 100, 200, 500, 1000, 10000], \n",
    "        \"solver\": [\"auto\", \"svd\", \"cholesky\", \"lsqr\", \"sparse_cg\"]}\n",
    "\n",
    "np.random.seed(42)\n",
    "rs_rid_model= RandomizedSearchCV(estimator = model,\n",
    "                                 param_distributions=grid,\n",
    "                                 n_iter=100,\n",
    "                                 cv=5,\n",
    "                                 verbose=0)\n",
    "\n",
    "rs_rid_model.fit(X_train, y_train);"
   ]
  },
  {
   "cell_type": "code",
   "execution_count": 22,
   "id": "d3996636-5518-467f-8026-88d41c8c23f1",
   "metadata": {},
   "outputs": [
    {
     "data": {
      "text/plain": [
       "{'solver': 'cholesky', 'max_iter': 10, 'copy_X': False, 'alpha': 1.0}"
      ]
     },
     "execution_count": 22,
     "metadata": {},
     "output_type": "execute_result"
    }
   ],
   "source": [
    "rs_rid_model.best_params_"
   ]
  },
  {
   "cell_type": "code",
   "execution_count": 23,
   "id": "41e34e9d-616e-48dc-8f3b-74c3640b0062",
   "metadata": {},
   "outputs": [
    {
     "name": "stdout",
     "output_type": "stream",
     "text": [
      "R2: 52.44%\n",
      "MAE: -3.67\n"
     ]
    }
   ],
   "source": [
    "# Uses the best model for the prediction\n",
    "rs_y_preds = rs_rid_model.predict(X_test)\n",
    "\n",
    "rs_metrics = evaluate_preds(rs_rid_model, X, y)"
   ]
  },
  {
   "cell_type": "code",
   "execution_count": null,
   "id": "304f6380-ab88-4620-870a-f30f94b2fdec",
   "metadata": {},
   "outputs": [],
   "source": []
  },
  {
   "cell_type": "code",
   "execution_count": null,
   "id": "831815ff-4402-468e-8ca2-dca9af6f02d5",
   "metadata": {},
   "outputs": [],
   "source": []
  }
 ],
 "metadata": {
  "kernelspec": {
   "display_name": "Python 3 (ipykernel)",
   "language": "python",
   "name": "python3"
  },
  "language_info": {
   "codemirror_mode": {
    "name": "ipython",
    "version": 3
   },
   "file_extension": ".py",
   "mimetype": "text/x-python",
   "name": "python",
   "nbconvert_exporter": "python",
   "pygments_lexer": "ipython3",
   "version": "3.12.0"
  }
 },
 "nbformat": 4,
 "nbformat_minor": 5
}
