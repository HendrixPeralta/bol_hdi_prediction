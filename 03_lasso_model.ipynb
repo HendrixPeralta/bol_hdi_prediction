{
 "cells": [
  {
   "cell_type": "code",
   "execution_count": 1,
   "id": "d9f8ced2-34a4-4111-a3d2-a3e1fcd3bef6",
   "metadata": {},
   "outputs": [],
   "source": [
    "import numpy as np\n",
    "import pandas as pd\n",
    "import sklearn as ktl\n",
    "import pickle\n",
    "import matplotlib.pylab as plt\n",
    "import seaborn\n",
    "\n",
    "from sklearn.model_selection import train_test_split\n",
    "from sklearn.metrics import mean_squared_error, r2_score, mean_absolute_error\n",
    "from sklearn.metrics import classification_report, confusion_matrix, accuracy_score\n",
    "\n",
    "from sklearn.model_selection import cross_val_score\n",
    "\n",
    "from sklearn.linear_model import LinearRegression\n",
    "from sklearn import linear_model\n",
    "from sklearn.linear_model import Lasso\n",
    "\n",
    "from sklearn.ensemble import RandomForestRegressor"
   ]
  },
  {
   "cell_type": "markdown",
   "id": "1ec0881f-8f6e-4b6d-b53e-cae75d9eb272",
   "metadata": {},
   "source": [
    "## Importing satellite and survey data "
   ]
  },
  {
   "cell_type": "code",
   "execution_count": 2,
   "id": "849f86b2-641a-4e69-a31e-13a632c87b19",
   "metadata": {},
   "outputs": [],
   "source": [
    "sdg_indexes = pd.read_csv(\"data/sdg_prediction/sdg_indexes.csv\")\n",
    "sat_mod = pd.read_csv(\"data/sdg_prediction/sat_mod.csv\")"
   ]
  },
  {
   "cell_type": "markdown",
   "id": "e8e0f60b-7355-4a83-9bd1-82dcf77088c4",
   "metadata": {},
   "source": [
    "## Define Features and labels "
   ]
  },
  {
   "cell_type": "code",
   "execution_count": 3,
   "id": "98ecc459-e7d1-403a-b7a3-31aa9af6fa79",
   "metadata": {},
   "outputs": [],
   "source": [
    "X = sat_mod[['lnEGDPpc2012', 'lnagr_land2012', 'lnurb_land2012', 'ln_perUrb_land2012',\n",
    "                'ln_tr400_pop2012', 'ln_pm25_2012', 'ln_land_temp2012']]\n",
    "       \n",
    "\n",
    "y = sdg_indexes[\"imds\"]\n",
    "\n",
    "np.random.seed(86)\n",
    "X_train, X_test, y_train, y_test = train_test_split(X, y, test_size=0.2)"
   ]
  },
  {
   "cell_type": "markdown",
   "id": "9ea375eb-743d-42d8-bc01-11a8a9ca7462",
   "metadata": {},
   "source": [
    "## Set up Lasso model "
   ]
  },
  {
   "cell_type": "code",
   "execution_count": 6,
   "id": "caab85cb-983d-42ac-8fc0-ad55aecf4171",
   "metadata": {},
   "outputs": [
    {
     "data": {
      "text/plain": [
       "0.1797726273208592"
      ]
     },
     "execution_count": 6,
     "metadata": {},
     "output_type": "execute_result"
    }
   ],
   "source": [
    "model = linear_model.Lasso()\n",
    "model.fit(X_train, y_train)\n",
    "model.score(X_test, y_test)"
   ]
  },
  {
   "cell_type": "markdown",
   "id": "8ad3566f-c0d0-47ea-ac85-b45ad06a7cd3",
   "metadata": {},
   "source": [
    "### Lasso Coefficients "
   ]
  },
  {
   "cell_type": "code",
   "execution_count": 7,
   "id": "48b9695f-adb8-4d09-b60a-923e6df90420",
   "metadata": {},
   "outputs": [
    {
     "data": {
      "text/plain": [
       "array([-0.        ,  0.        ,  0.        ,  0.        ,  1.88518332,\n",
       "       -0.        ,  0.        ])"
      ]
     },
     "execution_count": 7,
     "metadata": {},
     "output_type": "execute_result"
    }
   ],
   "source": []
  },
  {
   "cell_type": "code",
   "execution_count": null,
   "id": "7c6513af-2f8d-45c7-86f6-ab55bf5868fe",
   "metadata": {},
   "outputs": [],
   "source": []
  }
 ],
 "metadata": {
  "kernelspec": {
   "display_name": "Python 3 (ipykernel)",
   "language": "python",
   "name": "python3"
  },
  "language_info": {
   "codemirror_mode": {
    "name": "ipython",
    "version": 3
   },
   "file_extension": ".py",
   "mimetype": "text/x-python",
   "name": "python",
   "nbconvert_exporter": "python",
   "pygments_lexer": "ipython3",
   "version": "3.12.0"
  }
 },
 "nbformat": 4,
 "nbformat_minor": 5
}
