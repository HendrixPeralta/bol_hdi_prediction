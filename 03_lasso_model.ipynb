{
 "cells": [
  {
   "cell_type": "code",
   "execution_count": 1,
   "id": "d9f8ced2-34a4-4111-a3d2-a3e1fcd3bef6",
   "metadata": {},
   "outputs": [],
   "source": [
    "import numpy as np\n",
    "import pandas as pd\n",
    "import sklearn as ktl\n",
    "import pickle\n",
    "import matplotlib.pylab as plt\n",
    "import seaborn\n",
    "\n",
    "from sklearn.model_selection import train_test_split\n",
    "from sklearn.metrics import mean_squared_error, r2_score, mean_absolute_error\n",
    "from sklearn.metrics import classification_report, confusion_matrix, accuracy_score\n",
    "\n",
    "from sklearn.model_selection import cross_val_score\n",
    "\n",
    "from sklearn.linear_model import LinearRegression\n",
    "from sklearn import linear_model\n",
    "from sklearn.linear_model import Lasso\n",
    "\n",
    "from sklearn.ensemble import RandomForestRegressor"
   ]
  },
  {
   "cell_type": "markdown",
   "id": "1ec0881f-8f6e-4b6d-b53e-cae75d9eb272",
   "metadata": {},
   "source": [
    "## Importing satellite and survey data "
   ]
  },
  {
   "cell_type": "code",
   "execution_count": 2,
   "id": "849f86b2-641a-4e69-a31e-13a632c87b19",
   "metadata": {},
   "outputs": [],
   "source": [
    "sdg_indexes = pd.read_csv(\"data/sdg_prediction/sdg_indexes.csv\")\n",
    "sat_mod = pd.read_csv(\"data/sdg_prediction/sat_mod.csv\")"
   ]
  },
  {
   "cell_type": "markdown",
   "id": "e8e0f60b-7355-4a83-9bd1-82dcf77088c4",
   "metadata": {},
   "source": [
    "## Define Features and labels "
   ]
  },
  {
   "cell_type": "code",
   "execution_count": 3,
   "id": "98ecc459-e7d1-403a-b7a3-31aa9af6fa79",
   "metadata": {},
   "outputs": [],
   "source": [
    "X = sat_mod[['lnEGDPpc2012', 'lnagr_land2012', 'lnurb_land2012', 'ln_perUrb_land2012',\n",
    "                'ln_tr400_pop2012', 'ln_pm25_2012', 'ln_land_temp2012','ln_dist_road2017','ln_ghsl2015', 'dist_diamond2015']]\n",
    "       \n",
    "#'lnagr_land2012', 'lnurb_land2012', 'ln_tr400_pop2012','ln_land_temp2012','ln_dist_road2017','ln_ghsl2015', 'dist_diamond2015'\n",
    "y = sdg_indexes[\"imds\"]\n",
    "\n",
    "np.random.seed(86)\n",
    "X_train, X_test, y_train, y_test = train_test_split(X, y, test_size=0.2)"
   ]
  },
  {
   "cell_type": "markdown",
   "id": "9ea375eb-743d-42d8-bc01-11a8a9ca7462",
   "metadata": {},
   "source": [
    "## Set up Lasso model "
   ]
  },
  {
   "cell_type": "code",
   "execution_count": 4,
   "id": "caab85cb-983d-42ac-8fc0-ad55aecf4171",
   "metadata": {},
   "outputs": [
    {
     "name": "stdout",
     "output_type": "stream",
     "text": [
      "R2 training set 38.3\n",
      "R2 training set 33.21\n",
      "MSE training set: 28.32\n",
      "MSE test set: 30.06\n"
     ]
    }
   ],
   "source": [
    "model = linear_model.Lasso()\n",
    "model.fit(X_train, y_train)\n",
    "\n",
    "print(\"R2 training set\", round(model.score(X_train, y_train)*100, 2))\n",
    "print(\"R2 training set\", round(model.score(X_test, y_test)*100, 2))\n",
    "\n",
    "pred_train = model.predict(X_train)\n",
    "mse_train = mean_squared_error(y_train, pred_train)\n",
    "print(\"MSE training set:\", round(mse_train, 2))\n",
    "\n",
    "pred = model.predict(X_test)\n",
    "mse_test = mean_squared_error(y_test, pred)\n",
    "print(\"MSE test set:\", round(mse_test,2))"
   ]
  },
  {
   "cell_type": "markdown",
   "id": "8ad3566f-c0d0-47ea-ac85-b45ad06a7cd3",
   "metadata": {},
   "source": [
    "### Lasso Coefficients "
   ]
  },
  {
   "cell_type": "code",
   "execution_count": 5,
   "id": "48b9695f-adb8-4d09-b60a-923e6df90420",
   "metadata": {},
   "outputs": [
    {
     "data": {
      "text/plain": [
       "array(['ln_ghsl2015'], dtype=object)"
      ]
     },
     "execution_count": 5,
     "metadata": {},
     "output_type": "execute_result"
    }
   ],
   "source": [
    "# Lasso coefficients for all features \n",
    "coeff = model.coef_\n",
    "\n",
    "#Extract the relevant coefficients \n",
    "relevant = np.array(X.columns)[coeff>0]\n",
    "relevant"
   ]
  },
  {
   "cell_type": "code",
   "execution_count": 8,
   "id": "f10455ce-7aac-48db-8936-664b66dffca0",
   "metadata": {},
   "outputs": [
    {
     "data": {
      "text/plain": [
       "array([-0.00000000e+00,  0.00000000e+00,  0.00000000e+00,  0.00000000e+00,\n",
       "       -0.00000000e+00, -0.00000000e+00, -0.00000000e+00, -5.19962433e-02,\n",
       "        2.34644153e+00, -6.77240000e-07])"
      ]
     },
     "execution_count": 8,
     "metadata": {},
     "output_type": "execute_result"
    }
   ],
   "source": [
    "model.coef_"
   ]
  },
  {
   "cell_type": "code",
   "execution_count": null,
   "id": "b2a3ca9d-d4cc-4170-a854-a238fde809f1",
   "metadata": {},
   "outputs": [],
   "source": []
  },
  {
   "cell_type": "code",
   "execution_count": 6,
   "id": "6a2eeb83-14cf-408d-a65e-6044f1d5ef4a",
   "metadata": {},
   "outputs": [],
   "source": [
    "#dummies = pd.get_dummies(df[['League', 'Division','NewLeague']])"
   ]
  },
  {
   "cell_type": "code",
   "execution_count": 7,
   "id": "8bc46370-017d-4a88-a27c-0f9014287ad9",
   "metadata": {},
   "outputs": [
    {
     "ename": "NameError",
     "evalue": "name 'reg' is not defined",
     "output_type": "error",
     "traceback": [
      "\u001b[0;31m---------------------------------------------------------------------------\u001b[0m",
      "\u001b[0;31mNameError\u001b[0m                                 Traceback (most recent call last)",
      "Cell \u001b[0;32mIn[7], line 1\u001b[0m\n\u001b[0;32m----> 1\u001b[0m \u001b[38;5;28mprint\u001b[39m(\u001b[38;5;124m'\u001b[39m\u001b[38;5;124mR squared training set\u001b[39m\u001b[38;5;124m'\u001b[39m, \u001b[38;5;28mround\u001b[39m(\u001b[43mreg\u001b[49m\u001b[38;5;241m.\u001b[39mscore(X_train, y_train)\u001b[38;5;241m*\u001b[39m\u001b[38;5;241m100\u001b[39m, \u001b[38;5;241m2\u001b[39m))\n\u001b[1;32m      2\u001b[0m \u001b[38;5;28mprint\u001b[39m(\u001b[38;5;124m'\u001b[39m\u001b[38;5;124mR squared test set\u001b[39m\u001b[38;5;124m'\u001b[39m, \u001b[38;5;28mround\u001b[39m(reg\u001b[38;5;241m.\u001b[39mscore(X_test, y_test)\u001b[38;5;241m*\u001b[39m\u001b[38;5;241m100\u001b[39m, \u001b[38;5;241m2\u001b[39m))\n",
      "\u001b[0;31mNameError\u001b[0m: name 'reg' is not defined"
     ]
    }
   ],
   "source": [
    "print('R squared training set', round(reg.score(X_train, y_train)*100, 2))\n",
    "print('R squared test set', round(reg.score(X_test, y_test)*100, 2))"
   ]
  },
  {
   "cell_type": "code",
   "execution_count": null,
   "id": "646963fd-cbea-4a29-99fd-bb2282d30382",
   "metadata": {},
   "outputs": [],
   "source": []
  },
  {
   "cell_type": "code",
   "execution_count": null,
   "id": "c4254a9f-abb0-48a4-bff4-aa66bc566195",
   "metadata": {},
   "outputs": [],
   "source": [
    "alphas = np.linspace(0.01,500,100)\n",
    "lasso = linear_model.Lasso(max_iter=10000)\n",
    "coefs = []\n",
    "\n",
    "for a in alphas:\n",
    "    lasso.set_params(alpha=a)\n",
    "    lasso.fit(X_train, y_train)\n",
    "    coefs.append(lasso.coef_)\n",
    "\n",
    "ax = plt.gca()\n",
    "\n",
    "ax.plot(alphas, coefs)\n",
    "ax.set_xscale('log')\n",
    "plt.axis('tight')\n",
    "plt.xlabel('alpha')\n",
    "plt.ylabel('Standardized Coefficients')\n",
    "plt.title('Lasso coefficients as a function of alpha');"
   ]
  },
  {
   "cell_type": "code",
   "execution_count": null,
   "id": "1bc7df5a-337b-4116-aec6-82f3a171ccb0",
   "metadata": {},
   "outputs": [],
   "source": []
  }
 ],
 "metadata": {
  "kernelspec": {
   "display_name": "Python 3 (ipykernel)",
   "language": "python",
   "name": "python3"
  },
  "language_info": {
   "codemirror_mode": {
    "name": "ipython",
    "version": 3
   },
   "file_extension": ".py",
   "mimetype": "text/x-python",
   "name": "python",
   "nbconvert_exporter": "python",
   "pygments_lexer": "ipython3",
   "version": "3.12.0"
  }
 },
 "nbformat": 4,
 "nbformat_minor": 5
}
