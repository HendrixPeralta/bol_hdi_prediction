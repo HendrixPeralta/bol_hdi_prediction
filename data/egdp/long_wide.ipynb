{
 "cells": [
  {
   "cell_type": "code",
   "execution_count": null,
   "id": "cc8ac8ad-75b9-49f7-9676-e2242248d61c",
   "metadata": {},
   "outputs": [],
   "source": [
    "ntl_wide = ntl_mean.pivot(index = [\"id\", \"shapeName\"], columns = \"year\", values = \"total_sol\")\n",
    "ntl_sum_wide = ntl_wide.add_prefix(\"ntl_\")\n",
    "ntl_sum_wide.columns\n",
    "ntl_wide_reset = ntl_wide.reset_index()  # Reset the index"
   ]
  }
 ],
 "metadata": {
  "kernelspec": {
   "display_name": "Python 3 (ipykernel)",
   "language": "python",
   "name": "python3"
  },
  "language_info": {
   "codemirror_mode": {
    "name": "ipython",
    "version": 3
   },
   "file_extension": ".py",
   "mimetype": "text/x-python",
   "name": "python",
   "nbconvert_exporter": "python",
   "pygments_lexer": "ipython3",
   "version": "3.12.0"
  }
 },
 "nbformat": 4,
 "nbformat_minor": 5
}
