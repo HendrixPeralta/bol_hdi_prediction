{
 "cells": [
  {
   "cell_type": "code",
   "execution_count": null,
   "id": "cc8ac8ad-75b9-49f7-9676-e2242248d61c",
   "metadata": {},
   "outputs": [],
   "source": []
  },
  {
   "cell_type": "code",
   "execution_count": 2,
   "id": "3ed13d16-b0a6-4935-bdc5-563dba7a9301",
   "metadata": {},
   "outputs": [],
   "source": [
    "import pandas as pd "
   ]
  },
  {
   "cell_type": "code",
   "execution_count": 55,
   "id": "367047f3-ecbc-4e2e-8a66-89f899e830fe",
   "metadata": {},
   "outputs": [],
   "source": [
    "egdp = pd.read_csv(\"bolivia_egdp.csv\")\n",
    "#egdp.drop(columns = {\"id\"}, inplace=True)\n",
    "\n",
    "landCover = pd.read_csv(\"landcover_bolivia.csv\")\n",
    "urb_land = landCover.drop(columns = {\"total_sol\", \"agriculture_sol\"})\n",
    "urb_land = urb_land.rename(columns= {\"cityCode\":\"id\"})\n",
    "\n",
    "agr_land = landCover.drop(columns={\"total_sol\", \"urban_sol\"})\n",
    "agr_land = agr_land.rename(columns={\"cityCode\":\"id\"})\n",
    "agr_land\n",
    "\n",
    "aid_data = pd.read_csv(\"aid_data.csv\")\n",
    "aid_data\n",
    "\n",
    "aid_data.rename(columns = {'surface_pm25_annual_v5gl03.2012.mean' : \"pm25_2012\"}, inplace = True)\n",
    "aid_data.rename(columns = {\"modis_lst_mod11c3_061_day_annual_mean.2012.mean\" : \"land_temp2012\"}, inplace = True)"
   ]
  },
  {
   "cell_type": "code",
   "execution_count": 57,
   "id": "281ab9fb-b0c7-4031-88b8-6bbc72079eb7",
   "metadata": {},
   "outputs": [
    {
     "data": {
      "text/plain": [
       "Index(['asdf_id', 'ambient_air_pollution_2013_fus_calibrated.2012.mean',\n",
       "       'pm25_2012', 'land_temp2012', 'Level', 'gqid', 'id', 'shapeGroup',\n",
       "       'shapeID', 'shapeName', 'shapeType'],\n",
       "      dtype='object')"
      ]
     },
     "execution_count": 57,
     "metadata": {},
     "output_type": "execute_result"
    }
   ],
   "source": [
    "aid_data.columns"
   ]
  },
  {
   "cell_type": "code",
   "execution_count": 38,
   "id": "b6de850c-2228-43ae-8d96-dc5f079e6419",
   "metadata": {},
   "outputs": [],
   "source": [
    "egdp_wide = egdp.pivot(index=[\"id\", \"shapeName\"], columns=\"year\", values=\"total_sol\")\n",
    "egdp_wide = egdp_wide.add_prefix(\"egdp\")\n",
    "\n",
    "urb_wide = urb_land.pivot(index=[\"id\", \"city\"], columns=\"year\", values=\"urban_sol\")\n",
    "urb_wide = urb_wide.add_prefix(\"urb_land\")\n",
    "\n",
    "agr_wide = agr_land.pivot(index=[\"id\", \"city\"], columns=\"year\", values=\"agriculture_sol\")\n",
    "agr_wide = agr_wide.add_prefix(\"agr_land\")"
   ]
  },
  {
   "cell_type": "code",
   "execution_count": 39,
   "id": "0d05697e-0744-48e5-8a2d-36dfe17f2f6e",
   "metadata": {},
   "outputs": [
    {
     "data": {
      "text/plain": [
       "Index(['urb_land2001', 'urb_land2002', 'urb_land2003', 'urb_land2004',\n",
       "       'urb_land2005', 'urb_land2006', 'urb_land2007', 'urb_land2008',\n",
       "       'urb_land2009', 'urb_land2010', 'urb_land2011', 'urb_land2012',\n",
       "       'urb_land2013', 'urb_land2014', 'urb_land2015', 'urb_land2016',\n",
       "       'urb_land2017', 'urb_land2018', 'urb_land2019', 'urb_land2020',\n",
       "       'urb_land2021', 'urb_land2022'],\n",
       "      dtype='object', name='year')"
      ]
     },
     "execution_count": 39,
     "metadata": {},
     "output_type": "execute_result"
    }
   ],
   "source": [
    "urb_wide.columns"
   ]
  },
  {
   "cell_type": "code",
   "execution_count": 40,
   "id": "cf3b4360-be58-453b-a733-16a14b65256e",
   "metadata": {},
   "outputs": [],
   "source": [
    "databases = [agr_wide, urb_wide]\n",
    "sat = pd.merge(egdp_wide, aid_data[[\"pm25_2012\",]] on=\"id\", how=\"outer\")\n",
    "\n",
    "for database in databases:\n",
    "    sat = pd.merge(sat, database, on=\"id\", how=\"outer\")"
   ]
  },
  {
   "cell_type": "code",
   "execution_count": null,
   "id": "978a1405-a368-47f6-8f33-ef6fba4b4256",
   "metadata": {},
   "outputs": [],
   "source": []
  },
  {
   "cell_type": "code",
   "execution_count": 44,
   "id": "99ae8cd1-17f8-4d44-8702-5c857a00ec5b",
   "metadata": {},
   "outputs": [],
   "source": [
    "sat.to_csv(\"Satelite_data.csv\")"
   ]
  },
  {
   "cell_type": "code",
   "execution_count": null,
   "id": "55a6b598-0135-4636-89db-24dbf8fcf22f",
   "metadata": {},
   "outputs": [],
   "source": []
  }
 ],
 "metadata": {
  "kernelspec": {
   "display_name": "Python 3 (ipykernel)",
   "language": "python",
   "name": "python3"
  },
  "language_info": {
   "codemirror_mode": {
    "name": "ipython",
    "version": 3
   },
   "file_extension": ".py",
   "mimetype": "text/x-python",
   "name": "python",
   "nbconvert_exporter": "python",
   "pygments_lexer": "ipython3",
   "version": "3.12.0"
  }
 },
 "nbformat": 4,
 "nbformat_minor": 5
}
