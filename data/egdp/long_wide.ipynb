{
 "cells": [
  {
   "cell_type": "code",
   "execution_count": null,
   "id": "cc8ac8ad-75b9-49f7-9676-e2242248d61c",
   "metadata": {},
   "outputs": [],
   "source": []
  },
  {
   "cell_type": "code",
   "execution_count": 2,
   "id": "3ed13d16-b0a6-4935-bdc5-563dba7a9301",
   "metadata": {},
   "outputs": [],
   "source": [
    "import pandas as pd "
   ]
  },
  {
   "cell_type": "code",
   "execution_count": 36,
   "id": "367047f3-ecbc-4e2e-8a66-89f899e830fe",
   "metadata": {},
   "outputs": [
    {
     "data": {
      "text/html": [
       "<div>\n",
       "<style scoped>\n",
       "    .dataframe tbody tr th:only-of-type {\n",
       "        vertical-align: middle;\n",
       "    }\n",
       "\n",
       "    .dataframe tbody tr th {\n",
       "        vertical-align: top;\n",
       "    }\n",
       "\n",
       "    .dataframe thead th {\n",
       "        text-align: right;\n",
       "    }\n",
       "</style>\n",
       "<table border=\"1\" class=\"dataframe\">\n",
       "  <thead>\n",
       "    <tr style=\"text-align: right;\">\n",
       "      <th></th>\n",
       "      <th>year</th>\n",
       "      <th>agriculture_sol</th>\n",
       "      <th>city</th>\n",
       "      <th>id</th>\n",
       "    </tr>\n",
       "  </thead>\n",
       "  <tbody>\n",
       "    <tr>\n",
       "      <th>0</th>\n",
       "      <td>2001</td>\n",
       "      <td>0.000000</td>\n",
       "      <td>Loreto</td>\n",
       "      <td>45</td>\n",
       "    </tr>\n",
       "    <tr>\n",
       "      <th>1</th>\n",
       "      <td>2001</td>\n",
       "      <td>0.000000</td>\n",
       "      <td>San Ignacio</td>\n",
       "      <td>56</td>\n",
       "    </tr>\n",
       "    <tr>\n",
       "      <th>2</th>\n",
       "      <td>2001</td>\n",
       "      <td>0.000000</td>\n",
       "      <td>San Javier</td>\n",
       "      <td>57</td>\n",
       "    </tr>\n",
       "    <tr>\n",
       "      <th>3</th>\n",
       "      <td>2001</td>\n",
       "      <td>0.000000</td>\n",
       "      <td>Huacaraje</td>\n",
       "      <td>70</td>\n",
       "    </tr>\n",
       "    <tr>\n",
       "      <th>4</th>\n",
       "      <td>2001</td>\n",
       "      <td>4.411646</td>\n",
       "      <td>San Joaquín</td>\n",
       "      <td>73</td>\n",
       "    </tr>\n",
       "    <tr>\n",
       "      <th>...</th>\n",
       "      <td>...</td>\n",
       "      <td>...</td>\n",
       "      <td>...</td>\n",
       "      <td>...</td>\n",
       "    </tr>\n",
       "    <tr>\n",
       "      <th>7453</th>\n",
       "      <td>2022</td>\n",
       "      <td>927.362608</td>\n",
       "      <td>Villa San Lorenzo</td>\n",
       "      <td>97</td>\n",
       "    </tr>\n",
       "    <tr>\n",
       "      <th>7454</th>\n",
       "      <td>2022</td>\n",
       "      <td>62.931175</td>\n",
       "      <td>El Puente</td>\n",
       "      <td>98</td>\n",
       "    </tr>\n",
       "    <tr>\n",
       "      <th>7455</th>\n",
       "      <td>2022</td>\n",
       "      <td>1751.407354</td>\n",
       "      <td>Tarija</td>\n",
       "      <td>101</td>\n",
       "    </tr>\n",
       "    <tr>\n",
       "      <th>7456</th>\n",
       "      <td>2022</td>\n",
       "      <td>172.203412</td>\n",
       "      <td>Bermejo</td>\n",
       "      <td>321</td>\n",
       "    </tr>\n",
       "    <tr>\n",
       "      <th>7457</th>\n",
       "      <td>2022</td>\n",
       "      <td>36.576058</td>\n",
       "      <td>Padcaya</td>\n",
       "      <td>338</td>\n",
       "    </tr>\n",
       "  </tbody>\n",
       "</table>\n",
       "<p>7458 rows × 4 columns</p>\n",
       "</div>"
      ],
      "text/plain": [
       "      year  agriculture_sol               city   id\n",
       "0     2001         0.000000             Loreto   45\n",
       "1     2001         0.000000        San Ignacio   56\n",
       "2     2001         0.000000         San Javier   57\n",
       "3     2001         0.000000          Huacaraje   70\n",
       "4     2001         4.411646        San Joaquín   73\n",
       "...    ...              ...                ...  ...\n",
       "7453  2022       927.362608  Villa San Lorenzo   97\n",
       "7454  2022        62.931175          El Puente   98\n",
       "7455  2022      1751.407354             Tarija  101\n",
       "7456  2022       172.203412            Bermejo  321\n",
       "7457  2022        36.576058            Padcaya  338\n",
       "\n",
       "[7458 rows x 4 columns]"
      ]
     },
     "execution_count": 36,
     "metadata": {},
     "output_type": "execute_result"
    }
   ],
   "source": [
    "egdp = pd.read_csv(\"bolivia_egdp.csv\")\n",
    "#egdp.drop(columns = {\"id\"}, inplace=True)\n",
    "\n",
    "landCover = pd.read_csv(\"landcover_bolivia.csv\")\n",
    "urb_land = landCover.drop(columns = {\"total_sol\", \"agriculture_sol\"})\n",
    "urb_land = urb_land.rename(columns= {\"cityCode\":\"id\"})\n",
    "\n",
    "agr_land = landCover.drop(columns={\"total_sol\", \"urban_sol\"})\n",
    "agr_land = agr_land.rename(columns={\"cityCode\":\"id\"})\n",
    "agr_land\n"
   ]
  },
  {
   "cell_type": "code",
   "execution_count": 37,
   "id": "281ab9fb-b0c7-4031-88b8-6bbc72079eb7",
   "metadata": {},
   "outputs": [
    {
     "data": {
      "text/plain": [
       "Index(['year', 'urban_sol', 'city', 'id'], dtype='object')"
      ]
     },
     "execution_count": 37,
     "metadata": {},
     "output_type": "execute_result"
    }
   ],
   "source": [
    "urb_land.columns\n"
   ]
  },
  {
   "cell_type": "code",
   "execution_count": 38,
   "id": "b6de850c-2228-43ae-8d96-dc5f079e6419",
   "metadata": {},
   "outputs": [],
   "source": [
    "egdp_wide = egdp.pivot(index=[\"id\", \"shapeName\"], columns=\"year\", values=\"total_sol\")\n",
    "egdp_wide = egdp_wide.add_prefix(\"egdp\")\n",
    "\n",
    "urb_wide = urb_land.pivot(index=[\"id\", \"city\"], columns=\"year\", values=\"urban_sol\")\n",
    "urb_wide = urb_wide.add_prefix(\"urb_land\")\n",
    "\n",
    "agr_wide = agr_land.pivot(index=[\"id\", \"city\"], columns=\"year\", values=\"agriculture_sol\")\n",
    "agr_wide = agr_wide.add_prefix(\"agr_land\")"
   ]
  },
  {
   "cell_type": "code",
   "execution_count": 39,
   "id": "0d05697e-0744-48e5-8a2d-36dfe17f2f6e",
   "metadata": {},
   "outputs": [
    {
     "data": {
      "text/plain": [
       "Index(['urb_land2001', 'urb_land2002', 'urb_land2003', 'urb_land2004',\n",
       "       'urb_land2005', 'urb_land2006', 'urb_land2007', 'urb_land2008',\n",
       "       'urb_land2009', 'urb_land2010', 'urb_land2011', 'urb_land2012',\n",
       "       'urb_land2013', 'urb_land2014', 'urb_land2015', 'urb_land2016',\n",
       "       'urb_land2017', 'urb_land2018', 'urb_land2019', 'urb_land2020',\n",
       "       'urb_land2021', 'urb_land2022'],\n",
       "      dtype='object', name='year')"
      ]
     },
     "execution_count": 39,
     "metadata": {},
     "output_type": "execute_result"
    }
   ],
   "source": [
    "urb_wide.columns"
   ]
  },
  {
   "cell_type": "code",
   "execution_count": 40,
   "id": "cf3b4360-be58-453b-a733-16a14b65256e",
   "metadata": {},
   "outputs": [],
   "source": [
    "databases = [agr_wide]\n",
    "sat = pd.merge(egdp_wide, urb_wide, on=\"id\", how=\"outer\")\n",
    "\n",
    "for database in databases:\n",
    "    sat = pd.merge(sat, database, on=\"id\", how=\"outer\")"
   ]
  },
  {
   "cell_type": "code",
   "execution_count": null,
   "id": "978a1405-a368-47f6-8f33-ef6fba4b4256",
   "metadata": {},
   "outputs": [],
   "source": []
  },
  {
   "cell_type": "code",
   "execution_count": 44,
   "id": "99ae8cd1-17f8-4d44-8702-5c857a00ec5b",
   "metadata": {},
   "outputs": [],
   "source": [
    "sat.to_csv(\"Satelite_data.csv\")"
   ]
  },
  {
   "cell_type": "code",
   "execution_count": null,
   "id": "55a6b598-0135-4636-89db-24dbf8fcf22f",
   "metadata": {},
   "outputs": [],
   "source": []
  }
 ],
 "metadata": {
  "kernelspec": {
   "display_name": "Python 3 (ipykernel)",
   "language": "python",
   "name": "python3"
  },
  "language_info": {
   "codemirror_mode": {
    "name": "ipython",
    "version": 3
   },
   "file_extension": ".py",
   "mimetype": "text/x-python",
   "name": "python",
   "nbconvert_exporter": "python",
   "pygments_lexer": "ipython3",
   "version": "3.12.0"
  }
 },
 "nbformat": 4,
 "nbformat_minor": 5
}
