{
 "cells": [
  {
   "cell_type": "code",
   "execution_count": 104,
   "id": "6082aa4f-d18f-42f3-bfb1-92b8c01fce18",
   "metadata": {},
   "outputs": [],
   "source": [
    "import numpy as np\n",
    "import pandas as pd\n",
    "import sklearn as ktl\n",
    "import pickle\n",
    "import matplotlib.pylab as plt\n",
    "import seaborn\n",
    "\n",
    "from sklearn.model_selection import train_test_split\n",
    "from sklearn.metrics import mean_squared_error, r2_score, mean_absolute_error\n",
    "from sklearn.metrics import classification_report, confusion_matrix, accuracy_score\n",
    "\n",
    "from sklearn.model_selection import cross_val_score\n",
    "\n",
    "from sklearn.linear_model import LinearRegression\n",
    "from sklearn import linear_model\n",
    "from sklearn.ensemble import RandomForestRegressor\n",
    "\n",
    "from sklearn.ensemble import RandomForestClassifier\n",
    "from sklearn import svm\n",
    "from sklearn.naive_bayes import GaussianNB\n",
    "\n",
    "from sklearn.model_selection import RandomizedSearchCV\n",
    "\n",
    "import statsmodels.formula.api as smf\n",
    "\n",
    "from linearmodels.panel import PanelOLS\n"
   ]
  },
  {
   "cell_type": "code",
   "execution_count": 105,
   "id": "a1354cc2-220d-43ef-8b3d-a3187a39fb9d",
   "metadata": {},
   "outputs": [],
   "source": [
    "bol = pd.read_csv(\"/Users/hendrixperalta/Desktop/bolivia/data/GeoDS4Bolivia.csv\")\n",
    "bol = bol.rename(columns={\"asdf_id\":\"id\"})\n",
    "#list(bol.columns)"
   ]
  },
  {
   "cell_type": "code",
   "execution_count": 106,
   "id": "70cae1f1-dd27-4fa5-8fbd-3457c078f5ed",
   "metadata": {},
   "outputs": [],
   "source": [
    "\n",
    "#list(bol.columns)\n",
    "offset = 1000  \n",
    "\n",
    "# EGDP\n",
    "sat = pd.read_csv(\"data/egdp/satelite_data.csv\")\n",
    "sat[\"EGDPpc2012\"] = (sat[\"egdp2012\"]*1000000/ bol[\"tr400_pop2012\"])\n",
    "sat[\"lnEGDPpc2012\"] = np.log(sat[\"EGDPpc2012\"])\n",
    "\n",
    "# Merge\n",
    "df = pd.merge(bol, sat, on=\"id\", how=\"outer\")\n",
    "\n",
    "# Land cover\n",
    "df[\"lnagr_land2012\"] = np.log(df[\"agr_land2012\"] + offset)\n",
    "df[\"lnurb_land2012\"] = np.log(df[\"urb_land2012\"] + offset)\n",
    "\n",
    "df[\"total_land2012\"] = df[\"agr_land2012\"] + df[\"urb_land2012\"]\n",
    "df[\"perUrb_land\"] = df[\"urb_land2012\"] / df[\"total_land2012\"]\n",
    "df[\"ln_perUrb_land\"] = np.log(df[\"perUrb_land\"].fillna(0) + offset)\n",
    "\n",
    "# Population\n",
    "df[\"ln_tr400_pop2012\"] = np.log(df[\"tr400_pop2012\"])\n",
    "\n",
    "# PM2.5\n",
    "df[\"ln_pm25_2012\"] = np.log(df[\"pm25_2012\"])\n",
    "\n",
    "# Surface temperature\n",
    "df[\"ln_land_temp2012\"] = np.log(df[\"land_temp2012\"])"
   ]
  },
  {
   "cell_type": "code",
   "execution_count": null,
   "id": "374ac0dc-5939-48bb-b98f-a149048da0af",
   "metadata": {},
   "outputs": [],
   "source": []
  },
  {
   "cell_type": "markdown",
   "id": "fcc12955-1001-41b3-ab95-72cbe46cc29b",
   "metadata": {},
   "source": [
    "# **Data exploration**"
   ]
  },
  {
   "cell_type": "code",
   "execution_count": 107,
   "id": "e4ff3899-83ca-4392-b382-372b5d3a013e",
   "metadata": {},
   "outputs": [
    {
     "data": {
      "text/plain": [
       "imds                0\n",
       "ln_t400NTLpc2012    0\n",
       "ln_tr400_pop2012    0\n",
       "lnEGDPpc2012        0\n",
       "ln_pm25_2012        0\n",
       "ln_land_temp2012    0\n",
       "lnagr_land2012      0\n",
       "lnurb_land2012      0\n",
       "ln_perUrb_land      0\n",
       "dtype: int64"
      ]
     },
     "execution_count": 107,
     "metadata": {},
     "output_type": "execute_result"
    }
   ],
   "source": [
    "short_df = df[[\"imds\",\"ln_t400NTLpc2012\", \"ln_tr400_pop2012\", 'lnEGDPpc2012', 'ln_pm25_2012', \n",
    "               'ln_land_temp2012', \"lnagr_land2012\", \"lnurb_land2012\", \"ln_perUrb_land\"]]\n",
    "short_df.isna().sum()"
   ]
  },
  {
   "cell_type": "code",
   "execution_count": 108,
   "id": "3ec78aaa-34b0-4129-a969-a00759606fbe",
   "metadata": {},
   "outputs": [
    {
     "name": "stdout",
     "output_type": "stream",
     "text": [
      "     agr_land2012  urb_land2012\n",
      "0        0.000000      0.000000\n",
      "1        0.000000      0.000000\n",
      "2        0.000000      0.000000\n",
      "3       50.276154    195.118281\n",
      "4        0.000000      0.000000\n",
      "..            ...           ...\n",
      "334      0.000000      1.254882\n",
      "335      8.085184      0.000000\n",
      "336     29.080455      0.000000\n",
      "337      0.000000    320.778602\n",
      "338     47.023029     16.002446\n",
      "\n",
      "[339 rows x 2 columns]\n"
     ]
    }
   ],
   "source": [
    "print(df[[\"agr_land2012\", \"urb_land2012\"]])"
   ]
  },
  {
   "cell_type": "code",
   "execution_count": 109,
   "id": "7e5c96eb-3eb4-4226-a639-df0475f309e0",
   "metadata": {},
   "outputs": [
    {
     "name": "stdout",
     "output_type": "stream",
     "text": [
      "<class 'pandas.core.frame.DataFrame'>\n",
      "RangeIndex: 339 entries, 0 to 338\n",
      "Data columns (total 9 columns):\n",
      " #   Column            Non-Null Count  Dtype  \n",
      "---  ------            --------------  -----  \n",
      " 0   imds              339 non-null    float64\n",
      " 1   ln_t400NTLpc2012  339 non-null    float64\n",
      " 2   ln_tr400_pop2012  339 non-null    float64\n",
      " 3   lnEGDPpc2012      339 non-null    float64\n",
      " 4   ln_pm25_2012      339 non-null    float64\n",
      " 5   ln_land_temp2012  339 non-null    float64\n",
      " 6   lnagr_land2012    339 non-null    float64\n",
      " 7   lnurb_land2012    339 non-null    float64\n",
      " 8   ln_perUrb_land    339 non-null    float64\n",
      "dtypes: float64(9)\n",
      "memory usage: 24.0 KB\n"
     ]
    }
   ],
   "source": [
    "short_df.info()"
   ]
  },
  {
   "cell_type": "code",
   "execution_count": 110,
   "id": "7ce64087-6126-4d5a-aa1e-fd5cda05150b",
   "metadata": {},
   "outputs": [
    {
     "data": {
      "text/html": [
       "<div>\n",
       "<style scoped>\n",
       "    .dataframe tbody tr th:only-of-type {\n",
       "        vertical-align: middle;\n",
       "    }\n",
       "\n",
       "    .dataframe tbody tr th {\n",
       "        vertical-align: top;\n",
       "    }\n",
       "\n",
       "    .dataframe thead th {\n",
       "        text-align: right;\n",
       "    }\n",
       "</style>\n",
       "<table border=\"1\" class=\"dataframe\">\n",
       "  <thead>\n",
       "    <tr style=\"text-align: right;\">\n",
       "      <th></th>\n",
       "      <th>imds</th>\n",
       "      <th>ln_t400NTLpc2012</th>\n",
       "      <th>ln_tr400_pop2012</th>\n",
       "      <th>lnEGDPpc2012</th>\n",
       "      <th>ln_pm25_2012</th>\n",
       "      <th>ln_land_temp2012</th>\n",
       "      <th>lnagr_land2012</th>\n",
       "      <th>lnurb_land2012</th>\n",
       "      <th>ln_perUrb_land</th>\n",
       "    </tr>\n",
       "  </thead>\n",
       "  <tbody>\n",
       "    <tr>\n",
       "      <th>count</th>\n",
       "      <td>339.000000</td>\n",
       "      <td>339.000000</td>\n",
       "      <td>339.000000</td>\n",
       "      <td>339.000000</td>\n",
       "      <td>339.000000</td>\n",
       "      <td>339.000000</td>\n",
       "      <td>339.000000</td>\n",
       "      <td>339.000000</td>\n",
       "      <td>339.000000</td>\n",
       "    </tr>\n",
       "    <tr>\n",
       "      <th>mean</th>\n",
       "      <td>51.050442</td>\n",
       "      <td>13.033028</td>\n",
       "      <td>9.335445</td>\n",
       "      <td>8.395351</td>\n",
       "      <td>3.118672</td>\n",
       "      <td>5.696477</td>\n",
       "      <td>6.966940</td>\n",
       "      <td>7.004299</td>\n",
       "      <td>6.908019</td>\n",
       "    </tr>\n",
       "    <tr>\n",
       "      <th>std</th>\n",
       "      <td>6.771824</td>\n",
       "      <td>1.671621</td>\n",
       "      <td>1.145385</td>\n",
       "      <td>1.238107</td>\n",
       "      <td>0.287753</td>\n",
       "      <td>0.011639</td>\n",
       "      <td>0.179915</td>\n",
       "      <td>0.394750</td>\n",
       "      <td>0.000346</td>\n",
       "    </tr>\n",
       "    <tr>\n",
       "      <th>min</th>\n",
       "      <td>35.700001</td>\n",
       "      <td>0.856095</td>\n",
       "      <td>6.251161</td>\n",
       "      <td>4.706205</td>\n",
       "      <td>2.111170</td>\n",
       "      <td>5.659918</td>\n",
       "      <td>6.907755</td>\n",
       "      <td>6.907755</td>\n",
       "      <td>6.907755</td>\n",
       "    </tr>\n",
       "    <tr>\n",
       "      <th>25%</th>\n",
       "      <td>47.000000</td>\n",
       "      <td>12.050438</td>\n",
       "      <td>8.686743</td>\n",
       "      <td>7.528378</td>\n",
       "      <td>2.893310</td>\n",
       "      <td>5.689875</td>\n",
       "      <td>6.907755</td>\n",
       "      <td>6.907755</td>\n",
       "      <td>6.907755</td>\n",
       "    </tr>\n",
       "    <tr>\n",
       "      <th>50%</th>\n",
       "      <td>50.500000</td>\n",
       "      <td>13.118243</td>\n",
       "      <td>9.294614</td>\n",
       "      <td>8.238783</td>\n",
       "      <td>3.087198</td>\n",
       "      <td>5.698119</td>\n",
       "      <td>6.913097</td>\n",
       "      <td>6.907755</td>\n",
       "      <td>6.907755</td>\n",
       "    </tr>\n",
       "    <tr>\n",
       "      <th>75%</th>\n",
       "      <td>54.850001</td>\n",
       "      <td>14.268402</td>\n",
       "      <td>9.903637</td>\n",
       "      <td>9.158287</td>\n",
       "      <td>3.357998</td>\n",
       "      <td>5.705713</td>\n",
       "      <td>6.935352</td>\n",
       "      <td>6.928602</td>\n",
       "      <td>6.908288</td>\n",
       "    </tr>\n",
       "    <tr>\n",
       "      <th>max</th>\n",
       "      <td>80.199997</td>\n",
       "      <td>17.071051</td>\n",
       "      <td>14.171911</td>\n",
       "      <td>11.689671</td>\n",
       "      <td>3.649784</td>\n",
       "      <td>5.720777</td>\n",
       "      <td>8.374316</td>\n",
       "      <td>10.265991</td>\n",
       "      <td>6.908755</td>\n",
       "    </tr>\n",
       "  </tbody>\n",
       "</table>\n",
       "</div>"
      ],
      "text/plain": [
       "             imds  ln_t400NTLpc2012  ln_tr400_pop2012  lnEGDPpc2012  \\\n",
       "count  339.000000        339.000000        339.000000    339.000000   \n",
       "mean    51.050442         13.033028          9.335445      8.395351   \n",
       "std      6.771824          1.671621          1.145385      1.238107   \n",
       "min     35.700001          0.856095          6.251161      4.706205   \n",
       "25%     47.000000         12.050438          8.686743      7.528378   \n",
       "50%     50.500000         13.118243          9.294614      8.238783   \n",
       "75%     54.850001         14.268402          9.903637      9.158287   \n",
       "max     80.199997         17.071051         14.171911     11.689671   \n",
       "\n",
       "       ln_pm25_2012  ln_land_temp2012  lnagr_land2012  lnurb_land2012  \\\n",
       "count    339.000000        339.000000      339.000000      339.000000   \n",
       "mean       3.118672          5.696477        6.966940        7.004299   \n",
       "std        0.287753          0.011639        0.179915        0.394750   \n",
       "min        2.111170          5.659918        6.907755        6.907755   \n",
       "25%        2.893310          5.689875        6.907755        6.907755   \n",
       "50%        3.087198          5.698119        6.913097        6.907755   \n",
       "75%        3.357998          5.705713        6.935352        6.928602   \n",
       "max        3.649784          5.720777        8.374316       10.265991   \n",
       "\n",
       "       ln_perUrb_land  \n",
       "count      339.000000  \n",
       "mean         6.908019  \n",
       "std          0.000346  \n",
       "min          6.907755  \n",
       "25%          6.907755  \n",
       "50%          6.907755  \n",
       "75%          6.908288  \n",
       "max          6.908755  "
      ]
     },
     "execution_count": 110,
     "metadata": {},
     "output_type": "execute_result"
    }
   ],
   "source": [
    "short_df.describe()"
   ]
  },
  {
   "cell_type": "code",
   "execution_count": 111,
   "id": "82ab9296-864f-4783-b560-821caa030c1d",
   "metadata": {},
   "outputs": [
    {
     "name": "stdout",
     "output_type": "stream",
     "text": [
      "                            OLS Regression Results                            \n",
      "==============================================================================\n",
      "Dep. Variable:                   imds   R-squared:                       0.388\n",
      "Model:                            OLS   Adj. R-squared:                  0.381\n",
      "Method:                 Least Squares   F-statistic:                     52.92\n",
      "Date:                Sat, 22 Jun 2024   Prob (F-statistic):           1.65e-34\n",
      "Time:                        15:36:02   Log-Likelihood:                -1045.7\n",
      "No. Observations:                 339   AIC:                             2101.\n",
      "Df Residuals:                     334   BIC:                             2121.\n",
      "Df Model:                           4                                         \n",
      "Covariance Type:            nonrobust                                         \n",
      "====================================================================================\n",
      "                       coef    std err          t      P>|t|      [0.025      0.975]\n",
      "------------------------------------------------------------------------------------\n",
      "Intercept           11.8725      4.370      2.717      0.007       3.276      20.469\n",
      "ln_t400NTLpc2012     1.8487      0.185     10.008      0.000       1.485       2.212\n",
      "ln_tr400_pop2012     1.7580      0.292      6.016      0.000       1.183       2.333\n",
      "lnEGDPpc2012        -0.0978      0.243     -0.403      0.687      -0.576       0.380\n",
      "ln_pm25_2012        -0.1627      1.074     -0.151      0.880      -2.275       1.950\n",
      "==============================================================================\n",
      "Omnibus:                        0.483   Durbin-Watson:                   1.649\n",
      "Prob(Omnibus):                  0.786   Jarque-Bera (JB):                0.343\n",
      "Skew:                           0.071   Prob(JB):                        0.843\n",
      "Kurtosis:                       3.065   Cond. No.                         281.\n",
      "==============================================================================\n",
      "\n",
      "Notes:\n",
      "[1] Standard Errors assume that the covariance matrix of the errors is correctly specified.\n"
     ]
    }
   ],
   "source": [
    "mod = smf.ols(\"imds ~  ln_t400NTLpc2012 + ln_tr400_pop2012 + lnEGDPpc2012 + ln_pm25_2012 \", \n",
    "              data=df)\n",
    "res = mod.fit()\n",
    "print(res.summary())"
   ]
  },
  {
   "cell_type": "code",
   "execution_count": 112,
   "id": "01b4bb9e-3bc3-496b-95cc-33e12c59d123",
   "metadata": {},
   "outputs": [
    {
     "data": {
      "text/plain": [
       "Index(['sdg1_1_eepr', 'sdg2_4_pual', 'sdg2_4_td', 'sdg5_5_gpop', 'sdg8_4_rem',\n",
       "       'sdg9_5_eutf', 'sdg10_2_iec', 'sdg1_1_dtl_abs', 'sdg2_4_apu_abs',\n",
       "       'sdg2_4_tm_abs', 'sdg3_1_udhf_ab', 'sdg8_4_rem_abs', 'sdg9_5_eutf_abs',\n",
       "       'ln_NTLpc2012', 'ln_NTLpc2013', 'ln_NTLpc2014', 'ln_NTLpc2015',\n",
       "       'ln_NTLpc2016', 'ln_NTLpc2017', 'ln_NTLpc2018', 'ln_NTLpc2019',\n",
       "       'ln_NTLpc2020', 'perUrb_land'],\n",
       "      dtype='object')"
      ]
     },
     "execution_count": 112,
     "metadata": {},
     "output_type": "execute_result"
    }
   ],
   "source": [
    "missing_labels = df.columns[df.isna().any()]\n",
    "missing_labels"
   ]
  },
  {
   "cell_type": "code",
   "execution_count": 113,
   "id": "c8b18222-4afc-4ac4-b10c-a9184b8faac4",
   "metadata": {},
   "outputs": [],
   "source": [
    "#plt.style.available"
   ]
  },
  {
   "cell_type": "code",
   "execution_count": 114,
   "id": "96f7af06-9023-49ec-a31d-48975457411e",
   "metadata": {},
   "outputs": [
    {
     "data": {
      "text/plain": [
       "[Text(0.5, 1.0, 'PM25')]"
      ]
     },
     "execution_count": 114,
     "metadata": {},
     "output_type": "execute_result"
    },
    {
     "data": {
      "image/png": "[encoded data removed]",
      "text/plain": [
       "<Figure size 1500x600 with 6 Axes>"
      ]
     },
     "metadata": {},
     "output_type": "display_data"
    }
   ],
   "source": [
    "plt.style.use(\"tableau-colorblind10\")\n",
    "\n",
    "fig, ((ax0, ax1, ax2),(ax3, ax4, ax5)) = plt.subplots(nrows=2,\n",
    "                                                     ncols=3,\n",
    "                                                     figsize=(15,6)\n",
    "                                                     )\n",
    "#ax0.hist(df[\"perUrb_land\"])\n",
    "#ax0.set(title=\"Percentage of Urban Land\")\n",
    "\n",
    "ax1.hist(df[\"lnEGDPpc2012\"])\n",
    "ax1.set(title=\"ln EGDPpc\")\n",
    "\n",
    "ax2.hist(df[\"ln_t400NTLpc2012\"])\n",
    "ax2.set(title=\"ln NTL\")\n",
    "\n",
    "ax3.hist(df[\"ln_tr400_pop2012\"])\n",
    "ax3.set(title= \"Population\")\n",
    "\n",
    "ax4.hist(df[\"pm25_2012\"])\n",
    "ax4.set(title= \"PM25\")\n",
    "\n",
    "#ax5.hist(df[\"land_temp2012\"])\n",
    "#ax5.set(title= \"Land Surface Temperature\");\n"
   ]
  },
  {
   "cell_type": "code",
   "execution_count": 115,
   "id": "524827e1-6a9b-4577-97f7-f4d3f005a364",
   "metadata": {},
   "outputs": [
    {
     "data": {
      "image/png": "[encoded data removed]",
      "text/plain": [
       "<Figure size 1500x600 with 4 Axes>"
      ]
     },
     "metadata": {},
     "output_type": "display_data"
    }
   ],
   "source": [
    "plt.style.use(\"tableau-colorblind10\")\n",
    "\n",
    "fig, (ax0, ax1, ax2, ax4) = plt.subplots(nrows=1,\n",
    "                                 ncols=4,\n",
    "                                 figsize=(15,6)\n",
    "                                 )\n",
    "ax0.hist(sat[\"egdp2012\"])\n",
    "ax0.set(title=\"egdp\")\n",
    "\n",
    "ax1.hist(df[\"EGDPpc2012\"])\n",
    "ax1.set(title= \"egdppc\")\n",
    "\n",
    "ax2.hist(df[\"lnEGDPpc2012\"])\n",
    "ax2.set(title=\"ln EGDPpc\")\n",
    "\n",
    "ax4.boxplot(df[\"lnEGDPpc2012\"]);\n"
   ]
  },
  {
   "cell_type": "code",
   "execution_count": 116,
   "id": "2fa0bb68-6f5c-41b1-b45c-4131abf09ae8",
   "metadata": {},
   "outputs": [],
   "source": [
    "#plt.style.available"
   ]
  },
  {
   "cell_type": "code",
   "execution_count": 117,
   "id": "ce2fd351-3de1-41a4-89d2-7f9339b00229",
   "metadata": {},
   "outputs": [
    {
     "data": {
      "text/plain": [
       "[<matplotlib.lines.Line2D at 0x285b81ac0>]"
      ]
     },
     "execution_count": 117,
     "metadata": {},
     "output_type": "execute_result"
    },
    {
     "data": {
      "image/png": "[encoded data removed]",
      "text/plain": [
       "<Figure size 1500x700 with 3 Axes>"
      ]
     },
     "metadata": {},
     "output_type": "display_data"
    }
   ],
   "source": [
    "plt.style.use(\"seaborn-v0_8\")\n",
    "\n",
    "fig, (ax0, ax1, ax2) = plt.subplots(nrows=1,\n",
    "                                    ncols=3,\n",
    "                                    figsize=(15,7))\n",
    "#----- ax0\n",
    "ax0.scatter(x=short_df['lnEGDPpc2012'], y=short_df[\"ln_t400NTLpc2012\"])\n",
    "ax0.set(xlabel=\"lnEGDPpc2012\", ylabel=\"ln_t400NTLpc2012\")\n",
    "\n",
    "# add trendline\n",
    "z = np.polyfit(short_df[\"lnEGDPpc2012\"], short_df['ln_t400NTLpc2012'], 1)\n",
    "p = np.poly1d(z)\n",
    "ax0.plot(short_df[\"lnEGDPpc2012\"],p(short_df[\"lnEGDPpc2012\"]),\"r-\")\n",
    "\n",
    "#----- ax1\n",
    "ax1.scatter(x=short_df[\"lnEGDPpc2012\"], y=short_df['ln_tr400_pop2012'])\n",
    "ax1.set(xlabel=\"lnEGDPpc2012\", ylabel=\"ln_tr400_pop2012\")\n",
    "\n",
    "# add trendline\n",
    "z = np.polyfit(short_df[\"lnEGDPpc2012\"], short_df['ln_tr400_pop2012'], 1)\n",
    "p = np.poly1d(z)\n",
    "ax1.plot(short_df[\"lnEGDPpc2012\"],p(short_df[\"lnEGDPpc2012\"]),\"r-\")\n",
    "\n",
    "#----- ax2\n",
    "ax2.scatter(x=short_df[\"lnEGDPpc2012\"], y=short_df['ln_perUrb_land'])\n",
    "ax2.set(xlabel=\"lnEGDPpc2012\", ylabel=\"ln_perUrb_land\")\n",
    "\n",
    "# add trendline\n",
    "z = np.polyfit(short_df[\"lnEGDPpc2012\"], short_df['ln_perUrb_land'], 1)\n",
    "p = np.poly1d(z)\n",
    "ax2.plot(short_df[\"lnEGDPpc2012\"],p(short_df[\"lnEGDPpc2012\"]),\"r-\")\n",
    "\n"
   ]
  },
  {
   "cell_type": "code",
   "execution_count": 118,
   "id": "8dc6711f-c797-421c-98d1-d63b59943baf",
   "metadata": {},
   "outputs": [
    {
     "name": "stdout",
     "output_type": "stream",
     "text": [
      "Correlation of egdp and ntl: -0.0013160348349785576\n",
      "Correlation of egdp and pop: -0.21141855279870278\n",
      "Correlation of egdp and Urban land %: 0.06980531985494491\n"
     ]
    }
   ],
   "source": [
    "egdp_ntl = short_df[\"lnEGDPpc2012\"].corr(short_df['ln_t400NTLpc2012'])\n",
    "egdp_pop = short_df[\"lnEGDPpc2012\"].corr(short_df['ln_tr400_pop2012'])\n",
    "egdp_urb = short_df[\"lnEGDPpc2012\"].corr(short_df['ln_perUrb_land'])\n",
    "\n",
    "print(f\"Correlation of egdp and ntl: {egdp_ntl}\")\n",
    "print(f\"Correlation of egdp and pop: {egdp_pop}\")\n",
    "print(f\"Correlation of egdp and Urban land %: {egdp_urb}\")"
   ]
  },
  {
   "cell_type": "code",
   "execution_count": 119,
   "id": "9d383825-9c82-40b4-87b7-95eb7e2d9ef6",
   "metadata": {},
   "outputs": [
    {
     "data": {
      "text/plain": [
       "[<matplotlib.lines.Line2D at 0x285c93fb0>]"
      ]
     },
     "execution_count": 119,
     "metadata": {},
     "output_type": "execute_result"
    },
    {
     "data": {
      "image/png": "[encoded data removed]",
      "text/plain": [
       "<Figure size 1500x700 with 2 Axes>"
      ]
     },
     "metadata": {},
     "output_type": "display_data"
    }
   ],
   "source": [
    "\n",
    "fig, (ax1, ax2) = plt.subplots(nrows=1,\n",
    "                                    ncols=2,\n",
    "                                    figsize=(15,7))\n",
    "\n",
    "#----- ax1\n",
    "ax1.scatter(x=short_df[\"ln_t400NTLpc2012\"], y=short_df['imds'])\n",
    "ax1.set(xlabel=\"ln_t400NTLpc2012\", ylabel=\"imds\")\n",
    "\n",
    "# add trendline\n",
    "z = np.polyfit(short_df[\"ln_t400NTLpc2012\"], short_df['imds'], 1)\n",
    "p = np.poly1d(z)\n",
    "ax1.plot(short_df[\"ln_t400NTLpc2012\"],p(short_df[\"ln_t400NTLpc2012\"]), \"r-\")\n",
    "\n",
    "#----- ax2\n",
    "ax2.scatter(x=short_df[\"lnEGDPpc2012\"], y=short_df['imds'])\n",
    "ax2.set(xlabel=\"lnEGDPpc2012\", ylabel=\"imds\");\n",
    "\n",
    "# add trendline\n",
    "z = np.polyfit(short_df[\"lnEGDPpc2012\"], short_df['imds'], 1)\n",
    "p = np.poly1d(z)\n",
    "ax2.plot(short_df[\"lnEGDPpc2012\"], p(short_df[\"lnEGDPpc2012\"]), \"r-\")"
   ]
  },
  {
   "cell_type": "code",
   "execution_count": 120,
   "id": "fc9651c2-edfa-4f8c-a6dd-298b4757511c",
   "metadata": {},
   "outputs": [
    {
     "name": "stdout",
     "output_type": "stream",
     "text": [
      "Correlation of ntl and imds: 0.5548280194761073\n",
      "Correlation of egdp and imds: -0.08182429944254284\n"
     ]
    }
   ],
   "source": [
    "ntl_imds = short_df[\"ln_t400NTLpc2012\"].corr(short_df['imds'])\n",
    "egdp_imds = short_df[\"lnEGDPpc2012\"].corr(short_df['imds'])\n",
    "\n",
    "print(f\"Correlation of ntl and imds: {ntl_imds}\")\n",
    "print(f\"Correlation of egdp and imds: {egdp_imds}\")"
   ]
  },
  {
   "cell_type": "code",
   "execution_count": 121,
   "id": "05d76fdb-b724-4d5a-8239-651785917945",
   "metadata": {},
   "outputs": [
    {
     "data": {
      "text/plain": [
       "[<matplotlib.lines.Line2D at 0x285da70b0>]"
      ]
     },
     "execution_count": 121,
     "metadata": {},
     "output_type": "execute_result"
    },
    {
     "data": {
      "image/png": "[encoded data removed]",
      "text/plain": [
       "<Figure size 1500x700 with 3 Axes>"
      ]
     },
     "metadata": {},
     "output_type": "display_data"
    }
   ],
   "source": [
    "plt.style.use(\"seaborn-v0_8\")\n",
    "\n",
    "fig, (ax0, ax1, ax2) = plt.subplots(nrows=1,\n",
    "                                    ncols=3,\n",
    "                                    figsize=(15,7))\n",
    "#----- ax0\n",
    "ax0.scatter(x=short_df['lnEGDPpc2012'], y=short_df[\"ln_t400NTLpc2012\"])\n",
    "ax0.set(xlabel=\"lnEGDPpc2012\", ylabel=\"ln_t400NTLpc2012\")\n",
    "\n",
    "# add trendline\n",
    "z = np.polyfit(short_df[\"lnEGDPpc2012\"], short_df['ln_t400NTLpc2012'], 1)\n",
    "p = np.poly1d(z)\n",
    "ax0.plot(short_df[\"lnEGDPpc2012\"],p(short_df[\"lnEGDPpc2012\"]),\"r-\")\n",
    "\n",
    "#----- ax1\n",
    "ax1.scatter(x=short_df[\"ln_t400NTLpc2012\"], y=short_df['ln_tr400_pop2012'])\n",
    "ax1.set(xlabel=\"ln_t400NTLpc2012\", ylabel=\"ln_tr400_pop2012\")\n",
    "\n",
    "# add trendline\n",
    "z = np.polyfit(short_df[\"ln_t400NTLpc2012\"], short_df['ln_tr400_pop2012'], 1)\n",
    "p = np.poly1d(z)\n",
    "ax1.plot(short_df[\"ln_t400NTLpc2012\"],p(short_df[\"ln_t400NTLpc2012\"]),\"r-\")\n",
    "\n",
    "#----- ax2\n",
    "ax2.scatter(x=short_df[\"ln_t400NTLpc2012\"], y=short_df['ln_perUrb_land'])\n",
    "ax2.set(xlabel=\"ln_t400NTLpc2012\", ylabel=\"ln_perUrb_land\")\n",
    "\n",
    "# add trendline\n",
    "z = np.polyfit(short_df[\"ln_t400NTLpc2012\"], short_df['ln_perUrb_land'], 1)\n",
    "p = np.poly1d(z)\n",
    "ax2.plot(short_df[\"ln_t400NTLpc2012\"],p(short_df[\"ln_t400NTLpc2012\"]),\"r-\")\n",
    "\n"
   ]
  },
  {
   "cell_type": "code",
   "execution_count": 122,
   "id": "1349a828-9e78-4211-a3ca-25ea75c355bf",
   "metadata": {},
   "outputs": [
    {
     "name": "stdout",
     "output_type": "stream",
     "text": [
      "Correlation of egdp and ntl: -0.0013160348349785576\n",
      "Correlation of egdp and pop: 0.3324972344406324\n",
      "Correlation of egdp and Urban land %: 0.3744299375753733\n"
     ]
    }
   ],
   "source": [
    "egdp_ntl = short_df[\"lnEGDPpc2012\"].corr(short_df['ln_t400NTLpc2012'])\n",
    "egdp_pop = short_df[\"ln_t400NTLpc2012\"].corr(short_df['ln_tr400_pop2012'])\n",
    "egdp_urb = short_df[\"ln_t400NTLpc2012\"].corr(short_df['ln_perUrb_land'])\n",
    "\n",
    "print(f\"Correlation of egdp and ntl: {egdp_ntl}\")\n",
    "print(f\"Correlation of egdp and pop: {egdp_pop}\")\n",
    "print(f\"Correlation of egdp and Urban land %: {egdp_urb}\")"
   ]
  },
  {
   "cell_type": "markdown",
   "id": "982bcb43-3b78-4f37-926d-6caa7557e17e",
   "metadata": {},
   "source": [
    "# **Regression models**"
   ]
  },
  {
   "cell_type": "markdown",
   "id": "6ae5d559-bee7-4873-9e94-7ca5c6868e5c",
   "metadata": {},
   "source": [
    "### Linear model"
   ]
  },
  {
   "cell_type": "code",
   "execution_count": 124,
   "id": "68572ced-cd60-46e3-9b44-465206e245be",
   "metadata": {},
   "outputs": [],
   "source": [
    "x = df[[ \"ln_t400NTLpc2012\", \"ln_tr400_pop2012\", 'lnEGDPpc2012', 'ln_perUrb_land',  \"ln_pm25_2012\", \"ln_land_temp2012\"]].fillna(0)\n",
    "y = df['imds']\n",
    "\n",
    "np.random.seed(42)\n",
    "x_train, x_test, y_train, y_test = train_test_split(x,y, test_size=0.2) \n",
    "\n",
    "model = LinearRegression()\n",
    "model.fit(x_train,y_train)\n",
    "\n",
    "# r2 \n",
    "#lr = model.score(x_test, y_test)\n",
    "lr = np.mean(cross_val_score(model, x, y))\n",
    "\n",
    "# MAE\n",
    "lr_mae = np.mean(cross_val_score(model, x, y, scoring=\"neg_mean_absolute_error\"))\n",
    "\n",
    "lr_y_pred = model.predict(x_test)\n",
    "mse = mean_squared_error(y_test, y_pred)\n",
    "r2 = r2_score(y_test, y_pred)\n"
   ]
  },
  {
   "cell_type": "markdown",
   "id": "bf0cc5e4-59e9-49a2-9408-3d70ff9e1b59",
   "metadata": {},
   "source": [
    "### Ridge  model"
   ]
  },
  {
   "cell_type": "code",
   "execution_count": 125,
   "id": "37c2cf36-6db8-4cb1-bdb9-0edc66d94533",
   "metadata": {},
   "outputs": [],
   "source": [
    "\n",
    "np.random.seed(42)\n",
    "x_train, x_test, y_train, y_test = train_test_split(x, y, test_size=0.2)\n",
    "\n",
    "rid_model = linear_model.Ridge()\n",
    "rid_model.fit(x_train, y_train)\n",
    "\n",
    "# r2\n",
    "#ri = rid_model.score(x_test, y_test)\n",
    "ri = np.mean(cross_val_score(rid_model, x, y))\n",
    "\n",
    "ri_y_pred = rid_model.predict(x_test)\n",
    "\n",
    "# MAE\n",
    "ri_mae = np.mean(cross_val_score(rid_model, x, y, scoring=\"neg_mean_absolute_error\"))"
   ]
  },
  {
   "cell_type": "markdown",
   "id": "4ab835e0-d655-41db-af22-8140e3644d2e",
   "metadata": {},
   "source": [
    "### Random Forest Regressor model"
   ]
  },
  {
   "cell_type": "code",
   "execution_count": 126,
   "id": "fd0d271b-d3d2-429e-8495-b6a198486e97",
   "metadata": {},
   "outputs": [],
   "source": [
    "\n",
    "np.random.seed(42)\n",
    "x_train, x_test, y_train, y_test = train_test_split(x, y, test_size=0.2)\n",
    "\n",
    "rf_model = RandomForestRegressor()\n",
    "rf_model.fit(x_train, y_train)\n",
    "\n",
    "# r2\n",
    "#rf = rf_model.score(x_test, y_test)\n",
    "rf = np.mean(cross_val_score(rf_model, x, y))\n",
    "\n",
    "rf_y_pred = rf_model.predict(x_test)\n",
    "\n",
    "# MAE\n",
    "rf_mae = np.mean(cross_val_score(rf_model, x, y, scoring=\"neg_mean_absolute_error\"))"
   ]
  },
  {
   "cell_type": "markdown",
   "id": "1685a355-f2b7-4d83-8bad-d2db5048a70f",
   "metadata": {},
   "source": [
    "### Results "
   ]
  },
  {
   "cell_type": "code",
   "execution_count": 129,
   "id": "3ee1d97d-f659-494b-9dbb-3488c318d84a",
   "metadata": {},
   "outputs": [
    {
     "name": "stdout",
     "output_type": "stream",
     "text": [
      "R2 for the regressor models\n",
      " Linear model  cv ->   R2: 31.38%,  MAE: -4.34\n",
      " Ridger model  cv ->   R2: 30.71%,  MAE: -4.35\n",
      " RF model      cv ->   R2: 46.68%,  MAE: -3.78 \n"
     ]
    }
   ],
   "source": [
    "print(\"R2 for the regressor models\")\n",
    "print(f\" Linear model  cv ->   R2: {lr*100:.2f}%,  MAE: {lr_mae:.2f}\")\n",
    "print(f\" Ridger model  cv ->   R2: {ri*100:.2f}%,  MAE: {ri_mae:.2f}\")\n",
    "print(f\" RF model      cv ->   R2: {rf*100:.2f}%,  MAE: {rf_mae:.2f} \")"
   ]
  },
  {
   "cell_type": "markdown",
   "id": "eb831d7d-1415-459e-b454-e548240486ba",
   "metadata": {},
   "source": [
    "### Correlation between prediction and truth data"
   ]
  },
  {
   "cell_type": "code",
   "execution_count": 132,
   "id": "7fac4f46-df8c-400a-8e1e-1e9451cf1d45",
   "metadata": {},
   "outputs": [
    {
     "data": {
      "text/plain": [
       "[<matplotlib.lines.Line2D at 0x2884c6630>]"
      ]
     },
     "execution_count": 132,
     "metadata": {},
     "output_type": "execute_result"
    },
    {
     "data": {
      "image/png": "[encoded data removed]",
      "text/plain": [
       "<Figure size 1500x600 with 3 Axes>"
      ]
     },
     "metadata": {},
     "output_type": "display_data"
    }
   ],
   "source": [
    "fig, (ax0, ax1, ax2) = plt.subplots(nrows=1,\n",
    "                                    ncols=3,\n",
    "                                    figsize = (15, 6))\n",
    "\n",
    "ax0.scatter(x = y_test, y = lr_y_pred)\n",
    "ax0.set(xlabel=\"SDI\", ylabel=\"SDI Prediction\", title=\"Linear Regression\")\n",
    "\n",
    "# add trendline\n",
    "z = np.polyfit(y_test, lr_y_pred, 1)\n",
    "p = np.poly1d(z)\n",
    "ax0.plot(y_test,p(y_test),\"r-\")\n",
    "\n",
    "\n",
    "ax1.scatter(x=y_test, y = ri_y_pred)\n",
    "ax1.set(xlabel=\"SDI\", ylabel=\"SDI Prediction\", title=\"Ridge\")\n",
    "\n",
    "# add trendline\n",
    "z = np.polyfit(y_test, ri_y_pred, 1)\n",
    "p = np.poly1d(z)\n",
    "ax1.plot(y_test,p(y_test),\"r-\")\n",
    "\n",
    "\n",
    "ax2.scatter(x=y_test, y=rf_y_pred)\n",
    "ax2.set(xlabel=\"SDI\", ylabel=\"SDI Prediction\", title=\"Random Forest\")\n",
    "\n",
    "\n",
    "# add trendline\n",
    "z = np.polyfit(y_test, rf_y_pred, 1)\n",
    "p = np.poly1d(z)\n",
    "ax2.plot(y_test,p(y_test),\"r-\")\n"
   ]
  },
  {
   "cell_type": "markdown",
   "id": "1b2b931c-f8e0-4d95-b3e0-06291a5608b6",
   "metadata": {},
   "source": [
    "# **Categorical analysis**"
   ]
  },
  {
   "cell_type": "code",
   "execution_count": 24,
   "id": "509c1179-2a66-4365-9c78-f0de48739158",
   "metadata": {},
   "outputs": [],
   "source": [
    "quantile_labels = [\"low\", 'medium-low', 'medium-high', 'high']\n",
    "df[\"imds_quantile\"] = pd.qcut(df[\"imds\"], q=4, labels=quantile_labels)\n",
    "#df[\"imds_quantile\"]"
   ]
  },
  {
   "cell_type": "code",
   "execution_count": 25,
   "id": "346066bb-89d2-479d-b71b-ede7712bf759",
   "metadata": {},
   "outputs": [
    {
     "name": "stdout",
     "output_type": "stream",
     "text": [
      " Test data score: 50.00%\n"
     ]
    }
   ],
   "source": [
    "x = df[[\"ln_t400NTLpc2012\", \"ln_tr400_pop2012\", 'lnEGDPpc2012', 'ln_pm25_2012', 'ln_land_temp2012', 'lnagr_land2012', 'lnurb_land2012']].fillna(0)\n",
    "y = df['imds_quantile']\n",
    "\n",
    "np.random.seed(42)\n",
    "x_train, x_test, y_train, y_test = train_test_split(x,y, test_size=0.2) \n",
    "\n",
    "clf = RandomForestClassifier()\n",
    "#clf.get_params()\n",
    "clf.fit(x_train,y_train);\n",
    "\n",
    "y_preds = clf.predict(x_test)\n",
    "\n",
    "#evaluate the model\n",
    "#print(f\" Train data score: {clf.score(x_train, y_train)*100:.2f}%\")\n",
    "print(f\" Test data score: {clf.score(x_test, y_test)*100:.2f}%\")\n",
    "rf_cl = clf.score(x_test, y_test)"
   ]
  },
  {
   "cell_type": "code",
   "execution_count": 26,
   "id": "2959a016-9dd2-4c45-8508-22ed263c05eb",
   "metadata": {},
   "outputs": [
    {
     "name": "stdout",
     "output_type": "stream",
     "text": [
      "              precision    recall  f1-score   support\n",
      "\n",
      "        high       0.80      0.67      0.73        18\n",
      "         low       0.43      0.60      0.50        15\n",
      " medium-high       0.38      0.28      0.32        18\n",
      "  medium-low       0.42      0.47      0.44        17\n",
      "\n",
      "    accuracy                           0.50        68\n",
      "   macro avg       0.51      0.50      0.50        68\n",
      "weighted avg       0.51      0.50      0.50        68\n",
      "\n"
     ]
    }
   ],
   "source": [
    "print(classification_report(y_test, y_preds))"
   ]
  },
  {
   "cell_type": "code",
   "execution_count": 27,
   "id": "7bdc0b77-dcd1-4b5e-927a-c0c3609e6ad6",
   "metadata": {},
   "outputs": [
    {
     "name": "stdout",
     "output_type": "stream",
     "text": [
      "[[12  2  4  0]\n",
      " [ 0  9  1  5]\n",
      " [ 2  5  5  6]\n",
      " [ 1  5  3  8]]\n"
     ]
    }
   ],
   "source": [
    "print(confusion_matrix(y_test, y_preds))"
   ]
  },
  {
   "cell_type": "code",
   "execution_count": 28,
   "id": "c102af1a-9bb6-4400-8830-f9de77a8b780",
   "metadata": {},
   "outputs": [
    {
     "data": {
      "text/plain": [
       "0.5"
      ]
     },
     "execution_count": 28,
     "metadata": {},
     "output_type": "execute_result"
    }
   ],
   "source": [
    "accuracy_score(y_test, y_preds)"
   ]
  },
  {
   "cell_type": "code",
   "execution_count": 29,
   "id": "498c11cd-a162-4fd7-95fe-8e666d5c03ec",
   "metadata": {},
   "outputs": [
    {
     "name": "stdout",
     "output_type": "stream",
     "text": [
      "Trying model with 10 stimators\n",
      "Model acurracy is 47.06%\n",
      "Trying model with 20 stimators\n",
      "Model acurracy is 48.53%\n",
      "Trying model with 30 stimators\n",
      "Model acurracy is 44.12%\n",
      "Trying model with 40 stimators\n",
      "Model acurracy is 51.47%\n",
      "Trying model with 50 stimators\n",
      "Model acurracy is 48.53%\n",
      "Trying model with 60 stimators\n",
      "Model acurracy is 42.65%\n",
      "Trying model with 70 stimators\n",
      "Model acurracy is 42.65%\n",
      "Trying model with 80 stimators\n",
      "Model acurracy is 45.59%\n",
      "Trying model with 90 stimators\n",
      "Model acurracy is 47.06%\n"
     ]
    }
   ],
   "source": [
    "# improve model\n",
    "\n",
    "np.random.seed(42)\n",
    "for i in range(10, 100, 10):\n",
    "    print(f\"Trying model with {i} stimators\")\n",
    "    clf = RandomForestClassifier(n_estimators=i).fit(x_train, y_train)\n",
    "    print(f\"Model acurracy is {clf.score(x_test, y_test)*100:.2f}%\")"
   ]
  },
  {
   "cell_type": "code",
   "execution_count": 30,
   "id": "55905710-f624-4697-ba03-529073042932",
   "metadata": {},
   "outputs": [],
   "source": [
    "#pickle.dump(clf, open(\"random_forest_model.pkl\", \"wb\"))\n",
    "\n",
    "#load_model = pickle.load(open(\"random_forest_model.pkl\", \"rb\"))\n",
    "#load_model.score(x_test, y_test)"
   ]
  },
  {
   "cell_type": "markdown",
   "id": "c42d986c-f09b-412a-ae9e-56e92af8e277",
   "metadata": {},
   "source": [
    "### Linear SVC Classifier"
   ]
  },
  {
   "cell_type": "code",
   "execution_count": 31,
   "id": "a468fce6-d583-43e8-b91b-5e199a021779",
   "metadata": {},
   "outputs": [],
   "source": [
    "np.random.seed(42)\n",
    "x_train, x_test, y_train, y_test = train_test_split(x,y, test_size=0.2) \n",
    "\n",
    "sgd_cla = svm.LinearSVC(dual=\"auto\", max_iter=10000)\n",
    "sgd_cla.fit(x_train, y_train)\n",
    "sgd_cl = sgd_cla.score(x_test, y_test)"
   ]
  },
  {
   "cell_type": "markdown",
   "id": "18fee104-b78b-4e80-97ec-aa1f9ec1b8ba",
   "metadata": {},
   "source": [
    "### Naive Bayes Classifier"
   ]
  },
  {
   "cell_type": "code",
   "execution_count": 32,
   "id": "69df174f-0aad-4c4b-ab8c-0aaceca42441",
   "metadata": {},
   "outputs": [],
   "source": [
    "np.random.seed(42)\n",
    "x_train, x_test, y_train, y_test = train_test_split(x,y, test_size=0.2) \n",
    "\n",
    "naive_cla = GaussianNB()\n",
    "naive_cla.fit(x_train, y_train)\n",
    "naive_cl = naive_cla.score(x_test, y_test)"
   ]
  },
  {
   "cell_type": "markdown",
   "id": "7b5b2d68-ca9f-4e20-b5ac-fe1b1f565c57",
   "metadata": {},
   "source": [
    "### Results "
   ]
  },
  {
   "cell_type": "code",
   "execution_count": 33,
   "id": "7a62fc52-8b79-49c9-bdc9-9d734ad64c55",
   "metadata": {},
   "outputs": [
    {
     "name": "stdout",
     "output_type": "stream",
     "text": [
      "R2 for the classifier models\n",
      " Random Forest model: 50.00%\n",
      " Linear SVC model: 44.12%\n",
      " Naive Bayes model: 39.71%\n"
     ]
    }
   ],
   "source": [
    "print(\"R2 for the classifier models\")\n",
    "print(f\" Random Forest model: {rf_cl*100:.2f}%\")\n",
    "print(f\" Linear SVC model: {sgd_cl*100:.2f}%\")\n",
    "print(f\" Naive Bayes model: {naive_cl*100:.2f}%\")"
   ]
  },
  {
   "cell_type": "markdown",
   "id": "479ed4bf-c971-4749-b1f2-fa310dcceddb",
   "metadata": {},
   "source": [
    "## Iterate regression models"
   ]
  },
  {
   "cell_type": "code",
   "execution_count": 34,
   "id": "5405dca4-b786-4ec4-9929-5a25919c30bf",
   "metadata": {},
   "outputs": [],
   "source": [
    "y_variables = list(bol.columns)\n",
    "del y_variables[195:420]\n",
    "del y_variables[10:13]\n",
    "del y_variables[0:8]"
   ]
  },
  {
   "cell_type": "code",
   "execution_count": 35,
   "id": "cfa6c034-3d9c-4e42-914a-ce1b2d9f1801",
   "metadata": {},
   "outputs": [],
   "source": [
    "#y_variables"
   ]
  },
  {
   "cell_type": "markdown",
   "id": "e1c0e20b-29be-40e3-9d47-119b01fcc4fd",
   "metadata": {},
   "source": [
    "### Linear Regression"
   ]
  },
  {
   "cell_type": "code",
   "execution_count": 36,
   "id": "9d45635a-f303-4ad2-b692-af5ef435701a",
   "metadata": {},
   "outputs": [],
   "source": [
    "model_results = pd.DataFrame(columns=[\"Feature\", \"r2\", \"MAE\"])\n",
    "\n",
    "for y_variable in y_variables:\n",
    "    filtered_df = df.dropna()\n",
    "\n",
    "    x = filtered_df[[ \"ln_t400NTLpc2012\", \"ln_tr400_pop2012\", 'lnEGDPpc2012', 'ln_pm25_2012', 'ln_land_temp2012']]\n",
    "    y = filtered_df[y_variable]\n",
    "\n",
    "    np.random.seed(42)\n",
    "    x_train, x_test, y_train, y_test = train_test_split(x,y, test_size=0.2) \n",
    "\n",
    "    model = LinearRegression()\n",
    "    model.fit(x_train,y_train)\n",
    "\n",
    "    y_pred = model.predict(x_test)\n",
    "    mse = mean_squared_error(y_test, y_pred)\n",
    "    r2 = np.mean(cross_val_score(model, x, y, scoring=\"r2\"))\n",
    "    mae = np.mean(cross_val_score(model, x, y, scoring=\"neg_mean_absolute_error\"))\n",
    "\n",
    "\n",
    "    model_results.loc[len(model_results.index)] = [y_variable, r2, mae]\n"
   ]
  },
  {
   "cell_type": "code",
   "execution_count": 37,
   "id": "35256634-7c5f-407d-bac7-0ddbd288a9d0",
   "metadata": {},
   "outputs": [
    {
     "data": {
      "text/html": [
       "<div>\n",
       "<style scoped>\n",
       "    .dataframe tbody tr th:only-of-type {\n",
       "        vertical-align: middle;\n",
       "    }\n",
       "\n",
       "    .dataframe tbody tr th {\n",
       "        vertical-align: top;\n",
       "    }\n",
       "\n",
       "    .dataframe thead th {\n",
       "        text-align: right;\n",
       "    }\n",
       "</style>\n",
       "<table border=\"1\" class=\"dataframe\">\n",
       "  <thead>\n",
       "    <tr style=\"text-align: right;\">\n",
       "      <th></th>\n",
       "      <th>Feature</th>\n",
       "      <th>r2</th>\n",
       "      <th>MAE</th>\n",
       "    </tr>\n",
       "  </thead>\n",
       "  <tbody>\n",
       "  </tbody>\n",
       "</table>\n",
       "</div>"
      ],
      "text/plain": [
       "Empty DataFrame\n",
       "Columns: [Feature, r2, MAE]\n",
       "Index: []"
      ]
     },
     "execution_count": 37,
     "metadata": {},
     "output_type": "execute_result"
    }
   ],
   "source": [
    "model_results[model_results[\"r2\"]>0.9]"
   ]
  },
  {
   "cell_type": "code",
   "execution_count": 38,
   "id": "8e9ebcf3-2f2e-49d6-bd3d-ab44398d72a0",
   "metadata": {},
   "outputs": [
    {
     "data": {
      "text/html": [
       "<div>\n",
       "<style scoped>\n",
       "    .dataframe tbody tr th:only-of-type {\n",
       "        vertical-align: middle;\n",
       "    }\n",
       "\n",
       "    .dataframe tbody tr th {\n",
       "        vertical-align: top;\n",
       "    }\n",
       "\n",
       "    .dataframe thead th {\n",
       "        text-align: right;\n",
       "    }\n",
       "</style>\n",
       "<table border=\"1\" class=\"dataframe\">\n",
       "  <thead>\n",
       "    <tr style=\"text-align: right;\">\n",
       "      <th></th>\n",
       "      <th>Feature</th>\n",
       "      <th>r2</th>\n",
       "      <th>MAE</th>\n",
       "    </tr>\n",
       "  </thead>\n",
       "  <tbody>\n",
       "  </tbody>\n",
       "</table>\n",
       "</div>"
      ],
      "text/plain": [
       "Empty DataFrame\n",
       "Columns: [Feature, r2, MAE]\n",
       "Index: []"
      ]
     },
     "execution_count": 38,
     "metadata": {},
     "output_type": "execute_result"
    }
   ],
   "source": [
    "model_results[model_results[\"r2\"]>0.8]"
   ]
  },
  {
   "cell_type": "code",
   "execution_count": 39,
   "id": "931a9a8f-5115-4408-8e54-4d6bbeaa65e1",
   "metadata": {},
   "outputs": [
    {
     "data": {
      "text/html": [
       "<div>\n",
       "<style scoped>\n",
       "    .dataframe tbody tr th:only-of-type {\n",
       "        vertical-align: middle;\n",
       "    }\n",
       "\n",
       "    .dataframe tbody tr th {\n",
       "        vertical-align: top;\n",
       "    }\n",
       "\n",
       "    .dataframe thead th {\n",
       "        text-align: right;\n",
       "    }\n",
       "</style>\n",
       "<table border=\"1\" class=\"dataframe\">\n",
       "  <thead>\n",
       "    <tr style=\"text-align: right;\">\n",
       "      <th></th>\n",
       "      <th>Feature</th>\n",
       "      <th>r2</th>\n",
       "      <th>MAE</th>\n",
       "    </tr>\n",
       "  </thead>\n",
       "  <tbody>\n",
       "  </tbody>\n",
       "</table>\n",
       "</div>"
      ],
      "text/plain": [
       "Empty DataFrame\n",
       "Columns: [Feature, r2, MAE]\n",
       "Index: []"
      ]
     },
     "execution_count": 39,
     "metadata": {},
     "output_type": "execute_result"
    }
   ],
   "source": [
    "model_results[model_results[\"r2\"]>0.7]"
   ]
  },
  {
   "cell_type": "code",
   "execution_count": 40,
   "id": "684fbc20-acfb-4773-9619-74fe3568ae30",
   "metadata": {},
   "outputs": [
    {
     "data": {
      "text/html": [
       "<div>\n",
       "<style scoped>\n",
       "    .dataframe tbody tr th:only-of-type {\n",
       "        vertical-align: middle;\n",
       "    }\n",
       "\n",
       "    .dataframe tbody tr th {\n",
       "        vertical-align: top;\n",
       "    }\n",
       "\n",
       "    .dataframe thead th {\n",
       "        text-align: right;\n",
       "    }\n",
       "</style>\n",
       "<table border=\"1\" class=\"dataframe\">\n",
       "  <thead>\n",
       "    <tr style=\"text-align: right;\">\n",
       "      <th></th>\n",
       "      <th>Feature</th>\n",
       "      <th>r2</th>\n",
       "      <th>MAE</th>\n",
       "    </tr>\n",
       "  </thead>\n",
       "  <tbody>\n",
       "    <tr>\n",
       "      <th>64</th>\n",
       "      <td>sdg1_1_pubn_abs</td>\n",
       "      <td>0.698342</td>\n",
       "      <td>-3561.573073</td>\n",
       "    </tr>\n",
       "  </tbody>\n",
       "</table>\n",
       "</div>"
      ],
      "text/plain": [
       "            Feature        r2          MAE\n",
       "64  sdg1_1_pubn_abs  0.698342 -3561.573073"
      ]
     },
     "execution_count": 40,
     "metadata": {},
     "output_type": "execute_result"
    }
   ],
   "source": [
    "model_results[model_results[\"r2\"]>0.6]"
   ]
  },
  {
   "cell_type": "code",
   "execution_count": 133,
   "id": "c9705d0d-2983-4bc4-a439-fc2e5ca67214",
   "metadata": {},
   "outputs": [],
   "source": [
    "#model_results[model_results[\"r2\"]<0]"
   ]
  },
  {
   "cell_type": "code",
   "execution_count": null,
   "id": "9a97bcb4-fcee-447d-9ae8-8c2a5686163b",
   "metadata": {},
   "outputs": [],
   "source": []
  },
  {
   "cell_type": "markdown",
   "id": "47418f52-7838-44de-925e-aad20f3e7922",
   "metadata": {},
   "source": [
    "### Random Forest Regressor"
   ]
  },
  {
   "cell_type": "code",
   "execution_count": 42,
   "id": "942c4966-3699-4ef9-883d-d21bde41b620",
   "metadata": {},
   "outputs": [],
   "source": [
    "model_results = pd.DataFrame(columns=[\"Feature\", \"r2\", \"MAE\"])"
   ]
  },
  {
   "cell_type": "code",
   "execution_count": 43,
   "id": "19361e93-4ffb-4554-87b9-eb867d874457",
   "metadata": {},
   "outputs": [],
   "source": [
    "\n",
    "for y_variable in y_variables:\n",
    "    filtered_df = df.dropna()\n",
    "\n",
    "    x = filtered_df[[ \"ln_t400NTLpc2012\", \"ln_tr400_pop2012\", 'lnEGDPpc2012', 'ln_perUrb_land',  \"ln_pm25_2012\", \"ln_land_temp2012\"]].fillna(0)\n",
    "    y = filtered_df[y_variable]\n",
    "\n",
    "    np.random.seed(42)\n",
    "    #x_train, x_test, y_train, y_test = train_test_split(x,y, test_size=0.2) \n",
    "\n",
    "    model = RandomForestRegressor()\n",
    "    #model.fit(x_train,y_train)\n",
    "\n",
    "    #y_pred = model.predict(x_test)\n",
    "    #mse = mean_squared_error(y_test, y_pred)\n",
    "    r2 = np.mean(cross_val_score(model, x, y, scoring=\"r2\"))\n",
    "    mae = np.mean(cross_val_score(model, x, y, scoring=\"neg_mean_absolute_error\"))\n",
    "    \n",
    "    model_results.loc[len(model_results.index)] = [y_variable, r2, mae]\n",
    "\n",
    "#res_90 = {key: value for key, value in model_results.items() if value > 0.9}\n",
    "#res_80 = {key: value for key, value in model_results.items() if (value > 0.8 and value < 0.9)}\n",
    "#res_70 = {key: value for key, value in model_results.items() if (value > 0.7 and value < 0.8)}\n",
    "\n",
    "#res_neg = {key: value for key, value in model_results.items() if value < 0}\n",
    "\n",
    "#    print(f\"For the variable {y_variable} Mean Squared Error:\", mse)\n",
    "#    print(\"R^2 Score:\", r2)"
   ]
  },
  {
   "cell_type": "code",
   "execution_count": 44,
   "id": "e0600f25-7076-4a2b-8970-43669f0ef8f7",
   "metadata": {},
   "outputs": [
    {
     "data": {
      "text/html": [
       "<div>\n",
       "<style scoped>\n",
       "    .dataframe tbody tr th:only-of-type {\n",
       "        vertical-align: middle;\n",
       "    }\n",
       "\n",
       "    .dataframe tbody tr th {\n",
       "        vertical-align: top;\n",
       "    }\n",
       "\n",
       "    .dataframe thead th {\n",
       "        text-align: right;\n",
       "    }\n",
       "</style>\n",
       "<table border=\"1\" class=\"dataframe\">\n",
       "  <thead>\n",
       "    <tr style=\"text-align: right;\">\n",
       "      <th></th>\n",
       "      <th>Feature</th>\n",
       "      <th>r2</th>\n",
       "      <th>MAE</th>\n",
       "    </tr>\n",
       "  </thead>\n",
       "  <tbody>\n",
       "  </tbody>\n",
       "</table>\n",
       "</div>"
      ],
      "text/plain": [
       "Empty DataFrame\n",
       "Columns: [Feature, r2, MAE]\n",
       "Index: []"
      ]
     },
     "execution_count": 44,
     "metadata": {},
     "output_type": "execute_result"
    }
   ],
   "source": [
    "model_results[model_results[\"r2\"]>0.9]"
   ]
  },
  {
   "cell_type": "code",
   "execution_count": 45,
   "id": "2e0b08e5-8863-4978-b79a-b3ad8c0764e7",
   "metadata": {},
   "outputs": [
    {
     "data": {
      "text/html": [
       "<div>\n",
       "<style scoped>\n",
       "    .dataframe tbody tr th:only-of-type {\n",
       "        vertical-align: middle;\n",
       "    }\n",
       "\n",
       "    .dataframe tbody tr th {\n",
       "        vertical-align: top;\n",
       "    }\n",
       "\n",
       "    .dataframe thead th {\n",
       "        text-align: right;\n",
       "    }\n",
       "</style>\n",
       "<table border=\"1\" class=\"dataframe\">\n",
       "  <thead>\n",
       "    <tr style=\"text-align: right;\">\n",
       "      <th></th>\n",
       "      <th>Feature</th>\n",
       "      <th>r2</th>\n",
       "      <th>MAE</th>\n",
       "    </tr>\n",
       "  </thead>\n",
       "  <tbody>\n",
       "    <tr>\n",
       "      <th>64</th>\n",
       "      <td>sdg1_1_pubn_abs</td>\n",
       "      <td>0.806113</td>\n",
       "      <td>-2669.752581</td>\n",
       "    </tr>\n",
       "    <tr>\n",
       "      <th>93</th>\n",
       "      <td>sdg8_5_ompr_abs</td>\n",
       "      <td>0.842334</td>\n",
       "      <td>-462.245281</td>\n",
       "    </tr>\n",
       "    <tr>\n",
       "      <th>94</th>\n",
       "      <td>sdg8_5_ofpr_abs</td>\n",
       "      <td>0.807598</td>\n",
       "      <td>-828.260705</td>\n",
       "    </tr>\n",
       "    <tr>\n",
       "      <th>96</th>\n",
       "      <td>sdg8_6_wlm_abs</td>\n",
       "      <td>0.816453</td>\n",
       "      <td>-113.976013</td>\n",
       "    </tr>\n",
       "  </tbody>\n",
       "</table>\n",
       "</div>"
      ],
      "text/plain": [
       "            Feature        r2          MAE\n",
       "64  sdg1_1_pubn_abs  0.806113 -2669.752581\n",
       "93  sdg8_5_ompr_abs  0.842334  -462.245281\n",
       "94  sdg8_5_ofpr_abs  0.807598  -828.260705\n",
       "96   sdg8_6_wlm_abs  0.816453  -113.976013"
      ]
     },
     "execution_count": 45,
     "metadata": {},
     "output_type": "execute_result"
    }
   ],
   "source": [
    "model_results[model_results[\"r2\"]>0.8]"
   ]
  },
  {
   "cell_type": "code",
   "execution_count": 46,
   "id": "a0357a9f-c982-453c-9089-a0124ef0c4de",
   "metadata": {},
   "outputs": [
    {
     "data": {
      "text/html": [
       "<div>\n",
       "<style scoped>\n",
       "    .dataframe tbody tr th:only-of-type {\n",
       "        vertical-align: middle;\n",
       "    }\n",
       "\n",
       "    .dataframe tbody tr th {\n",
       "        vertical-align: top;\n",
       "    }\n",
       "\n",
       "    .dataframe thead th {\n",
       "        text-align: right;\n",
       "    }\n",
       "</style>\n",
       "<table border=\"1\" class=\"dataframe\">\n",
       "  <thead>\n",
       "    <tr style=\"text-align: right;\">\n",
       "      <th></th>\n",
       "      <th>Feature</th>\n",
       "      <th>r2</th>\n",
       "      <th>MAE</th>\n",
       "    </tr>\n",
       "  </thead>\n",
       "  <tbody>\n",
       "    <tr>\n",
       "      <th>63</th>\n",
       "      <td>sdg1_1_dtl_abs</td>\n",
       "      <td>0.700273</td>\n",
       "      <td>-1050.538142</td>\n",
       "    </tr>\n",
       "    <tr>\n",
       "      <th>72</th>\n",
       "      <td>sdg3_2_fb_abs</td>\n",
       "      <td>0.707632</td>\n",
       "      <td>-4.146106</td>\n",
       "    </tr>\n",
       "    <tr>\n",
       "      <th>79</th>\n",
       "      <td>sdg3_7_bpw_abs</td>\n",
       "      <td>0.731094</td>\n",
       "      <td>-21.670247</td>\n",
       "    </tr>\n",
       "    <tr>\n",
       "      <th>104</th>\n",
       "      <td>sdg11_1_ho_abs</td>\n",
       "      <td>0.760973</td>\n",
       "      <td>-375.197139</td>\n",
       "    </tr>\n",
       "  </tbody>\n",
       "</table>\n",
       "</div>"
      ],
      "text/plain": [
       "            Feature        r2          MAE\n",
       "63   sdg1_1_dtl_abs  0.700273 -1050.538142\n",
       "72    sdg3_2_fb_abs  0.707632    -4.146106\n",
       "79   sdg3_7_bpw_abs  0.731094   -21.670247\n",
       "104  sdg11_1_ho_abs  0.760973  -375.197139"
      ]
     },
     "execution_count": 46,
     "metadata": {},
     "output_type": "execute_result"
    }
   ],
   "source": [
    "model_results[(model_results[\"r2\"]>=0.7) & (model_results[\"r2\"]<0.8)]"
   ]
  },
  {
   "cell_type": "code",
   "execution_count": 47,
   "id": "849be8be-e741-42b4-9114-a5069e1aade4",
   "metadata": {},
   "outputs": [
    {
     "data": {
      "text/html": [
       "<div>\n",
       "<style scoped>\n",
       "    .dataframe tbody tr th:only-of-type {\n",
       "        vertical-align: middle;\n",
       "    }\n",
       "\n",
       "    .dataframe tbody tr th {\n",
       "        vertical-align: top;\n",
       "    }\n",
       "\n",
       "    .dataframe thead th {\n",
       "        text-align: right;\n",
       "    }\n",
       "</style>\n",
       "<table border=\"1\" class=\"dataframe\">\n",
       "  <thead>\n",
       "    <tr style=\"text-align: right;\">\n",
       "      <th></th>\n",
       "      <th>Feature</th>\n",
       "      <th>r2</th>\n",
       "      <th>MAE</th>\n",
       "    </tr>\n",
       "  </thead>\n",
       "  <tbody>\n",
       "    <tr>\n",
       "      <th>66</th>\n",
       "      <td>sdg1_4_ebs_abs</td>\n",
       "      <td>0.626654</td>\n",
       "      <td>-1.001922e+03</td>\n",
       "    </tr>\n",
       "    <tr>\n",
       "      <th>68</th>\n",
       "      <td>sdg2_2_wow_abs</td>\n",
       "      <td>0.665525</td>\n",
       "      <td>-3.801598e+02</td>\n",
       "    </tr>\n",
       "    <tr>\n",
       "      <th>73</th>\n",
       "      <td>sdg3_2_ffb_abs</td>\n",
       "      <td>0.676694</td>\n",
       "      <td>-5.621895e+00</td>\n",
       "    </tr>\n",
       "    <tr>\n",
       "      <th>82</th>\n",
       "      <td>sdg4_4_heu_abs</td>\n",
       "      <td>0.632329</td>\n",
       "      <td>-7.019964e+02</td>\n",
       "    </tr>\n",
       "    <tr>\n",
       "      <th>85</th>\n",
       "      <td>sdg4_c_uts_abs</td>\n",
       "      <td>0.615433</td>\n",
       "      <td>-1.994770e+01</td>\n",
       "    </tr>\n",
       "    <tr>\n",
       "      <th>95</th>\n",
       "      <td>sdg8_6_mlm_abs</td>\n",
       "      <td>0.666318</td>\n",
       "      <td>-8.475488e+01</td>\n",
       "    </tr>\n",
       "    <tr>\n",
       "      <th>101</th>\n",
       "      <td>sdg9_c_hf_abs</td>\n",
       "      <td>0.674296</td>\n",
       "      <td>-8.144846e+02</td>\n",
       "    </tr>\n",
       "    <tr>\n",
       "      <th>105</th>\n",
       "      <td>sdg11_1_wos_abs</td>\n",
       "      <td>0.683982</td>\n",
       "      <td>-8.054588e+02</td>\n",
       "    </tr>\n",
       "    <tr>\n",
       "      <th>112</th>\n",
       "      <td>sdg16_6_aob_abs</td>\n",
       "      <td>0.615646</td>\n",
       "      <td>-1.566184e+07</td>\n",
       "    </tr>\n",
       "  </tbody>\n",
       "</table>\n",
       "</div>"
      ],
      "text/plain": [
       "             Feature        r2           MAE\n",
       "66    sdg1_4_ebs_abs  0.626654 -1.001922e+03\n",
       "68    sdg2_2_wow_abs  0.665525 -3.801598e+02\n",
       "73    sdg3_2_ffb_abs  0.676694 -5.621895e+00\n",
       "82    sdg4_4_heu_abs  0.632329 -7.019964e+02\n",
       "85    sdg4_c_uts_abs  0.615433 -1.994770e+01\n",
       "95    sdg8_6_mlm_abs  0.666318 -8.475488e+01\n",
       "101    sdg9_c_hf_abs  0.674296 -8.144846e+02\n",
       "105  sdg11_1_wos_abs  0.683982 -8.054588e+02\n",
       "112  sdg16_6_aob_abs  0.615646 -1.566184e+07"
      ]
     },
     "execution_count": 47,
     "metadata": {},
     "output_type": "execute_result"
    }
   ],
   "source": [
    "model_results[(model_results[\"r2\"]>=0.6) & (model_results[\"r2\"]<0.7)]"
   ]
  },
  {
   "cell_type": "code",
   "execution_count": 48,
   "id": "f1d30bd3-9334-467d-9484-734742d6e2ee",
   "metadata": {},
   "outputs": [
    {
     "data": {
      "text/html": [
       "<div>\n",
       "<style scoped>\n",
       "    .dataframe tbody tr th:only-of-type {\n",
       "        vertical-align: middle;\n",
       "    }\n",
       "\n",
       "    .dataframe tbody tr th {\n",
       "        vertical-align: top;\n",
       "    }\n",
       "\n",
       "    .dataframe thead th {\n",
       "        text-align: right;\n",
       "    }\n",
       "</style>\n",
       "<table border=\"1\" class=\"dataframe\">\n",
       "  <thead>\n",
       "    <tr style=\"text-align: right;\">\n",
       "      <th></th>\n",
       "      <th>Feature</th>\n",
       "      <th>r2</th>\n",
       "      <th>MAE</th>\n",
       "    </tr>\n",
       "  </thead>\n",
       "  <tbody>\n",
       "    <tr>\n",
       "      <th>7</th>\n",
       "      <td>sdg2_4_pual</td>\n",
       "      <td>-1.053063</td>\n",
       "      <td>-77.741269</td>\n",
       "    </tr>\n",
       "    <tr>\n",
       "      <th>8</th>\n",
       "      <td>sdg2_4_td</td>\n",
       "      <td>-0.206102</td>\n",
       "      <td>-54.999176</td>\n",
       "    </tr>\n",
       "    <tr>\n",
       "      <th>12</th>\n",
       "      <td>sdg3_3_cdir</td>\n",
       "      <td>-0.989357</td>\n",
       "      <td>-2.191097</td>\n",
       "    </tr>\n",
       "    <tr>\n",
       "      <th>13</th>\n",
       "      <td>sdg3_3_di</td>\n",
       "      <td>-436.450899</td>\n",
       "      <td>-2.210021</td>\n",
       "    </tr>\n",
       "    <tr>\n",
       "      <th>14</th>\n",
       "      <td>sdg3_3_imr</td>\n",
       "      <td>-47.806323</td>\n",
       "      <td>-0.824969</td>\n",
       "    </tr>\n",
       "    <tr>\n",
       "      <th>16</th>\n",
       "      <td>sdg3_3_hivi</td>\n",
       "      <td>-0.153333</td>\n",
       "      <td>-53.545127</td>\n",
       "    </tr>\n",
       "    <tr>\n",
       "      <th>18</th>\n",
       "      <td>sdg4_1_ssdrm</td>\n",
       "      <td>-0.012677</td>\n",
       "      <td>-1.611786</td>\n",
       "    </tr>\n",
       "    <tr>\n",
       "      <th>22</th>\n",
       "      <td>sdg4_c_qti</td>\n",
       "      <td>-0.021323</td>\n",
       "      <td>-25.212885</td>\n",
       "    </tr>\n",
       "    <tr>\n",
       "      <th>23</th>\n",
       "      <td>sdg4_c_qts</td>\n",
       "      <td>-0.364393</td>\n",
       "      <td>-12.845835</td>\n",
       "    </tr>\n",
       "    <tr>\n",
       "      <th>24</th>\n",
       "      <td>sdg5_1_gpsd</td>\n",
       "      <td>-0.272390</td>\n",
       "      <td>-0.575334</td>\n",
       "    </tr>\n",
       "    <tr>\n",
       "      <th>30</th>\n",
       "      <td>sdg6_3_wwt</td>\n",
       "      <td>-0.080496</td>\n",
       "      <td>-10.838767</td>\n",
       "    </tr>\n",
       "    <tr>\n",
       "      <th>34</th>\n",
       "      <td>sdg7_3_co2epc</td>\n",
       "      <td>-0.376231</td>\n",
       "      <td>-0.540741</td>\n",
       "    </tr>\n",
       "    <tr>\n",
       "      <th>36</th>\n",
       "      <td>sdg8_5_oprm</td>\n",
       "      <td>-0.023050</td>\n",
       "      <td>-3.797313</td>\n",
       "    </tr>\n",
       "    <tr>\n",
       "      <th>38</th>\n",
       "      <td>sdg8_6_mlm</td>\n",
       "      <td>-0.145519</td>\n",
       "      <td>-3.502592</td>\n",
       "    </tr>\n",
       "    <tr>\n",
       "      <th>43</th>\n",
       "      <td>sdg9_5_cd</td>\n",
       "      <td>-3.180811</td>\n",
       "      <td>-3.017108</td>\n",
       "    </tr>\n",
       "    <tr>\n",
       "      <th>52</th>\n",
       "      <td>sdg11_2_samt</td>\n",
       "      <td>-0.994576</td>\n",
       "      <td>-69.163748</td>\n",
       "    </tr>\n",
       "    <tr>\n",
       "      <th>55</th>\n",
       "      <td>sdg13_2_dra</td>\n",
       "      <td>-0.599623</td>\n",
       "      <td>-0.707131</td>\n",
       "    </tr>\n",
       "    <tr>\n",
       "      <th>57</th>\n",
       "      <td>sdg15_5_blr</td>\n",
       "      <td>-0.170967</td>\n",
       "      <td>-0.202065</td>\n",
       "    </tr>\n",
       "    <tr>\n",
       "      <th>58</th>\n",
       "      <td>sdg16_1_rhr</td>\n",
       "      <td>-0.198205</td>\n",
       "      <td>-1.282739</td>\n",
       "    </tr>\n",
       "    <tr>\n",
       "      <th>59</th>\n",
       "      <td>sdg16_6_pbec</td>\n",
       "      <td>-0.025436</td>\n",
       "      <td>-8.349852</td>\n",
       "    </tr>\n",
       "    <tr>\n",
       "      <th>60</th>\n",
       "      <td>sdg16_9_cr</td>\n",
       "      <td>-0.032446</td>\n",
       "      <td>-3.585006</td>\n",
       "    </tr>\n",
       "    <tr>\n",
       "      <th>62</th>\n",
       "      <td>sdg17_5_pipc</td>\n",
       "      <td>-0.089338</td>\n",
       "      <td>-347.137816</td>\n",
       "    </tr>\n",
       "    <tr>\n",
       "      <th>69</th>\n",
       "      <td>sdg2_4_apu_abs</td>\n",
       "      <td>-0.544708</td>\n",
       "      <td>-97324.565719</td>\n",
       "    </tr>\n",
       "    <tr>\n",
       "      <th>70</th>\n",
       "      <td>sdg2_4_tm_abs</td>\n",
       "      <td>-0.382787</td>\n",
       "      <td>-129.918050</td>\n",
       "    </tr>\n",
       "    <tr>\n",
       "      <th>74</th>\n",
       "      <td>sdg3_3_cd_abs</td>\n",
       "      <td>-31.103481</td>\n",
       "      <td>-190.847952</td>\n",
       "    </tr>\n",
       "    <tr>\n",
       "      <th>75</th>\n",
       "      <td>sdg3_3_pd_abs</td>\n",
       "      <td>-1988.808528</td>\n",
       "      <td>-13.458925</td>\n",
       "    </tr>\n",
       "    <tr>\n",
       "      <th>76</th>\n",
       "      <td>sdg3_3_mc_abs</td>\n",
       "      <td>-746.960698</td>\n",
       "      <td>-199.941739</td>\n",
       "    </tr>\n",
       "    <tr>\n",
       "      <th>86</th>\n",
       "      <td>sdg6_1_wdc_abs</td>\n",
       "      <td>-0.119083</td>\n",
       "      <td>-2771.543834</td>\n",
       "    </tr>\n",
       "    <tr>\n",
       "      <th>87</th>\n",
       "      <td>sdg6_2_bsc_abs</td>\n",
       "      <td>-0.027837</td>\n",
       "      <td>-4890.167708</td>\n",
       "    </tr>\n",
       "    <tr>\n",
       "      <th>99</th>\n",
       "      <td>sdg9_5_kcd_abs</td>\n",
       "      <td>-1.142640</td>\n",
       "      <td>-292.294648</td>\n",
       "    </tr>\n",
       "    <tr>\n",
       "      <th>106</th>\n",
       "      <td>sdg11_2_mtv_abs</td>\n",
       "      <td>-0.822699</td>\n",
       "      <td>-2256.985834</td>\n",
       "    </tr>\n",
       "    <tr>\n",
       "      <th>107</th>\n",
       "      <td>sdg13_2_tco2_abs</td>\n",
       "      <td>-0.343825</td>\n",
       "      <td>-550139.777437</td>\n",
       "    </tr>\n",
       "    <tr>\n",
       "      <th>108</th>\n",
       "      <td>sdg13_2_ad_abs</td>\n",
       "      <td>-0.180704</td>\n",
       "      <td>-1687.083074</td>\n",
       "    </tr>\n",
       "    <tr>\n",
       "      <th>109</th>\n",
       "      <td>sdg15_1_pa_abs</td>\n",
       "      <td>-0.051868</td>\n",
       "      <td>-1114.798922</td>\n",
       "    </tr>\n",
       "    <tr>\n",
       "      <th>110</th>\n",
       "      <td>sdg15_5_rl_abs</td>\n",
       "      <td>-0.161418</td>\n",
       "      <td>-0.599526</td>\n",
       "    </tr>\n",
       "    <tr>\n",
       "      <th>122</th>\n",
       "      <td>sdg2_4_td_norm</td>\n",
       "      <td>-0.139213</td>\n",
       "      <td>-7.987387</td>\n",
       "    </tr>\n",
       "    <tr>\n",
       "      <th>126</th>\n",
       "      <td>sdg3_3_cdir_norm</td>\n",
       "      <td>-0.541682</td>\n",
       "      <td>-14.412961</td>\n",
       "    </tr>\n",
       "    <tr>\n",
       "      <th>127</th>\n",
       "      <td>sdg3_3_di_norm</td>\n",
       "      <td>-2.750614</td>\n",
       "      <td>-9.007457</td>\n",
       "    </tr>\n",
       "    <tr>\n",
       "      <th>128</th>\n",
       "      <td>sdg3_3_imr_norm</td>\n",
       "      <td>-39.919782</td>\n",
       "      <td>-2.698582</td>\n",
       "    </tr>\n",
       "    <tr>\n",
       "      <th>130</th>\n",
       "      <td>sdg3_3_hivi_norm</td>\n",
       "      <td>-0.090350</td>\n",
       "      <td>-11.928907</td>\n",
       "    </tr>\n",
       "    <tr>\n",
       "      <th>136</th>\n",
       "      <td>sdg4_c_qti_norm</td>\n",
       "      <td>-0.027327</td>\n",
       "      <td>-25.187549</td>\n",
       "    </tr>\n",
       "    <tr>\n",
       "      <th>137</th>\n",
       "      <td>sdg4_c_qts_norm</td>\n",
       "      <td>-0.364071</td>\n",
       "      <td>-12.806646</td>\n",
       "    </tr>\n",
       "    <tr>\n",
       "      <th>138</th>\n",
       "      <td>sdg5_1_gpsd_norm</td>\n",
       "      <td>-0.327011</td>\n",
       "      <td>-7.164706</td>\n",
       "    </tr>\n",
       "    <tr>\n",
       "      <th>144</th>\n",
       "      <td>sdg6_3_wwt_norm</td>\n",
       "      <td>-0.028953</td>\n",
       "      <td>-9.954786</td>\n",
       "    </tr>\n",
       "    <tr>\n",
       "      <th>148</th>\n",
       "      <td>sdg7_3_co2epc_norm</td>\n",
       "      <td>-0.026455</td>\n",
       "      <td>-6.152565</td>\n",
       "    </tr>\n",
       "    <tr>\n",
       "      <th>150</th>\n",
       "      <td>sdg8_5_oprm_norm</td>\n",
       "      <td>-0.017068</td>\n",
       "      <td>-17.224641</td>\n",
       "    </tr>\n",
       "    <tr>\n",
       "      <th>152</th>\n",
       "      <td>sdg8_6_mlm_norm</td>\n",
       "      <td>-0.160781</td>\n",
       "      <td>-10.450833</td>\n",
       "    </tr>\n",
       "    <tr>\n",
       "      <th>154</th>\n",
       "      <td>sdg8_10_dbb_norm</td>\n",
       "      <td>-0.001984</td>\n",
       "      <td>-14.590264</td>\n",
       "    </tr>\n",
       "    <tr>\n",
       "      <th>166</th>\n",
       "      <td>sdg11_2_samt_norm</td>\n",
       "      <td>-0.279917</td>\n",
       "      <td>-6.666377</td>\n",
       "    </tr>\n",
       "    <tr>\n",
       "      <th>169</th>\n",
       "      <td>sdg13_2_dra_norm</td>\n",
       "      <td>-0.276948</td>\n",
       "      <td>-9.236465</td>\n",
       "    </tr>\n",
       "    <tr>\n",
       "      <th>170</th>\n",
       "      <td>sdg15_1_pa_norm</td>\n",
       "      <td>-0.057563</td>\n",
       "      <td>-25.265423</td>\n",
       "    </tr>\n",
       "    <tr>\n",
       "      <th>171</th>\n",
       "      <td>sdg15_5_blr_norm</td>\n",
       "      <td>-0.023359</td>\n",
       "      <td>-15.990475</td>\n",
       "    </tr>\n",
       "    <tr>\n",
       "      <th>172</th>\n",
       "      <td>sdg16_1_rhr_norm</td>\n",
       "      <td>-0.094245</td>\n",
       "      <td>-14.647183</td>\n",
       "    </tr>\n",
       "    <tr>\n",
       "      <th>173</th>\n",
       "      <td>sdg16_6_pbec_norm</td>\n",
       "      <td>-0.058014</td>\n",
       "      <td>-12.732290</td>\n",
       "    </tr>\n",
       "    <tr>\n",
       "      <th>174</th>\n",
       "      <td>sdg16_9_cr_norm</td>\n",
       "      <td>-0.015592</td>\n",
       "      <td>-7.190353</td>\n",
       "    </tr>\n",
       "    <tr>\n",
       "      <th>176</th>\n",
       "      <td>sdg17_5_pipc_norm</td>\n",
       "      <td>-0.095658</td>\n",
       "      <td>-10.092922</td>\n",
       "    </tr>\n",
       "    <tr>\n",
       "      <th>180</th>\n",
       "      <td>index_sdg4</td>\n",
       "      <td>-0.059022</td>\n",
       "      <td>-8.596744</td>\n",
       "    </tr>\n",
       "  </tbody>\n",
       "</table>\n",
       "</div>"
      ],
      "text/plain": [
       "                Feature           r2            MAE\n",
       "7           sdg2_4_pual    -1.053063     -77.741269\n",
       "8             sdg2_4_td    -0.206102     -54.999176\n",
       "12          sdg3_3_cdir    -0.989357      -2.191097\n",
       "13            sdg3_3_di  -436.450899      -2.210021\n",
       "14           sdg3_3_imr   -47.806323      -0.824969\n",
       "16          sdg3_3_hivi    -0.153333     -53.545127\n",
       "18         sdg4_1_ssdrm    -0.012677      -1.611786\n",
       "22           sdg4_c_qti    -0.021323     -25.212885\n",
       "23           sdg4_c_qts    -0.364393     -12.845835\n",
       "24          sdg5_1_gpsd    -0.272390      -0.575334\n",
       "30           sdg6_3_wwt    -0.080496     -10.838767\n",
       "34        sdg7_3_co2epc    -0.376231      -0.540741\n",
       "36          sdg8_5_oprm    -0.023050      -3.797313\n",
       "38           sdg8_6_mlm    -0.145519      -3.502592\n",
       "43            sdg9_5_cd    -3.180811      -3.017108\n",
       "52         sdg11_2_samt    -0.994576     -69.163748\n",
       "55          sdg13_2_dra    -0.599623      -0.707131\n",
       "57          sdg15_5_blr    -0.170967      -0.202065\n",
       "58          sdg16_1_rhr    -0.198205      -1.282739\n",
       "59         sdg16_6_pbec    -0.025436      -8.349852\n",
       "60           sdg16_9_cr    -0.032446      -3.585006\n",
       "62         sdg17_5_pipc    -0.089338    -347.137816\n",
       "69       sdg2_4_apu_abs    -0.544708  -97324.565719\n",
       "70        sdg2_4_tm_abs    -0.382787    -129.918050\n",
       "74        sdg3_3_cd_abs   -31.103481    -190.847952\n",
       "75        sdg3_3_pd_abs -1988.808528     -13.458925\n",
       "76        sdg3_3_mc_abs  -746.960698    -199.941739\n",
       "86       sdg6_1_wdc_abs    -0.119083   -2771.543834\n",
       "87       sdg6_2_bsc_abs    -0.027837   -4890.167708\n",
       "99       sdg9_5_kcd_abs    -1.142640    -292.294648\n",
       "106     sdg11_2_mtv_abs    -0.822699   -2256.985834\n",
       "107    sdg13_2_tco2_abs    -0.343825 -550139.777437\n",
       "108      sdg13_2_ad_abs    -0.180704   -1687.083074\n",
       "109      sdg15_1_pa_abs    -0.051868   -1114.798922\n",
       "110      sdg15_5_rl_abs    -0.161418      -0.599526\n",
       "122      sdg2_4_td_norm    -0.139213      -7.987387\n",
       "126    sdg3_3_cdir_norm    -0.541682     -14.412961\n",
       "127      sdg3_3_di_norm    -2.750614      -9.007457\n",
       "128     sdg3_3_imr_norm   -39.919782      -2.698582\n",
       "130    sdg3_3_hivi_norm    -0.090350     -11.928907\n",
       "136     sdg4_c_qti_norm    -0.027327     -25.187549\n",
       "137     sdg4_c_qts_norm    -0.364071     -12.806646\n",
       "138    sdg5_1_gpsd_norm    -0.327011      -7.164706\n",
       "144     sdg6_3_wwt_norm    -0.028953      -9.954786\n",
       "148  sdg7_3_co2epc_norm    -0.026455      -6.152565\n",
       "150    sdg8_5_oprm_norm    -0.017068     -17.224641\n",
       "152     sdg8_6_mlm_norm    -0.160781     -10.450833\n",
       "154    sdg8_10_dbb_norm    -0.001984     -14.590264\n",
       "166   sdg11_2_samt_norm    -0.279917      -6.666377\n",
       "169    sdg13_2_dra_norm    -0.276948      -9.236465\n",
       "170     sdg15_1_pa_norm    -0.057563     -25.265423\n",
       "171    sdg15_5_blr_norm    -0.023359     -15.990475\n",
       "172    sdg16_1_rhr_norm    -0.094245     -14.647183\n",
       "173   sdg16_6_pbec_norm    -0.058014     -12.732290\n",
       "174     sdg16_9_cr_norm    -0.015592      -7.190353\n",
       "176   sdg17_5_pipc_norm    -0.095658     -10.092922\n",
       "180          index_sdg4    -0.059022      -8.596744"
      ]
     },
     "execution_count": 48,
     "metadata": {},
     "output_type": "execute_result"
    }
   ],
   "source": [
    "model_results[model_results[\"r2\"]<0]"
   ]
  },
  {
   "cell_type": "markdown",
   "id": "307a511b-3773-44d3-af43-1e67e2a9f0c7",
   "metadata": {},
   "source": [
    "## Ridge model"
   ]
  },
  {
   "cell_type": "code",
   "execution_count": 49,
   "id": "b48e712c-f3fa-42e2-bea9-a343a72da259",
   "metadata": {},
   "outputs": [],
   "source": [
    "ridge_results = pd.DataFrame(columns=[\"Feature\", \"r2\", \"MAE\"])"
   ]
  },
  {
   "cell_type": "code",
   "execution_count": 50,
   "id": "4c7b9895-6d88-4c8c-bfa7-b4d4890d73af",
   "metadata": {},
   "outputs": [],
   "source": [
    "for y_variable in y_variables:\n",
    "    filtered_df = df.dropna()\n",
    "\n",
    "    x = filtered_df[[ \"ln_t400NTLpc2012\", \"ln_tr400_pop2012\", 'lnEGDPpc2012', 'ln_perUrb_land',  \"ln_pm25_2012\", \"ln_land_temp2012\"]].fillna(0)\n",
    "    y = filtered_df[y_variable]\n",
    "\n",
    "    np.random.seed(42)\n",
    "    #x_train, x_test, y_train, y_test = train_test_split(x,y, test_size=0.2) \n",
    "\n",
    "    ridge_model = linear_model.Ridge()\n",
    "    #model.fit(x_train,y_train)\n",
    "\n",
    "    r2 = np.mean(cross_val_score(ridge_model, x, y, scoring=\"r2\"))\n",
    "    mae = np.mean(cross_val_score(ridge_model, x, y, scoring=\"neg_mean_absolute_error\"))\n",
    "    \n",
    "    ridge_results.loc[len(ridge_results.index)] = [y_variable, r2, mae]"
   ]
  },
  {
   "cell_type": "code",
   "execution_count": 51,
   "id": "1fcd714a-2a34-4578-b425-885640da62fa",
   "metadata": {},
   "outputs": [
    {
     "data": {
      "text/html": [
       "<div>\n",
       "<style scoped>\n",
       "    .dataframe tbody tr th:only-of-type {\n",
       "        vertical-align: middle;\n",
       "    }\n",
       "\n",
       "    .dataframe tbody tr th {\n",
       "        vertical-align: top;\n",
       "    }\n",
       "\n",
       "    .dataframe thead th {\n",
       "        text-align: right;\n",
       "    }\n",
       "</style>\n",
       "<table border=\"1\" class=\"dataframe\">\n",
       "  <thead>\n",
       "    <tr style=\"text-align: right;\">\n",
       "      <th></th>\n",
       "      <th>Feature</th>\n",
       "      <th>r2</th>\n",
       "      <th>MAE</th>\n",
       "    </tr>\n",
       "  </thead>\n",
       "  <tbody>\n",
       "  </tbody>\n",
       "</table>\n",
       "</div>"
      ],
      "text/plain": [
       "Empty DataFrame\n",
       "Columns: [Feature, r2, MAE]\n",
       "Index: []"
      ]
     },
     "execution_count": 51,
     "metadata": {},
     "output_type": "execute_result"
    }
   ],
   "source": [
    "ridge_results[ridge_results[\"r2\"]>0.9]"
   ]
  },
  {
   "cell_type": "code",
   "execution_count": 52,
   "id": "b26db71b-106e-4d1e-b7f4-a3022f3cb749",
   "metadata": {},
   "outputs": [
    {
     "data": {
      "text/html": [
       "<div>\n",
       "<style scoped>\n",
       "    .dataframe tbody tr th:only-of-type {\n",
       "        vertical-align: middle;\n",
       "    }\n",
       "\n",
       "    .dataframe tbody tr th {\n",
       "        vertical-align: top;\n",
       "    }\n",
       "\n",
       "    .dataframe thead th {\n",
       "        text-align: right;\n",
       "    }\n",
       "</style>\n",
       "<table border=\"1\" class=\"dataframe\">\n",
       "  <thead>\n",
       "    <tr style=\"text-align: right;\">\n",
       "      <th></th>\n",
       "      <th>Feature</th>\n",
       "      <th>r2</th>\n",
       "      <th>MAE</th>\n",
       "    </tr>\n",
       "  </thead>\n",
       "  <tbody>\n",
       "  </tbody>\n",
       "</table>\n",
       "</div>"
      ],
      "text/plain": [
       "Empty DataFrame\n",
       "Columns: [Feature, r2, MAE]\n",
       "Index: []"
      ]
     },
     "execution_count": 52,
     "metadata": {},
     "output_type": "execute_result"
    }
   ],
   "source": [
    "ridge_results[ridge_results[\"r2\"]>0.8]"
   ]
  },
  {
   "cell_type": "code",
   "execution_count": 53,
   "id": "d060efec-02ed-4cb7-9151-2ebcc3e7784a",
   "metadata": {},
   "outputs": [
    {
     "data": {
      "text/html": [
       "<div>\n",
       "<style scoped>\n",
       "    .dataframe tbody tr th:only-of-type {\n",
       "        vertical-align: middle;\n",
       "    }\n",
       "\n",
       "    .dataframe tbody tr th {\n",
       "        vertical-align: top;\n",
       "    }\n",
       "\n",
       "    .dataframe thead th {\n",
       "        text-align: right;\n",
       "    }\n",
       "</style>\n",
       "<table border=\"1\" class=\"dataframe\">\n",
       "  <thead>\n",
       "    <tr style=\"text-align: right;\">\n",
       "      <th></th>\n",
       "      <th>Feature</th>\n",
       "      <th>r2</th>\n",
       "      <th>MAE</th>\n",
       "    </tr>\n",
       "  </thead>\n",
       "  <tbody>\n",
       "    <tr>\n",
       "      <th>64</th>\n",
       "      <td>sdg1_1_pubn_abs</td>\n",
       "      <td>0.705611</td>\n",
       "      <td>-3485.614561</td>\n",
       "    </tr>\n",
       "  </tbody>\n",
       "</table>\n",
       "</div>"
      ],
      "text/plain": [
       "            Feature        r2          MAE\n",
       "64  sdg1_1_pubn_abs  0.705611 -3485.614561"
      ]
     },
     "execution_count": 53,
     "metadata": {},
     "output_type": "execute_result"
    }
   ],
   "source": [
    "ridge_results[(ridge_results[\"r2\"]>=0.7) & (ridge_results[\"r2\"]<0.8)]"
   ]
  },
  {
   "cell_type": "code",
   "execution_count": 54,
   "id": "fec433b0-0c9e-4713-8cd2-dd039be3080c",
   "metadata": {},
   "outputs": [
    {
     "data": {
      "text/html": [
       "<div>\n",
       "<style scoped>\n",
       "    .dataframe tbody tr th:only-of-type {\n",
       "        vertical-align: middle;\n",
       "    }\n",
       "\n",
       "    .dataframe tbody tr th {\n",
       "        vertical-align: top;\n",
       "    }\n",
       "\n",
       "    .dataframe thead th {\n",
       "        text-align: right;\n",
       "    }\n",
       "</style>\n",
       "<table border=\"1\" class=\"dataframe\">\n",
       "  <thead>\n",
       "    <tr style=\"text-align: right;\">\n",
       "      <th></th>\n",
       "      <th>Feature</th>\n",
       "      <th>r2</th>\n",
       "      <th>MAE</th>\n",
       "    </tr>\n",
       "  </thead>\n",
       "  <tbody>\n",
       "  </tbody>\n",
       "</table>\n",
       "</div>"
      ],
      "text/plain": [
       "Empty DataFrame\n",
       "Columns: [Feature, r2, MAE]\n",
       "Index: []"
      ]
     },
     "execution_count": 54,
     "metadata": {},
     "output_type": "execute_result"
    }
   ],
   "source": [
    "ridge_results[(ridge_results[\"r2\"]>=0.6) & (ridge_results[\"r2\"]<0.7)]"
   ]
  },
  {
   "cell_type": "code",
   "execution_count": 58,
   "id": "25031037-043d-479c-b567-94405cce5949",
   "metadata": {},
   "outputs": [
    {
     "data": {
      "text/html": [
       "<div>\n",
       "<style scoped>\n",
       "    .dataframe tbody tr th:only-of-type {\n",
       "        vertical-align: middle;\n",
       "    }\n",
       "\n",
       "    .dataframe tbody tr th {\n",
       "        vertical-align: top;\n",
       "    }\n",
       "\n",
       "    .dataframe thead th {\n",
       "        text-align: right;\n",
       "    }\n",
       "</style>\n",
       "<table border=\"1\" class=\"dataframe\">\n",
       "  <thead>\n",
       "    <tr style=\"text-align: right;\">\n",
       "      <th></th>\n",
       "      <th>Feature</th>\n",
       "      <th>r2</th>\n",
       "      <th>MAE</th>\n",
       "    </tr>\n",
       "  </thead>\n",
       "  <tbody>\n",
       "    <tr>\n",
       "      <th>0</th>\n",
       "      <td>imds</td>\n",
       "      <td>0.291257</td>\n",
       "      <td>-3.878303</td>\n",
       "    </tr>\n",
       "    <tr>\n",
       "      <th>1</th>\n",
       "      <td>rank_imds</td>\n",
       "      <td>0.312747</td>\n",
       "      <td>-63.045837</td>\n",
       "    </tr>\n",
       "    <tr>\n",
       "      <th>2</th>\n",
       "      <td>sdg1_1_ubn</td>\n",
       "      <td>0.198765</td>\n",
       "      <td>-10.922066</td>\n",
       "    </tr>\n",
       "    <tr>\n",
       "      <th>3</th>\n",
       "      <td>sdg1_2_mpi</td>\n",
       "      <td>0.390562</td>\n",
       "      <td>-0.055705</td>\n",
       "    </tr>\n",
       "    <tr>\n",
       "      <th>4</th>\n",
       "      <td>sdg1_4_abs</td>\n",
       "      <td>0.101311</td>\n",
       "      <td>-14.463981</td>\n",
       "    </tr>\n",
       "    <tr>\n",
       "      <th>...</th>\n",
       "      <td>...</td>\n",
       "      <td>...</td>\n",
       "      <td>...</td>\n",
       "    </tr>\n",
       "    <tr>\n",
       "      <th>179</th>\n",
       "      <td>index_sdg3</td>\n",
       "      <td>0.130245</td>\n",
       "      <td>-5.211146</td>\n",
       "    </tr>\n",
       "    <tr>\n",
       "      <th>180</th>\n",
       "      <td>index_sdg4</td>\n",
       "      <td>0.007928</td>\n",
       "      <td>-8.173326</td>\n",
       "    </tr>\n",
       "    <tr>\n",
       "      <th>181</th>\n",
       "      <td>index_sdg5</td>\n",
       "      <td>0.000796</td>\n",
       "      <td>-6.405013</td>\n",
       "    </tr>\n",
       "    <tr>\n",
       "      <th>182</th>\n",
       "      <td>index_sdg6</td>\n",
       "      <td>0.120793</td>\n",
       "      <td>-10.587203</td>\n",
       "    </tr>\n",
       "    <tr>\n",
       "      <th>183</th>\n",
       "      <td>index_sdg7</td>\n",
       "      <td>0.465445</td>\n",
       "      <td>-8.051217</td>\n",
       "    </tr>\n",
       "  </tbody>\n",
       "</table>\n",
       "<p>135 rows × 3 columns</p>\n",
       "</div>"
      ],
      "text/plain": [
       "        Feature        r2        MAE\n",
       "0          imds  0.291257  -3.878303\n",
       "1     rank_imds  0.312747 -63.045837\n",
       "2    sdg1_1_ubn  0.198765 -10.922066\n",
       "3    sdg1_2_mpi  0.390562  -0.055705\n",
       "4    sdg1_4_abs  0.101311 -14.463981\n",
       "..          ...       ...        ...\n",
       "179  index_sdg3  0.130245  -5.211146\n",
       "180  index_sdg4  0.007928  -8.173326\n",
       "181  index_sdg5  0.000796  -6.405013\n",
       "182  index_sdg6  0.120793 -10.587203\n",
       "183  index_sdg7  0.465445  -8.051217\n",
       "\n",
       "[135 rows x 3 columns]"
      ]
     },
     "execution_count": 58,
     "metadata": {},
     "output_type": "execute_result"
    }
   ],
   "source": [
    "ridge_results[(ridge_results[\"r2\"]<0.6)& (ridge_results[\"r2\"]>0)]"
   ]
  },
  {
   "cell_type": "code",
   "execution_count": 55,
   "id": "0374f477-5db1-473b-b12f-a8a35391a61c",
   "metadata": {},
   "outputs": [
    {
     "data": {
      "text/html": [
       "<div>\n",
       "<style scoped>\n",
       "    .dataframe tbody tr th:only-of-type {\n",
       "        vertical-align: middle;\n",
       "    }\n",
       "\n",
       "    .dataframe tbody tr th {\n",
       "        vertical-align: top;\n",
       "    }\n",
       "\n",
       "    .dataframe thead th {\n",
       "        text-align: right;\n",
       "    }\n",
       "</style>\n",
       "<table border=\"1\" class=\"dataframe\">\n",
       "  <thead>\n",
       "    <tr style=\"text-align: right;\">\n",
       "      <th></th>\n",
       "      <th>Feature</th>\n",
       "      <th>r2</th>\n",
       "      <th>MAE</th>\n",
       "    </tr>\n",
       "  </thead>\n",
       "  <tbody>\n",
       "    <tr>\n",
       "      <th>7</th>\n",
       "      <td>sdg2_4_pual</td>\n",
       "      <td>-11.236117</td>\n",
       "      <td>-1.033719e+02</td>\n",
       "    </tr>\n",
       "    <tr>\n",
       "      <th>8</th>\n",
       "      <td>sdg2_4_td</td>\n",
       "      <td>-1.296031</td>\n",
       "      <td>-7.116293e+01</td>\n",
       "    </tr>\n",
       "    <tr>\n",
       "      <th>12</th>\n",
       "      <td>sdg3_3_cdir</td>\n",
       "      <td>-0.195868</td>\n",
       "      <td>-1.869195e+00</td>\n",
       "    </tr>\n",
       "    <tr>\n",
       "      <th>13</th>\n",
       "      <td>sdg3_3_di</td>\n",
       "      <td>-33.739092</td>\n",
       "      <td>-2.342546e+00</td>\n",
       "    </tr>\n",
       "    <tr>\n",
       "      <th>14</th>\n",
       "      <td>sdg3_3_imr</td>\n",
       "      <td>-11.998357</td>\n",
       "      <td>-8.363244e-01</td>\n",
       "    </tr>\n",
       "    <tr>\n",
       "      <th>16</th>\n",
       "      <td>sdg3_3_hivi</td>\n",
       "      <td>-0.020782</td>\n",
       "      <td>-5.177401e+01</td>\n",
       "    </tr>\n",
       "    <tr>\n",
       "      <th>22</th>\n",
       "      <td>sdg4_c_qti</td>\n",
       "      <td>-0.018079</td>\n",
       "      <td>-2.574941e+01</td>\n",
       "    </tr>\n",
       "    <tr>\n",
       "      <th>23</th>\n",
       "      <td>sdg4_c_qts</td>\n",
       "      <td>-0.313970</td>\n",
       "      <td>-1.228447e+01</td>\n",
       "    </tr>\n",
       "    <tr>\n",
       "      <th>24</th>\n",
       "      <td>sdg5_1_gpsd</td>\n",
       "      <td>-0.040125</td>\n",
       "      <td>-5.614587e-01</td>\n",
       "    </tr>\n",
       "    <tr>\n",
       "      <th>34</th>\n",
       "      <td>sdg7_3_co2epc</td>\n",
       "      <td>-0.050719</td>\n",
       "      <td>-5.438686e-01</td>\n",
       "    </tr>\n",
       "    <tr>\n",
       "      <th>36</th>\n",
       "      <td>sdg8_5_oprm</td>\n",
       "      <td>-0.016211</td>\n",
       "      <td>-3.848134e+00</td>\n",
       "    </tr>\n",
       "    <tr>\n",
       "      <th>43</th>\n",
       "      <td>sdg9_5_cd</td>\n",
       "      <td>-0.937897</td>\n",
       "      <td>-2.994441e+00</td>\n",
       "    </tr>\n",
       "    <tr>\n",
       "      <th>54</th>\n",
       "      <td>sdg13_2_tco2e</td>\n",
       "      <td>-0.695394</td>\n",
       "      <td>-2.227015e+01</td>\n",
       "    </tr>\n",
       "    <tr>\n",
       "      <th>55</th>\n",
       "      <td>sdg13_2_dra</td>\n",
       "      <td>-4.072255</td>\n",
       "      <td>-9.124754e-01</td>\n",
       "    </tr>\n",
       "    <tr>\n",
       "      <th>56</th>\n",
       "      <td>sdg15_1_pa</td>\n",
       "      <td>-0.021195</td>\n",
       "      <td>-1.652621e+01</td>\n",
       "    </tr>\n",
       "    <tr>\n",
       "      <th>57</th>\n",
       "      <td>sdg15_5_blr</td>\n",
       "      <td>-0.014412</td>\n",
       "      <td>-1.906346e-01</td>\n",
       "    </tr>\n",
       "    <tr>\n",
       "      <th>58</th>\n",
       "      <td>sdg16_1_rhr</td>\n",
       "      <td>-0.010443</td>\n",
       "      <td>-1.269143e+00</td>\n",
       "    </tr>\n",
       "    <tr>\n",
       "      <th>62</th>\n",
       "      <td>sdg17_5_pipc</td>\n",
       "      <td>-0.000170</td>\n",
       "      <td>-3.266571e+02</td>\n",
       "    </tr>\n",
       "    <tr>\n",
       "      <th>69</th>\n",
       "      <td>sdg2_4_apu_abs</td>\n",
       "      <td>-4.779680</td>\n",
       "      <td>-1.209420e+05</td>\n",
       "    </tr>\n",
       "    <tr>\n",
       "      <th>70</th>\n",
       "      <td>sdg2_4_tm_abs</td>\n",
       "      <td>-1.734927</td>\n",
       "      <td>-1.923096e+02</td>\n",
       "    </tr>\n",
       "    <tr>\n",
       "      <th>74</th>\n",
       "      <td>sdg3_3_cd_abs</td>\n",
       "      <td>-1.866775</td>\n",
       "      <td>-1.728649e+02</td>\n",
       "    </tr>\n",
       "    <tr>\n",
       "      <th>75</th>\n",
       "      <td>sdg3_3_pd_abs</td>\n",
       "      <td>-144.803379</td>\n",
       "      <td>-1.361503e+01</td>\n",
       "    </tr>\n",
       "    <tr>\n",
       "      <th>76</th>\n",
       "      <td>sdg3_3_mc_abs</td>\n",
       "      <td>-143.471922</td>\n",
       "      <td>-2.018491e+02</td>\n",
       "    </tr>\n",
       "    <tr>\n",
       "      <th>78</th>\n",
       "      <td>sdg3_3_vih_abs</td>\n",
       "      <td>-0.534072</td>\n",
       "      <td>-8.664531e+00</td>\n",
       "    </tr>\n",
       "    <tr>\n",
       "      <th>82</th>\n",
       "      <td>sdg4_4_heu_abs</td>\n",
       "      <td>-0.421635</td>\n",
       "      <td>-1.412535e+03</td>\n",
       "    </tr>\n",
       "    <tr>\n",
       "      <th>84</th>\n",
       "      <td>sdg4_c_uti_abs</td>\n",
       "      <td>-0.582935</td>\n",
       "      <td>-6.636555e+00</td>\n",
       "    </tr>\n",
       "    <tr>\n",
       "      <th>89</th>\n",
       "      <td>sdg7_1_rec_abs</td>\n",
       "      <td>-0.261508</td>\n",
       "      <td>-3.458844e+06</td>\n",
       "    </tr>\n",
       "    <tr>\n",
       "      <th>91</th>\n",
       "      <td>sdg7_3_tee_abs</td>\n",
       "      <td>-0.303709</td>\n",
       "      <td>-2.642516e+04</td>\n",
       "    </tr>\n",
       "    <tr>\n",
       "      <th>99</th>\n",
       "      <td>sdg9_5_kcd_abs</td>\n",
       "      <td>-2.629658</td>\n",
       "      <td>-4.899772e+02</td>\n",
       "    </tr>\n",
       "    <tr>\n",
       "      <th>102</th>\n",
       "      <td>sdg9_c_tr_abs</td>\n",
       "      <td>-0.226450</td>\n",
       "      <td>-6.626970e+01</td>\n",
       "    </tr>\n",
       "    <tr>\n",
       "      <th>106</th>\n",
       "      <td>sdg11_2_mtv_abs</td>\n",
       "      <td>-1.779764</td>\n",
       "      <td>-4.021470e+03</td>\n",
       "    </tr>\n",
       "    <tr>\n",
       "      <th>107</th>\n",
       "      <td>sdg13_2_tco2_abs</td>\n",
       "      <td>-1.287946</td>\n",
       "      <td>-5.349929e+05</td>\n",
       "    </tr>\n",
       "    <tr>\n",
       "      <th>108</th>\n",
       "      <td>sdg13_2_ad_abs</td>\n",
       "      <td>-3.071302</td>\n",
       "      <td>-2.006976e+03</td>\n",
       "    </tr>\n",
       "    <tr>\n",
       "      <th>109</th>\n",
       "      <td>sdg15_1_pa_abs</td>\n",
       "      <td>-0.338268</td>\n",
       "      <td>-1.748837e+03</td>\n",
       "    </tr>\n",
       "    <tr>\n",
       "      <th>110</th>\n",
       "      <td>sdg15_5_rl_abs</td>\n",
       "      <td>-0.610156</td>\n",
       "      <td>-6.256505e-01</td>\n",
       "    </tr>\n",
       "    <tr>\n",
       "      <th>111</th>\n",
       "      <td>sdg16_1_rh_abs</td>\n",
       "      <td>-0.079999</td>\n",
       "      <td>-1.604421e+00</td>\n",
       "    </tr>\n",
       "    <tr>\n",
       "      <th>114</th>\n",
       "      <td>sdg17_5_tpi_abs</td>\n",
       "      <td>-0.060607</td>\n",
       "      <td>-1.149567e+07</td>\n",
       "    </tr>\n",
       "    <tr>\n",
       "      <th>122</th>\n",
       "      <td>sdg2_4_td_norm</td>\n",
       "      <td>-1.243511</td>\n",
       "      <td>-1.041451e+01</td>\n",
       "    </tr>\n",
       "    <tr>\n",
       "      <th>126</th>\n",
       "      <td>sdg3_3_cdir_norm</td>\n",
       "      <td>-0.171749</td>\n",
       "      <td>-1.373488e+01</td>\n",
       "    </tr>\n",
       "    <tr>\n",
       "      <th>127</th>\n",
       "      <td>sdg3_3_di_norm</td>\n",
       "      <td>-0.935053</td>\n",
       "      <td>-9.527256e+00</td>\n",
       "    </tr>\n",
       "    <tr>\n",
       "      <th>128</th>\n",
       "      <td>sdg3_3_imr_norm</td>\n",
       "      <td>-8.929278</td>\n",
       "      <td>-2.735336e+00</td>\n",
       "    </tr>\n",
       "    <tr>\n",
       "      <th>130</th>\n",
       "      <td>sdg3_3_hivi_norm</td>\n",
       "      <td>-0.005200</td>\n",
       "      <td>-1.160440e+01</td>\n",
       "    </tr>\n",
       "    <tr>\n",
       "      <th>136</th>\n",
       "      <td>sdg4_c_qti_norm</td>\n",
       "      <td>-0.018070</td>\n",
       "      <td>-2.574576e+01</td>\n",
       "    </tr>\n",
       "    <tr>\n",
       "      <th>137</th>\n",
       "      <td>sdg4_c_qts_norm</td>\n",
       "      <td>-0.314036</td>\n",
       "      <td>-1.228451e+01</td>\n",
       "    </tr>\n",
       "    <tr>\n",
       "      <th>138</th>\n",
       "      <td>sdg5_1_gpsd_norm</td>\n",
       "      <td>-0.825857</td>\n",
       "      <td>-8.120106e+00</td>\n",
       "    </tr>\n",
       "    <tr>\n",
       "      <th>150</th>\n",
       "      <td>sdg8_5_oprm_norm</td>\n",
       "      <td>-0.013826</td>\n",
       "      <td>-1.741480e+01</td>\n",
       "    </tr>\n",
       "    <tr>\n",
       "      <th>169</th>\n",
       "      <td>sdg13_2_dra_norm</td>\n",
       "      <td>-2.436546</td>\n",
       "      <td>-1.305729e+01</td>\n",
       "    </tr>\n",
       "    <tr>\n",
       "      <th>176</th>\n",
       "      <td>sdg17_5_pipc_norm</td>\n",
       "      <td>-0.000090</td>\n",
       "      <td>-9.529323e+00</td>\n",
       "    </tr>\n",
       "  </tbody>\n",
       "</table>\n",
       "</div>"
      ],
      "text/plain": [
       "               Feature          r2           MAE\n",
       "7          sdg2_4_pual  -11.236117 -1.033719e+02\n",
       "8            sdg2_4_td   -1.296031 -7.116293e+01\n",
       "12         sdg3_3_cdir   -0.195868 -1.869195e+00\n",
       "13           sdg3_3_di  -33.739092 -2.342546e+00\n",
       "14          sdg3_3_imr  -11.998357 -8.363244e-01\n",
       "16         sdg3_3_hivi   -0.020782 -5.177401e+01\n",
       "22          sdg4_c_qti   -0.018079 -2.574941e+01\n",
       "23          sdg4_c_qts   -0.313970 -1.228447e+01\n",
       "24         sdg5_1_gpsd   -0.040125 -5.614587e-01\n",
       "34       sdg7_3_co2epc   -0.050719 -5.438686e-01\n",
       "36         sdg8_5_oprm   -0.016211 -3.848134e+00\n",
       "43           sdg9_5_cd   -0.937897 -2.994441e+00\n",
       "54       sdg13_2_tco2e   -0.695394 -2.227015e+01\n",
       "55         sdg13_2_dra   -4.072255 -9.124754e-01\n",
       "56          sdg15_1_pa   -0.021195 -1.652621e+01\n",
       "57         sdg15_5_blr   -0.014412 -1.906346e-01\n",
       "58         sdg16_1_rhr   -0.010443 -1.269143e+00\n",
       "62        sdg17_5_pipc   -0.000170 -3.266571e+02\n",
       "69      sdg2_4_apu_abs   -4.779680 -1.209420e+05\n",
       "70       sdg2_4_tm_abs   -1.734927 -1.923096e+02\n",
       "74       sdg3_3_cd_abs   -1.866775 -1.728649e+02\n",
       "75       sdg3_3_pd_abs -144.803379 -1.361503e+01\n",
       "76       sdg3_3_mc_abs -143.471922 -2.018491e+02\n",
       "78      sdg3_3_vih_abs   -0.534072 -8.664531e+00\n",
       "82      sdg4_4_heu_abs   -0.421635 -1.412535e+03\n",
       "84      sdg4_c_uti_abs   -0.582935 -6.636555e+00\n",
       "89      sdg7_1_rec_abs   -0.261508 -3.458844e+06\n",
       "91      sdg7_3_tee_abs   -0.303709 -2.642516e+04\n",
       "99      sdg9_5_kcd_abs   -2.629658 -4.899772e+02\n",
       "102      sdg9_c_tr_abs   -0.226450 -6.626970e+01\n",
       "106    sdg11_2_mtv_abs   -1.779764 -4.021470e+03\n",
       "107   sdg13_2_tco2_abs   -1.287946 -5.349929e+05\n",
       "108     sdg13_2_ad_abs   -3.071302 -2.006976e+03\n",
       "109     sdg15_1_pa_abs   -0.338268 -1.748837e+03\n",
       "110     sdg15_5_rl_abs   -0.610156 -6.256505e-01\n",
       "111     sdg16_1_rh_abs   -0.079999 -1.604421e+00\n",
       "114    sdg17_5_tpi_abs   -0.060607 -1.149567e+07\n",
       "122     sdg2_4_td_norm   -1.243511 -1.041451e+01\n",
       "126   sdg3_3_cdir_norm   -0.171749 -1.373488e+01\n",
       "127     sdg3_3_di_norm   -0.935053 -9.527256e+00\n",
       "128    sdg3_3_imr_norm   -8.929278 -2.735336e+00\n",
       "130   sdg3_3_hivi_norm   -0.005200 -1.160440e+01\n",
       "136    sdg4_c_qti_norm   -0.018070 -2.574576e+01\n",
       "137    sdg4_c_qts_norm   -0.314036 -1.228451e+01\n",
       "138   sdg5_1_gpsd_norm   -0.825857 -8.120106e+00\n",
       "150   sdg8_5_oprm_norm   -0.013826 -1.741480e+01\n",
       "169   sdg13_2_dra_norm   -2.436546 -1.305729e+01\n",
       "176  sdg17_5_pipc_norm   -0.000090 -9.529323e+00"
      ]
     },
     "execution_count": 55,
     "metadata": {},
     "output_type": "execute_result"
    }
   ],
   "source": [
    "ridge_results[ridge_results[\"r2\"]<0]"
   ]
  },
  {
   "cell_type": "markdown",
   "id": "4e59f207-499f-4325-a50a-8ee432170d78",
   "metadata": {},
   "source": [
    "# Adjust Hyperparameters"
   ]
  },
  {
   "cell_type": "code",
   "execution_count": 60,
   "id": "131b7693-219b-4abc-bb4c-ddc73b289904",
   "metadata": {},
   "outputs": [
    {
     "data": {
      "text/plain": [
       "{'alpha': 1.0,\n",
       " 'copy_X': True,\n",
       " 'fit_intercept': True,\n",
       " 'max_iter': None,\n",
       " 'positive': False,\n",
       " 'random_state': None,\n",
       " 'solver': 'auto',\n",
       " 'tol': 0.0001}"
      ]
     },
     "execution_count": 60,
     "metadata": {},
     "output_type": "execute_result"
    }
   ],
   "source": [
    "ridge_model.get_params()"
   ]
  },
  {
   "cell_type": "code",
   "execution_count": 74,
   "id": "a0fab34d-60f8-4b33-b684-59fc92426ab8",
   "metadata": {},
   "outputs": [],
   "source": [
    "def evaluate_preds(model, y_true, y_preds):\n",
    "    \"\"\"\n",
    "    Performs evaluation comparison on y_true labels vs. y_pred labels\n",
    "    on a classification.\n",
    "    \"\"\"\n",
    "    r2 = np.mean(cross_val_score(model, x, y, scoring=\"r2\"))\n",
    "    mae = np.mean(cross_val_score(model, x, y, scoring=\"neg_mean_absolute_error\"))\n",
    "    metric_dict = {\"R2\": round(r2, 2),\n",
    "                   \"MAE\": round(mae, 2)}\n",
    "    print(f\"R2: {r2 * 100:.2f}%\")\n",
    "    print(f\"MAE: {mae:.2f}\")\n",
    "    \n",
    "    return metric_dict"
   ]
  },
  {
   "cell_type": "code",
   "execution_count": 101,
   "id": "c0ad8c2b-0ceb-4ed2-b7a9-7649780939fd",
   "metadata": {},
   "outputs": [],
   "source": [
    "alpha= range(35,1000,20)\n",
    "grid = {\"alpha\": alpha,\n",
    "        \"copy_X\": [True, False],\n",
    "        \"max_iter\": [None, 10, 100, 200, 500, 1000, 10000], \n",
    "        \"solver\": [\"auto\", \"svd\", \"cholesky\", \"lsqr\", \"sparse_cg\"]}\n",
    "\n",
    "np.random.seed(42)\n",
    "\n",
    "x = df[[ \"ln_t400NTLpc2012\", \"ln_tr400_pop2012\", 'lnEGDPpc2012', 'ln_perUrb_land',  \"ln_pm25_2012\", \"ln_land_temp2012\"]].fillna(0)\n",
    "y = df['imds']\n",
    "\n",
    "rs_rid_model= RandomizedSearchCV(estimator = rid_model,\n",
    "                       param_distributions=grid,\n",
    "                       n_iter=100,\n",
    "                       cv=5,\n",
    "                       verbose=0)\n",
    "\n",
    "rs_rid_model.fit(x_train, y_train);"
   ]
  },
  {
   "cell_type": "code",
   "execution_count": 102,
   "id": "20a14f8e-d8a9-4c3b-b52d-00ae08326df0",
   "metadata": {},
   "outputs": [
    {
     "data": {
      "text/plain": [
       "{'solver': 'cholesky', 'max_iter': 200, 'copy_X': False, 'alpha': 75}"
      ]
     },
     "execution_count": 102,
     "metadata": {},
     "output_type": "execute_result"
    }
   ],
   "source": [
    "rs_rid_model.best_params_"
   ]
  },
  {
   "cell_type": "code",
   "execution_count": 103,
   "id": "5bf6d612-1dbc-4d3a-bc9d-6293355948b2",
   "metadata": {},
   "outputs": [
    {
     "name": "stdout",
     "output_type": "stream",
     "text": [
      "R2: 31.88%\n",
      "MAE: -4.31\n"
     ]
    }
   ],
   "source": [
    "# Uses the best model for the prediction\n",
    "rs_y_preds = rs_rid_model.predict(x_test)\n",
    "\n",
    "rs_metrics = evaluate_preds(rs_rid_model, x, y)"
   ]
  },
  {
   "cell_type": "code",
   "execution_count": null,
   "id": "b4209ace-b704-4c75-9055-53987e9c680c",
   "metadata": {},
   "outputs": [],
   "source": []
  },
  {
   "cell_type": "code",
   "execution_count": null,
   "id": "a3e45025-dd8b-4e6b-8139-9819d24ba4e3",
   "metadata": {},
   "outputs": [],
   "source": []
  }
 ],
 "metadata": {
  "kernelspec": {
   "display_name": "Python 3 (ipykernel)",
   "language": "python",
   "name": "python3"
  },
  "language_info": {
   "codemirror_mode": {
    "name": "ipython",
    "version": 3
   },
   "file_extension": ".py",
   "mimetype": "text/x-python",
   "name": "python",
   "nbconvert_exporter": "python",
   "pygments_lexer": "ipython3",
   "version": "3.12.0"
  }
 },
 "nbformat": 4,
 "nbformat_minor": 5
}
