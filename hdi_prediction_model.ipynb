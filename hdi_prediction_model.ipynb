{
 "cells": [
  {
   "cell_type": "code",
   "execution_count": 2,
   "id": "6082aa4f-d18f-42f3-bfb1-92b8c01fce18",
   "metadata": {},
   "outputs": [],
   "source": [
    "import pandas as pd\n",
    "import sklearn as ktl"
   ]
  },
  {
   "cell_type": "code",
   "execution_count": 13,
   "id": "70cae1f1-dd27-4fa5-8fbd-3457c078f5ed",
   "metadata": {},
   "outputs": [],
   "source": [
    "bol = pd.read_csv(\"/Users/hendrixperalta/Desktop/bolivia/data/GeoDS4Bolivia.csv\")\n",
    "#list(bol.columns)\n",
    "\n",
    "#'imds'\n",
    "#\"ln_NTLpc2012\"\n"
   ]
  },
  {
   "cell_type": "code",
   "execution_count": 14,
   "id": "1745afe3-69ff-4d8f-881a-cd4d53b7b517",
   "metadata": {},
   "outputs": [],
   "source": [
    "x = bol[[\"ln_NTLpc2012\", 'pop2012', \"sdg8_5_oprm\", \"sdg8_5_ofrm\", \"sdg1_1_ubn\", \"sdg3_7_afr\"]]\n",
    "y = bol['imds']"
   ]
  },
  {
   "cell_type": "code",
   "execution_count": null,
   "id": "c4be176a-a567-4074-b2e9-155e76342b8b",
   "metadata": {},
   "outputs": [],
   "source": []
  }
 ],
 "metadata": {
  "kernelspec": {
   "display_name": "Python 3 (ipykernel)",
   "language": "python",
   "name": "python3"
  },
  "language_info": {
   "codemirror_mode": {
    "name": "ipython",
    "version": 3
   },
   "file_extension": ".py",
   "mimetype": "text/x-python",
   "name": "python",
   "nbconvert_exporter": "python",
   "pygments_lexer": "ipython3",
   "version": "3.12.0"
  }
 },
 "nbformat": 4,
 "nbformat_minor": 5
}
