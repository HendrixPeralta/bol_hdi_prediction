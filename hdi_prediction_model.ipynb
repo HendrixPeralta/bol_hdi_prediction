{
 "cells": [
  {
   "cell_type": "code",
   "execution_count": 1,
   "id": "6082aa4f-d18f-42f3-bfb1-92b8c01fce18",
   "metadata": {},
   "outputs": [],
   "source": [
    "import numpy as np\n",
    "import pandas as pd\n",
    "import sklearn as ktl\n",
    "import pickle\n",
    "import matplotlib.pylab as plt\n",
    "import seaborn\n",
    "\n",
    "from sklearn.model_selection import train_test_split\n",
    "from sklearn.metrics import mean_squared_error, r2_score\n",
    "from sklearn.metrics import classification_report, confusion_matrix, accuracy_score\n",
    "\n",
    "from sklearn.linear_model import LinearRegression\n",
    "from sklearn import linear_model\n",
    "from sklearn.ensemble import RandomForestRegressor\n",
    "\n",
    "from sklearn.ensemble import RandomForestClassifier\n",
    "from sklearn import svm\n",
    "from sklearn.naive_bayes import GaussianNB"
   ]
  },
  {
   "cell_type": "code",
   "execution_count": 2,
   "id": "70cae1f1-dd27-4fa5-8fbd-3457c078f5ed",
   "metadata": {},
   "outputs": [],
   "source": [
    "bol = pd.read_csv(\"/Users/hendrixperalta/Desktop/bolivia/data/GeoDS4Bolivia.csv\")\n",
    "bol = bol.rename(columns={\"asdf_id\":\"id\"})\n",
    "\n",
    "#list(bol.columns)\n",
    "offset = 1000000  \n",
    "sat = pd.read_csv(\"data/egdp/satelite_data.csv\")\n",
    "sat[\"lnEGDPpc2012\"] = np.log((sat[\"egdp2012\"]/ bol[\"pop2012\"])+offset)\n",
    "\n",
    "\n",
    "df = pd.merge(bol, sat, on=\"id\", how=\"outer\")\n",
    "\n",
    "df[\"total_land2012\"] = df[\"agr_land2012\"] + df[\"urb_land2012\"]\n",
    "df[\"perUrb_land\"] = df[\"urb_land2012\"] / df[\"total_land2012\"]"
   ]
  },
  {
   "cell_type": "markdown",
   "id": "fcc12955-1001-41b3-ab95-72cbe46cc29b",
   "metadata": {},
   "source": [
    "# **Data exploration**"
   ]
  },
  {
   "cell_type": "code",
   "execution_count": 3,
   "id": "e4ff3899-83ca-4392-b382-372b5d3a013e",
   "metadata": {},
   "outputs": [
    {
     "data": {
      "text/plain": [
       "imds                 0\n",
       "ln_t400NTLpc2012     0\n",
       "tr400_pop2012        0\n",
       "lnEGDPpc2012         0\n",
       "perUrb_land         98\n",
       "pm25_2012            0\n",
       "land_temp2012        0\n",
       "urb_land2012         0\n",
       "agr_land2012         0\n",
       "dtype: int64"
      ]
     },
     "execution_count": 3,
     "metadata": {},
     "output_type": "execute_result"
    }
   ],
   "source": [
    "short_df = df[[\"imds\",\"ln_t400NTLpc2012\", \"tr400_pop2012\", 'lnEGDPpc2012', 'perUrb_land', 'pm25_2012', 'land_temp2012', \"urb_land2012\",\"agr_land2012\"]]\n",
    "short_df.isna().sum()"
   ]
  },
  {
   "cell_type": "code",
   "execution_count": 4,
   "id": "3ec78aaa-34b0-4129-a969-a00759606fbe",
   "metadata": {},
   "outputs": [
    {
     "name": "stdout",
     "output_type": "stream",
     "text": [
      "     agr_land2012  urb_land2012\n",
      "0        0.000000      0.000000\n",
      "1        0.000000      0.000000\n",
      "2        0.000000      0.000000\n",
      "3       50.276154    195.118281\n",
      "4        0.000000      0.000000\n",
      "..            ...           ...\n",
      "334      0.000000      1.254882\n",
      "335      8.085184      0.000000\n",
      "336     29.080455      0.000000\n",
      "337      0.000000    320.778602\n",
      "338     47.023029     16.002446\n",
      "\n",
      "[339 rows x 2 columns]\n"
     ]
    }
   ],
   "source": [
    "print(df[[\"agr_land2012\", \"urb_land2012\"]])"
   ]
  },
  {
   "cell_type": "code",
   "execution_count": 5,
   "id": "7e5c96eb-3eb4-4226-a639-df0475f309e0",
   "metadata": {},
   "outputs": [
    {
     "name": "stdout",
     "output_type": "stream",
     "text": [
      "<class 'pandas.core.frame.DataFrame'>\n",
      "RangeIndex: 339 entries, 0 to 338\n",
      "Data columns (total 9 columns):\n",
      " #   Column            Non-Null Count  Dtype  \n",
      "---  ------            --------------  -----  \n",
      " 0   imds              339 non-null    float64\n",
      " 1   ln_t400NTLpc2012  339 non-null    float64\n",
      " 2   tr400_pop2012     339 non-null    float64\n",
      " 3   lnEGDPpc2012      339 non-null    float64\n",
      " 4   perUrb_land       241 non-null    float64\n",
      " 5   pm25_2012         339 non-null    float64\n",
      " 6   land_temp2012     339 non-null    float64\n",
      " 7   urb_land2012      339 non-null    float64\n",
      " 8   agr_land2012      339 non-null    float64\n",
      "dtypes: float64(9)\n",
      "memory usage: 24.0 KB\n"
     ]
    }
   ],
   "source": [
    "short_df.info()"
   ]
  },
  {
   "cell_type": "code",
   "execution_count": 6,
   "id": "7ce64087-6126-4d5a-aa1e-fd5cda05150b",
   "metadata": {},
   "outputs": [
    {
     "data": {
      "text/html": [
       "<div>\n",
       "<style scoped>\n",
       "    .dataframe tbody tr th:only-of-type {\n",
       "        vertical-align: middle;\n",
       "    }\n",
       "\n",
       "    .dataframe tbody tr th {\n",
       "        vertical-align: top;\n",
       "    }\n",
       "\n",
       "    .dataframe thead th {\n",
       "        text-align: right;\n",
       "    }\n",
       "</style>\n",
       "<table border=\"1\" class=\"dataframe\">\n",
       "  <thead>\n",
       "    <tr style=\"text-align: right;\">\n",
       "      <th></th>\n",
       "      <th>imds</th>\n",
       "      <th>ln_t400NTLpc2012</th>\n",
       "      <th>tr400_pop2012</th>\n",
       "      <th>lnEGDPpc2012</th>\n",
       "      <th>perUrb_land</th>\n",
       "      <th>pm25_2012</th>\n",
       "      <th>land_temp2012</th>\n",
       "      <th>urb_land2012</th>\n",
       "      <th>agr_land2012</th>\n",
       "    </tr>\n",
       "  </thead>\n",
       "  <tbody>\n",
       "    <tr>\n",
       "      <th>count</th>\n",
       "      <td>339.000000</td>\n",
       "      <td>339.000000</td>\n",
       "      <td>3.390000e+02</td>\n",
       "      <td>3.390000e+02</td>\n",
       "      <td>241.000000</td>\n",
       "      <td>339.000000</td>\n",
       "      <td>339.000000</td>\n",
       "      <td>339.000000</td>\n",
       "      <td>339.000000</td>\n",
       "    </tr>\n",
       "    <tr>\n",
       "      <th>mean</th>\n",
       "      <td>51.050442</td>\n",
       "      <td>13.033028</td>\n",
       "      <td>2.972431e+04</td>\n",
       "      <td>1.381551e+01</td>\n",
       "      <td>0.370578</td>\n",
       "      <td>23.561684</td>\n",
       "      <td>297.836346</td>\n",
       "      <td>358.185120</td>\n",
       "      <td>85.317092</td>\n",
       "    </tr>\n",
       "    <tr>\n",
       "      <th>std</th>\n",
       "      <td>6.771824</td>\n",
       "      <td>1.671621</td>\n",
       "      <td>1.065526e+05</td>\n",
       "      <td>1.812101e-08</td>\n",
       "      <td>0.358636</td>\n",
       "      <td>6.765622</td>\n",
       "      <td>3.453744</td>\n",
       "      <td>2435.344248</td>\n",
       "      <td>334.547755</td>\n",
       "    </tr>\n",
       "    <tr>\n",
       "      <th>min</th>\n",
       "      <td>35.700001</td>\n",
       "      <td>0.856095</td>\n",
       "      <td>5.186144e+02</td>\n",
       "      <td>1.381551e+01</td>\n",
       "      <td>0.000000</td>\n",
       "      <td>8.257901</td>\n",
       "      <td>287.125211</td>\n",
       "      <td>0.000000</td>\n",
       "      <td>0.000000</td>\n",
       "    </tr>\n",
       "    <tr>\n",
       "      <th>25%</th>\n",
       "      <td>47.000000</td>\n",
       "      <td>12.050438</td>\n",
       "      <td>5.923900e+03</td>\n",
       "      <td>1.381551e+01</td>\n",
       "      <td>0.000000</td>\n",
       "      <td>18.052961</td>\n",
       "      <td>295.856684</td>\n",
       "      <td>0.000000</td>\n",
       "      <td>0.000000</td>\n",
       "    </tr>\n",
       "    <tr>\n",
       "      <th>50%</th>\n",
       "      <td>50.500000</td>\n",
       "      <td>13.118243</td>\n",
       "      <td>1.087926e+04</td>\n",
       "      <td>1.381551e+01</td>\n",
       "      <td>0.292286</td>\n",
       "      <td>21.915591</td>\n",
       "      <td>298.305783</td>\n",
       "      <td>0.000000</td>\n",
       "      <td>5.356337</td>\n",
       "    </tr>\n",
       "    <tr>\n",
       "      <th>75%</th>\n",
       "      <td>54.850001</td>\n",
       "      <td>14.268402</td>\n",
       "      <td>2.000315e+04</td>\n",
       "      <td>1.381551e+01</td>\n",
       "      <td>0.729234</td>\n",
       "      <td>28.731712</td>\n",
       "      <td>300.579665</td>\n",
       "      <td>21.065371</td>\n",
       "      <td>27.980859</td>\n",
       "    </tr>\n",
       "    <tr>\n",
       "      <th>max</th>\n",
       "      <td>80.199997</td>\n",
       "      <td>17.071051</td>\n",
       "      <td>1.428180e+06</td>\n",
       "      <td>1.381551e+01</td>\n",
       "      <td>1.000000</td>\n",
       "      <td>38.466365</td>\n",
       "      <td>305.141851</td>\n",
       "      <td>27738.443240</td>\n",
       "      <td>3334.302280</td>\n",
       "    </tr>\n",
       "  </tbody>\n",
       "</table>\n",
       "</div>"
      ],
      "text/plain": [
       "             imds  ln_t400NTLpc2012  tr400_pop2012  lnEGDPpc2012  perUrb_land  \\\n",
       "count  339.000000        339.000000   3.390000e+02  3.390000e+02   241.000000   \n",
       "mean    51.050442         13.033028   2.972431e+04  1.381551e+01     0.370578   \n",
       "std      6.771824          1.671621   1.065526e+05  1.812101e-08     0.358636   \n",
       "min     35.700001          0.856095   5.186144e+02  1.381551e+01     0.000000   \n",
       "25%     47.000000         12.050438   5.923900e+03  1.381551e+01     0.000000   \n",
       "50%     50.500000         13.118243   1.087926e+04  1.381551e+01     0.292286   \n",
       "75%     54.850001         14.268402   2.000315e+04  1.381551e+01     0.729234   \n",
       "max     80.199997         17.071051   1.428180e+06  1.381551e+01     1.000000   \n",
       "\n",
       "        pm25_2012  land_temp2012  urb_land2012  agr_land2012  \n",
       "count  339.000000     339.000000    339.000000    339.000000  \n",
       "mean    23.561684     297.836346    358.185120     85.317092  \n",
       "std      6.765622       3.453744   2435.344248    334.547755  \n",
       "min      8.257901     287.125211      0.000000      0.000000  \n",
       "25%     18.052961     295.856684      0.000000      0.000000  \n",
       "50%     21.915591     298.305783      0.000000      5.356337  \n",
       "75%     28.731712     300.579665     21.065371     27.980859  \n",
       "max     38.466365     305.141851  27738.443240   3334.302280  "
      ]
     },
     "execution_count": 6,
     "metadata": {},
     "output_type": "execute_result"
    }
   ],
   "source": [
    "short_df.describe()"
   ]
  },
  {
   "cell_type": "code",
   "execution_count": 39,
   "id": "01b4bb9e-3bc3-496b-95cc-33e12c59d123",
   "metadata": {},
   "outputs": [
    {
     "data": {
      "text/plain": [
       "Index(['sdg1_1_eepr', 'sdg2_4_pual', 'sdg2_4_td', 'sdg5_5_gpop', 'sdg8_4_rem',\n",
       "       'sdg9_5_eutf', 'sdg10_2_iec', 'sdg1_1_dtl_abs', 'sdg2_4_apu_abs',\n",
       "       'sdg2_4_tm_abs', 'sdg3_1_udhf_ab', 'sdg8_4_rem_abs', 'sdg9_5_eutf_abs',\n",
       "       'ln_NTLpc2012', 'ln_NTLpc2013', 'ln_NTLpc2014', 'ln_NTLpc2015',\n",
       "       'ln_NTLpc2016', 'ln_NTLpc2017', 'ln_NTLpc2018', 'ln_NTLpc2019',\n",
       "       'ln_NTLpc2020'],\n",
       "      dtype='object')"
      ]
     },
     "execution_count": 39,
     "metadata": {},
     "output_type": "execute_result"
    }
   ],
   "source": [
    "missing_labels = df.columns[df.isna().any()]\n",
    "missing_labels"
   ]
  },
  {
   "cell_type": "code",
   "execution_count": 8,
   "id": "c8b18222-4afc-4ac4-b10c-a9184b8faac4",
   "metadata": {},
   "outputs": [],
   "source": [
    "#plt.style.available"
   ]
  },
  {
   "cell_type": "code",
   "execution_count": 9,
   "id": "96f7af06-9023-49ec-a31d-48975457411e",
   "metadata": {},
   "outputs": [
    {
     "data": {
      "image/png": "[encoded data removed]",
      "text/plain": [
       "<Figure size 1500x600 with 6 Axes>"
      ]
     },
     "metadata": {},
     "output_type": "display_data"
    }
   ],
   "source": [
    "plt.style.use(\"tableau-colorblind10\")\n",
    "\n",
    "fig, ((ax0, ax1, ax2),(ax3, ax4, ax5)) = plt.subplots(nrows=2,\n",
    "                                                     ncols=3,\n",
    "                                                     figsize=(15,6)\n",
    "                                                     )\n",
    "ax0.hist(df[\"perUrb_land\"])\n",
    "ax0.set(title=\"Percentage of Urban Land\")\n",
    "\n",
    "ax1.hist(df[\"lnEGDPpc2012\"])\n",
    "ax1.set(title=\"ln EGDP\")\n",
    "\n",
    "ax2.hist(df[\"ln_t400NTLpc2012\"])\n",
    "ax2.set(title=\"ln NTL\")\n",
    "\n",
    "ax3.hist(df[\"tr400_pop2012\"])\n",
    "ax3.set(title= \"Population\")\n",
    "\n",
    "ax4.hist(df[\"pm25_2012\"])\n",
    "ax4.set(title= \"PM25\")\n",
    "\n",
    "ax5.hist(df[\"land_temp2012\"])\n",
    "ax5.set(title= \"Land Surface Temperature\");\n"
   ]
  },
  {
   "cell_type": "code",
   "execution_count": null,
   "id": "9e5aa9ec-a7e5-4a63-bbee-15bdba759720",
   "metadata": {},
   "outputs": [],
   "source": []
  },
  {
   "cell_type": "code",
   "execution_count": null,
   "id": "ce2fd351-3de1-41a4-89d2-7f9339b00229",
   "metadata": {},
   "outputs": [],
   "source": []
  },
  {
   "cell_type": "markdown",
   "id": "982bcb43-3b78-4f37-926d-6caa7557e17e",
   "metadata": {},
   "source": [
    "# **Regression models**"
   ]
  },
  {
   "cell_type": "markdown",
   "id": "6ae5d559-bee7-4873-9e94-7ca5c6868e5c",
   "metadata": {},
   "source": [
    "### Linear model"
   ]
  },
  {
   "cell_type": "code",
   "execution_count": 10,
   "id": "68572ced-cd60-46e3-9b44-465206e245be",
   "metadata": {},
   "outputs": [],
   "source": [
    "x = df[[\"ln_t400NTLpc2012\", \"tr400_pop2012\", 'lnEGDPpc2012', 'perUrb_land', 'pm25_2012', 'land_temp2012']].fillna(0)\n",
    "y = df['imds']\n",
    "\n",
    "np.random.seed(42)\n",
    "x_train, x_test, y_train, y_test = train_test_split(x,y, test_size=0.2) \n",
    "\n",
    "model = LinearRegression()\n",
    "model.fit(x_train,y_train)\n",
    "lr = model.score(x_test, y_test)\n",
    "\n",
    "y_pred = model.predict(x_test)\n",
    "mse = mean_squared_error(y_test, y_pred)\n",
    "r2 = r2_score(y_test, y_pred)\n",
    "\n",
    "#print(\"Mean Squared Error:\", mse)\n",
    "#print(\"R^2 Score:\", r2)"
   ]
  },
  {
   "cell_type": "markdown",
   "id": "bf0cc5e4-59e9-49a2-9408-3d70ff9e1b59",
   "metadata": {},
   "source": [
    "### Ridge  model"
   ]
  },
  {
   "cell_type": "code",
   "execution_count": 11,
   "id": "37c2cf36-6db8-4cb1-bdb9-0edc66d94533",
   "metadata": {},
   "outputs": [],
   "source": [
    "x = df[[\"ln_t400NTLpc2012\", \"tr400_pop2012\", 'lnEGDPpc2012', 'perUrb_land', 'pm25_2012', 'land_temp2012']].fillna(0)\n",
    "y = df['imds']\n",
    "\n",
    "np.random.seed(42)\n",
    "x_train, x_test, y_train, y_test = train_test_split(x, y, test_size=0.2)\n",
    "\n",
    "rid_model = linear_model.Ridge()\n",
    "rid_model.fit(x_train, y_train)\n",
    "ri = rid_model.score(x_test, y_test)"
   ]
  },
  {
   "cell_type": "markdown",
   "id": "4ab835e0-d655-41db-af22-8140e3644d2e",
   "metadata": {},
   "source": [
    "### Random Forest Regressor model"
   ]
  },
  {
   "cell_type": "code",
   "execution_count": 12,
   "id": "fd0d271b-d3d2-429e-8495-b6a198486e97",
   "metadata": {},
   "outputs": [],
   "source": [
    "x = df[[\"ln_t400NTLpc2012\", \"tr400_pop2012\", 'lnEGDPpc2012', 'perUrb_land', 'pm25_2012', 'land_temp2012']].fillna(0)\n",
    "y = df['imds']\n",
    "\n",
    "np.random.seed(42)\n",
    "x_train, x_test, y_train, y_test = train_test_split(x, y, test_size=0.2)\n",
    "\n",
    "rf_model = RandomForestRegressor()\n",
    "rf_model.fit(x_train, y_train)\n",
    "rf = rf_model.score(x_test, y_test)"
   ]
  },
  {
   "cell_type": "markdown",
   "id": "1685a355-f2b7-4d83-8bad-d2db5048a70f",
   "metadata": {},
   "source": [
    "### Results "
   ]
  },
  {
   "cell_type": "code",
   "execution_count": 13,
   "id": "3ee1d97d-f659-494b-9dbb-3488c318d84a",
   "metadata": {},
   "outputs": [
    {
     "name": "stdout",
     "output_type": "stream",
     "text": [
      "R2 for the regressor models\n",
      " Linear model: 35.59%\n",
      " Ridger model: 34.60%\n",
      " Random Forest model: 60.61%\n"
     ]
    }
   ],
   "source": [
    "print(\"R2 for the regressor models\")\n",
    "print(f\" Linear model: {lr*100:.2f}%\")\n",
    "print(f\" Ridger model: {ri*100:.2f}%\")\n",
    "print(f\" Random Forest model: {rf*100:.2f}%\")"
   ]
  },
  {
   "cell_type": "markdown",
   "id": "05267515-b4f5-4ffe-a7bc-a817ff162724",
   "metadata": {},
   "source": []
  },
  {
   "cell_type": "markdown",
   "id": "1b2b931c-f8e0-4d95-b3e0-06291a5608b6",
   "metadata": {},
   "source": [
    "# **Categorical analysis**"
   ]
  },
  {
   "cell_type": "code",
   "execution_count": 14,
   "id": "509c1179-2a66-4365-9c78-f0de48739158",
   "metadata": {},
   "outputs": [],
   "source": [
    "quantile_labels = [\"low\", 'medium-low', 'medium-high', 'high']\n",
    "df[\"imds_quantile\"] = pd.qcut(df[\"imds\"], q=4, labels=quantile_labels)\n",
    "#df[\"imds_quantile\"]"
   ]
  },
  {
   "cell_type": "code",
   "execution_count": 15,
   "id": "346066bb-89d2-479d-b71b-ede7712bf759",
   "metadata": {},
   "outputs": [
    {
     "name": "stdout",
     "output_type": "stream",
     "text": [
      " Test data score: 41.18%\n"
     ]
    }
   ],
   "source": [
    "x = df[[\"ln_t400NTLpc2012\", \"tr400_pop2012\", 'lnEGDPpc2012', 'perUrb_land', 'pm25_2012', 'land_temp2012']].fillna(0)\n",
    "y = df['imds_quantile']\n",
    "\n",
    "np.random.seed(42)\n",
    "x_train, x_test, y_train, y_test = train_test_split(x,y, test_size=0.2) \n",
    "\n",
    "clf = RandomForestClassifier()\n",
    "#clf.get_params()\n",
    "clf.fit(x_train,y_train);\n",
    "\n",
    "y_preds = clf.predict(x_test)\n",
    "\n",
    "#evaluate the model\n",
    "#print(f\" Train data score: {clf.score(x_train, y_train)*100:.2f}%\")\n",
    "print(f\" Test data score: {clf.score(x_test, y_test)*100:.2f}%\")\n",
    "rf_cl = clf.score(x_test, y_test)"
   ]
  },
  {
   "cell_type": "code",
   "execution_count": 16,
   "id": "2959a016-9dd2-4c45-8508-22ed263c05eb",
   "metadata": {},
   "outputs": [
    {
     "name": "stdout",
     "output_type": "stream",
     "text": [
      "              precision    recall  f1-score   support\n",
      "\n",
      "        high       0.55      0.67      0.60        18\n",
      "         low       0.38      0.67      0.49        15\n",
      " medium-high       0.14      0.06      0.08        18\n",
      "  medium-low       0.38      0.29      0.33        17\n",
      "\n",
      "    accuracy                           0.41        68\n",
      "   macro avg       0.36      0.42      0.38        68\n",
      "weighted avg       0.36      0.41      0.37        68\n",
      "\n"
     ]
    }
   ],
   "source": [
    "print(classification_report(y_test, y_preds))"
   ]
  },
  {
   "cell_type": "code",
   "execution_count": 17,
   "id": "7bdc0b77-dcd1-4b5e-927a-c0c3609e6ad6",
   "metadata": {},
   "outputs": [
    {
     "name": "stdout",
     "output_type": "stream",
     "text": [
      "[[12  3  2  1]\n",
      " [ 0 10  1  4]\n",
      " [ 8  6  1  3]\n",
      " [ 2  7  3  5]]\n"
     ]
    }
   ],
   "source": [
    "print(confusion_matrix(y_test, y_preds))"
   ]
  },
  {
   "cell_type": "code",
   "execution_count": 18,
   "id": "c102af1a-9bb6-4400-8830-f9de77a8b780",
   "metadata": {},
   "outputs": [
    {
     "data": {
      "text/plain": [
       "0.4117647058823529"
      ]
     },
     "execution_count": 18,
     "metadata": {},
     "output_type": "execute_result"
    }
   ],
   "source": [
    "accuracy_score(y_test, y_preds)"
   ]
  },
  {
   "cell_type": "code",
   "execution_count": 19,
   "id": "498c11cd-a162-4fd7-95fe-8e666d5c03ec",
   "metadata": {},
   "outputs": [
    {
     "name": "stdout",
     "output_type": "stream",
     "text": [
      "Trying model with 10 stimators\n",
      "Model acurracy is 48.53%\n",
      "Trying model with 20 stimators\n",
      "Model acurracy is 42.65%\n",
      "Trying model with 30 stimators\n",
      "Model acurracy is 39.71%\n",
      "Trying model with 40 stimators\n",
      "Model acurracy is 42.65%\n",
      "Trying model with 50 stimators\n",
      "Model acurracy is 48.53%\n",
      "Trying model with 60 stimators\n",
      "Model acurracy is 45.59%\n",
      "Trying model with 70 stimators\n",
      "Model acurracy is 36.76%\n",
      "Trying model with 80 stimators\n",
      "Model acurracy is 45.59%\n",
      "Trying model with 90 stimators\n",
      "Model acurracy is 42.65%\n"
     ]
    }
   ],
   "source": [
    "# improve model\n",
    "\n",
    "np.random.seed(42)\n",
    "for i in range(10, 100, 10):\n",
    "    print(f\"Trying model with {i} stimators\")\n",
    "    clf = RandomForestClassifier(n_estimators=i).fit(x_train, y_train)\n",
    "    print(f\"Model acurracy is {clf.score(x_test, y_test)*100:.2f}%\")"
   ]
  },
  {
   "cell_type": "code",
   "execution_count": 20,
   "id": "55905710-f624-4697-ba03-529073042932",
   "metadata": {},
   "outputs": [],
   "source": [
    "#pickle.dump(clf, open(\"random_forest_model.pkl\", \"wb\"))\n",
    "\n",
    "#load_model = pickle.load(open(\"random_forest_model.pkl\", \"rb\"))\n",
    "#load_model.score(x_test, y_test)"
   ]
  },
  {
   "cell_type": "markdown",
   "id": "c42d986c-f09b-412a-ae9e-56e92af8e277",
   "metadata": {},
   "source": [
    "### Linear SVC Classifier"
   ]
  },
  {
   "cell_type": "code",
   "execution_count": 21,
   "id": "a468fce6-d583-43e8-b91b-5e199a021779",
   "metadata": {},
   "outputs": [],
   "source": [
    "x = df[[\"ln_t400NTLpc2012\", \"tr400_pop2012\", 'lnEGDPpc2012', 'perUrb_land', 'pm25_2012', 'land_temp2012']].fillna(0)\n",
    "y = df['imds_quantile']\n",
    "\n",
    "np.random.seed(42)\n",
    "x_train, x_test, y_train, y_test = train_test_split(x,y, test_size=0.2) \n",
    "\n",
    "sgd_cla = svm.LinearSVC(dual=\"auto\", max_iter=10000)\n",
    "sgd_cla.fit(x_train, y_train)\n",
    "sgd_cl = sgd_cla.score(x_test, y_test)"
   ]
  },
  {
   "cell_type": "markdown",
   "id": "18fee104-b78b-4e80-97ec-aa1f9ec1b8ba",
   "metadata": {},
   "source": [
    "### Naive Bayes Classifier"
   ]
  },
  {
   "cell_type": "code",
   "execution_count": 22,
   "id": "69df174f-0aad-4c4b-ab8c-0aaceca42441",
   "metadata": {},
   "outputs": [],
   "source": [
    "x = df[[\"ln_t400NTLpc2012\", \"tr400_pop2012\", 'lnEGDPpc2012', 'perUrb_land', 'pm25_2012', 'land_temp2012']].fillna(0)\n",
    "y = df['imds_quantile']\n",
    "\n",
    "np.random.seed(42)\n",
    "x_train, x_test, y_train, y_test = train_test_split(x,y, test_size=0.2) \n",
    "\n",
    "naive_cla = GaussianNB()\n",
    "naive_cla.fit(x_train, y_train)\n",
    "naive_cl = naive_cla.score(x_test, y_test)"
   ]
  },
  {
   "cell_type": "markdown",
   "id": "7b5b2d68-ca9f-4e20-b5ac-fe1b1f565c57",
   "metadata": {},
   "source": [
    "### Results "
   ]
  },
  {
   "cell_type": "code",
   "execution_count": 23,
   "id": "7a62fc52-8b79-49c9-bdc9-9d734ad64c55",
   "metadata": {},
   "outputs": [
    {
     "name": "stdout",
     "output_type": "stream",
     "text": [
      "R2 for the classifier models\n",
      " Random Forest model: 41.18%\n",
      " Linear SVC model: 45.59%\n",
      " Naive Bayes model: 33.82%\n"
     ]
    }
   ],
   "source": [
    "print(\"R2 for the classifier models\")\n",
    "print(f\" Random Forest model: {rf_cl*100:.2f}%\")\n",
    "print(f\" Linear SVC model: {sgd_cl*100:.2f}%\")\n",
    "print(f\" Naive Bayes model: {naive_cl*100:.2f}%\")"
   ]
  },
  {
   "cell_type": "markdown",
   "id": "479ed4bf-c971-4749-b1f2-fa310dcceddb",
   "metadata": {},
   "source": [
    "## Iterate regression models"
   ]
  },
  {
   "cell_type": "code",
   "execution_count": 24,
   "id": "5405dca4-b786-4ec4-9929-5a25919c30bf",
   "metadata": {},
   "outputs": [],
   "source": [
    "y_variables = list(df.columns)\n",
    "del y_variables[195:424]\n",
    "del y_variables[10:13]\n",
    "del y_variables[0:8]"
   ]
  },
  {
   "cell_type": "markdown",
   "id": "e1c0e20b-29be-40e3-9d47-119b01fcc4fd",
   "metadata": {},
   "source": [
    "### Linear Regression"
   ]
  },
  {
   "cell_type": "code",
   "execution_count": 25,
   "id": "28107b04-07f1-45b8-82fa-442ca6688c7c",
   "metadata": {},
   "outputs": [],
   "source": [
    "#y_variables"
   ]
  },
  {
   "cell_type": "code",
   "execution_count": 26,
   "id": "5f323c70-ff90-4691-89a9-1f19aff96f20",
   "metadata": {},
   "outputs": [],
   "source": [
    "xs = [ \"ln_t400NTLpc2012\", \"tr400_pop2012\", 'lnEGDPpc2012', 'perUrb_land', 'land_temp2012']\n",
    "for x in xs:\n",
    "    df.fillna({x:0}, inplace=True)"
   ]
  },
  {
   "cell_type": "code",
   "execution_count": 27,
   "id": "9d45635a-f303-4ad2-b692-af5ef435701a",
   "metadata": {},
   "outputs": [],
   "source": [
    "model_results = {}\n",
    "\n",
    "for y_variable in y_variables:\n",
    "    filtered_df = df.dropna()\n",
    "\n",
    "    x = filtered_df[[ \"ln_t400NTLpc2012\", \"tr400_pop2012\", 'lnEGDPpc2012', 'perUrb_land', 'land_temp2012']]\n",
    "    y = filtered_df[y_variable]\n",
    "\n",
    "    np.random.seed(42)\n",
    "    x_train, x_test, y_train, y_test = train_test_split(x,y, test_size=0.2) \n",
    "\n",
    "    model = LinearRegression()\n",
    "    model.fit(x_train,y_train)\n",
    "\n",
    "    y_pred = model.predict(x_test)\n",
    "    mse = mean_squared_error(y_test, y_pred)\n",
    "    r2 = r2_score(y_test, y_pred)\n",
    "    model_results[y_variable] = r2\n",
    "\n",
    "res_90 = {key: value for key, value in model_results.items() if value > 0.9}\n",
    "res_80 = {key: value for key, value in model_results.items() if (value > 0.8 and value < 0.9)}\n",
    "res_70 = {key: value for key, value in model_results.items() if (value > 0.7 and value < 0.8)}\n",
    "\n",
    "res_neg = {key: value for key, value in model_results.items() if value < 0}\n",
    "\n",
    "#    print(f\"For the variable {y_variable} Mean Squared Error:\", mse)\n",
    "#    print(\"R^2 Score:\", r2)\n"
   ]
  },
  {
   "cell_type": "code",
   "execution_count": 40,
   "id": "7a659bd2-8802-474e-850e-80c1a4dd1505",
   "metadata": {},
   "outputs": [
    {
     "data": {
      "text/plain": [
       "Index(['sdg1_1_eepr', 'sdg2_4_pual', 'sdg2_4_td', 'sdg5_5_gpop', 'sdg8_4_rem',\n",
       "       'sdg9_5_eutf', 'sdg10_2_iec', 'sdg1_1_dtl_abs', 'sdg2_4_apu_abs',\n",
       "       'sdg2_4_tm_abs', 'sdg3_1_udhf_ab', 'sdg8_4_rem_abs', 'sdg9_5_eutf_abs',\n",
       "       'ln_NTLpc2012', 'ln_NTLpc2013', 'ln_NTLpc2014', 'ln_NTLpc2015',\n",
       "       'ln_NTLpc2016', 'ln_NTLpc2017', 'ln_NTLpc2018', 'ln_NTLpc2019',\n",
       "       'ln_NTLpc2020'],\n",
       "      dtype='object')"
      ]
     },
     "execution_count": 40,
     "metadata": {},
     "output_type": "execute_result"
    }
   ],
   "source": [
    "missing_labels"
   ]
  },
  {
   "cell_type": "code",
   "execution_count": 28,
   "id": "35256634-7c5f-407d-bac7-0ddbd288a9d0",
   "metadata": {},
   "outputs": [
    {
     "data": {
      "text/plain": [
       "{'sdg2_2_wow_abs': 0.9318506588251129,\n",
       " 'sdg8_5_ompr_abs': 0.9802639591931378,\n",
       " 'sdg8_5_ofpr_abs': 0.9811940454262182,\n",
       " 'sdg8_6_wlm_abs': 0.9108769217325029,\n",
       " 'sdg11_1_ho_abs': 0.9219332051469598}"
      ]
     },
     "execution_count": 28,
     "metadata": {},
     "output_type": "execute_result"
    }
   ],
   "source": [
    "res_90"
   ]
  },
  {
   "cell_type": "code",
   "execution_count": 29,
   "id": "8e9ebcf3-2f2e-49d6-bd3d-ab44398d72a0",
   "metadata": {},
   "outputs": [
    {
     "data": {
      "text/plain": [
       "{'sdg3_2_fb_abs': 0.835585571935177,\n",
       " 'sdg3_2_ffb_abs': 0.8182909341772001,\n",
       " 'sdg8_6_mlm_abs': 0.8373928938159798,\n",
       " 'sdg16_6_aob_abs': 0.8945332767816078}"
      ]
     },
     "execution_count": 29,
     "metadata": {},
     "output_type": "execute_result"
    }
   ],
   "source": [
    "res_80"
   ]
  },
  {
   "cell_type": "code",
   "execution_count": 30,
   "id": "931a9a8f-5115-4408-8e54-4d6bbeaa65e1",
   "metadata": {},
   "outputs": [
    {
     "data": {
      "text/plain": [
       "{'sdg8_11_idi': 0.7913691750750236,\n",
       " 'sdg1_1_pubn_abs': 0.785741709591172,\n",
       " 'sdg2_2_cm_abs': 0.7618708933191012,\n",
       " 'sdg3_1_udhf_ab': 0.7059981297194389,\n",
       " 'sdg3_7_bpw_abs': 0.7822848487322269,\n",
       " 'sdg4_1_mhs_abs': 0.7193280205492019,\n",
       " 'sdg7_1_rec_abs': 0.7991480632916742,\n",
       " 'sdg8_10_dbb_abs': 0.7165181539307471,\n",
       " 'sdg16_9_ncr_abs': 0.733095052190362,\n",
       " 'sdg17_5_tpi_abs': 0.7174823831498396,\n",
       " 'sdg8_11_idi_norm': 0.7889178618687296}"
      ]
     },
     "execution_count": 30,
     "metadata": {},
     "output_type": "execute_result"
    }
   ],
   "source": [
    "res_70"
   ]
  },
  {
   "cell_type": "code",
   "execution_count": 31,
   "id": "684fbc20-acfb-4773-9619-74fe3568ae30",
   "metadata": {},
   "outputs": [
    {
     "data": {
      "text/plain": [
       "{'sdg2_4_td': -0.5231565574139165,\n",
       " 'sdg3_3_cdir': -0.05594744684166586,\n",
       " 'sdg4_c_qti': -0.04216384773003834,\n",
       " 'sdg4_c_qts': -0.004425156370071681,\n",
       " 'sdg6_1_dwc': -0.0029587169132299085,\n",
       " 'sdg8_6_mlm': -0.01192088948159431,\n",
       " 'sdg9_5_cd': -0.0018289653580860765,\n",
       " 'sdg11_2_samt': -0.11596467864136617,\n",
       " 'sdg13_2_dra': -0.1202379776789051,\n",
       " 'sdg15_5_blr': -0.14183767581866902,\n",
       " 'sdg17_5_pipc': -0.17104228170658287,\n",
       " 'sdg3_3_cd_abs': -1.2826564798219193,\n",
       " 'sdg9_5_kcd_abs': -1.5357670050867092,\n",
       " 'sdg11_2_mtv_abs': -0.3284012913533696,\n",
       " 'sdg2_4_td_norm': -0.4861044969860575,\n",
       " 'sdg3_3_cdir_norm': -0.06791940780875039,\n",
       " 'sdg4_c_qti_norm': -0.04210736391802761,\n",
       " 'sdg4_c_qts_norm': -0.004478074008081423,\n",
       " 'sdg5_1_gpsd_norm': -0.3708368766298549,\n",
       " 'sdg8_6_mlm_norm': -0.03592352493209705,\n",
       " 'sdg15_5_blr_norm': -0.06384018269082303,\n",
       " 'sdg17_5_pipc_norm': -0.17038332027856118,\n",
       " 'index_sdg4': -0.08734020371527107}"
      ]
     },
     "execution_count": 31,
     "metadata": {},
     "output_type": "execute_result"
    }
   ],
   "source": [
    "res_neg"
   ]
  },
  {
   "cell_type": "code",
   "execution_count": null,
   "id": "9a97bcb4-fcee-447d-9ae8-8c2a5686163b",
   "metadata": {},
   "outputs": [],
   "source": []
  },
  {
   "cell_type": "markdown",
   "id": "47418f52-7838-44de-925e-aad20f3e7922",
   "metadata": {},
   "source": [
    "### Random Forest Regressor"
   ]
  },
  {
   "cell_type": "code",
   "execution_count": 33,
   "id": "19361e93-4ffb-4554-87b9-eb867d874457",
   "metadata": {},
   "outputs": [],
   "source": [
    "model_results = {}\n",
    "\n",
    "for y_variable in y_variables:\n",
    "    filtered_df = df.dropna()\n",
    "\n",
    "    x = filtered_df[[ \"ln_t400NTLpc2012\", \"tr400_pop2012\", 'lnEGDPpc2012', 'perUrb_land', 'land_temp2012']].fillna(0)\n",
    "    y = filtered_df[y_variable]\n",
    "\n",
    "    np.random.seed(42)\n",
    "    x_train, x_test, y_train, y_test = train_test_split(x,y, test_size=0.2) \n",
    "\n",
    "    model = RandomForestRegressor()\n",
    "    model.fit(x_train,y_train)\n",
    "\n",
    "    y_pred = model.predict(x_test)\n",
    "    mse = mean_squared_error(y_test, y_pred)\n",
    "    r2 = r2_score(y_test, y_pred)\n",
    "    model_results[y_variable] = r2\n",
    "\n",
    "res_90 = {key: value for key, value in model_results.items() if value > 0.9}\n",
    "res_80 = {key: value for key, value in model_results.items() if (value > 0.8 and value < 0.9)}\n",
    "res_70 = {key: value for key, value in model_results.items() if (value > 0.7 and value < 0.8)}\n",
    "\n",
    "res_neg = {key: value for key, value in model_results.items() if value < 0}\n",
    "\n",
    "#    print(f\"For the variable {y_variable} Mean Squared Error:\", mse)\n",
    "#    print(\"R^2 Score:\", r2)\n"
   ]
  },
  {
   "cell_type": "code",
   "execution_count": 34,
   "id": "e0600f25-7076-4a2b-8970-43669f0ef8f7",
   "metadata": {},
   "outputs": [
    {
     "data": {
      "text/plain": [
       "{'sdg8_5_ompr_abs': 0.9715556954817797, 'sdg8_5_ofpr_abs': 0.9478206224577329}"
      ]
     },
     "execution_count": 34,
     "metadata": {},
     "output_type": "execute_result"
    }
   ],
   "source": [
    "res_90"
   ]
  },
  {
   "cell_type": "code",
   "execution_count": 35,
   "id": "2e0b08e5-8863-4978-b79a-b3ad8c0764e7",
   "metadata": {},
   "outputs": [
    {
     "data": {
      "text/plain": [
       "{'sdg1_1_pubn_abs': 0.8565911758175299,\n",
       " 'sdg2_4_tm_abs': 0.8600243000048281,\n",
       " 'sdg8_6_wlm_abs': 0.8870755538161614,\n",
       " 'sdg11_1_ho_abs': 0.818162607948695,\n",
       " 'sdg16_6_aob_abs': 0.8424190237556466}"
      ]
     },
     "execution_count": 35,
     "metadata": {},
     "output_type": "execute_result"
    }
   ],
   "source": [
    "res_80"
   ]
  },
  {
   "cell_type": "code",
   "execution_count": 36,
   "id": "a0357a9f-c982-453c-9089-a0124ef0c4de",
   "metadata": {},
   "outputs": [
    {
     "data": {
      "text/plain": [
       "{'sdg8_11_idi': 0.7449874056021618,\n",
       " 'sdg2_2_cm_abs': 0.7728773922264447,\n",
       " 'sdg3_2_fb_abs': 0.7176248264462086,\n",
       " 'sdg3_2_ffb_abs': 0.7453354164412611,\n",
       " 'sdg3_7_bpw_abs': 0.7472823685593142,\n",
       " 'sdg4_1_mhs_abs': 0.7186583690381088,\n",
       " 'sdg4_4_heu_abs': 0.7213459566540101,\n",
       " 'sdg4_c_uts_abs': 0.7815581263871814,\n",
       " 'sdg8_6_mlm_abs': 0.732834603619974,\n",
       " 'sdg8_10_dbb_abs': 0.7587131451426813,\n",
       " 'sdg9_c_hf_abs': 0.7679276367936324,\n",
       " 'sdg8_11_idi_norm': 0.7569976292349426}"
      ]
     },
     "execution_count": 36,
     "metadata": {},
     "output_type": "execute_result"
    }
   ],
   "source": [
    "res_70"
   ]
  },
  {
   "cell_type": "code",
   "execution_count": 37,
   "id": "f1d30bd3-9334-467d-9484-734742d6e2ee",
   "metadata": {},
   "outputs": [],
   "source": [
    "#y_variables.index('perUrb_land')"
   ]
  },
  {
   "cell_type": "markdown",
   "id": "4dbed42d-7ec6-4fd5-927b-b4ae8b4b5f12",
   "metadata": {},
   "source": [
    "## Getting data ready\n",
    "\n",
    "2. handling missing values\n",
    "3. converting non-num in to num variables (encoding)"
   ]
  },
  {
   "cell_type": "code",
   "execution_count": null,
   "id": "d72a2f9c-991d-4cd7-8206-622b671101be",
   "metadata": {},
   "outputs": [],
   "source": []
  }
 ],
 "metadata": {
  "kernelspec": {
   "display_name": "Python 3 (ipykernel)",
   "language": "python",
   "name": "python3"
  },
  "language_info": {
   "codemirror_mode": {
    "name": "ipython",
    "version": 3
   },
   "file_extension": ".py",
   "mimetype": "text/x-python",
   "name": "python",
   "nbconvert_exporter": "python",
   "pygments_lexer": "ipython3",
   "version": "3.12.0"
  }
 },
 "nbformat": 4,
 "nbformat_minor": 5
}
