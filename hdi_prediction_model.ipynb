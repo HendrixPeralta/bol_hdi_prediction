{
 "cells": [
  {
   "cell_type": "code",
   "execution_count": 1,
   "id": "6082aa4f-d18f-42f3-bfb1-92b8c01fce18",
   "metadata": {},
   "outputs": [],
   "source": [
    "import numpy as np\n",
    "import pandas as pd\n",
    "import sklearn as ktl\n",
    "import pickle\n",
    "from sklearn.metrics import classification_report, confusion_matrix, accuracy_score\n",
    "import matplotlib.pylab as plt\n",
    "\n",
    "from sklearn.model_selection import train_test_split\n",
    "from sklearn.linear_model import LinearRegression\n",
    "from sklearn.metrics import mean_squared_error, r2_score"
   ]
  },
  {
   "cell_type": "code",
   "execution_count": 21,
   "id": "70cae1f1-dd27-4fa5-8fbd-3457c078f5ed",
   "metadata": {},
   "outputs": [],
   "source": [
    "bol = pd.read_csv(\"/Users/hendrixperalta/Desktop/bolivia/data/GeoDS4Bolivia.csv\")\n",
    "bol = bol.rename(columns={\"asdf_id\":\"id\"})\n",
    "\n",
    "#list(bol.columns)\n",
    "offset = 1000000  \n",
    "sat = pd.read_csv(\"data/egdp/satelite_data.csv\")\n",
    "sat[\"lnEGDPpc2012\"] = np.log((sat[\"egdp2012\"]/ bol[\"pop2012\"])+offset)\n",
    "\n",
    "\n",
    "df = pd.merge(bol, sat, on=\"id\", how=\"outer\")\n",
    "\n",
    "df[\"total_land2012\"] = df[\"agr_land2012\"] + df[\"urb_land2012\"]\n",
    "df[\"perUrb_land\"] = df[\"urb_land2012\"] / df[\"total_land2012\"]"
   ]
  },
  {
   "cell_type": "code",
   "execution_count": 3,
   "id": "68572ced-cd60-46e3-9b44-465206e245be",
   "metadata": {},
   "outputs": [
    {
     "name": "stdout",
     "output_type": "stream",
     "text": [
      "Mean Squared Error: 24.076492608736643\n",
      "R^2 Score: 0.1401438966952928\n"
     ]
    }
   ],
   "source": [
    "x = df[[\"ln_t400NTLpc2012\", \"pop2012\", 'egdp2012', 'perUrb_land']].fillna(0)\n",
    "y = df['imds']\n",
    "\n",
    "x_train, x_test, y_train, y_test = train_test_split(x,y, test_size=0.2) \n",
    "\n",
    "model = LinearRegression()\n",
    "model.fit(x_train,y_train)\n",
    "\n",
    "y_pred = model.predict(x_test)\n",
    "mse = mean_squared_error(y_test, y_pred)\n",
    "r2 = r2_score(y_test, y_pred)\n",
    "\n",
    "print(\"Mean Squared Error:\", mse)\n",
    "print(\"R^2 Score:\", r2)"
   ]
  },
  {
   "cell_type": "markdown",
   "id": "1b2b931c-f8e0-4d95-b3e0-06291a5608b6",
   "metadata": {},
   "source": [
    "# **Categorical analysis**"
   ]
  },
  {
   "cell_type": "code",
   "execution_count": 4,
   "id": "509c1179-2a66-4365-9c78-f0de48739158",
   "metadata": {},
   "outputs": [],
   "source": [
    "quantile_labels = [\"low\", 'medium-low', 'medium-high', 'high']\n",
    "df[\"imds_quantile\"] = pd.qcut(df[\"imds\"], q=4, labels=quantile_labels)\n",
    "#df[\"imds_quantile\"]"
   ]
  },
  {
   "cell_type": "code",
   "execution_count": 5,
   "id": "346066bb-89d2-479d-b71b-ede7712bf759",
   "metadata": {},
   "outputs": [],
   "source": [
    "from sklearn.ensemble import RandomForestClassifier\n",
    "clf = RandomForestClassifier()\n",
    "\n",
    "x = df[[\"ln_t400NTLpc2012\", \"pop2012\", 'egdp2012', 'perUrb_land']].fillna(0)\n",
    "y = df['imds_quantile']\n",
    "\n",
    "x_train, x_test, y_train, y_test = train_test_split(x,y, test_size=0.2) \n",
    "\n",
    "#clf.get_params()\n",
    "clf.fit(x_train,y_train);\n",
    "\n",
    "y_preds = clf.predict(x_test)"
   ]
  },
  {
   "cell_type": "code",
   "execution_count": 6,
   "id": "4e7de85e-3bd1-4df4-8d40-6d7826651660",
   "metadata": {},
   "outputs": [],
   "source": [
    "#clf.get_params()"
   ]
  },
  {
   "cell_type": "code",
   "execution_count": 7,
   "id": "a4b8f36e-3bf3-4a1f-b411-34e0811447b9",
   "metadata": {},
   "outputs": [
    {
     "name": "stdout",
     "output_type": "stream",
     "text": [
      " Train data score: 100.00%\n",
      " Test data score: 50.00%\n"
     ]
    }
   ],
   "source": [
    "#evaluate the model\n",
    "print(f\" Train data score: {clf.score(x_train, y_train)*100:.2f}%\")\n",
    "print(f\" Test data score: {clf.score(x_test, y_test)*100:.2f}%\")"
   ]
  },
  {
   "cell_type": "code",
   "execution_count": 8,
   "id": "2959a016-9dd2-4c45-8508-22ed263c05eb",
   "metadata": {},
   "outputs": [
    {
     "name": "stdout",
     "output_type": "stream",
     "text": [
      "              precision    recall  f1-score   support\n",
      "\n",
      "        high       0.77      0.59      0.67        17\n",
      "         low       0.50      0.56      0.53        18\n",
      " medium-high       0.35      0.44      0.39        16\n",
      "  medium-low       0.47      0.41      0.44        17\n",
      "\n",
      "    accuracy                           0.50        68\n",
      "   macro avg       0.52      0.50      0.50        68\n",
      "weighted avg       0.52      0.50      0.51        68\n",
      "\n"
     ]
    }
   ],
   "source": [
    "print(classification_report(y_test, y_preds))"
   ]
  },
  {
   "cell_type": "code",
   "execution_count": 9,
   "id": "7bdc0b77-dcd1-4b5e-927a-c0c3609e6ad6",
   "metadata": {},
   "outputs": [
    {
     "name": "stdout",
     "output_type": "stream",
     "text": [
      "[[10  2  3  2]\n",
      " [ 0 10  5  3]\n",
      " [ 3  3  7  3]\n",
      " [ 0  5  5  7]]\n"
     ]
    }
   ],
   "source": [
    "print(confusion_matrix(y_test, y_preds))"
   ]
  },
  {
   "cell_type": "code",
   "execution_count": 10,
   "id": "c102af1a-9bb6-4400-8830-f9de77a8b780",
   "metadata": {},
   "outputs": [
    {
     "data": {
      "text/plain": [
       "0.5"
      ]
     },
     "execution_count": 10,
     "metadata": {},
     "output_type": "execute_result"
    }
   ],
   "source": [
    "accuracy_score(y_test, y_preds)"
   ]
  },
  {
   "cell_type": "code",
   "execution_count": 11,
   "id": "498c11cd-a162-4fd7-95fe-8e666d5c03ec",
   "metadata": {},
   "outputs": [
    {
     "name": "stdout",
     "output_type": "stream",
     "text": [
      "Trying model with 10 stimators\n",
      "Model acurracy is 44.12%\n",
      "Trying model with 20 stimators\n",
      "Model acurracy is 50.00%\n",
      "Trying model with 30 stimators\n",
      "Model acurracy is 41.18%\n",
      "Trying model with 40 stimators\n",
      "Model acurracy is 52.94%\n",
      "Trying model with 50 stimators\n",
      "Model acurracy is 47.06%\n",
      "Trying model with 60 stimators\n",
      "Model acurracy is 47.06%\n",
      "Trying model with 70 stimators\n",
      "Model acurracy is 45.59%\n",
      "Trying model with 80 stimators\n",
      "Model acurracy is 44.12%\n",
      "Trying model with 90 stimators\n",
      "Model acurracy is 50.00%\n"
     ]
    }
   ],
   "source": [
    "# improve model\n",
    "\n",
    "np.random.seed(33)\n",
    "for i in range(10, 100, 10):\n",
    "    print(f\"Trying model with {i} stimators\")\n",
    "    clf = RandomForestClassifier(n_estimators=i).fit(x_train, y_train)\n",
    "    print(f\"Model acurracy is {clf.score(x_test, y_test)*100:.2f}%\")"
   ]
  },
  {
   "cell_type": "code",
   "execution_count": 12,
   "id": "55905710-f624-4697-ba03-529073042932",
   "metadata": {},
   "outputs": [],
   "source": [
    "#pickle.dump(clf, open(\"random_forest_model.pkl\", \"wb\"))\n",
    "\n",
    "#load_model = pickle.load(open(\"random_forest_model.pkl\", \"rb\"))\n",
    "#load_model.score(x_test, y_test)"
   ]
  },
  {
   "cell_type": "markdown",
   "id": "479ed4bf-c971-4749-b1f2-fa310dcceddb",
   "metadata": {},
   "source": [
    "## Iterate regression models"
   ]
  },
  {
   "cell_type": "code",
   "execution_count": 13,
   "id": "5405dca4-b786-4ec4-9929-5a25919c30bf",
   "metadata": {},
   "outputs": [],
   "source": [
    "y_variables = list(df.columns)\n",
    "del y_variables[195:419]\n",
    "del y_variables[10:13]\n",
    "del y_variables[0:8]\n",
    "\n",
    "#y_variables"
   ]
  },
  {
   "cell_type": "code",
   "execution_count": 14,
   "id": "9d45635a-f303-4ad2-b692-af5ef435701a",
   "metadata": {},
   "outputs": [],
   "source": [
    "model_results = {}\n",
    "    \n",
    "x = df[[\"ln_t400NTLpc2012\", \"tr400_pop2012\", 'egdp2012', 'perUrb_land']].fillna(0)\n",
    "\n",
    "for y_variable in y_variables:\n",
    "    y = df[y_variable].fillna(0)\n",
    "    x_train, x_test, y_train, y_test = train_test_split(x,y, test_size=0.2) \n",
    "\n",
    "    model = LinearRegression()\n",
    "    model.fit(x_train,y_train)\n",
    "\n",
    "    y_pred = model.predict(x_test)\n",
    "    mse = mean_squared_error(y_test, y_pred)\n",
    "    r2 = r2_score(y_test, y_pred)\n",
    "    model_results[y_variable] = r2\n",
    "\n",
    "res_90 = {key: value for key, value in model_results.items() if value > 0.9}\n",
    "res_80 = {key: value for key, value in model_results.items() if (value > 0.8 and value < 0.90)}\n",
    "res_neg = {key: value for key, value in model_results.items() if value < 0}\n",
    "\n",
    "#    print(f\"For the variable {y_variable} Mean Squared Error:\", mse)\n",
    "#    print(\"R^2 Score:\", r2)\n"
   ]
  },
  {
   "cell_type": "code",
   "execution_count": 15,
   "id": "35256634-7c5f-407d-bac7-0ddbd288a9d0",
   "metadata": {},
   "outputs": [
    {
     "data": {
      "text/plain": [
       "{'sdg2_2_wow_abs': 0.9115734961745297,\n",
       " 'sdg3_3_vih_abs': 0.929942104698416,\n",
       " 'sdg4_1_fhs_abs': 0.9604142376309324,\n",
       " 'sdg8_4_rem_abs': 0.9214722538211707,\n",
       " 'sdg8_5_ompr_abs': 0.9763477443815362,\n",
       " 'sdg8_5_ofpr_abs': 0.995178073721122,\n",
       " 'sdg8_6_wlm_abs': 0.9939013335618302}"
      ]
     },
     "execution_count": 15,
     "metadata": {},
     "output_type": "execute_result"
    }
   ],
   "source": [
    "res_90"
   ]
  },
  {
   "cell_type": "code",
   "execution_count": 16,
   "id": "8e9ebcf3-2f2e-49d6-bd3d-ab44398d72a0",
   "metadata": {},
   "outputs": [
    {
     "data": {
      "text/plain": [
       "{'sdg3_3_tc_abs': 0.8226029332166525,\n",
       " 'sdg3_7_bpw_abs': 0.8792643933839768,\n",
       " 'sdg4_1_mhs_abs': 0.827577398319953,\n",
       " 'sdg4_4_heu_abs': 0.8540858653686862,\n",
       " 'sdg7_3_tee_abs': 0.8109979199055548,\n",
       " 'sdg8_6_mlm_abs': 0.893504998837979,\n",
       " 'sdg8_10_dbb_abs': 0.8998795697144106,\n",
       " 'sdg11_1_ho_abs': 0.8326133579008866,\n",
       " 'sdg16_6_aob_abs': 0.8681232137867354}"
      ]
     },
     "execution_count": 16,
     "metadata": {},
     "output_type": "execute_result"
    }
   ],
   "source": [
    "res_80"
   ]
  },
  {
   "cell_type": "code",
   "execution_count": 17,
   "id": "684fbc20-acfb-4773-9619-74fe3568ae30",
   "metadata": {},
   "outputs": [
    {
     "data": {
      "text/plain": [
       "{'sdg3_2_mrc': -0.049899894990672156,\n",
       " 'sdg3_3_cdir': -0.15832479061440075,\n",
       " 'sdg3_3_di': -0.0013864136858574572,\n",
       " 'sdg3_3_imr': -0.12485265458158978,\n",
       " 'sdg4_6_lr': -0.10107636525800179,\n",
       " 'sdg4_c_qti': -0.003907201443036801,\n",
       " 'sdg5_1_gpyp': -0.005319087135057465,\n",
       " 'sdg6_2_sc': -0.04391872744397474,\n",
       " 'sdg8_6_mlm': -0.2959600725857898,\n",
       " 'sdg9_5_cd': -0.4631374932985628,\n",
       " 'sdg16_1_rhr': -0.029231193861946503,\n",
       " 'sdg16_6_pbec': -0.06693808871989737,\n",
       " 'sdg17_5_pipc': -0.007271829167390109,\n",
       " 'sdg3_3_cd_abs': -0.19394789641048749,\n",
       " 'sdg3_3_pd_abs': -1.8505939222962473,\n",
       " 'sdg3_3_mc_abs': -1.2637737459978302,\n",
       " 'sdg6_1_wdc_abs': -0.18855150174741753,\n",
       " 'sdg6_2_bsc_abs': -1.887606049714889,\n",
       " 'sdg3_3_di_norm': -0.08529559857165503,\n",
       " 'sdg3_3_imr_norm': -0.0810221963745199,\n",
       " 'sdg3_7_afr_norm': -0.13456535496493305,\n",
       " 'sdg4_c_qti_norm': -0.015383748045024737,\n",
       " 'sdg5_1_gpyd_norm': -0.09877393806961732,\n",
       " 'sdg8_6_mlm_norm': -0.006631747528199616,\n",
       " 'sdg9_5_eutf_norm': -0.06830003385119832,\n",
       " 'sdg10_2_iec_norm': -0.005883488367244505,\n",
       " 'sdg10_2_nssp_norm': -0.030931726766039835,\n",
       " 'sdg11_1_hocr_norm': -0.08221978237911198,\n",
       " 'sdg13_2_dra_norm': -0.01515139522280018,\n",
       " 'sdg15_5_blr_norm': -0.03228182091023113,\n",
       " 'sdg16_9_cr_norm': -0.0636858454281537,\n",
       " 'index_sdg4': -0.15929164966681042}"
      ]
     },
     "execution_count": 17,
     "metadata": {},
     "output_type": "execute_result"
    }
   ],
   "source": [
    "res_neg"
   ]
  },
  {
   "cell_type": "code",
   "execution_count": 18,
   "id": "f1d30bd3-9334-467d-9484-734742d6e2ee",
   "metadata": {},
   "outputs": [],
   "source": [
    "#y_variables.index('perUrb_land')"
   ]
  },
  {
   "cell_type": "markdown",
   "id": "4dbed42d-7ec6-4fd5-927b-b4ae8b4b5f12",
   "metadata": {},
   "source": [
    "## Getting data ready\n",
    "\n",
    "2. handling missing values\n",
    "3. converting non-num in to num variables (encoding)"
   ]
  },
  {
   "cell_type": "code",
   "execution_count": null,
   "id": "d72a2f9c-991d-4cd7-8206-622b671101be",
   "metadata": {},
   "outputs": [],
   "source": []
  }
 ],
 "metadata": {
  "kernelspec": {
   "display_name": "Python 3 (ipykernel)",
   "language": "python",
   "name": "python3"
  },
  "language_info": {
   "codemirror_mode": {
    "name": "ipython",
    "version": 3
   },
   "file_extension": ".py",
   "mimetype": "text/x-python",
   "name": "python",
   "nbconvert_exporter": "python",
   "pygments_lexer": "ipython3",
   "version": "3.12.0"
  }
 },
 "nbformat": 4,
 "nbformat_minor": 5
}
